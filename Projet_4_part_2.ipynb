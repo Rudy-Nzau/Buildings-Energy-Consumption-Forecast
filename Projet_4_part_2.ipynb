{
  "cells": [
    {
      "cell_type": "markdown",
      "metadata": {
        "id": "view-in-github",
        "colab_type": "text"
      },
      "source": [
        "<a href=\"https://colab.research.google.com/github/Rudy-Nzau/Buildings-Energy-Consumption-Forecast/blob/main/Projet_4_part_2.ipynb\" target=\"_parent\"><img src=\"https://colab.research.google.com/assets/colab-badge.svg\" alt=\"Open In Colab\"/></a>"
      ]
    },
    {
      "cell_type": "markdown",
      "metadata": {
        "id": "QljYfVMPXD_d"
      },
      "source": [
        "# **Import et environnement**"
      ]
    },
    {
      "cell_type": "code",
      "execution_count": null,
      "metadata": {
        "id": "dNyXCqYFXIUo"
      },
      "outputs": [],
      "source": [
        "import pandas as pd\n",
        "import numpy as np\n",
        "import matplotlib.pyplot as plt\n",
        "import seaborn as sns"
      ]
    },
    {
      "cell_type": "code",
      "execution_count": null,
      "metadata": {
        "colab": {
          "base_uri": "https://localhost:8080/"
        },
        "id": "NaPTRM2uXNeV",
        "outputId": "23626181-1eb6-4044-84db-3ccc6a143523"
      },
      "outputs": [
        {
          "name": "stderr",
          "output_type": "stream",
          "text": [
            "/usr/local/lib/python3.7/dist-packages/ipykernel_launcher.py:4: FutureWarning: Passing a negative integer is deprecated in version 1.0 and will not be supported in future version. Instead, use None to not limit the column width.\n",
            "  after removing the cwd from sys.path.\n"
          ]
        }
      ],
      "source": [
        "#Modification des affichages de colonnes, lignes et largeurs de colonnes pour avoir un maximum d'information\n",
        "pd.set_option('display.max_columns', 200)\n",
        "pd.set_option('display.max_rows', 1000)\n",
        "pd.set_option('display.max_colwidth', -1)"
      ]
    },
    {
      "cell_type": "markdown",
      "metadata": {
        "id": "mIJcpVYfXUWz"
      },
      "source": [
        "## **Chargement data set**"
      ]
    },
    {
      "cell_type": "code",
      "execution_count": null,
      "metadata": {
        "id": "rXWU-ctSXSsa"
      },
      "outputs": [],
      "source": [
        "data = pd.read_csv('/content/drive/MyDrive/Colab Notebooks/Openclassrooms/Projet_4/data_energy_cleaned2.csv')"
      ]
    },
    {
      "cell_type": "code",
      "execution_count": null,
      "metadata": {
        "colab": {
          "base_uri": "https://localhost:8080/"
        },
        "id": "4sOu3j__Xayy",
        "outputId": "8b2e4a70-a15d-455c-a7f7-60df38d9c2e6"
      },
      "outputs": [
        {
          "data": {
            "text/html": [
              "\n",
              "  <div id=\"df-b05e0f8b-1ff1-4283-8387-ec6bddd87ff8\">\n",
              "    <div class=\"colab-df-container\">\n",
              "      <div>\n",
              "<style scoped>\n",
              "    .dataframe tbody tr th:only-of-type {\n",
              "        vertical-align: middle;\n",
              "    }\n",
              "\n",
              "    .dataframe tbody tr th {\n",
              "        vertical-align: top;\n",
              "    }\n",
              "\n",
              "    .dataframe thead th {\n",
              "        text-align: right;\n",
              "    }\n",
              "</style>\n",
              "<table border=\"1\" class=\"dataframe\">\n",
              "  <thead>\n",
              "    <tr style=\"text-align: right;\">\n",
              "      <th></th>\n",
              "      <th>index</th>\n",
              "      <th>DataYear</th>\n",
              "      <th>BuildingType</th>\n",
              "      <th>PrimaryPropertyType</th>\n",
              "      <th>CouncilDistrictCode</th>\n",
              "      <th>Neighborhood</th>\n",
              "      <th>YearBuilt</th>\n",
              "      <th>NumberofBuildings</th>\n",
              "      <th>NumberofFloors</th>\n",
              "      <th>PropertyGFATotal</th>\n",
              "      <th>PropertyGFAParking</th>\n",
              "      <th>PropertyGFABuilding(s)</th>\n",
              "      <th>LargestPropertyUseType</th>\n",
              "      <th>LargestPropertyUseTypeGFA</th>\n",
              "      <th>SecondLargestPropertyUseType</th>\n",
              "      <th>SecondLargestPropertyUseTypeGFA</th>\n",
              "      <th>ThirdLargestPropertyUseType</th>\n",
              "      <th>ThirdLargestPropertyUseTypeGFA</th>\n",
              "      <th>ENERGYSTARScore</th>\n",
              "      <th>SiteEnergyUseWN(kBtu)</th>\n",
              "      <th>Outlier</th>\n",
              "      <th>Latitude</th>\n",
              "      <th>Longitude</th>\n",
              "      <th>TotalGHGEmissions</th>\n",
              "      <th>Log2-SiteEnergyUseWN(kBtu)</th>\n",
              "    </tr>\n",
              "  </thead>\n",
              "  <tbody>\n",
              "    <tr>\n",
              "      <th>0</th>\n",
              "      <td>0</td>\n",
              "      <td>2015</td>\n",
              "      <td>NonResidential</td>\n",
              "      <td>Residence/Hotel/Senior Care/Housing</td>\n",
              "      <td>7</td>\n",
              "      <td>DOWNTOWN</td>\n",
              "      <td>1927</td>\n",
              "      <td>1.0</td>\n",
              "      <td>12.0</td>\n",
              "      <td>88434</td>\n",
              "      <td>0</td>\n",
              "      <td>88434</td>\n",
              "      <td>Residence/Hotel/Senior Care/Housing</td>\n",
              "      <td>88434.0</td>\n",
              "      <td>Other</td>\n",
              "      <td>0.0</td>\n",
              "      <td>Other</td>\n",
              "      <td>0.0</td>\n",
              "      <td>65.0</td>\n",
              "      <td>7097539.0</td>\n",
              "      <td>Normal</td>\n",
              "      <td>47.612190</td>\n",
              "      <td>-122.337997</td>\n",
              "      <td>249.43</td>\n",
              "      <td>22.758888</td>\n",
              "    </tr>\n",
              "    <tr>\n",
              "      <th>1</th>\n",
              "      <td>5</td>\n",
              "      <td>2015</td>\n",
              "      <td>Nonresidential COS</td>\n",
              "      <td>Other</td>\n",
              "      <td>7</td>\n",
              "      <td>DOWNTOWN</td>\n",
              "      <td>1999</td>\n",
              "      <td>1.0</td>\n",
              "      <td>2.0</td>\n",
              "      <td>97288</td>\n",
              "      <td>37198</td>\n",
              "      <td>60090</td>\n",
              "      <td>Offices</td>\n",
              "      <td>88830.0</td>\n",
              "      <td>Other</td>\n",
              "      <td>0.0</td>\n",
              "      <td>Other</td>\n",
              "      <td>0.0</td>\n",
              "      <td>NaN</td>\n",
              "      <td>13045258.0</td>\n",
              "      <td>Normal</td>\n",
              "      <td>47.616439</td>\n",
              "      <td>-122.336764</td>\n",
              "      <td>304.62</td>\n",
              "      <td>23.637022</td>\n",
              "    </tr>\n",
              "    <tr>\n",
              "      <th>2</th>\n",
              "      <td>6</td>\n",
              "      <td>2015</td>\n",
              "      <td>NonResidential</td>\n",
              "      <td>Residence/Hotel/Senior Care/Housing</td>\n",
              "      <td>7</td>\n",
              "      <td>DOWNTOWN</td>\n",
              "      <td>1926</td>\n",
              "      <td>1.0</td>\n",
              "      <td>11.0</td>\n",
              "      <td>83008</td>\n",
              "      <td>0</td>\n",
              "      <td>83008</td>\n",
              "      <td>Residence/Hotel/Senior Care/Housing</td>\n",
              "      <td>81352.0</td>\n",
              "      <td>Other</td>\n",
              "      <td>0.0</td>\n",
              "      <td>Other</td>\n",
              "      <td>0.0</td>\n",
              "      <td>25.0</td>\n",
              "      <td>6477493.0</td>\n",
              "      <td>Normal</td>\n",
              "      <td>47.614114</td>\n",
              "      <td>-122.332741</td>\n",
              "      <td>208.46</td>\n",
              "      <td>22.627004</td>\n",
              "    </tr>\n",
              "    <tr>\n",
              "      <th>3</th>\n",
              "      <td>7</td>\n",
              "      <td>2015</td>\n",
              "      <td>NonResidential</td>\n",
              "      <td>Other</td>\n",
              "      <td>7</td>\n",
              "      <td>DOWNTOWN</td>\n",
              "      <td>1926</td>\n",
              "      <td>1.0</td>\n",
              "      <td>8.0</td>\n",
              "      <td>102761</td>\n",
              "      <td>0</td>\n",
              "      <td>102761</td>\n",
              "      <td>Leisure</td>\n",
              "      <td>102761.0</td>\n",
              "      <td>Other</td>\n",
              "      <td>0.0</td>\n",
              "      <td>Other</td>\n",
              "      <td>0.0</td>\n",
              "      <td>NaN</td>\n",
              "      <td>7380086.0</td>\n",
              "      <td>Normal</td>\n",
              "      <td>47.612902</td>\n",
              "      <td>-122.331309</td>\n",
              "      <td>199.99</td>\n",
              "      <td>22.815206</td>\n",
              "    </tr>\n",
              "    <tr>\n",
              "      <th>4</th>\n",
              "      <td>8</td>\n",
              "      <td>2015</td>\n",
              "      <td>NonResidential</td>\n",
              "      <td>Residence/Hotel/Senior Care/Housing</td>\n",
              "      <td>7</td>\n",
              "      <td>DOWNTOWN</td>\n",
              "      <td>1904</td>\n",
              "      <td>1.0</td>\n",
              "      <td>15.0</td>\n",
              "      <td>163984</td>\n",
              "      <td>0</td>\n",
              "      <td>163984</td>\n",
              "      <td>Residence/Hotel/Senior Care/Housing</td>\n",
              "      <td>163984.0</td>\n",
              "      <td>Other</td>\n",
              "      <td>0.0</td>\n",
              "      <td>Other</td>\n",
              "      <td>0.0</td>\n",
              "      <td>46.0</td>\n",
              "      <td>13589025.0</td>\n",
              "      <td>Normal</td>\n",
              "      <td>47.602589</td>\n",
              "      <td>-122.332553</td>\n",
              "      <td>331.61</td>\n",
              "      <td>23.695939</td>\n",
              "    </tr>\n",
              "  </tbody>\n",
              "</table>\n",
              "</div>\n",
              "      <button class=\"colab-df-convert\" onclick=\"convertToInteractive('df-b05e0f8b-1ff1-4283-8387-ec6bddd87ff8')\"\n",
              "              title=\"Convert this dataframe to an interactive table.\"\n",
              "              style=\"display:none;\">\n",
              "        \n",
              "  <svg xmlns=\"http://www.w3.org/2000/svg\" height=\"24px\"viewBox=\"0 0 24 24\"\n",
              "       width=\"24px\">\n",
              "    <path d=\"M0 0h24v24H0V0z\" fill=\"none\"/>\n",
              "    <path d=\"M18.56 5.44l.94 2.06.94-2.06 2.06-.94-2.06-.94-.94-2.06-.94 2.06-2.06.94zm-11 1L8.5 8.5l.94-2.06 2.06-.94-2.06-.94L8.5 2.5l-.94 2.06-2.06.94zm10 10l.94 2.06.94-2.06 2.06-.94-2.06-.94-.94-2.06-.94 2.06-2.06.94z\"/><path d=\"M17.41 7.96l-1.37-1.37c-.4-.4-.92-.59-1.43-.59-.52 0-1.04.2-1.43.59L10.3 9.45l-7.72 7.72c-.78.78-.78 2.05 0 2.83L4 21.41c.39.39.9.59 1.41.59.51 0 1.02-.2 1.41-.59l7.78-7.78 2.81-2.81c.8-.78.8-2.07 0-2.86zM5.41 20L4 18.59l7.72-7.72 1.47 1.35L5.41 20z\"/>\n",
              "  </svg>\n",
              "      </button>\n",
              "      \n",
              "  <style>\n",
              "    .colab-df-container {\n",
              "      display:flex;\n",
              "      flex-wrap:wrap;\n",
              "      gap: 12px;\n",
              "    }\n",
              "\n",
              "    .colab-df-convert {\n",
              "      background-color: #E8F0FE;\n",
              "      border: none;\n",
              "      border-radius: 50%;\n",
              "      cursor: pointer;\n",
              "      display: none;\n",
              "      fill: #1967D2;\n",
              "      height: 32px;\n",
              "      padding: 0 0 0 0;\n",
              "      width: 32px;\n",
              "    }\n",
              "\n",
              "    .colab-df-convert:hover {\n",
              "      background-color: #E2EBFA;\n",
              "      box-shadow: 0px 1px 2px rgba(60, 64, 67, 0.3), 0px 1px 3px 1px rgba(60, 64, 67, 0.15);\n",
              "      fill: #174EA6;\n",
              "    }\n",
              "\n",
              "    [theme=dark] .colab-df-convert {\n",
              "      background-color: #3B4455;\n",
              "      fill: #D2E3FC;\n",
              "    }\n",
              "\n",
              "    [theme=dark] .colab-df-convert:hover {\n",
              "      background-color: #434B5C;\n",
              "      box-shadow: 0px 1px 3px 1px rgba(0, 0, 0, 0.15);\n",
              "      filter: drop-shadow(0px 1px 2px rgba(0, 0, 0, 0.3));\n",
              "      fill: #FFFFFF;\n",
              "    }\n",
              "  </style>\n",
              "\n",
              "      <script>\n",
              "        const buttonEl =\n",
              "          document.querySelector('#df-b05e0f8b-1ff1-4283-8387-ec6bddd87ff8 button.colab-df-convert');\n",
              "        buttonEl.style.display =\n",
              "          google.colab.kernel.accessAllowed ? 'block' : 'none';\n",
              "\n",
              "        async function convertToInteractive(key) {\n",
              "          const element = document.querySelector('#df-b05e0f8b-1ff1-4283-8387-ec6bddd87ff8');\n",
              "          const dataTable =\n",
              "            await google.colab.kernel.invokeFunction('convertToInteractive',\n",
              "                                                     [key], {});\n",
              "          if (!dataTable) return;\n",
              "\n",
              "          const docLinkHtml = 'Like what you see? Visit the ' +\n",
              "            '<a target=\"_blank\" href=https://colab.research.google.com/notebooks/data_table.ipynb>data table notebook</a>'\n",
              "            + ' to learn more about interactive tables.';\n",
              "          element.innerHTML = '';\n",
              "          dataTable['output_type'] = 'display_data';\n",
              "          await google.colab.output.renderOutput(dataTable, element);\n",
              "          const docLink = document.createElement('div');\n",
              "          docLink.innerHTML = docLinkHtml;\n",
              "          element.appendChild(docLink);\n",
              "        }\n",
              "      </script>\n",
              "    </div>\n",
              "  </div>\n",
              "  "
            ],
            "text/plain": [
              "   index  DataYear        BuildingType                  PrimaryPropertyType  \\\n",
              "0  0      2015      NonResidential      Residence/Hotel/Senior Care/Housing   \n",
              "1  5      2015      Nonresidential COS  Other                                 \n",
              "2  6      2015      NonResidential      Residence/Hotel/Senior Care/Housing   \n",
              "3  7      2015      NonResidential      Other                                 \n",
              "4  8      2015      NonResidential      Residence/Hotel/Senior Care/Housing   \n",
              "\n",
              "   CouncilDistrictCode Neighborhood  YearBuilt  NumberofBuildings  \\\n",
              "0  7                    DOWNTOWN     1927       1.0                 \n",
              "1  7                    DOWNTOWN     1999       1.0                 \n",
              "2  7                    DOWNTOWN     1926       1.0                 \n",
              "3  7                    DOWNTOWN     1926       1.0                 \n",
              "4  7                    DOWNTOWN     1904       1.0                 \n",
              "\n",
              "   NumberofFloors  PropertyGFATotal  PropertyGFAParking  \\\n",
              "0  12.0            88434             0                    \n",
              "1  2.0             97288             37198                \n",
              "2  11.0            83008             0                    \n",
              "3  8.0             102761            0                    \n",
              "4  15.0            163984            0                    \n",
              "\n",
              "   PropertyGFABuilding(s)               LargestPropertyUseType  \\\n",
              "0  88434                   Residence/Hotel/Senior Care/Housing   \n",
              "1  60090                   Offices                               \n",
              "2  83008                   Residence/Hotel/Senior Care/Housing   \n",
              "3  102761                  Leisure                               \n",
              "4  163984                  Residence/Hotel/Senior Care/Housing   \n",
              "\n",
              "   LargestPropertyUseTypeGFA SecondLargestPropertyUseType  \\\n",
              "0  88434.0                    Other                         \n",
              "1  88830.0                    Other                         \n",
              "2  81352.0                    Other                         \n",
              "3  102761.0                   Other                         \n",
              "4  163984.0                   Other                         \n",
              "\n",
              "   SecondLargestPropertyUseTypeGFA ThirdLargestPropertyUseType  \\\n",
              "0  0.0                              Other                        \n",
              "1  0.0                              Other                        \n",
              "2  0.0                              Other                        \n",
              "3  0.0                              Other                        \n",
              "4  0.0                              Other                        \n",
              "\n",
              "   ThirdLargestPropertyUseTypeGFA  ENERGYSTARScore  SiteEnergyUseWN(kBtu)  \\\n",
              "0  0.0                             65.0             7097539.0               \n",
              "1  0.0                            NaN               13045258.0              \n",
              "2  0.0                             25.0             6477493.0               \n",
              "3  0.0                            NaN               7380086.0               \n",
              "4  0.0                             46.0             13589025.0              \n",
              "\n",
              "  Outlier   Latitude   Longitude  TotalGHGEmissions  \\\n",
              "0  Normal  47.612190 -122.337997  249.43              \n",
              "1  Normal  47.616439 -122.336764  304.62              \n",
              "2  Normal  47.614114 -122.332741  208.46              \n",
              "3  Normal  47.612902 -122.331309  199.99              \n",
              "4  Normal  47.602589 -122.332553  331.61              \n",
              "\n",
              "   Log2-SiteEnergyUseWN(kBtu)  \n",
              "0  22.758888                   \n",
              "1  23.637022                   \n",
              "2  22.627004                   \n",
              "3  22.815206                   \n",
              "4  23.695939                   "
            ]
          },
          "execution_count": 4,
          "metadata": {},
          "output_type": "execute_result"
        }
      ],
      "source": [
        "data.head()"
      ]
    },
    {
      "cell_type": "code",
      "execution_count": null,
      "metadata": {
        "colab": {
          "base_uri": "https://localhost:8080/"
        },
        "id": "IT9gL-QGX0Ts",
        "outputId": "3c512305-31f8-4d20-b4ea-3917377359f8"
      },
      "outputs": [
        {
          "data": {
            "text/plain": [
              "index                              int64  \n",
              "DataYear                           int64  \n",
              "BuildingType                       object \n",
              "PrimaryPropertyType                object \n",
              "CouncilDistrictCode                int64  \n",
              "Neighborhood                       object \n",
              "YearBuilt                          int64  \n",
              "NumberofBuildings                  float64\n",
              "NumberofFloors                     float64\n",
              "PropertyGFATotal                   int64  \n",
              "PropertyGFAParking                 int64  \n",
              "PropertyGFABuilding(s)             int64  \n",
              "LargestPropertyUseType             object \n",
              "LargestPropertyUseTypeGFA          float64\n",
              "SecondLargestPropertyUseType       object \n",
              "SecondLargestPropertyUseTypeGFA    float64\n",
              "ThirdLargestPropertyUseType        object \n",
              "ThirdLargestPropertyUseTypeGFA     float64\n",
              "ENERGYSTARScore                    float64\n",
              "SiteEnergyUseWN(kBtu)              float64\n",
              "Outlier                            object \n",
              "Latitude                           float64\n",
              "Longitude                          float64\n",
              "TotalGHGEmissions                  float64\n",
              "Log2-SiteEnergyUseWN(kBtu)         float64\n",
              "dtype: object"
            ]
          },
          "execution_count": 5,
          "metadata": {},
          "output_type": "execute_result"
        }
      ],
      "source": [
        "data.dtypes"
      ]
    },
    {
      "cell_type": "code",
      "execution_count": null,
      "metadata": {
        "colab": {
          "base_uri": "https://localhost:8080/"
        },
        "id": "_sT-EeobX3du",
        "outputId": "97650e79-632c-4695-d122-60c1cba47346"
      },
      "outputs": [
        {
          "data": {
            "text/plain": [
              "(5748, 25)"
            ]
          },
          "execution_count": 6,
          "metadata": {},
          "output_type": "execute_result"
        }
      ],
      "source": [
        "data.shape"
      ]
    },
    {
      "cell_type": "code",
      "execution_count": null,
      "metadata": {
        "colab": {
          "base_uri": "https://localhost:8080/"
        },
        "id": "DACr7QSfX6l2",
        "outputId": "928fb4a6-4d33-4d14-8542-d8cde7bef76b"
      },
      "outputs": [
        {
          "data": {
            "text/plain": [
              "1459"
            ]
          },
          "execution_count": 7,
          "metadata": {},
          "output_type": "execute_result"
        }
      ],
      "source": [
        "data.isna().sum().sum()"
      ]
    },
    {
      "cell_type": "code",
      "execution_count": null,
      "metadata": {
        "id": "BIqCaFM2X97t"
      },
      "outputs": [],
      "source": [
        "#sauvegarde séparée du energy star score\n",
        "energy_star_score = data['ENERGYSTARScore']\n",
        "data.drop('ENERGYSTARScore', axis=1, inplace=True)"
      ]
    },
    {
      "cell_type": "code",
      "execution_count": null,
      "metadata": {
        "colab": {
          "base_uri": "https://localhost:8080/"
        },
        "id": "8ssjdwyhYE4t",
        "outputId": "635e18c4-8ba5-424c-e7e4-2fd3935ef91b"
      },
      "outputs": [
        {
          "data": {
            "text/plain": [
              "(5748, 24)"
            ]
          },
          "execution_count": 9,
          "metadata": {},
          "output_type": "execute_result"
        }
      ],
      "source": [
        "data.shape"
      ]
    },
    {
      "cell_type": "code",
      "execution_count": null,
      "metadata": {
        "colab": {
          "base_uri": "https://localhost:8080/"
        },
        "id": "rXO3Az1LYIFM",
        "outputId": "d8875a47-bcf1-4658-e197-368082a8ef3e"
      },
      "outputs": [
        {
          "data": {
            "text/plain": [
              "0"
            ]
          },
          "execution_count": 10,
          "metadata": {},
          "output_type": "execute_result"
        }
      ],
      "source": [
        "data.isna().sum().sum()"
      ]
    },
    {
      "cell_type": "markdown",
      "metadata": {
        "id": "WkN-b-DBYMyY"
      },
      "source": [
        "# **Vecteurs  et matrices**"
      ]
    },
    {
      "cell_type": "markdown",
      "metadata": {
        "id": "EQLZ0pvgMhDb"
      },
      "source": [
        "**X et y**"
      ]
    },
    {
      "cell_type": "code",
      "execution_count": null,
      "metadata": {
        "id": "3EL7OaekYLb8"
      },
      "outputs": [],
      "source": [
        "y = data.copy()[{'SiteEnergyUseWN(kBtu)', 'TotalGHGEmissions' , 'Log2-SiteEnergyUseWN(kBtu)'}]\n",
        "X = data.copy().drop(['SiteEnergyUseWN(kBtu)', 'TotalGHGEmissions', 'Log2-SiteEnergyUseWN(kBtu)'], axis=1)"
      ]
    },
    {
      "cell_type": "code",
      "execution_count": null,
      "metadata": {
        "colab": {
          "base_uri": "https://localhost:8080/"
        },
        "id": "tyFR-4wgYcZy",
        "outputId": "f1eb1188-c77f-4d71-e994-287947d793f9"
      },
      "outputs": [
        {
          "data": {
            "text/plain": [
              "BuildingType                    8 \n",
              "PrimaryPropertyType             12\n",
              "Neighborhood                    13\n",
              "LargestPropertyUseType          12\n",
              "SecondLargestPropertyUseType    12\n",
              "ThirdLargestPropertyUseType     12\n",
              "Outlier                         3 \n",
              "dtype: int64"
            ]
          },
          "execution_count": 12,
          "metadata": {},
          "output_type": "execute_result"
        }
      ],
      "source": [
        "X.select_dtypes(['category','object']).nunique()\n"
      ]
    },
    {
      "cell_type": "code",
      "execution_count": null,
      "metadata": {
        "colab": {
          "base_uri": "https://localhost:8080/"
        },
        "id": "qMt4AZZnYe3S",
        "outputId": "d33862bd-a2da-4d69-94e2-cb9a9214a8ed"
      },
      "outputs": [
        {
          "data": {
            "text/plain": [
              "(5748, 21)"
            ]
          },
          "execution_count": 13,
          "metadata": {},
          "output_type": "execute_result"
        }
      ],
      "source": [
        "X.shape\n"
      ]
    },
    {
      "cell_type": "code",
      "execution_count": null,
      "metadata": {
        "id": "gliAbEErYiE6"
      },
      "outputs": [],
      "source": [
        "categorical_columns = X.select_dtypes(['category','object']).columns\n",
        "numerical_columns = X.select_dtypes(['int32','float64']).columns"
      ]
    },
    {
      "cell_type": "code",
      "execution_count": null,
      "metadata": {
        "colab": {
          "base_uri": "https://localhost:8080/"
        },
        "id": "9VIcT9UUYlbh",
        "outputId": "31787e12-f002-4015-84e4-8a6994e27c9b"
      },
      "outputs": [
        {
          "data": {
            "text/plain": [
              "Index(['BuildingType', 'PrimaryPropertyType', 'Neighborhood',\n",
              "       'LargestPropertyUseType', 'SecondLargestPropertyUseType',\n",
              "       'ThirdLargestPropertyUseType', 'Outlier'],\n",
              "      dtype='object')"
            ]
          },
          "execution_count": 15,
          "metadata": {},
          "output_type": "execute_result"
        }
      ],
      "source": [
        "categorical_columns\n"
      ]
    },
    {
      "cell_type": "code",
      "execution_count": null,
      "metadata": {
        "colab": {
          "base_uri": "https://localhost:8080/"
        },
        "id": "RFfrRm-FYrko",
        "outputId": "cb7faeb1-82eb-4e70-bbcf-601e98e3cbfa"
      },
      "outputs": [
        {
          "name": "stderr",
          "output_type": "stream",
          "text": [
            "/usr/local/lib/python3.7/dist-packages/sklearn/utils/deprecation.py:87: FutureWarning: Function get_feature_names is deprecated; get_feature_names is deprecated in 1.0 and will be removed in 1.2. Please use get_feature_names_out instead.\n",
            "  warnings.warn(msg, category=FutureWarning)\n"
          ]
        }
      ],
      "source": [
        "\n",
        "from sklearn.preprocessing import OneHotEncoder, StandardScaler\n",
        "\n",
        "ohe = OneHotEncoder(sparse=False)\n",
        "ss = StandardScaler()\n",
        "X[numerical_columns] = ss.fit_transform(X[numerical_columns])\n",
        "ohe.fit_transform(X[categorical_columns])\n",
        "\n",
        "X = pd.merge(X[numerical_columns], \n",
        "          pd.DataFrame(columns = ohe.get_feature_names().tolist(),\n",
        "              data = ohe.fit_transform(X[categorical_columns])),\n",
        "        left_index = True, right_index = True)"
      ]
    },
    {
      "cell_type": "code",
      "execution_count": null,
      "metadata": {
        "id": "4YQ6EUsQYvbg"
      },
      "outputs": [],
      "source": [
        "import re\n",
        "regex = re.compile(r'x\\d_')\n",
        "for column in X.columns:\n",
        "    if regex.search(column):\n",
        "        X[column] = X[column].astype('int32')"
      ]
    },
    {
      "cell_type": "code",
      "execution_count": null,
      "metadata": {
        "colab": {
          "base_uri": "https://localhost:8080/"
        },
        "id": "wde-vGVjYy7A",
        "outputId": "c80fd1a8-9f24-4e6a-a63c-b9c9bd334d60"
      },
      "outputs": [
        {
          "data": {
            "text/html": [
              "\n",
              "  <div id=\"df-f382058d-4b90-4095-89f8-ab95c38583ca\">\n",
              "    <div class=\"colab-df-container\">\n",
              "      <div>\n",
              "<style scoped>\n",
              "    .dataframe tbody tr th:only-of-type {\n",
              "        vertical-align: middle;\n",
              "    }\n",
              "\n",
              "    .dataframe tbody tr th {\n",
              "        vertical-align: top;\n",
              "    }\n",
              "\n",
              "    .dataframe thead th {\n",
              "        text-align: right;\n",
              "    }\n",
              "</style>\n",
              "<table border=\"1\" class=\"dataframe\">\n",
              "  <thead>\n",
              "    <tr style=\"text-align: right;\">\n",
              "      <th></th>\n",
              "      <th>NumberofBuildings</th>\n",
              "      <th>NumberofFloors</th>\n",
              "      <th>LargestPropertyUseTypeGFA</th>\n",
              "      <th>SecondLargestPropertyUseTypeGFA</th>\n",
              "      <th>ThirdLargestPropertyUseTypeGFA</th>\n",
              "      <th>Latitude</th>\n",
              "      <th>Longitude</th>\n",
              "      <th>x0_Campus</th>\n",
              "      <th>x0_Multifamily HR (10+)</th>\n",
              "      <th>x0_Multifamily LR (1-4)</th>\n",
              "      <th>x0_Multifamily MR (5-9)</th>\n",
              "      <th>x0_NonResidential</th>\n",
              "      <th>x0_Nonresidential COS</th>\n",
              "      <th>x0_Nonresidential WA</th>\n",
              "      <th>x0_SPS-District K-12</th>\n",
              "      <th>x1_Education</th>\n",
              "      <th>x1_Facility</th>\n",
              "      <th>x1_Health</th>\n",
              "      <th>x1_Leisure</th>\n",
              "      <th>x1_Office</th>\n",
              "      <th>x1_Offices</th>\n",
              "      <th>x1_Other</th>\n",
              "      <th>x1_Residence/Hotel/Senior Care/Housing</th>\n",
              "      <th>x1_Retail</th>\n",
              "      <th>x1_Storage</th>\n",
              "      <th>x1_Supermarket / Grocery Store</th>\n",
              "      <th>x1_Warehouse</th>\n",
              "      <th>x2_BALLARD</th>\n",
              "      <th>x2_CENTRAL</th>\n",
              "      <th>x2_DELRIDGE</th>\n",
              "      <th>x2_DOWNTOWN</th>\n",
              "      <th>x2_EAST</th>\n",
              "      <th>x2_GREATER DUWAMISH</th>\n",
              "      <th>x2_LAKE UNION</th>\n",
              "      <th>x2_MAGNOLIA / QUEEN ANNE</th>\n",
              "      <th>x2_NORTH</th>\n",
              "      <th>x2_NORTHEAST</th>\n",
              "      <th>x2_NORTHWEST</th>\n",
              "      <th>x2_SOUTHEAST</th>\n",
              "      <th>x2_SOUTHWEST</th>\n",
              "      <th>x3_Education</th>\n",
              "      <th>x3_Facility</th>\n",
              "      <th>x3_Health</th>\n",
              "      <th>x3_Leisure</th>\n",
              "      <th>x3_Office</th>\n",
              "      <th>x3_Offices</th>\n",
              "      <th>x3_Other</th>\n",
              "      <th>x3_Parking</th>\n",
              "      <th>x3_Personal Services (Health/Beauty, Dry Cleaning, etc)</th>\n",
              "      <th>x3_Residence/Hotel/Senior Care/Housing</th>\n",
              "      <th>x3_Retail</th>\n",
              "      <th>x3_Storage</th>\n",
              "      <th>x4_Education</th>\n",
              "      <th>x4_Facility</th>\n",
              "      <th>x4_Health</th>\n",
              "      <th>x4_Leisure</th>\n",
              "      <th>x4_Office</th>\n",
              "      <th>x4_Offices</th>\n",
              "      <th>x4_Other</th>\n",
              "      <th>x4_Parking</th>\n",
              "      <th>x4_Personal Services (Health/Beauty, Dry Cleaning, etc)</th>\n",
              "      <th>x4_Residence/Hotel/Senior Care/Housing</th>\n",
              "      <th>x4_Retail</th>\n",
              "      <th>x4_Storage</th>\n",
              "      <th>x5_Education</th>\n",
              "      <th>x5_Facility</th>\n",
              "      <th>x5_Health</th>\n",
              "      <th>x5_Leisure</th>\n",
              "      <th>x5_Office</th>\n",
              "      <th>x5_Offices</th>\n",
              "      <th>x5_Other</th>\n",
              "      <th>x5_Parking</th>\n",
              "      <th>x5_Personal Services (Health/Beauty, Dry Cleaning, etc)</th>\n",
              "      <th>x5_Residence/Hotel/Senior Care/Housing</th>\n",
              "      <th>x5_Retail</th>\n",
              "      <th>x5_Storage</th>\n",
              "      <th>x6_High Outlier</th>\n",
              "      <th>x6_Low Outlier</th>\n",
              "      <th>x6_Normal</th>\n",
              "    </tr>\n",
              "  </thead>\n",
              "  <tbody>\n",
              "    <tr>\n",
              "      <th>2813</th>\n",
              "      <td>-0.034419</td>\n",
              "      <td>0.489769</td>\n",
              "      <td>0.255048</td>\n",
              "      <td>-0.067008</td>\n",
              "      <td>-0.159065</td>\n",
              "      <td>-0.134186</td>\n",
              "      <td>1.188627</td>\n",
              "      <td>0</td>\n",
              "      <td>0</td>\n",
              "      <td>0</td>\n",
              "      <td>0</td>\n",
              "      <td>1</td>\n",
              "      <td>0</td>\n",
              "      <td>0</td>\n",
              "      <td>0</td>\n",
              "      <td>0</td>\n",
              "      <td>0</td>\n",
              "      <td>0</td>\n",
              "      <td>0</td>\n",
              "      <td>0</td>\n",
              "      <td>0</td>\n",
              "      <td>0</td>\n",
              "      <td>1</td>\n",
              "      <td>0</td>\n",
              "      <td>0</td>\n",
              "      <td>0</td>\n",
              "      <td>0</td>\n",
              "      <td>0</td>\n",
              "      <td>1</td>\n",
              "      <td>0</td>\n",
              "      <td>0</td>\n",
              "      <td>0</td>\n",
              "      <td>0</td>\n",
              "      <td>0</td>\n",
              "      <td>0</td>\n",
              "      <td>0</td>\n",
              "      <td>0</td>\n",
              "      <td>0</td>\n",
              "      <td>0</td>\n",
              "      <td>0</td>\n",
              "      <td>0</td>\n",
              "      <td>0</td>\n",
              "      <td>0</td>\n",
              "      <td>0</td>\n",
              "      <td>0</td>\n",
              "      <td>0</td>\n",
              "      <td>0</td>\n",
              "      <td>0</td>\n",
              "      <td>0</td>\n",
              "      <td>1</td>\n",
              "      <td>0</td>\n",
              "      <td>0</td>\n",
              "      <td>0</td>\n",
              "      <td>0</td>\n",
              "      <td>0</td>\n",
              "      <td>0</td>\n",
              "      <td>0</td>\n",
              "      <td>0</td>\n",
              "      <td>0</td>\n",
              "      <td>1</td>\n",
              "      <td>0</td>\n",
              "      <td>0</td>\n",
              "      <td>0</td>\n",
              "      <td>0</td>\n",
              "      <td>0</td>\n",
              "      <td>0</td>\n",
              "      <td>0</td>\n",
              "      <td>0</td>\n",
              "      <td>0</td>\n",
              "      <td>0</td>\n",
              "      <td>1</td>\n",
              "      <td>0</td>\n",
              "      <td>0</td>\n",
              "      <td>0</td>\n",
              "      <td>0</td>\n",
              "      <td>0</td>\n",
              "      <td>0</td>\n",
              "      <td>0</td>\n",
              "      <td>1</td>\n",
              "    </tr>\n",
              "    <tr>\n",
              "      <th>3657</th>\n",
              "      <td>-0.034419</td>\n",
              "      <td>-0.601920</td>\n",
              "      <td>-0.447785</td>\n",
              "      <td>-0.362042</td>\n",
              "      <td>-0.159065</td>\n",
              "      <td>-1.318319</td>\n",
              "      <td>-1.572254</td>\n",
              "      <td>0</td>\n",
              "      <td>0</td>\n",
              "      <td>1</td>\n",
              "      <td>0</td>\n",
              "      <td>0</td>\n",
              "      <td>0</td>\n",
              "      <td>0</td>\n",
              "      <td>0</td>\n",
              "      <td>0</td>\n",
              "      <td>0</td>\n",
              "      <td>0</td>\n",
              "      <td>0</td>\n",
              "      <td>0</td>\n",
              "      <td>0</td>\n",
              "      <td>0</td>\n",
              "      <td>1</td>\n",
              "      <td>0</td>\n",
              "      <td>0</td>\n",
              "      <td>0</td>\n",
              "      <td>0</td>\n",
              "      <td>0</td>\n",
              "      <td>0</td>\n",
              "      <td>0</td>\n",
              "      <td>0</td>\n",
              "      <td>0</td>\n",
              "      <td>0</td>\n",
              "      <td>0</td>\n",
              "      <td>0</td>\n",
              "      <td>0</td>\n",
              "      <td>0</td>\n",
              "      <td>0</td>\n",
              "      <td>0</td>\n",
              "      <td>1</td>\n",
              "      <td>0</td>\n",
              "      <td>0</td>\n",
              "      <td>0</td>\n",
              "      <td>0</td>\n",
              "      <td>0</td>\n",
              "      <td>0</td>\n",
              "      <td>0</td>\n",
              "      <td>0</td>\n",
              "      <td>0</td>\n",
              "      <td>1</td>\n",
              "      <td>0</td>\n",
              "      <td>0</td>\n",
              "      <td>0</td>\n",
              "      <td>0</td>\n",
              "      <td>0</td>\n",
              "      <td>0</td>\n",
              "      <td>0</td>\n",
              "      <td>0</td>\n",
              "      <td>1</td>\n",
              "      <td>0</td>\n",
              "      <td>0</td>\n",
              "      <td>0</td>\n",
              "      <td>0</td>\n",
              "      <td>0</td>\n",
              "      <td>0</td>\n",
              "      <td>0</td>\n",
              "      <td>0</td>\n",
              "      <td>0</td>\n",
              "      <td>0</td>\n",
              "      <td>0</td>\n",
              "      <td>1</td>\n",
              "      <td>0</td>\n",
              "      <td>0</td>\n",
              "      <td>0</td>\n",
              "      <td>0</td>\n",
              "      <td>0</td>\n",
              "      <td>0</td>\n",
              "      <td>0</td>\n",
              "      <td>1</td>\n",
              "    </tr>\n",
              "    <tr>\n",
              "      <th>3864</th>\n",
              "      <td>-0.034419</td>\n",
              "      <td>-0.874842</td>\n",
              "      <td>-0.620551</td>\n",
              "      <td>-0.362042</td>\n",
              "      <td>-0.159065</td>\n",
              "      <td>-0.293921</td>\n",
              "      <td>-0.012663</td>\n",
              "      <td>0</td>\n",
              "      <td>0</td>\n",
              "      <td>0</td>\n",
              "      <td>0</td>\n",
              "      <td>1</td>\n",
              "      <td>0</td>\n",
              "      <td>0</td>\n",
              "      <td>0</td>\n",
              "      <td>0</td>\n",
              "      <td>0</td>\n",
              "      <td>0</td>\n",
              "      <td>0</td>\n",
              "      <td>0</td>\n",
              "      <td>0</td>\n",
              "      <td>0</td>\n",
              "      <td>0</td>\n",
              "      <td>1</td>\n",
              "      <td>0</td>\n",
              "      <td>0</td>\n",
              "      <td>0</td>\n",
              "      <td>0</td>\n",
              "      <td>0</td>\n",
              "      <td>0</td>\n",
              "      <td>1</td>\n",
              "      <td>0</td>\n",
              "      <td>0</td>\n",
              "      <td>0</td>\n",
              "      <td>0</td>\n",
              "      <td>0</td>\n",
              "      <td>0</td>\n",
              "      <td>0</td>\n",
              "      <td>0</td>\n",
              "      <td>0</td>\n",
              "      <td>0</td>\n",
              "      <td>0</td>\n",
              "      <td>0</td>\n",
              "      <td>0</td>\n",
              "      <td>0</td>\n",
              "      <td>0</td>\n",
              "      <td>0</td>\n",
              "      <td>0</td>\n",
              "      <td>0</td>\n",
              "      <td>0</td>\n",
              "      <td>1</td>\n",
              "      <td>0</td>\n",
              "      <td>0</td>\n",
              "      <td>0</td>\n",
              "      <td>0</td>\n",
              "      <td>0</td>\n",
              "      <td>0</td>\n",
              "      <td>0</td>\n",
              "      <td>1</td>\n",
              "      <td>0</td>\n",
              "      <td>0</td>\n",
              "      <td>0</td>\n",
              "      <td>0</td>\n",
              "      <td>0</td>\n",
              "      <td>0</td>\n",
              "      <td>0</td>\n",
              "      <td>0</td>\n",
              "      <td>0</td>\n",
              "      <td>0</td>\n",
              "      <td>0</td>\n",
              "      <td>1</td>\n",
              "      <td>0</td>\n",
              "      <td>0</td>\n",
              "      <td>0</td>\n",
              "      <td>0</td>\n",
              "      <td>0</td>\n",
              "      <td>0</td>\n",
              "      <td>0</td>\n",
              "      <td>1</td>\n",
              "    </tr>\n",
              "    <tr>\n",
              "      <th>1193</th>\n",
              "      <td>-0.034419</td>\n",
              "      <td>-0.601920</td>\n",
              "      <td>-0.104470</td>\n",
              "      <td>-0.362042</td>\n",
              "      <td>-0.159065</td>\n",
              "      <td>-1.755129</td>\n",
              "      <td>-1.450106</td>\n",
              "      <td>0</td>\n",
              "      <td>0</td>\n",
              "      <td>0</td>\n",
              "      <td>0</td>\n",
              "      <td>0</td>\n",
              "      <td>0</td>\n",
              "      <td>0</td>\n",
              "      <td>1</td>\n",
              "      <td>1</td>\n",
              "      <td>0</td>\n",
              "      <td>0</td>\n",
              "      <td>0</td>\n",
              "      <td>0</td>\n",
              "      <td>0</td>\n",
              "      <td>0</td>\n",
              "      <td>0</td>\n",
              "      <td>0</td>\n",
              "      <td>0</td>\n",
              "      <td>0</td>\n",
              "      <td>0</td>\n",
              "      <td>0</td>\n",
              "      <td>0</td>\n",
              "      <td>1</td>\n",
              "      <td>0</td>\n",
              "      <td>0</td>\n",
              "      <td>0</td>\n",
              "      <td>0</td>\n",
              "      <td>0</td>\n",
              "      <td>0</td>\n",
              "      <td>0</td>\n",
              "      <td>0</td>\n",
              "      <td>0</td>\n",
              "      <td>0</td>\n",
              "      <td>1</td>\n",
              "      <td>0</td>\n",
              "      <td>0</td>\n",
              "      <td>0</td>\n",
              "      <td>0</td>\n",
              "      <td>0</td>\n",
              "      <td>0</td>\n",
              "      <td>0</td>\n",
              "      <td>0</td>\n",
              "      <td>0</td>\n",
              "      <td>0</td>\n",
              "      <td>0</td>\n",
              "      <td>0</td>\n",
              "      <td>0</td>\n",
              "      <td>0</td>\n",
              "      <td>0</td>\n",
              "      <td>0</td>\n",
              "      <td>0</td>\n",
              "      <td>1</td>\n",
              "      <td>0</td>\n",
              "      <td>0</td>\n",
              "      <td>0</td>\n",
              "      <td>0</td>\n",
              "      <td>0</td>\n",
              "      <td>0</td>\n",
              "      <td>0</td>\n",
              "      <td>0</td>\n",
              "      <td>0</td>\n",
              "      <td>0</td>\n",
              "      <td>0</td>\n",
              "      <td>1</td>\n",
              "      <td>0</td>\n",
              "      <td>0</td>\n",
              "      <td>0</td>\n",
              "      <td>0</td>\n",
              "      <td>0</td>\n",
              "      <td>0</td>\n",
              "      <td>0</td>\n",
              "      <td>1</td>\n",
              "    </tr>\n",
              "    <tr>\n",
              "      <th>123</th>\n",
              "      <td>-0.034419</td>\n",
              "      <td>-0.874842</td>\n",
              "      <td>0.130560</td>\n",
              "      <td>-0.362042</td>\n",
              "      <td>-0.159065</td>\n",
              "      <td>-1.826153</td>\n",
              "      <td>1.455330</td>\n",
              "      <td>0</td>\n",
              "      <td>0</td>\n",
              "      <td>0</td>\n",
              "      <td>0</td>\n",
              "      <td>0</td>\n",
              "      <td>0</td>\n",
              "      <td>0</td>\n",
              "      <td>1</td>\n",
              "      <td>1</td>\n",
              "      <td>0</td>\n",
              "      <td>0</td>\n",
              "      <td>0</td>\n",
              "      <td>0</td>\n",
              "      <td>0</td>\n",
              "      <td>0</td>\n",
              "      <td>0</td>\n",
              "      <td>0</td>\n",
              "      <td>0</td>\n",
              "      <td>0</td>\n",
              "      <td>0</td>\n",
              "      <td>0</td>\n",
              "      <td>0</td>\n",
              "      <td>0</td>\n",
              "      <td>0</td>\n",
              "      <td>0</td>\n",
              "      <td>1</td>\n",
              "      <td>0</td>\n",
              "      <td>0</td>\n",
              "      <td>0</td>\n",
              "      <td>0</td>\n",
              "      <td>0</td>\n",
              "      <td>0</td>\n",
              "      <td>0</td>\n",
              "      <td>1</td>\n",
              "      <td>0</td>\n",
              "      <td>0</td>\n",
              "      <td>0</td>\n",
              "      <td>0</td>\n",
              "      <td>0</td>\n",
              "      <td>0</td>\n",
              "      <td>0</td>\n",
              "      <td>0</td>\n",
              "      <td>0</td>\n",
              "      <td>0</td>\n",
              "      <td>0</td>\n",
              "      <td>0</td>\n",
              "      <td>0</td>\n",
              "      <td>0</td>\n",
              "      <td>0</td>\n",
              "      <td>0</td>\n",
              "      <td>0</td>\n",
              "      <td>1</td>\n",
              "      <td>0</td>\n",
              "      <td>0</td>\n",
              "      <td>0</td>\n",
              "      <td>0</td>\n",
              "      <td>0</td>\n",
              "      <td>0</td>\n",
              "      <td>0</td>\n",
              "      <td>0</td>\n",
              "      <td>0</td>\n",
              "      <td>0</td>\n",
              "      <td>0</td>\n",
              "      <td>1</td>\n",
              "      <td>0</td>\n",
              "      <td>0</td>\n",
              "      <td>0</td>\n",
              "      <td>0</td>\n",
              "      <td>0</td>\n",
              "      <td>0</td>\n",
              "      <td>0</td>\n",
              "      <td>1</td>\n",
              "    </tr>\n",
              "  </tbody>\n",
              "</table>\n",
              "</div>\n",
              "      <button class=\"colab-df-convert\" onclick=\"convertToInteractive('df-f382058d-4b90-4095-89f8-ab95c38583ca')\"\n",
              "              title=\"Convert this dataframe to an interactive table.\"\n",
              "              style=\"display:none;\">\n",
              "        \n",
              "  <svg xmlns=\"http://www.w3.org/2000/svg\" height=\"24px\"viewBox=\"0 0 24 24\"\n",
              "       width=\"24px\">\n",
              "    <path d=\"M0 0h24v24H0V0z\" fill=\"none\"/>\n",
              "    <path d=\"M18.56 5.44l.94 2.06.94-2.06 2.06-.94-2.06-.94-.94-2.06-.94 2.06-2.06.94zm-11 1L8.5 8.5l.94-2.06 2.06-.94-2.06-.94L8.5 2.5l-.94 2.06-2.06.94zm10 10l.94 2.06.94-2.06 2.06-.94-2.06-.94-.94-2.06-.94 2.06-2.06.94z\"/><path d=\"M17.41 7.96l-1.37-1.37c-.4-.4-.92-.59-1.43-.59-.52 0-1.04.2-1.43.59L10.3 9.45l-7.72 7.72c-.78.78-.78 2.05 0 2.83L4 21.41c.39.39.9.59 1.41.59.51 0 1.02-.2 1.41-.59l7.78-7.78 2.81-2.81c.8-.78.8-2.07 0-2.86zM5.41 20L4 18.59l7.72-7.72 1.47 1.35L5.41 20z\"/>\n",
              "  </svg>\n",
              "      </button>\n",
              "      \n",
              "  <style>\n",
              "    .colab-df-container {\n",
              "      display:flex;\n",
              "      flex-wrap:wrap;\n",
              "      gap: 12px;\n",
              "    }\n",
              "\n",
              "    .colab-df-convert {\n",
              "      background-color: #E8F0FE;\n",
              "      border: none;\n",
              "      border-radius: 50%;\n",
              "      cursor: pointer;\n",
              "      display: none;\n",
              "      fill: #1967D2;\n",
              "      height: 32px;\n",
              "      padding: 0 0 0 0;\n",
              "      width: 32px;\n",
              "    }\n",
              "\n",
              "    .colab-df-convert:hover {\n",
              "      background-color: #E2EBFA;\n",
              "      box-shadow: 0px 1px 2px rgba(60, 64, 67, 0.3), 0px 1px 3px 1px rgba(60, 64, 67, 0.15);\n",
              "      fill: #174EA6;\n",
              "    }\n",
              "\n",
              "    [theme=dark] .colab-df-convert {\n",
              "      background-color: #3B4455;\n",
              "      fill: #D2E3FC;\n",
              "    }\n",
              "\n",
              "    [theme=dark] .colab-df-convert:hover {\n",
              "      background-color: #434B5C;\n",
              "      box-shadow: 0px 1px 3px 1px rgba(0, 0, 0, 0.15);\n",
              "      filter: drop-shadow(0px 1px 2px rgba(0, 0, 0, 0.3));\n",
              "      fill: #FFFFFF;\n",
              "    }\n",
              "  </style>\n",
              "\n",
              "      <script>\n",
              "        const buttonEl =\n",
              "          document.querySelector('#df-f382058d-4b90-4095-89f8-ab95c38583ca button.colab-df-convert');\n",
              "        buttonEl.style.display =\n",
              "          google.colab.kernel.accessAllowed ? 'block' : 'none';\n",
              "\n",
              "        async function convertToInteractive(key) {\n",
              "          const element = document.querySelector('#df-f382058d-4b90-4095-89f8-ab95c38583ca');\n",
              "          const dataTable =\n",
              "            await google.colab.kernel.invokeFunction('convertToInteractive',\n",
              "                                                     [key], {});\n",
              "          if (!dataTable) return;\n",
              "\n",
              "          const docLinkHtml = 'Like what you see? Visit the ' +\n",
              "            '<a target=\"_blank\" href=https://colab.research.google.com/notebooks/data_table.ipynb>data table notebook</a>'\n",
              "            + ' to learn more about interactive tables.';\n",
              "          element.innerHTML = '';\n",
              "          dataTable['output_type'] = 'display_data';\n",
              "          await google.colab.output.renderOutput(dataTable, element);\n",
              "          const docLink = document.createElement('div');\n",
              "          docLink.innerHTML = docLinkHtml;\n",
              "          element.appendChild(docLink);\n",
              "        }\n",
              "      </script>\n",
              "    </div>\n",
              "  </div>\n",
              "  "
            ],
            "text/plain": [
              "      NumberofBuildings  NumberofFloors  LargestPropertyUseTypeGFA  \\\n",
              "2813 -0.034419           0.489769        0.255048                    \n",
              "3657 -0.034419          -0.601920       -0.447785                    \n",
              "3864 -0.034419          -0.874842       -0.620551                    \n",
              "1193 -0.034419          -0.601920       -0.104470                    \n",
              "123  -0.034419          -0.874842        0.130560                    \n",
              "\n",
              "      SecondLargestPropertyUseTypeGFA  ThirdLargestPropertyUseTypeGFA  \\\n",
              "2813 -0.067008                        -0.159065                         \n",
              "3657 -0.362042                        -0.159065                         \n",
              "3864 -0.362042                        -0.159065                         \n",
              "1193 -0.362042                        -0.159065                         \n",
              "123  -0.362042                        -0.159065                         \n",
              "\n",
              "      Latitude  Longitude  x0_Campus  x0_Multifamily HR (10+)  \\\n",
              "2813 -0.134186  1.188627   0          0                         \n",
              "3657 -1.318319 -1.572254   0          0                         \n",
              "3864 -0.293921 -0.012663   0          0                         \n",
              "1193 -1.755129 -1.450106   0          0                         \n",
              "123  -1.826153  1.455330   0          0                         \n",
              "\n",
              "      x0_Multifamily LR (1-4)  x0_Multifamily MR (5-9)  x0_NonResidential  \\\n",
              "2813  0                        0                        1                   \n",
              "3657  1                        0                        0                   \n",
              "3864  0                        0                        1                   \n",
              "1193  0                        0                        0                   \n",
              "123   0                        0                        0                   \n",
              "\n",
              "      x0_Nonresidential COS  x0_Nonresidential WA  x0_SPS-District K-12  \\\n",
              "2813  0                      0                     0                      \n",
              "3657  0                      0                     0                      \n",
              "3864  0                      0                     0                      \n",
              "1193  0                      0                     1                      \n",
              "123   0                      0                     1                      \n",
              "\n",
              "      x1_Education  x1_Facility  x1_Health  x1_Leisure  x1_Office  x1_Offices  \\\n",
              "2813  0             0            0          0           0          0            \n",
              "3657  0             0            0          0           0          0            \n",
              "3864  0             0            0          0           0          0            \n",
              "1193  1             0            0          0           0          0            \n",
              "123   1             0            0          0           0          0            \n",
              "\n",
              "      x1_Other  x1_Residence/Hotel/Senior Care/Housing  x1_Retail  x1_Storage  \\\n",
              "2813  0         1                                       0          0            \n",
              "3657  0         1                                       0          0            \n",
              "3864  0         0                                       1          0            \n",
              "1193  0         0                                       0          0            \n",
              "123   0         0                                       0          0            \n",
              "\n",
              "      x1_Supermarket / Grocery Store  x1_Warehouse  x2_BALLARD  x2_CENTRAL  \\\n",
              "2813  0                               0             0           1            \n",
              "3657  0                               0             0           0            \n",
              "3864  0                               0             0           0            \n",
              "1193  0                               0             0           0            \n",
              "123   0                               0             0           0            \n",
              "\n",
              "      x2_DELRIDGE  x2_DOWNTOWN  x2_EAST  x2_GREATER DUWAMISH  x2_LAKE UNION  \\\n",
              "2813  0            0            0        0                    0               \n",
              "3657  0            0            0        0                    0               \n",
              "3864  0            1            0        0                    0               \n",
              "1193  1            0            0        0                    0               \n",
              "123   0            0            0        1                    0               \n",
              "\n",
              "      x2_MAGNOLIA / QUEEN ANNE  x2_NORTH  x2_NORTHEAST  x2_NORTHWEST  \\\n",
              "2813  0                         0         0             0              \n",
              "3657  0                         0         0             0              \n",
              "3864  0                         0         0             0              \n",
              "1193  0                         0         0             0              \n",
              "123   0                         0         0             0              \n",
              "\n",
              "      x2_SOUTHEAST  x2_SOUTHWEST  x3_Education  x3_Facility  x3_Health  \\\n",
              "2813  0             0             0             0            0           \n",
              "3657  0             1             0             0            0           \n",
              "3864  0             0             0             0            0           \n",
              "1193  0             0             1             0            0           \n",
              "123   0             0             1             0            0           \n",
              "\n",
              "      x3_Leisure  x3_Office  x3_Offices  x3_Other  x3_Parking  \\\n",
              "2813  0           0          0           0         0            \n",
              "3657  0           0          0           0         0            \n",
              "3864  0           0          0           0         0            \n",
              "1193  0           0          0           0         0            \n",
              "123   0           0          0           0         0            \n",
              "\n",
              "      x3_Personal Services (Health/Beauty, Dry Cleaning, etc)  \\\n",
              "2813  0                                                         \n",
              "3657  0                                                         \n",
              "3864  0                                                         \n",
              "1193  0                                                         \n",
              "123   0                                                         \n",
              "\n",
              "      x3_Residence/Hotel/Senior Care/Housing  x3_Retail  x3_Storage  \\\n",
              "2813  1                                       0          0            \n",
              "3657  1                                       0          0            \n",
              "3864  0                                       1          0            \n",
              "1193  0                                       0          0            \n",
              "123   0                                       0          0            \n",
              "\n",
              "      x4_Education  x4_Facility  x4_Health  x4_Leisure  x4_Office  x4_Offices  \\\n",
              "2813  0             0            0          0           0          0            \n",
              "3657  0             0            0          0           0          0            \n",
              "3864  0             0            0          0           0          0            \n",
              "1193  0             0            0          0           0          0            \n",
              "123   0             0            0          0           0          0            \n",
              "\n",
              "      x4_Other  x4_Parking  \\\n",
              "2813  0         1            \n",
              "3657  1         0            \n",
              "3864  1         0            \n",
              "1193  1         0            \n",
              "123   1         0            \n",
              "\n",
              "      x4_Personal Services (Health/Beauty, Dry Cleaning, etc)  \\\n",
              "2813  0                                                         \n",
              "3657  0                                                         \n",
              "3864  0                                                         \n",
              "1193  0                                                         \n",
              "123   0                                                         \n",
              "\n",
              "      x4_Residence/Hotel/Senior Care/Housing  x4_Retail  x4_Storage  \\\n",
              "2813  0                                       0          0            \n",
              "3657  0                                       0          0            \n",
              "3864  0                                       0          0            \n",
              "1193  0                                       0          0            \n",
              "123   0                                       0          0            \n",
              "\n",
              "      x5_Education  x5_Facility  x5_Health  x5_Leisure  x5_Office  x5_Offices  \\\n",
              "2813  0             0            0          0           0          0            \n",
              "3657  0             0            0          0           0          0            \n",
              "3864  0             0            0          0           0          0            \n",
              "1193  0             0            0          0           0          0            \n",
              "123   0             0            0          0           0          0            \n",
              "\n",
              "      x5_Other  x5_Parking  \\\n",
              "2813  1         0            \n",
              "3657  1         0            \n",
              "3864  1         0            \n",
              "1193  1         0            \n",
              "123   1         0            \n",
              "\n",
              "      x5_Personal Services (Health/Beauty, Dry Cleaning, etc)  \\\n",
              "2813  0                                                         \n",
              "3657  0                                                         \n",
              "3864  0                                                         \n",
              "1193  0                                                         \n",
              "123   0                                                         \n",
              "\n",
              "      x5_Residence/Hotel/Senior Care/Housing  x5_Retail  x5_Storage  \\\n",
              "2813  0                                       0          0            \n",
              "3657  0                                       0          0            \n",
              "3864  0                                       0          0            \n",
              "1193  0                                       0          0            \n",
              "123   0                                       0          0            \n",
              "\n",
              "      x6_High Outlier  x6_Low Outlier  x6_Normal  \n",
              "2813  0                0               1          \n",
              "3657  0                0               1          \n",
              "3864  0                0               1          \n",
              "1193  0                0               1          \n",
              "123   0                0               1          "
            ]
          },
          "execution_count": 18,
          "metadata": {},
          "output_type": "execute_result"
        }
      ],
      "source": [
        "X.sample(5)\n"
      ]
    },
    {
      "cell_type": "markdown",
      "metadata": {
        "id": "MgT7PAesY41i"
      },
      "source": [
        "## **Infos sur X et Y**"
      ]
    },
    {
      "cell_type": "code",
      "execution_count": null,
      "metadata": {
        "colab": {
          "base_uri": "https://localhost:8080/"
        },
        "id": "sUfbE5oQY1q4",
        "outputId": "c76e3e2e-2f91-460d-e8f4-a8e8fa430071"
      },
      "outputs": [
        {
          "data": {
            "text/plain": [
              "(5748, 79)"
            ]
          },
          "execution_count": 19,
          "metadata": {},
          "output_type": "execute_result"
        }
      ],
      "source": [
        "X.shape\n"
      ]
    },
    {
      "cell_type": "code",
      "execution_count": null,
      "metadata": {
        "colab": {
          "base_uri": "https://localhost:8080/"
        },
        "id": "xWC_6F7TY-W_",
        "outputId": "d766697e-9946-4129-886e-2ddf1167a9fa"
      },
      "outputs": [
        {
          "data": {
            "text/plain": [
              "(5748, 3)"
            ]
          },
          "execution_count": 20,
          "metadata": {},
          "output_type": "execute_result"
        }
      ],
      "source": [
        "y.shape\n"
      ]
    },
    {
      "cell_type": "markdown",
      "metadata": {
        "id": "pNBaVN-UZDBV"
      },
      "source": [
        "# **Séparation test/train**\n",
        "\n",
        "\n"
      ]
    },
    {
      "cell_type": "code",
      "execution_count": null,
      "metadata": {
        "id": "RrGyW555ZAyA"
      },
      "outputs": [],
      "source": [
        "from sklearn.model_selection import train_test_split\n",
        "X_train, X_test, y_train, y_test = \\\n",
        "                        train_test_split(X, \n",
        "                                         y['Log2-SiteEnergyUseWN(kBtu)'],  \n",
        "                                         test_size = 0.2, \n",
        "                                         random_state = 42\n",
        "                                        )"
      ]
    },
    {
      "cell_type": "code",
      "execution_count": null,
      "metadata": {
        "colab": {
          "base_uri": "https://localhost:8080/"
        },
        "id": "5KrBKyo9ZK_2",
        "outputId": "8822b5ee-32fa-44a1-d38c-15faa8a4550b"
      },
      "outputs": [
        {
          "data": {
            "text/plain": [
              "(4598, 79)"
            ]
          },
          "execution_count": 22,
          "metadata": {},
          "output_type": "execute_result"
        }
      ],
      "source": [
        "X_train.shape\n"
      ]
    },
    {
      "cell_type": "code",
      "execution_count": null,
      "metadata": {
        "colab": {
          "base_uri": "https://localhost:8080/"
        },
        "id": "JaL-GNqMZNSF",
        "outputId": "9252f6ae-64d1-4066-d79e-97f1ab31514a"
      },
      "outputs": [
        {
          "data": {
            "text/plain": [
              "(1150, 79)"
            ]
          },
          "execution_count": 23,
          "metadata": {},
          "output_type": "execute_result"
        }
      ],
      "source": [
        "X_test.shape\n"
      ]
    },
    {
      "cell_type": "code",
      "execution_count": null,
      "metadata": {
        "colab": {
          "base_uri": "https://localhost:8080/"
        },
        "id": "lPUv4HX8ZV7M",
        "outputId": "aeb5aa4c-419d-4dc7-8fbd-16ddc513c868"
      },
      "outputs": [
        {
          "data": {
            "text/plain": [
              "(4598,)"
            ]
          },
          "execution_count": 24,
          "metadata": {},
          "output_type": "execute_result"
        }
      ],
      "source": [
        "y_train.shape"
      ]
    },
    {
      "cell_type": "code",
      "execution_count": null,
      "metadata": {
        "colab": {
          "base_uri": "https://localhost:8080/"
        },
        "id": "S0u3AHAqZiar",
        "outputId": "215fb7c7-28a8-4739-df76-2917a60432c5"
      },
      "outputs": [
        {
          "data": {
            "text/plain": [
              "(1150,)"
            ]
          },
          "execution_count": 25,
          "metadata": {},
          "output_type": "execute_result"
        }
      ],
      "source": [
        "y_test.shape\n"
      ]
    },
    {
      "cell_type": "code",
      "execution_count": null,
      "metadata": {
        "id": "b0vMkWxGxSqj"
      },
      "outputs": [],
      "source": [
        "results = pd.DataFrame({})"
      ]
    },
    {
      "cell_type": "code",
      "execution_count": null,
      "metadata": {
        "colab": {
          "base_uri": "https://localhost:8080/"
        },
        "id": "gPiNcIslxZM0",
        "outputId": "2dbecabf-6c64-4710-f6c5-854d44dc94dc"
      },
      "outputs": [
        {
          "name": "stdout",
          "output_type": "stream",
          "text": [
            "0\n",
            "0\n",
            "0\n",
            "0\n"
          ]
        }
      ],
      "source": [
        "print(X_train.isna().sum().sum())\n",
        "print(X_test.isna().sum().sum())\n",
        "print(y_train.isna().sum().sum())\n",
        "print(y_test.isna().sum().sum())"
      ]
    },
    {
      "cell_type": "markdown",
      "metadata": {
        "id": "9LCr1SrRdomT"
      },
      "source": [
        "# **Modelisation**"
      ]
    },
    {
      "cell_type": "code",
      "execution_count": null,
      "metadata": {
        "id": "emLMjhq8ZmRU"
      },
      "outputs": [],
      "source": [
        "from sklearn.model_selection import GridSearchCV\n",
        "from sklearn.metrics import mean_squared_error"
      ]
    },
    {
      "cell_type": "markdown",
      "metadata": {
        "id": "saVuNmtbdyFW"
      },
      "source": [
        "## **Linear regression/ Ridge Regression / Elastic Net**"
      ]
    },
    {
      "cell_type": "code",
      "execution_count": null,
      "metadata": {
        "id": "sesDp2itdu5f"
      },
      "outputs": [],
      "source": [
        "from sklearn.linear_model import ElasticNet"
      ]
    },
    {
      "cell_type": "code",
      "execution_count": null,
      "metadata": {
        "colab": {
          "background_save": true,
          "base_uri": "https://localhost:8080/"
        },
        "id": "fJ4X96RUeBgZ",
        "outputId": "2521b38e-01fa-4223-f594-4b8c6fbf648e"
      },
      "outputs": [
        {
          "name": "stderr",
          "output_type": "stream",
          "text": [
            "/usr/local/lib/python3.7/dist-packages/sklearn/linear_model/_coordinate_descent.py:648: ConvergenceWarning: Objective did not converge. You might want to increase the number of iterations, check the scale of the features or consider increasing regularisation. Duality gap: 3.179e+03, tolerance: 1.146e+03 Linear regression models with null weight for the l1 regularization term are more efficiently fitted using one of the solvers implemented in sklearn.linear_model.Ridge/RidgeCV instead.\n",
            "  coef_, l1_reg, l2_reg, X, y, max_iter, tol, rng, random, positive\n",
            "/usr/local/lib/python3.7/dist-packages/sklearn/linear_model/_coordinate_descent.py:648: ConvergenceWarning: Objective did not converge. You might want to increase the number of iterations, check the scale of the features or consider increasing regularisation. Duality gap: 2.819e+03, tolerance: 1.068e+03 Linear regression models with null weight for the l1 regularization term are more efficiently fitted using one of the solvers implemented in sklearn.linear_model.Ridge/RidgeCV instead.\n",
            "  coef_, l1_reg, l2_reg, X, y, max_iter, tol, rng, random, positive\n",
            "/usr/local/lib/python3.7/dist-packages/sklearn/linear_model/_coordinate_descent.py:648: ConvergenceWarning: Objective did not converge. You might want to increase the number of iterations, check the scale of the features or consider increasing regularisation. Duality gap: 2.680e+03, tolerance: 1.058e+03 Linear regression models with null weight for the l1 regularization term are more efficiently fitted using one of the solvers implemented in sklearn.linear_model.Ridge/RidgeCV instead.\n",
            "  coef_, l1_reg, l2_reg, X, y, max_iter, tol, rng, random, positive\n",
            "/usr/local/lib/python3.7/dist-packages/sklearn/linear_model/_coordinate_descent.py:648: ConvergenceWarning: Objective did not converge. You might want to increase the number of iterations, check the scale of the features or consider increasing regularisation. Duality gap: 2.691e+03, tolerance: 1.059e+03 Linear regression models with null weight for the l1 regularization term are more efficiently fitted using one of the solvers implemented in sklearn.linear_model.Ridge/RidgeCV instead.\n",
            "  coef_, l1_reg, l2_reg, X, y, max_iter, tol, rng, random, positive\n",
            "/usr/local/lib/python3.7/dist-packages/sklearn/linear_model/_coordinate_descent.py:648: ConvergenceWarning: Objective did not converge. You might want to increase the number of iterations, check the scale of the features or consider increasing regularisation. Duality gap: 2.813e+03, tolerance: 1.062e+03 Linear regression models with null weight for the l1 regularization term are more efficiently fitted using one of the solvers implemented in sklearn.linear_model.Ridge/RidgeCV instead.\n",
            "  coef_, l1_reg, l2_reg, X, y, max_iter, tol, rng, random, positive\n",
            "/usr/local/lib/python3.7/dist-packages/sklearn/linear_model/_coordinate_descent.py:648: ConvergenceWarning: Objective did not converge. You might want to increase the number of iterations, check the scale of the features or consider increasing regularisation. Duality gap: 3.179e+03, tolerance: 1.146e+02 Linear regression models with null weight for the l1 regularization term are more efficiently fitted using one of the solvers implemented in sklearn.linear_model.Ridge/RidgeCV instead.\n",
            "  coef_, l1_reg, l2_reg, X, y, max_iter, tol, rng, random, positive\n",
            "/usr/local/lib/python3.7/dist-packages/sklearn/linear_model/_coordinate_descent.py:648: ConvergenceWarning: Objective did not converge. You might want to increase the number of iterations, check the scale of the features or consider increasing regularisation. Duality gap: 2.819e+03, tolerance: 1.068e+02 Linear regression models with null weight for the l1 regularization term are more efficiently fitted using one of the solvers implemented in sklearn.linear_model.Ridge/RidgeCV instead.\n",
            "  coef_, l1_reg, l2_reg, X, y, max_iter, tol, rng, random, positive\n",
            "/usr/local/lib/python3.7/dist-packages/sklearn/linear_model/_coordinate_descent.py:648: ConvergenceWarning: Objective did not converge. You might want to increase the number of iterations, check the scale of the features or consider increasing regularisation. Duality gap: 2.680e+03, tolerance: 1.058e+02 Linear regression models with null weight for the l1 regularization term are more efficiently fitted using one of the solvers implemented in sklearn.linear_model.Ridge/RidgeCV instead.\n",
            "  coef_, l1_reg, l2_reg, X, y, max_iter, tol, rng, random, positive\n",
            "/usr/local/lib/python3.7/dist-packages/sklearn/linear_model/_coordinate_descent.py:648: ConvergenceWarning: Objective did not converge. You might want to increase the number of iterations, check the scale of the features or consider increasing regularisation. Duality gap: 2.691e+03, tolerance: 1.059e+02 Linear regression models with null weight for the l1 regularization term are more efficiently fitted using one of the solvers implemented in sklearn.linear_model.Ridge/RidgeCV instead.\n",
            "  coef_, l1_reg, l2_reg, X, y, max_iter, tol, rng, random, positive\n",
            "/usr/local/lib/python3.7/dist-packages/sklearn/linear_model/_coordinate_descent.py:648: ConvergenceWarning: Objective did not converge. You might want to increase the number of iterations, check the scale of the features or consider increasing regularisation. Duality gap: 2.813e+03, tolerance: 1.062e+02 Linear regression models with null weight for the l1 regularization term are more efficiently fitted using one of the solvers implemented in sklearn.linear_model.Ridge/RidgeCV instead.\n",
            "  coef_, l1_reg, l2_reg, X, y, max_iter, tol, rng, random, positive\n",
            "/usr/local/lib/python3.7/dist-packages/sklearn/linear_model/_coordinate_descent.py:648: ConvergenceWarning: Objective did not converge. You might want to increase the number of iterations, check the scale of the features or consider increasing regularisation. Duality gap: 3.179e+03, tolerance: 1.146e+01 Linear regression models with null weight for the l1 regularization term are more efficiently fitted using one of the solvers implemented in sklearn.linear_model.Ridge/RidgeCV instead.\n",
            "  coef_, l1_reg, l2_reg, X, y, max_iter, tol, rng, random, positive\n",
            "/usr/local/lib/python3.7/dist-packages/sklearn/linear_model/_coordinate_descent.py:648: ConvergenceWarning: Objective did not converge. You might want to increase the number of iterations, check the scale of the features or consider increasing regularisation. Duality gap: 2.819e+03, tolerance: 1.068e+01 Linear regression models with null weight for the l1 regularization term are more efficiently fitted using one of the solvers implemented in sklearn.linear_model.Ridge/RidgeCV instead.\n",
            "  coef_, l1_reg, l2_reg, X, y, max_iter, tol, rng, random, positive\n",
            "/usr/local/lib/python3.7/dist-packages/sklearn/linear_model/_coordinate_descent.py:648: ConvergenceWarning: Objective did not converge. You might want to increase the number of iterations, check the scale of the features or consider increasing regularisation. Duality gap: 2.680e+03, tolerance: 1.058e+01 Linear regression models with null weight for the l1 regularization term are more efficiently fitted using one of the solvers implemented in sklearn.linear_model.Ridge/RidgeCV instead.\n",
            "  coef_, l1_reg, l2_reg, X, y, max_iter, tol, rng, random, positive\n",
            "/usr/local/lib/python3.7/dist-packages/sklearn/linear_model/_coordinate_descent.py:648: ConvergenceWarning: Objective did not converge. You might want to increase the number of iterations, check the scale of the features or consider increasing regularisation. Duality gap: 2.691e+03, tolerance: 1.059e+01 Linear regression models with null weight for the l1 regularization term are more efficiently fitted using one of the solvers implemented in sklearn.linear_model.Ridge/RidgeCV instead.\n",
            "  coef_, l1_reg, l2_reg, X, y, max_iter, tol, rng, random, positive\n",
            "/usr/local/lib/python3.7/dist-packages/sklearn/linear_model/_coordinate_descent.py:648: ConvergenceWarning: Objective did not converge. You might want to increase the number of iterations, check the scale of the features or consider increasing regularisation. Duality gap: 2.813e+03, tolerance: 1.062e+01 Linear regression models with null weight for the l1 regularization term are more efficiently fitted using one of the solvers implemented in sklearn.linear_model.Ridge/RidgeCV instead.\n",
            "  coef_, l1_reg, l2_reg, X, y, max_iter, tol, rng, random, positive\n",
            "/usr/local/lib/python3.7/dist-packages/sklearn/linear_model/_coordinate_descent.py:648: ConvergenceWarning: Objective did not converge. You might want to increase the number of iterations, check the scale of the features or consider increasing regularisation. Duality gap: 3.179e+03, tolerance: 1.146e+00 Linear regression models with null weight for the l1 regularization term are more efficiently fitted using one of the solvers implemented in sklearn.linear_model.Ridge/RidgeCV instead.\n",
            "  coef_, l1_reg, l2_reg, X, y, max_iter, tol, rng, random, positive\n",
            "/usr/local/lib/python3.7/dist-packages/sklearn/linear_model/_coordinate_descent.py:648: ConvergenceWarning: Objective did not converge. You might want to increase the number of iterations, check the scale of the features or consider increasing regularisation. Duality gap: 2.819e+03, tolerance: 1.068e+00 Linear regression models with null weight for the l1 regularization term are more efficiently fitted using one of the solvers implemented in sklearn.linear_model.Ridge/RidgeCV instead.\n",
            "  coef_, l1_reg, l2_reg, X, y, max_iter, tol, rng, random, positive\n",
            "/usr/local/lib/python3.7/dist-packages/sklearn/linear_model/_coordinate_descent.py:648: ConvergenceWarning: Objective did not converge. You might want to increase the number of iterations, check the scale of the features or consider increasing regularisation. Duality gap: 2.680e+03, tolerance: 1.058e+00 Linear regression models with null weight for the l1 regularization term are more efficiently fitted using one of the solvers implemented in sklearn.linear_model.Ridge/RidgeCV instead.\n",
            "  coef_, l1_reg, l2_reg, X, y, max_iter, tol, rng, random, positive\n",
            "/usr/local/lib/python3.7/dist-packages/sklearn/linear_model/_coordinate_descent.py:648: ConvergenceWarning: Objective did not converge. You might want to increase the number of iterations, check the scale of the features or consider increasing regularisation. Duality gap: 2.691e+03, tolerance: 1.059e+00 Linear regression models with null weight for the l1 regularization term are more efficiently fitted using one of the solvers implemented in sklearn.linear_model.Ridge/RidgeCV instead.\n",
            "  coef_, l1_reg, l2_reg, X, y, max_iter, tol, rng, random, positive\n",
            "/usr/local/lib/python3.7/dist-packages/sklearn/linear_model/_coordinate_descent.py:648: ConvergenceWarning: Objective did not converge. You might want to increase the number of iterations, check the scale of the features or consider increasing regularisation. Duality gap: 2.813e+03, tolerance: 1.062e+00 Linear regression models with null weight for the l1 regularization term are more efficiently fitted using one of the solvers implemented in sklearn.linear_model.Ridge/RidgeCV instead.\n",
            "  coef_, l1_reg, l2_reg, X, y, max_iter, tol, rng, random, positive\n",
            "/usr/local/lib/python3.7/dist-packages/sklearn/linear_model/_coordinate_descent.py:648: ConvergenceWarning: Objective did not converge. You might want to increase the number of iterations, check the scale of the features or consider increasing regularisation. Duality gap: 2.177e+02, tolerance: 1.068e+02\n",
            "  coef_, l1_reg, l2_reg, X, y, max_iter, tol, rng, random, positive\n",
            "/usr/local/lib/python3.7/dist-packages/sklearn/linear_model/_coordinate_descent.py:648: ConvergenceWarning: Objective did not converge. You might want to increase the number of iterations, check the scale of the features or consider increasing regularisation. Duality gap: 1.599e+02, tolerance: 1.058e+02\n",
            "  coef_, l1_reg, l2_reg, X, y, max_iter, tol, rng, random, positive\n",
            "/usr/local/lib/python3.7/dist-packages/sklearn/linear_model/_coordinate_descent.py:648: ConvergenceWarning: Objective did not converge. You might want to increase the number of iterations, check the scale of the features or consider increasing regularisation. Duality gap: 1.043e+02, tolerance: 1.146e+01\n",
            "  coef_, l1_reg, l2_reg, X, y, max_iter, tol, rng, random, positive\n",
            "/usr/local/lib/python3.7/dist-packages/sklearn/linear_model/_coordinate_descent.py:648: ConvergenceWarning: Objective did not converge. You might want to increase the number of iterations, check the scale of the features or consider increasing regularisation. Duality gap: 2.177e+02, tolerance: 1.068e+01\n",
            "  coef_, l1_reg, l2_reg, X, y, max_iter, tol, rng, random, positive\n",
            "/usr/local/lib/python3.7/dist-packages/sklearn/linear_model/_coordinate_descent.py:648: ConvergenceWarning: Objective did not converge. You might want to increase the number of iterations, check the scale of the features or consider increasing regularisation. Duality gap: 1.599e+02, tolerance: 1.058e+01\n",
            "  coef_, l1_reg, l2_reg, X, y, max_iter, tol, rng, random, positive\n",
            "/usr/local/lib/python3.7/dist-packages/sklearn/linear_model/_coordinate_descent.py:648: ConvergenceWarning: Objective did not converge. You might want to increase the number of iterations, check the scale of the features or consider increasing regularisation. Duality gap: 9.210e+01, tolerance: 1.059e+01\n",
            "  coef_, l1_reg, l2_reg, X, y, max_iter, tol, rng, random, positive\n",
            "/usr/local/lib/python3.7/dist-packages/sklearn/linear_model/_coordinate_descent.py:648: ConvergenceWarning: Objective did not converge. You might want to increase the number of iterations, check the scale of the features or consider increasing regularisation. Duality gap: 8.830e+01, tolerance: 1.062e+01\n",
            "  coef_, l1_reg, l2_reg, X, y, max_iter, tol, rng, random, positive\n",
            "/usr/local/lib/python3.7/dist-packages/sklearn/linear_model/_coordinate_descent.py:648: ConvergenceWarning: Objective did not converge. You might want to increase the number of iterations, check the scale of the features or consider increasing regularisation. Duality gap: 1.043e+02, tolerance: 1.146e+00\n",
            "  coef_, l1_reg, l2_reg, X, y, max_iter, tol, rng, random, positive\n",
            "/usr/local/lib/python3.7/dist-packages/sklearn/linear_model/_coordinate_descent.py:648: ConvergenceWarning: Objective did not converge. You might want to increase the number of iterations, check the scale of the features or consider increasing regularisation. Duality gap: 2.177e+02, tolerance: 1.068e+00\n",
            "  coef_, l1_reg, l2_reg, X, y, max_iter, tol, rng, random, positive\n",
            "/usr/local/lib/python3.7/dist-packages/sklearn/linear_model/_coordinate_descent.py:648: ConvergenceWarning: Objective did not converge. You might want to increase the number of iterations, check the scale of the features or consider increasing regularisation. Duality gap: 1.599e+02, tolerance: 1.058e+00\n",
            "  coef_, l1_reg, l2_reg, X, y, max_iter, tol, rng, random, positive\n",
            "/usr/local/lib/python3.7/dist-packages/sklearn/linear_model/_coordinate_descent.py:648: ConvergenceWarning: Objective did not converge. You might want to increase the number of iterations, check the scale of the features or consider increasing regularisation. Duality gap: 9.210e+01, tolerance: 1.059e+00\n",
            "  coef_, l1_reg, l2_reg, X, y, max_iter, tol, rng, random, positive\n",
            "/usr/local/lib/python3.7/dist-packages/sklearn/linear_model/_coordinate_descent.py:648: ConvergenceWarning: Objective did not converge. You might want to increase the number of iterations, check the scale of the features or consider increasing regularisation. Duality gap: 8.830e+01, tolerance: 1.062e+00\n",
            "  coef_, l1_reg, l2_reg, X, y, max_iter, tol, rng, random, positive\n",
            "/usr/local/lib/python3.7/dist-packages/sklearn/linear_model/_coordinate_descent.py:648: ConvergenceWarning: Objective did not converge. You might want to increase the number of iterations, check the scale of the features or consider increasing regularisation. Duality gap: 5.710e+01, tolerance: 1.146e+01\n",
            "  coef_, l1_reg, l2_reg, X, y, max_iter, tol, rng, random, positive\n",
            "/usr/local/lib/python3.7/dist-packages/sklearn/linear_model/_coordinate_descent.py:648: ConvergenceWarning: Objective did not converge. You might want to increase the number of iterations, check the scale of the features or consider increasing regularisation. Duality gap: 9.703e+01, tolerance: 1.068e+01\n",
            "  coef_, l1_reg, l2_reg, X, y, max_iter, tol, rng, random, positive\n",
            "/usr/local/lib/python3.7/dist-packages/sklearn/linear_model/_coordinate_descent.py:648: ConvergenceWarning: Objective did not converge. You might want to increase the number of iterations, check the scale of the features or consider increasing regularisation. Duality gap: 6.572e+01, tolerance: 1.058e+01\n",
            "  coef_, l1_reg, l2_reg, X, y, max_iter, tol, rng, random, positive\n",
            "/usr/local/lib/python3.7/dist-packages/sklearn/linear_model/_coordinate_descent.py:648: ConvergenceWarning: Objective did not converge. You might want to increase the number of iterations, check the scale of the features or consider increasing regularisation. Duality gap: 5.617e+01, tolerance: 1.059e+01\n",
            "  coef_, l1_reg, l2_reg, X, y, max_iter, tol, rng, random, positive\n",
            "/usr/local/lib/python3.7/dist-packages/sklearn/linear_model/_coordinate_descent.py:648: ConvergenceWarning: Objective did not converge. You might want to increase the number of iterations, check the scale of the features or consider increasing regularisation. Duality gap: 3.374e+01, tolerance: 1.062e+01\n",
            "  coef_, l1_reg, l2_reg, X, y, max_iter, tol, rng, random, positive\n",
            "/usr/local/lib/python3.7/dist-packages/sklearn/linear_model/_coordinate_descent.py:648: ConvergenceWarning: Objective did not converge. You might want to increase the number of iterations, check the scale of the features or consider increasing regularisation. Duality gap: 5.710e+01, tolerance: 1.146e+00\n",
            "  coef_, l1_reg, l2_reg, X, y, max_iter, tol, rng, random, positive\n",
            "/usr/local/lib/python3.7/dist-packages/sklearn/linear_model/_coordinate_descent.py:648: ConvergenceWarning: Objective did not converge. You might want to increase the number of iterations, check the scale of the features or consider increasing regularisation. Duality gap: 9.703e+01, tolerance: 1.068e+00\n",
            "  coef_, l1_reg, l2_reg, X, y, max_iter, tol, rng, random, positive\n",
            "/usr/local/lib/python3.7/dist-packages/sklearn/linear_model/_coordinate_descent.py:648: ConvergenceWarning: Objective did not converge. You might want to increase the number of iterations, check the scale of the features or consider increasing regularisation. Duality gap: 6.572e+01, tolerance: 1.058e+00\n",
            "  coef_, l1_reg, l2_reg, X, y, max_iter, tol, rng, random, positive\n",
            "/usr/local/lib/python3.7/dist-packages/sklearn/linear_model/_coordinate_descent.py:648: ConvergenceWarning: Objective did not converge. You might want to increase the number of iterations, check the scale of the features or consider increasing regularisation. Duality gap: 5.617e+01, tolerance: 1.059e+00\n",
            "  coef_, l1_reg, l2_reg, X, y, max_iter, tol, rng, random, positive\n",
            "/usr/local/lib/python3.7/dist-packages/sklearn/linear_model/_coordinate_descent.py:648: ConvergenceWarning: Objective did not converge. You might want to increase the number of iterations, check the scale of the features or consider increasing regularisation. Duality gap: 3.374e+01, tolerance: 1.062e+00\n",
            "  coef_, l1_reg, l2_reg, X, y, max_iter, tol, rng, random, positive\n",
            "/usr/local/lib/python3.7/dist-packages/sklearn/linear_model/_coordinate_descent.py:648: ConvergenceWarning: Objective did not converge. You might want to increase the number of iterations, check the scale of the features or consider increasing regularisation. Duality gap: 6.304e+01, tolerance: 1.146e+01\n",
            "  coef_, l1_reg, l2_reg, X, y, max_iter, tol, rng, random, positive\n",
            "/usr/local/lib/python3.7/dist-packages/sklearn/linear_model/_coordinate_descent.py:648: ConvergenceWarning: Objective did not converge. You might want to increase the number of iterations, check the scale of the features or consider increasing regularisation. Duality gap: 6.577e+01, tolerance: 1.068e+01\n",
            "  coef_, l1_reg, l2_reg, X, y, max_iter, tol, rng, random, positive\n",
            "/usr/local/lib/python3.7/dist-packages/sklearn/linear_model/_coordinate_descent.py:648: ConvergenceWarning: Objective did not converge. You might want to increase the number of iterations, check the scale of the features or consider increasing regularisation. Duality gap: 4.972e+01, tolerance: 1.058e+01\n",
            "  coef_, l1_reg, l2_reg, X, y, max_iter, tol, rng, random, positive\n",
            "/usr/local/lib/python3.7/dist-packages/sklearn/linear_model/_coordinate_descent.py:648: ConvergenceWarning: Objective did not converge. You might want to increase the number of iterations, check the scale of the features or consider increasing regularisation. Duality gap: 5.836e+01, tolerance: 1.059e+01\n",
            "  coef_, l1_reg, l2_reg, X, y, max_iter, tol, rng, random, positive\n",
            "/usr/local/lib/python3.7/dist-packages/sklearn/linear_model/_coordinate_descent.py:648: ConvergenceWarning: Objective did not converge. You might want to increase the number of iterations, check the scale of the features or consider increasing regularisation. Duality gap: 1.917e+01, tolerance: 1.062e+01\n",
            "  coef_, l1_reg, l2_reg, X, y, max_iter, tol, rng, random, positive\n",
            "/usr/local/lib/python3.7/dist-packages/sklearn/linear_model/_coordinate_descent.py:648: ConvergenceWarning: Objective did not converge. You might want to increase the number of iterations, check the scale of the features or consider increasing regularisation. Duality gap: 6.304e+01, tolerance: 1.146e+00\n",
            "  coef_, l1_reg, l2_reg, X, y, max_iter, tol, rng, random, positive\n",
            "/usr/local/lib/python3.7/dist-packages/sklearn/linear_model/_coordinate_descent.py:648: ConvergenceWarning: Objective did not converge. You might want to increase the number of iterations, check the scale of the features or consider increasing regularisation. Duality gap: 6.577e+01, tolerance: 1.068e+00\n",
            "  coef_, l1_reg, l2_reg, X, y, max_iter, tol, rng, random, positive\n",
            "/usr/local/lib/python3.7/dist-packages/sklearn/linear_model/_coordinate_descent.py:648: ConvergenceWarning: Objective did not converge. You might want to increase the number of iterations, check the scale of the features or consider increasing regularisation. Duality gap: 4.972e+01, tolerance: 1.058e+00\n",
            "  coef_, l1_reg, l2_reg, X, y, max_iter, tol, rng, random, positive\n",
            "/usr/local/lib/python3.7/dist-packages/sklearn/linear_model/_coordinate_descent.py:648: ConvergenceWarning: Objective did not converge. You might want to increase the number of iterations, check the scale of the features or consider increasing regularisation. Duality gap: 5.836e+01, tolerance: 1.059e+00\n",
            "  coef_, l1_reg, l2_reg, X, y, max_iter, tol, rng, random, positive\n",
            "/usr/local/lib/python3.7/dist-packages/sklearn/linear_model/_coordinate_descent.py:648: ConvergenceWarning: Objective did not converge. You might want to increase the number of iterations, check the scale of the features or consider increasing regularisation. Duality gap: 1.917e+01, tolerance: 1.062e+00\n",
            "  coef_, l1_reg, l2_reg, X, y, max_iter, tol, rng, random, positive\n",
            "/usr/local/lib/python3.7/dist-packages/sklearn/linear_model/_coordinate_descent.py:648: ConvergenceWarning: Objective did not converge. You might want to increase the number of iterations, check the scale of the features or consider increasing regularisation. Duality gap: 8.432e+01, tolerance: 1.146e+01\n",
            "  coef_, l1_reg, l2_reg, X, y, max_iter, tol, rng, random, positive\n",
            "/usr/local/lib/python3.7/dist-packages/sklearn/linear_model/_coordinate_descent.py:648: ConvergenceWarning: Objective did not converge. You might want to increase the number of iterations, check the scale of the features or consider increasing regularisation. Duality gap: 7.395e+01, tolerance: 1.068e+01\n",
            "  coef_, l1_reg, l2_reg, X, y, max_iter, tol, rng, random, positive\n",
            "/usr/local/lib/python3.7/dist-packages/sklearn/linear_model/_coordinate_descent.py:648: ConvergenceWarning: Objective did not converge. You might want to increase the number of iterations, check the scale of the features or consider increasing regularisation. Duality gap: 4.443e+01, tolerance: 1.058e+01\n",
            "  coef_, l1_reg, l2_reg, X, y, max_iter, tol, rng, random, positive\n",
            "/usr/local/lib/python3.7/dist-packages/sklearn/linear_model/_coordinate_descent.py:648: ConvergenceWarning: Objective did not converge. You might want to increase the number of iterations, check the scale of the features or consider increasing regularisation. Duality gap: 4.259e+01, tolerance: 1.059e+01\n",
            "  coef_, l1_reg, l2_reg, X, y, max_iter, tol, rng, random, positive\n",
            "/usr/local/lib/python3.7/dist-packages/sklearn/linear_model/_coordinate_descent.py:648: ConvergenceWarning: Objective did not converge. You might want to increase the number of iterations, check the scale of the features or consider increasing regularisation. Duality gap: 2.776e+01, tolerance: 1.062e+01\n",
            "  coef_, l1_reg, l2_reg, X, y, max_iter, tol, rng, random, positive\n",
            "/usr/local/lib/python3.7/dist-packages/sklearn/linear_model/_coordinate_descent.py:648: ConvergenceWarning: Objective did not converge. You might want to increase the number of iterations, check the scale of the features or consider increasing regularisation. Duality gap: 8.432e+01, tolerance: 1.146e+00\n",
            "  coef_, l1_reg, l2_reg, X, y, max_iter, tol, rng, random, positive\n",
            "/usr/local/lib/python3.7/dist-packages/sklearn/linear_model/_coordinate_descent.py:648: ConvergenceWarning: Objective did not converge. You might want to increase the number of iterations, check the scale of the features or consider increasing regularisation. Duality gap: 7.395e+01, tolerance: 1.068e+00\n",
            "  coef_, l1_reg, l2_reg, X, y, max_iter, tol, rng, random, positive\n",
            "/usr/local/lib/python3.7/dist-packages/sklearn/linear_model/_coordinate_descent.py:648: ConvergenceWarning: Objective did not converge. You might want to increase the number of iterations, check the scale of the features or consider increasing regularisation. Duality gap: 4.443e+01, tolerance: 1.058e+00\n",
            "  coef_, l1_reg, l2_reg, X, y, max_iter, tol, rng, random, positive\n",
            "/usr/local/lib/python3.7/dist-packages/sklearn/linear_model/_coordinate_descent.py:648: ConvergenceWarning: Objective did not converge. You might want to increase the number of iterations, check the scale of the features or consider increasing regularisation. Duality gap: 4.259e+01, tolerance: 1.059e+00\n",
            "  coef_, l1_reg, l2_reg, X, y, max_iter, tol, rng, random, positive\n",
            "/usr/local/lib/python3.7/dist-packages/sklearn/linear_model/_coordinate_descent.py:648: ConvergenceWarning: Objective did not converge. You might want to increase the number of iterations, check the scale of the features or consider increasing regularisation. Duality gap: 2.776e+01, tolerance: 1.062e+00\n",
            "  coef_, l1_reg, l2_reg, X, y, max_iter, tol, rng, random, positive\n",
            "/usr/local/lib/python3.7/dist-packages/sklearn/linear_model/_coordinate_descent.py:648: ConvergenceWarning: Objective did not converge. You might want to increase the number of iterations, check the scale of the features or consider increasing regularisation. Duality gap: 1.143e+02, tolerance: 1.146e+01\n",
            "  coef_, l1_reg, l2_reg, X, y, max_iter, tol, rng, random, positive\n",
            "/usr/local/lib/python3.7/dist-packages/sklearn/linear_model/_coordinate_descent.py:648: ConvergenceWarning: Objective did not converge. You might want to increase the number of iterations, check the scale of the features or consider increasing regularisation. Duality gap: 1.001e+02, tolerance: 1.068e+01\n",
            "  coef_, l1_reg, l2_reg, X, y, max_iter, tol, rng, random, positive\n",
            "/usr/local/lib/python3.7/dist-packages/sklearn/linear_model/_coordinate_descent.py:648: ConvergenceWarning: Objective did not converge. You might want to increase the number of iterations, check the scale of the features or consider increasing regularisation. Duality gap: 6.509e+01, tolerance: 1.058e+01\n",
            "  coef_, l1_reg, l2_reg, X, y, max_iter, tol, rng, random, positive\n",
            "/usr/local/lib/python3.7/dist-packages/sklearn/linear_model/_coordinate_descent.py:648: ConvergenceWarning: Objective did not converge. You might want to increase the number of iterations, check the scale of the features or consider increasing regularisation. Duality gap: 7.029e+01, tolerance: 1.059e+01\n",
            "  coef_, l1_reg, l2_reg, X, y, max_iter, tol, rng, random, positive\n",
            "/usr/local/lib/python3.7/dist-packages/sklearn/linear_model/_coordinate_descent.py:648: ConvergenceWarning: Objective did not converge. You might want to increase the number of iterations, check the scale of the features or consider increasing regularisation. Duality gap: 5.597e+01, tolerance: 1.062e+01\n",
            "  coef_, l1_reg, l2_reg, X, y, max_iter, tol, rng, random, positive\n",
            "/usr/local/lib/python3.7/dist-packages/sklearn/linear_model/_coordinate_descent.py:648: ConvergenceWarning: Objective did not converge. You might want to increase the number of iterations, check the scale of the features or consider increasing regularisation. Duality gap: 1.143e+02, tolerance: 1.146e+00\n",
            "  coef_, l1_reg, l2_reg, X, y, max_iter, tol, rng, random, positive\n",
            "/usr/local/lib/python3.7/dist-packages/sklearn/linear_model/_coordinate_descent.py:648: ConvergenceWarning: Objective did not converge. You might want to increase the number of iterations, check the scale of the features or consider increasing regularisation. Duality gap: 1.001e+02, tolerance: 1.068e+00\n",
            "  coef_, l1_reg, l2_reg, X, y, max_iter, tol, rng, random, positive\n",
            "/usr/local/lib/python3.7/dist-packages/sklearn/linear_model/_coordinate_descent.py:648: ConvergenceWarning: Objective did not converge. You might want to increase the number of iterations, check the scale of the features or consider increasing regularisation. Duality gap: 6.509e+01, tolerance: 1.058e+00\n",
            "  coef_, l1_reg, l2_reg, X, y, max_iter, tol, rng, random, positive\n",
            "/usr/local/lib/python3.7/dist-packages/sklearn/linear_model/_coordinate_descent.py:648: ConvergenceWarning: Objective did not converge. You might want to increase the number of iterations, check the scale of the features or consider increasing regularisation. Duality gap: 7.029e+01, tolerance: 1.059e+00\n",
            "  coef_, l1_reg, l2_reg, X, y, max_iter, tol, rng, random, positive\n",
            "/usr/local/lib/python3.7/dist-packages/sklearn/linear_model/_coordinate_descent.py:648: ConvergenceWarning: Objective did not converge. You might want to increase the number of iterations, check the scale of the features or consider increasing regularisation. Duality gap: 5.597e+01, tolerance: 1.062e+00\n",
            "  coef_, l1_reg, l2_reg, X, y, max_iter, tol, rng, random, positive\n",
            "/usr/local/lib/python3.7/dist-packages/sklearn/linear_model/_coordinate_descent.py:648: ConvergenceWarning: Objective did not converge. You might want to increase the number of iterations, check the scale of the features or consider increasing regularisation. Duality gap: 1.544e+02, tolerance: 1.146e+02\n",
            "  coef_, l1_reg, l2_reg, X, y, max_iter, tol, rng, random, positive\n",
            "/usr/local/lib/python3.7/dist-packages/sklearn/linear_model/_coordinate_descent.py:648: ConvergenceWarning: Objective did not converge. You might want to increase the number of iterations, check the scale of the features or consider increasing regularisation. Duality gap: 1.354e+02, tolerance: 1.068e+02\n",
            "  coef_, l1_reg, l2_reg, X, y, max_iter, tol, rng, random, positive\n",
            "/usr/local/lib/python3.7/dist-packages/sklearn/linear_model/_coordinate_descent.py:648: ConvergenceWarning: Objective did not converge. You might want to increase the number of iterations, check the scale of the features or consider increasing regularisation. Duality gap: 1.074e+02, tolerance: 1.059e+02\n",
            "  coef_, l1_reg, l2_reg, X, y, max_iter, tol, rng, random, positive\n",
            "/usr/local/lib/python3.7/dist-packages/sklearn/linear_model/_coordinate_descent.py:648: ConvergenceWarning: Objective did not converge. You might want to increase the number of iterations, check the scale of the features or consider increasing regularisation. Duality gap: 1.544e+02, tolerance: 1.146e+01\n",
            "  coef_, l1_reg, l2_reg, X, y, max_iter, tol, rng, random, positive\n",
            "/usr/local/lib/python3.7/dist-packages/sklearn/linear_model/_coordinate_descent.py:648: ConvergenceWarning: Objective did not converge. You might want to increase the number of iterations, check the scale of the features or consider increasing regularisation. Duality gap: 1.354e+02, tolerance: 1.068e+01\n",
            "  coef_, l1_reg, l2_reg, X, y, max_iter, tol, rng, random, positive\n",
            "/usr/local/lib/python3.7/dist-packages/sklearn/linear_model/_coordinate_descent.py:648: ConvergenceWarning: Objective did not converge. You might want to increase the number of iterations, check the scale of the features or consider increasing regularisation. Duality gap: 1.018e+02, tolerance: 1.058e+01\n",
            "  coef_, l1_reg, l2_reg, X, y, max_iter, tol, rng, random, positive\n",
            "/usr/local/lib/python3.7/dist-packages/sklearn/linear_model/_coordinate_descent.py:648: ConvergenceWarning: Objective did not converge. You might want to increase the number of iterations, check the scale of the features or consider increasing regularisation. Duality gap: 1.074e+02, tolerance: 1.059e+01\n",
            "  coef_, l1_reg, l2_reg, X, y, max_iter, tol, rng, random, positive\n",
            "/usr/local/lib/python3.7/dist-packages/sklearn/linear_model/_coordinate_descent.py:648: ConvergenceWarning: Objective did not converge. You might want to increase the number of iterations, check the scale of the features or consider increasing regularisation. Duality gap: 9.473e+01, tolerance: 1.062e+01\n",
            "  coef_, l1_reg, l2_reg, X, y, max_iter, tol, rng, random, positive\n",
            "/usr/local/lib/python3.7/dist-packages/sklearn/linear_model/_coordinate_descent.py:648: ConvergenceWarning: Objective did not converge. You might want to increase the number of iterations, check the scale of the features or consider increasing regularisation. Duality gap: 1.544e+02, tolerance: 1.146e+00\n",
            "  coef_, l1_reg, l2_reg, X, y, max_iter, tol, rng, random, positive\n",
            "/usr/local/lib/python3.7/dist-packages/sklearn/linear_model/_coordinate_descent.py:648: ConvergenceWarning: Objective did not converge. You might want to increase the number of iterations, check the scale of the features or consider increasing regularisation. Duality gap: 1.354e+02, tolerance: 1.068e+00\n",
            "  coef_, l1_reg, l2_reg, X, y, max_iter, tol, rng, random, positive\n",
            "/usr/local/lib/python3.7/dist-packages/sklearn/linear_model/_coordinate_descent.py:648: ConvergenceWarning: Objective did not converge. You might want to increase the number of iterations, check the scale of the features or consider increasing regularisation. Duality gap: 1.018e+02, tolerance: 1.058e+00\n",
            "  coef_, l1_reg, l2_reg, X, y, max_iter, tol, rng, random, positive\n",
            "/usr/local/lib/python3.7/dist-packages/sklearn/linear_model/_coordinate_descent.py:648: ConvergenceWarning: Objective did not converge. You might want to increase the number of iterations, check the scale of the features or consider increasing regularisation. Duality gap: 1.074e+02, tolerance: 1.059e+00\n",
            "  coef_, l1_reg, l2_reg, X, y, max_iter, tol, rng, random, positive\n",
            "/usr/local/lib/python3.7/dist-packages/sklearn/linear_model/_coordinate_descent.py:648: ConvergenceWarning: Objective did not converge. You might want to increase the number of iterations, check the scale of the features or consider increasing regularisation. Duality gap: 9.473e+01, tolerance: 1.062e+00\n",
            "  coef_, l1_reg, l2_reg, X, y, max_iter, tol, rng, random, positive\n",
            "/usr/local/lib/python3.7/dist-packages/sklearn/linear_model/_coordinate_descent.py:648: ConvergenceWarning: Objective did not converge. You might want to increase the number of iterations, check the scale of the features or consider increasing regularisation. Duality gap: 1.502e+02, tolerance: 1.058e+02\n",
            "  coef_, l1_reg, l2_reg, X, y, max_iter, tol, rng, random, positive\n",
            "/usr/local/lib/python3.7/dist-packages/sklearn/linear_model/_coordinate_descent.py:648: ConvergenceWarning: Objective did not converge. You might want to increase the number of iterations, check the scale of the features or consider increasing regularisation. Duality gap: 1.561e+02, tolerance: 1.059e+02\n",
            "  coef_, l1_reg, l2_reg, X, y, max_iter, tol, rng, random, positive\n",
            "/usr/local/lib/python3.7/dist-packages/sklearn/linear_model/_coordinate_descent.py:648: ConvergenceWarning: Objective did not converge. You might want to increase the number of iterations, check the scale of the features or consider increasing regularisation. Duality gap: 1.466e+02, tolerance: 1.062e+02\n",
            "  coef_, l1_reg, l2_reg, X, y, max_iter, tol, rng, random, positive\n",
            "/usr/local/lib/python3.7/dist-packages/sklearn/linear_model/_coordinate_descent.py:648: ConvergenceWarning: Objective did not converge. You might want to increase the number of iterations, check the scale of the features or consider increasing regularisation. Duality gap: 2.520e+01, tolerance: 1.068e+01\n",
            "  coef_, l1_reg, l2_reg, X, y, max_iter, tol, rng, random, positive\n",
            "/usr/local/lib/python3.7/dist-packages/sklearn/linear_model/_coordinate_descent.py:648: ConvergenceWarning: Objective did not converge. You might want to increase the number of iterations, check the scale of the features or consider increasing regularisation. Duality gap: 1.502e+02, tolerance: 1.058e+01\n",
            "  coef_, l1_reg, l2_reg, X, y, max_iter, tol, rng, random, positive\n",
            "/usr/local/lib/python3.7/dist-packages/sklearn/linear_model/_coordinate_descent.py:648: ConvergenceWarning: Objective did not converge. You might want to increase the number of iterations, check the scale of the features or consider increasing regularisation. Duality gap: 1.561e+02, tolerance: 1.059e+01\n",
            "  coef_, l1_reg, l2_reg, X, y, max_iter, tol, rng, random, positive\n",
            "/usr/local/lib/python3.7/dist-packages/sklearn/linear_model/_coordinate_descent.py:648: ConvergenceWarning: Objective did not converge. You might want to increase the number of iterations, check the scale of the features or consider increasing regularisation. Duality gap: 1.466e+02, tolerance: 1.062e+01\n",
            "  coef_, l1_reg, l2_reg, X, y, max_iter, tol, rng, random, positive\n",
            "/usr/local/lib/python3.7/dist-packages/sklearn/linear_model/_coordinate_descent.py:648: ConvergenceWarning: Objective did not converge. You might want to increase the number of iterations, check the scale of the features or consider increasing regularisation. Duality gap: 2.346e+00, tolerance: 1.146e+00\n",
            "  coef_, l1_reg, l2_reg, X, y, max_iter, tol, rng, random, positive\n",
            "/usr/local/lib/python3.7/dist-packages/sklearn/linear_model/_coordinate_descent.py:648: ConvergenceWarning: Objective did not converge. You might want to increase the number of iterations, check the scale of the features or consider increasing regularisation. Duality gap: 2.520e+01, tolerance: 1.068e+00\n",
            "  coef_, l1_reg, l2_reg, X, y, max_iter, tol, rng, random, positive\n",
            "/usr/local/lib/python3.7/dist-packages/sklearn/linear_model/_coordinate_descent.py:648: ConvergenceWarning: Objective did not converge. You might want to increase the number of iterations, check the scale of the features or consider increasing regularisation. Duality gap: 1.502e+02, tolerance: 1.058e+00\n",
            "  coef_, l1_reg, l2_reg, X, y, max_iter, tol, rng, random, positive\n",
            "/usr/local/lib/python3.7/dist-packages/sklearn/linear_model/_coordinate_descent.py:648: ConvergenceWarning: Objective did not converge. You might want to increase the number of iterations, check the scale of the features or consider increasing regularisation. Duality gap: 1.561e+02, tolerance: 1.059e+00\n",
            "  coef_, l1_reg, l2_reg, X, y, max_iter, tol, rng, random, positive\n",
            "/usr/local/lib/python3.7/dist-packages/sklearn/linear_model/_coordinate_descent.py:648: ConvergenceWarning: Objective did not converge. You might want to increase the number of iterations, check the scale of the features or consider increasing regularisation. Duality gap: 1.466e+02, tolerance: 1.062e+00\n",
            "  coef_, l1_reg, l2_reg, X, y, max_iter, tol, rng, random, positive\n",
            "/usr/local/lib/python3.7/dist-packages/sklearn/linear_model/_coordinate_descent.py:648: ConvergenceWarning: Objective did not converge. You might want to increase the number of iterations, check the scale of the features or consider increasing regularisation. Duality gap: 1.506e+01, tolerance: 1.068e+01\n",
            "  coef_, l1_reg, l2_reg, X, y, max_iter, tol, rng, random, positive\n",
            "/usr/local/lib/python3.7/dist-packages/sklearn/linear_model/_coordinate_descent.py:648: ConvergenceWarning: Objective did not converge. You might want to increase the number of iterations, check the scale of the features or consider increasing regularisation. Duality gap: 2.786e+01, tolerance: 1.058e+01\n",
            "  coef_, l1_reg, l2_reg, X, y, max_iter, tol, rng, random, positive\n",
            "/usr/local/lib/python3.7/dist-packages/sklearn/linear_model/_coordinate_descent.py:648: ConvergenceWarning: Objective did not converge. You might want to increase the number of iterations, check the scale of the features or consider increasing regularisation. Duality gap: 4.528e+01, tolerance: 1.059e+01\n",
            "  coef_, l1_reg, l2_reg, X, y, max_iter, tol, rng, random, positive\n",
            "/usr/local/lib/python3.7/dist-packages/sklearn/linear_model/_coordinate_descent.py:648: ConvergenceWarning: Objective did not converge. You might want to increase the number of iterations, check the scale of the features or consider increasing regularisation. Duality gap: 1.548e+00, tolerance: 1.146e+00\n",
            "  coef_, l1_reg, l2_reg, X, y, max_iter, tol, rng, random, positive\n",
            "/usr/local/lib/python3.7/dist-packages/sklearn/linear_model/_coordinate_descent.py:648: ConvergenceWarning: Objective did not converge. You might want to increase the number of iterations, check the scale of the features or consider increasing regularisation. Duality gap: 1.506e+01, tolerance: 1.068e+00\n",
            "  coef_, l1_reg, l2_reg, X, y, max_iter, tol, rng, random, positive\n",
            "/usr/local/lib/python3.7/dist-packages/sklearn/linear_model/_coordinate_descent.py:648: ConvergenceWarning: Objective did not converge. You might want to increase the number of iterations, check the scale of the features or consider increasing regularisation. Duality gap: 2.786e+01, tolerance: 1.058e+00\n",
            "  coef_, l1_reg, l2_reg, X, y, max_iter, tol, rng, random, positive\n",
            "/usr/local/lib/python3.7/dist-packages/sklearn/linear_model/_coordinate_descent.py:648: ConvergenceWarning: Objective did not converge. You might want to increase the number of iterations, check the scale of the features or consider increasing regularisation. Duality gap: 4.528e+01, tolerance: 1.059e+00\n",
            "  coef_, l1_reg, l2_reg, X, y, max_iter, tol, rng, random, positive\n",
            "/usr/local/lib/python3.7/dist-packages/sklearn/linear_model/_coordinate_descent.py:648: ConvergenceWarning: Objective did not converge. You might want to increase the number of iterations, check the scale of the features or consider increasing regularisation. Duality gap: 1.805e+00, tolerance: 1.062e+00\n",
            "  coef_, l1_reg, l2_reg, X, y, max_iter, tol, rng, random, positive\n",
            "/usr/local/lib/python3.7/dist-packages/sklearn/linear_model/_coordinate_descent.py:648: ConvergenceWarning: Objective did not converge. You might want to increase the number of iterations, check the scale of the features or consider increasing regularisation. Duality gap: 1.330e+01, tolerance: 1.058e+01\n",
            "  coef_, l1_reg, l2_reg, X, y, max_iter, tol, rng, random, positive\n",
            "/usr/local/lib/python3.7/dist-packages/sklearn/linear_model/_coordinate_descent.py:648: ConvergenceWarning: Objective did not converge. You might want to increase the number of iterations, check the scale of the features or consider increasing regularisation. Duality gap: 6.105e+01, tolerance: 1.059e+01\n",
            "  coef_, l1_reg, l2_reg, X, y, max_iter, tol, rng, random, positive\n",
            "/usr/local/lib/python3.7/dist-packages/sklearn/linear_model/_coordinate_descent.py:648: ConvergenceWarning: Objective did not converge. You might want to increase the number of iterations, check the scale of the features or consider increasing regularisation. Duality gap: 5.410e+00, tolerance: 1.068e+00\n",
            "  coef_, l1_reg, l2_reg, X, y, max_iter, tol, rng, random, positive\n",
            "/usr/local/lib/python3.7/dist-packages/sklearn/linear_model/_coordinate_descent.py:648: ConvergenceWarning: Objective did not converge. You might want to increase the number of iterations, check the scale of the features or consider increasing regularisation. Duality gap: 1.330e+01, tolerance: 1.058e+00\n",
            "  coef_, l1_reg, l2_reg, X, y, max_iter, tol, rng, random, positive\n",
            "/usr/local/lib/python3.7/dist-packages/sklearn/linear_model/_coordinate_descent.py:648: ConvergenceWarning: Objective did not converge. You might want to increase the number of iterations, check the scale of the features or consider increasing regularisation. Duality gap: 6.105e+01, tolerance: 1.059e+00\n",
            "  coef_, l1_reg, l2_reg, X, y, max_iter, tol, rng, random, positive\n",
            "/usr/local/lib/python3.7/dist-packages/sklearn/linear_model/_coordinate_descent.py:648: ConvergenceWarning: Objective did not converge. You might want to increase the number of iterations, check the scale of the features or consider increasing regularisation. Duality gap: 3.218e+03, tolerance: 1.146e+03 Linear regression models with null weight for the l1 regularization term are more efficiently fitted using one of the solvers implemented in sklearn.linear_model.Ridge/RidgeCV instead.\n",
            "  coef_, l1_reg, l2_reg, X, y, max_iter, tol, rng, random, positive\n",
            "/usr/local/lib/python3.7/dist-packages/sklearn/linear_model/_coordinate_descent.py:648: ConvergenceWarning: Objective did not converge. You might want to increase the number of iterations, check the scale of the features or consider increasing regularisation. Duality gap: 2.858e+03, tolerance: 1.068e+03 Linear regression models with null weight for the l1 regularization term are more efficiently fitted using one of the solvers implemented in sklearn.linear_model.Ridge/RidgeCV instead.\n",
            "  coef_, l1_reg, l2_reg, X, y, max_iter, tol, rng, random, positive\n",
            "/usr/local/lib/python3.7/dist-packages/sklearn/linear_model/_coordinate_descent.py:648: ConvergenceWarning: Objective did not converge. You might want to increase the number of iterations, check the scale of the features or consider increasing regularisation. Duality gap: 2.721e+03, tolerance: 1.058e+03 Linear regression models with null weight for the l1 regularization term are more efficiently fitted using one of the solvers implemented in sklearn.linear_model.Ridge/RidgeCV instead.\n",
            "  coef_, l1_reg, l2_reg, X, y, max_iter, tol, rng, random, positive\n",
            "/usr/local/lib/python3.7/dist-packages/sklearn/linear_model/_coordinate_descent.py:648: ConvergenceWarning: Objective did not converge. You might want to increase the number of iterations, check the scale of the features or consider increasing regularisation. Duality gap: 2.730e+03, tolerance: 1.059e+03 Linear regression models with null weight for the l1 regularization term are more efficiently fitted using one of the solvers implemented in sklearn.linear_model.Ridge/RidgeCV instead.\n",
            "  coef_, l1_reg, l2_reg, X, y, max_iter, tol, rng, random, positive\n",
            "/usr/local/lib/python3.7/dist-packages/sklearn/linear_model/_coordinate_descent.py:648: ConvergenceWarning: Objective did not converge. You might want to increase the number of iterations, check the scale of the features or consider increasing regularisation. Duality gap: 2.853e+03, tolerance: 1.062e+03 Linear regression models with null weight for the l1 regularization term are more efficiently fitted using one of the solvers implemented in sklearn.linear_model.Ridge/RidgeCV instead.\n",
            "  coef_, l1_reg, l2_reg, X, y, max_iter, tol, rng, random, positive\n",
            "/usr/local/lib/python3.7/dist-packages/sklearn/linear_model/_coordinate_descent.py:648: ConvergenceWarning: Objective did not converge. You might want to increase the number of iterations, check the scale of the features or consider increasing regularisation. Duality gap: 3.218e+03, tolerance: 1.146e+02 Linear regression models with null weight for the l1 regularization term are more efficiently fitted using one of the solvers implemented in sklearn.linear_model.Ridge/RidgeCV instead.\n",
            "  coef_, l1_reg, l2_reg, X, y, max_iter, tol, rng, random, positive\n",
            "/usr/local/lib/python3.7/dist-packages/sklearn/linear_model/_coordinate_descent.py:648: ConvergenceWarning: Objective did not converge. You might want to increase the number of iterations, check the scale of the features or consider increasing regularisation. Duality gap: 2.858e+03, tolerance: 1.068e+02 Linear regression models with null weight for the l1 regularization term are more efficiently fitted using one of the solvers implemented in sklearn.linear_model.Ridge/RidgeCV instead.\n",
            "  coef_, l1_reg, l2_reg, X, y, max_iter, tol, rng, random, positive\n",
            "/usr/local/lib/python3.7/dist-packages/sklearn/linear_model/_coordinate_descent.py:648: ConvergenceWarning: Objective did not converge. You might want to increase the number of iterations, check the scale of the features or consider increasing regularisation. Duality gap: 2.721e+03, tolerance: 1.058e+02 Linear regression models with null weight for the l1 regularization term are more efficiently fitted using one of the solvers implemented in sklearn.linear_model.Ridge/RidgeCV instead.\n",
            "  coef_, l1_reg, l2_reg, X, y, max_iter, tol, rng, random, positive\n",
            "/usr/local/lib/python3.7/dist-packages/sklearn/linear_model/_coordinate_descent.py:648: ConvergenceWarning: Objective did not converge. You might want to increase the number of iterations, check the scale of the features or consider increasing regularisation. Duality gap: 2.730e+03, tolerance: 1.059e+02 Linear regression models with null weight for the l1 regularization term are more efficiently fitted using one of the solvers implemented in sklearn.linear_model.Ridge/RidgeCV instead.\n",
            "  coef_, l1_reg, l2_reg, X, y, max_iter, tol, rng, random, positive\n",
            "/usr/local/lib/python3.7/dist-packages/sklearn/linear_model/_coordinate_descent.py:648: ConvergenceWarning: Objective did not converge. You might want to increase the number of iterations, check the scale of the features or consider increasing regularisation. Duality gap: 2.853e+03, tolerance: 1.062e+02 Linear regression models with null weight for the l1 regularization term are more efficiently fitted using one of the solvers implemented in sklearn.linear_model.Ridge/RidgeCV instead.\n",
            "  coef_, l1_reg, l2_reg, X, y, max_iter, tol, rng, random, positive\n",
            "/usr/local/lib/python3.7/dist-packages/sklearn/linear_model/_coordinate_descent.py:648: ConvergenceWarning: Objective did not converge. You might want to increase the number of iterations, check the scale of the features or consider increasing regularisation. Duality gap: 3.218e+03, tolerance: 1.146e+01 Linear regression models with null weight for the l1 regularization term are more efficiently fitted using one of the solvers implemented in sklearn.linear_model.Ridge/RidgeCV instead.\n",
            "  coef_, l1_reg, l2_reg, X, y, max_iter, tol, rng, random, positive\n",
            "/usr/local/lib/python3.7/dist-packages/sklearn/linear_model/_coordinate_descent.py:648: ConvergenceWarning: Objective did not converge. You might want to increase the number of iterations, check the scale of the features or consider increasing regularisation. Duality gap: 2.858e+03, tolerance: 1.068e+01 Linear regression models with null weight for the l1 regularization term are more efficiently fitted using one of the solvers implemented in sklearn.linear_model.Ridge/RidgeCV instead.\n",
            "  coef_, l1_reg, l2_reg, X, y, max_iter, tol, rng, random, positive\n",
            "/usr/local/lib/python3.7/dist-packages/sklearn/linear_model/_coordinate_descent.py:648: ConvergenceWarning: Objective did not converge. You might want to increase the number of iterations, check the scale of the features or consider increasing regularisation. Duality gap: 2.721e+03, tolerance: 1.058e+01 Linear regression models with null weight for the l1 regularization term are more efficiently fitted using one of the solvers implemented in sklearn.linear_model.Ridge/RidgeCV instead.\n",
            "  coef_, l1_reg, l2_reg, X, y, max_iter, tol, rng, random, positive\n",
            "/usr/local/lib/python3.7/dist-packages/sklearn/linear_model/_coordinate_descent.py:648: ConvergenceWarning: Objective did not converge. You might want to increase the number of iterations, check the scale of the features or consider increasing regularisation. Duality gap: 2.730e+03, tolerance: 1.059e+01 Linear regression models with null weight for the l1 regularization term are more efficiently fitted using one of the solvers implemented in sklearn.linear_model.Ridge/RidgeCV instead.\n",
            "  coef_, l1_reg, l2_reg, X, y, max_iter, tol, rng, random, positive\n",
            "/usr/local/lib/python3.7/dist-packages/sklearn/linear_model/_coordinate_descent.py:648: ConvergenceWarning: Objective did not converge. You might want to increase the number of iterations, check the scale of the features or consider increasing regularisation. Duality gap: 2.853e+03, tolerance: 1.062e+01 Linear regression models with null weight for the l1 regularization term are more efficiently fitted using one of the solvers implemented in sklearn.linear_model.Ridge/RidgeCV instead.\n",
            "  coef_, l1_reg, l2_reg, X, y, max_iter, tol, rng, random, positive\n",
            "/usr/local/lib/python3.7/dist-packages/sklearn/linear_model/_coordinate_descent.py:648: ConvergenceWarning: Objective did not converge. You might want to increase the number of iterations, check the scale of the features or consider increasing regularisation. Duality gap: 3.218e+03, tolerance: 1.146e+00 Linear regression models with null weight for the l1 regularization term are more efficiently fitted using one of the solvers implemented in sklearn.linear_model.Ridge/RidgeCV instead.\n",
            "  coef_, l1_reg, l2_reg, X, y, max_iter, tol, rng, random, positive\n",
            "/usr/local/lib/python3.7/dist-packages/sklearn/linear_model/_coordinate_descent.py:648: ConvergenceWarning: Objective did not converge. You might want to increase the number of iterations, check the scale of the features or consider increasing regularisation. Duality gap: 2.858e+03, tolerance: 1.068e+00 Linear regression models with null weight for the l1 regularization term are more efficiently fitted using one of the solvers implemented in sklearn.linear_model.Ridge/RidgeCV instead.\n",
            "  coef_, l1_reg, l2_reg, X, y, max_iter, tol, rng, random, positive\n",
            "/usr/local/lib/python3.7/dist-packages/sklearn/linear_model/_coordinate_descent.py:648: ConvergenceWarning: Objective did not converge. You might want to increase the number of iterations, check the scale of the features or consider increasing regularisation. Duality gap: 2.721e+03, tolerance: 1.058e+00 Linear regression models with null weight for the l1 regularization term are more efficiently fitted using one of the solvers implemented in sklearn.linear_model.Ridge/RidgeCV instead.\n",
            "  coef_, l1_reg, l2_reg, X, y, max_iter, tol, rng, random, positive\n",
            "/usr/local/lib/python3.7/dist-packages/sklearn/linear_model/_coordinate_descent.py:648: ConvergenceWarning: Objective did not converge. You might want to increase the number of iterations, check the scale of the features or consider increasing regularisation. Duality gap: 2.730e+03, tolerance: 1.059e+00 Linear regression models with null weight for the l1 regularization term are more efficiently fitted using one of the solvers implemented in sklearn.linear_model.Ridge/RidgeCV instead.\n",
            "  coef_, l1_reg, l2_reg, X, y, max_iter, tol, rng, random, positive\n",
            "/usr/local/lib/python3.7/dist-packages/sklearn/linear_model/_coordinate_descent.py:648: ConvergenceWarning: Objective did not converge. You might want to increase the number of iterations, check the scale of the features or consider increasing regularisation. Duality gap: 2.853e+03, tolerance: 1.062e+00 Linear regression models with null weight for the l1 regularization term are more efficiently fitted using one of the solvers implemented in sklearn.linear_model.Ridge/RidgeCV instead.\n",
            "  coef_, l1_reg, l2_reg, X, y, max_iter, tol, rng, random, positive\n",
            "/usr/local/lib/python3.7/dist-packages/sklearn/linear_model/_coordinate_descent.py:648: ConvergenceWarning: Objective did not converge. You might want to increase the number of iterations, check the scale of the features or consider increasing regularisation. Duality gap: 3.384e+03, tolerance: 1.146e+03 Linear regression models with null weight for the l1 regularization term are more efficiently fitted using one of the solvers implemented in sklearn.linear_model.Ridge/RidgeCV instead.\n",
            "  coef_, l1_reg, l2_reg, X, y, max_iter, tol, rng, random, positive\n",
            "/usr/local/lib/python3.7/dist-packages/sklearn/linear_model/_coordinate_descent.py:648: ConvergenceWarning: Objective did not converge. You might want to increase the number of iterations, check the scale of the features or consider increasing regularisation. Duality gap: 3.021e+03, tolerance: 1.068e+03 Linear regression models with null weight for the l1 regularization term are more efficiently fitted using one of the solvers implemented in sklearn.linear_model.Ridge/RidgeCV instead.\n",
            "  coef_, l1_reg, l2_reg, X, y, max_iter, tol, rng, random, positive\n",
            "/usr/local/lib/python3.7/dist-packages/sklearn/linear_model/_coordinate_descent.py:648: ConvergenceWarning: Objective did not converge. You might want to increase the number of iterations, check the scale of the features or consider increasing regularisation. Duality gap: 2.892e+03, tolerance: 1.058e+03 Linear regression models with null weight for the l1 regularization term are more efficiently fitted using one of the solvers implemented in sklearn.linear_model.Ridge/RidgeCV instead.\n",
            "  coef_, l1_reg, l2_reg, X, y, max_iter, tol, rng, random, positive\n",
            "/usr/local/lib/python3.7/dist-packages/sklearn/linear_model/_coordinate_descent.py:648: ConvergenceWarning: Objective did not converge. You might want to increase the number of iterations, check the scale of the features or consider increasing regularisation. Duality gap: 2.902e+03, tolerance: 1.059e+03 Linear regression models with null weight for the l1 regularization term are more efficiently fitted using one of the solvers implemented in sklearn.linear_model.Ridge/RidgeCV instead.\n",
            "  coef_, l1_reg, l2_reg, X, y, max_iter, tol, rng, random, positive\n",
            "/usr/local/lib/python3.7/dist-packages/sklearn/linear_model/_coordinate_descent.py:648: ConvergenceWarning: Objective did not converge. You might want to increase the number of iterations, check the scale of the features or consider increasing regularisation. Duality gap: 3.019e+03, tolerance: 1.062e+03 Linear regression models with null weight for the l1 regularization term are more efficiently fitted using one of the solvers implemented in sklearn.linear_model.Ridge/RidgeCV instead.\n",
            "  coef_, l1_reg, l2_reg, X, y, max_iter, tol, rng, random, positive\n",
            "/usr/local/lib/python3.7/dist-packages/sklearn/linear_model/_coordinate_descent.py:648: ConvergenceWarning: Objective did not converge. You might want to increase the number of iterations, check the scale of the features or consider increasing regularisation. Duality gap: 3.384e+03, tolerance: 1.146e+02 Linear regression models with null weight for the l1 regularization term are more efficiently fitted using one of the solvers implemented in sklearn.linear_model.Ridge/RidgeCV instead.\n",
            "  coef_, l1_reg, l2_reg, X, y, max_iter, tol, rng, random, positive\n",
            "/usr/local/lib/python3.7/dist-packages/sklearn/linear_model/_coordinate_descent.py:648: ConvergenceWarning: Objective did not converge. You might want to increase the number of iterations, check the scale of the features or consider increasing regularisation. Duality gap: 3.021e+03, tolerance: 1.068e+02 Linear regression models with null weight for the l1 regularization term are more efficiently fitted using one of the solvers implemented in sklearn.linear_model.Ridge/RidgeCV instead.\n",
            "  coef_, l1_reg, l2_reg, X, y, max_iter, tol, rng, random, positive\n",
            "/usr/local/lib/python3.7/dist-packages/sklearn/linear_model/_coordinate_descent.py:648: ConvergenceWarning: Objective did not converge. You might want to increase the number of iterations, check the scale of the features or consider increasing regularisation. Duality gap: 2.892e+03, tolerance: 1.058e+02 Linear regression models with null weight for the l1 regularization term are more efficiently fitted using one of the solvers implemented in sklearn.linear_model.Ridge/RidgeCV instead.\n",
            "  coef_, l1_reg, l2_reg, X, y, max_iter, tol, rng, random, positive\n",
            "/usr/local/lib/python3.7/dist-packages/sklearn/linear_model/_coordinate_descent.py:648: ConvergenceWarning: Objective did not converge. You might want to increase the number of iterations, check the scale of the features or consider increasing regularisation. Duality gap: 2.902e+03, tolerance: 1.059e+02 Linear regression models with null weight for the l1 regularization term are more efficiently fitted using one of the solvers implemented in sklearn.linear_model.Ridge/RidgeCV instead.\n",
            "  coef_, l1_reg, l2_reg, X, y, max_iter, tol, rng, random, positive\n",
            "/usr/local/lib/python3.7/dist-packages/sklearn/linear_model/_coordinate_descent.py:648: ConvergenceWarning: Objective did not converge. You might want to increase the number of iterations, check the scale of the features or consider increasing regularisation. Duality gap: 3.019e+03, tolerance: 1.062e+02 Linear regression models with null weight for the l1 regularization term are more efficiently fitted using one of the solvers implemented in sklearn.linear_model.Ridge/RidgeCV instead.\n",
            "  coef_, l1_reg, l2_reg, X, y, max_iter, tol, rng, random, positive\n",
            "/usr/local/lib/python3.7/dist-packages/sklearn/linear_model/_coordinate_descent.py:648: ConvergenceWarning: Objective did not converge. You might want to increase the number of iterations, check the scale of the features or consider increasing regularisation. Duality gap: 3.384e+03, tolerance: 1.146e+01 Linear regression models with null weight for the l1 regularization term are more efficiently fitted using one of the solvers implemented in sklearn.linear_model.Ridge/RidgeCV instead.\n",
            "  coef_, l1_reg, l2_reg, X, y, max_iter, tol, rng, random, positive\n",
            "/usr/local/lib/python3.7/dist-packages/sklearn/linear_model/_coordinate_descent.py:648: ConvergenceWarning: Objective did not converge. You might want to increase the number of iterations, check the scale of the features or consider increasing regularisation. Duality gap: 3.021e+03, tolerance: 1.068e+01 Linear regression models with null weight for the l1 regularization term are more efficiently fitted using one of the solvers implemented in sklearn.linear_model.Ridge/RidgeCV instead.\n",
            "  coef_, l1_reg, l2_reg, X, y, max_iter, tol, rng, random, positive\n",
            "/usr/local/lib/python3.7/dist-packages/sklearn/linear_model/_coordinate_descent.py:648: ConvergenceWarning: Objective did not converge. You might want to increase the number of iterations, check the scale of the features or consider increasing regularisation. Duality gap: 2.892e+03, tolerance: 1.058e+01 Linear regression models with null weight for the l1 regularization term are more efficiently fitted using one of the solvers implemented in sklearn.linear_model.Ridge/RidgeCV instead.\n",
            "  coef_, l1_reg, l2_reg, X, y, max_iter, tol, rng, random, positive\n",
            "/usr/local/lib/python3.7/dist-packages/sklearn/linear_model/_coordinate_descent.py:648: ConvergenceWarning: Objective did not converge. You might want to increase the number of iterations, check the scale of the features or consider increasing regularisation. Duality gap: 2.902e+03, tolerance: 1.059e+01 Linear regression models with null weight for the l1 regularization term are more efficiently fitted using one of the solvers implemented in sklearn.linear_model.Ridge/RidgeCV instead.\n",
            "  coef_, l1_reg, l2_reg, X, y, max_iter, tol, rng, random, positive\n",
            "/usr/local/lib/python3.7/dist-packages/sklearn/linear_model/_coordinate_descent.py:648: ConvergenceWarning: Objective did not converge. You might want to increase the number of iterations, check the scale of the features or consider increasing regularisation. Duality gap: 3.019e+03, tolerance: 1.062e+01 Linear regression models with null weight for the l1 regularization term are more efficiently fitted using one of the solvers implemented in sklearn.linear_model.Ridge/RidgeCV instead.\n",
            "  coef_, l1_reg, l2_reg, X, y, max_iter, tol, rng, random, positive\n",
            "/usr/local/lib/python3.7/dist-packages/sklearn/linear_model/_coordinate_descent.py:648: ConvergenceWarning: Objective did not converge. You might want to increase the number of iterations, check the scale of the features or consider increasing regularisation. Duality gap: 3.384e+03, tolerance: 1.146e+00 Linear regression models with null weight for the l1 regularization term are more efficiently fitted using one of the solvers implemented in sklearn.linear_model.Ridge/RidgeCV instead.\n",
            "  coef_, l1_reg, l2_reg, X, y, max_iter, tol, rng, random, positive\n",
            "/usr/local/lib/python3.7/dist-packages/sklearn/linear_model/_coordinate_descent.py:648: ConvergenceWarning: Objective did not converge. You might want to increase the number of iterations, check the scale of the features or consider increasing regularisation. Duality gap: 3.021e+03, tolerance: 1.068e+00 Linear regression models with null weight for the l1 regularization term are more efficiently fitted using one of the solvers implemented in sklearn.linear_model.Ridge/RidgeCV instead.\n",
            "  coef_, l1_reg, l2_reg, X, y, max_iter, tol, rng, random, positive\n",
            "/usr/local/lib/python3.7/dist-packages/sklearn/linear_model/_coordinate_descent.py:648: ConvergenceWarning: Objective did not converge. You might want to increase the number of iterations, check the scale of the features or consider increasing regularisation. Duality gap: 2.892e+03, tolerance: 1.058e+00 Linear regression models with null weight for the l1 regularization term are more efficiently fitted using one of the solvers implemented in sklearn.linear_model.Ridge/RidgeCV instead.\n",
            "  coef_, l1_reg, l2_reg, X, y, max_iter, tol, rng, random, positive\n",
            "/usr/local/lib/python3.7/dist-packages/sklearn/linear_model/_coordinate_descent.py:648: ConvergenceWarning: Objective did not converge. You might want to increase the number of iterations, check the scale of the features or consider increasing regularisation. Duality gap: 2.902e+03, tolerance: 1.059e+00 Linear regression models with null weight for the l1 regularization term are more efficiently fitted using one of the solvers implemented in sklearn.linear_model.Ridge/RidgeCV instead.\n",
            "  coef_, l1_reg, l2_reg, X, y, max_iter, tol, rng, random, positive\n",
            "/usr/local/lib/python3.7/dist-packages/sklearn/linear_model/_coordinate_descent.py:648: ConvergenceWarning: Objective did not converge. You might want to increase the number of iterations, check the scale of the features or consider increasing regularisation. Duality gap: 3.019e+03, tolerance: 1.062e+00 Linear regression models with null weight for the l1 regularization term are more efficiently fitted using one of the solvers implemented in sklearn.linear_model.Ridge/RidgeCV instead.\n",
            "  coef_, l1_reg, l2_reg, X, y, max_iter, tol, rng, random, positive\n",
            "/usr/local/lib/python3.7/dist-packages/sklearn/linear_model/_coordinate_descent.py:648: ConvergenceWarning: Objective did not converge. You might want to increase the number of iterations, check the scale of the features or consider increasing regularisation. Duality gap: 3.764e+03, tolerance: 1.146e+03 Linear regression models with null weight for the l1 regularization term are more efficiently fitted using one of the solvers implemented in sklearn.linear_model.Ridge/RidgeCV instead.\n",
            "  coef_, l1_reg, l2_reg, X, y, max_iter, tol, rng, random, positive\n",
            "/usr/local/lib/python3.7/dist-packages/sklearn/linear_model/_coordinate_descent.py:648: ConvergenceWarning: Objective did not converge. You might want to increase the number of iterations, check the scale of the features or consider increasing regularisation. Duality gap: 3.394e+03, tolerance: 1.068e+03 Linear regression models with null weight for the l1 regularization term are more efficiently fitted using one of the solvers implemented in sklearn.linear_model.Ridge/RidgeCV instead.\n",
            "  coef_, l1_reg, l2_reg, X, y, max_iter, tol, rng, random, positive\n",
            "/usr/local/lib/python3.7/dist-packages/sklearn/linear_model/_coordinate_descent.py:648: ConvergenceWarning: Objective did not converge. You might want to increase the number of iterations, check the scale of the features or consider increasing regularisation. Duality gap: 3.283e+03, tolerance: 1.058e+03 Linear regression models with null weight for the l1 regularization term are more efficiently fitted using one of the solvers implemented in sklearn.linear_model.Ridge/RidgeCV instead.\n",
            "  coef_, l1_reg, l2_reg, X, y, max_iter, tol, rng, random, positive\n",
            "/usr/local/lib/python3.7/dist-packages/sklearn/linear_model/_coordinate_descent.py:648: ConvergenceWarning: Objective did not converge. You might want to increase the number of iterations, check the scale of the features or consider increasing regularisation. Duality gap: 3.311e+03, tolerance: 1.059e+03 Linear regression models with null weight for the l1 regularization term are more efficiently fitted using one of the solvers implemented in sklearn.linear_model.Ridge/RidgeCV instead.\n",
            "  coef_, l1_reg, l2_reg, X, y, max_iter, tol, rng, random, positive\n",
            "/usr/local/lib/python3.7/dist-packages/sklearn/linear_model/_coordinate_descent.py:648: ConvergenceWarning: Objective did not converge. You might want to increase the number of iterations, check the scale of the features or consider increasing regularisation. Duality gap: 3.404e+03, tolerance: 1.062e+03 Linear regression models with null weight for the l1 regularization term are more efficiently fitted using one of the solvers implemented in sklearn.linear_model.Ridge/RidgeCV instead.\n",
            "  coef_, l1_reg, l2_reg, X, y, max_iter, tol, rng, random, positive\n",
            "/usr/local/lib/python3.7/dist-packages/sklearn/linear_model/_coordinate_descent.py:648: ConvergenceWarning: Objective did not converge. You might want to increase the number of iterations, check the scale of the features or consider increasing regularisation. Duality gap: 3.764e+03, tolerance: 1.146e+02 Linear regression models with null weight for the l1 regularization term are more efficiently fitted using one of the solvers implemented in sklearn.linear_model.Ridge/RidgeCV instead.\n",
            "  coef_, l1_reg, l2_reg, X, y, max_iter, tol, rng, random, positive\n",
            "/usr/local/lib/python3.7/dist-packages/sklearn/linear_model/_coordinate_descent.py:648: ConvergenceWarning: Objective did not converge. You might want to increase the number of iterations, check the scale of the features or consider increasing regularisation. Duality gap: 3.394e+03, tolerance: 1.068e+02 Linear regression models with null weight for the l1 regularization term are more efficiently fitted using one of the solvers implemented in sklearn.linear_model.Ridge/RidgeCV instead.\n",
            "  coef_, l1_reg, l2_reg, X, y, max_iter, tol, rng, random, positive\n",
            "/usr/local/lib/python3.7/dist-packages/sklearn/linear_model/_coordinate_descent.py:648: ConvergenceWarning: Objective did not converge. You might want to increase the number of iterations, check the scale of the features or consider increasing regularisation. Duality gap: 3.283e+03, tolerance: 1.058e+02 Linear regression models with null weight for the l1 regularization term are more efficiently fitted using one of the solvers implemented in sklearn.linear_model.Ridge/RidgeCV instead.\n",
            "  coef_, l1_reg, l2_reg, X, y, max_iter, tol, rng, random, positive\n",
            "/usr/local/lib/python3.7/dist-packages/sklearn/linear_model/_coordinate_descent.py:648: ConvergenceWarning: Objective did not converge. You might want to increase the number of iterations, check the scale of the features or consider increasing regularisation. Duality gap: 3.311e+03, tolerance: 1.059e+02 Linear regression models with null weight for the l1 regularization term are more efficiently fitted using one of the solvers implemented in sklearn.linear_model.Ridge/RidgeCV instead.\n",
            "  coef_, l1_reg, l2_reg, X, y, max_iter, tol, rng, random, positive\n",
            "/usr/local/lib/python3.7/dist-packages/sklearn/linear_model/_coordinate_descent.py:648: ConvergenceWarning: Objective did not converge. You might want to increase the number of iterations, check the scale of the features or consider increasing regularisation. Duality gap: 3.404e+03, tolerance: 1.062e+02 Linear regression models with null weight for the l1 regularization term are more efficiently fitted using one of the solvers implemented in sklearn.linear_model.Ridge/RidgeCV instead.\n",
            "  coef_, l1_reg, l2_reg, X, y, max_iter, tol, rng, random, positive\n",
            "/usr/local/lib/python3.7/dist-packages/sklearn/linear_model/_coordinate_descent.py:648: ConvergenceWarning: Objective did not converge. You might want to increase the number of iterations, check the scale of the features or consider increasing regularisation. Duality gap: 3.764e+03, tolerance: 1.146e+01 Linear regression models with null weight for the l1 regularization term are more efficiently fitted using one of the solvers implemented in sklearn.linear_model.Ridge/RidgeCV instead.\n",
            "  coef_, l1_reg, l2_reg, X, y, max_iter, tol, rng, random, positive\n",
            "/usr/local/lib/python3.7/dist-packages/sklearn/linear_model/_coordinate_descent.py:648: ConvergenceWarning: Objective did not converge. You might want to increase the number of iterations, check the scale of the features or consider increasing regularisation. Duality gap: 3.394e+03, tolerance: 1.068e+01 Linear regression models with null weight for the l1 regularization term are more efficiently fitted using one of the solvers implemented in sklearn.linear_model.Ridge/RidgeCV instead.\n",
            "  coef_, l1_reg, l2_reg, X, y, max_iter, tol, rng, random, positive\n",
            "/usr/local/lib/python3.7/dist-packages/sklearn/linear_model/_coordinate_descent.py:648: ConvergenceWarning: Objective did not converge. You might want to increase the number of iterations, check the scale of the features or consider increasing regularisation. Duality gap: 3.283e+03, tolerance: 1.058e+01 Linear regression models with null weight for the l1 regularization term are more efficiently fitted using one of the solvers implemented in sklearn.linear_model.Ridge/RidgeCV instead.\n",
            "  coef_, l1_reg, l2_reg, X, y, max_iter, tol, rng, random, positive\n",
            "/usr/local/lib/python3.7/dist-packages/sklearn/linear_model/_coordinate_descent.py:648: ConvergenceWarning: Objective did not converge. You might want to increase the number of iterations, check the scale of the features or consider increasing regularisation. Duality gap: 3.311e+03, tolerance: 1.059e+01 Linear regression models with null weight for the l1 regularization term are more efficiently fitted using one of the solvers implemented in sklearn.linear_model.Ridge/RidgeCV instead.\n",
            "  coef_, l1_reg, l2_reg, X, y, max_iter, tol, rng, random, positive\n",
            "/usr/local/lib/python3.7/dist-packages/sklearn/linear_model/_coordinate_descent.py:648: ConvergenceWarning: Objective did not converge. You might want to increase the number of iterations, check the scale of the features or consider increasing regularisation. Duality gap: 3.404e+03, tolerance: 1.062e+01 Linear regression models with null weight for the l1 regularization term are more efficiently fitted using one of the solvers implemented in sklearn.linear_model.Ridge/RidgeCV instead.\n",
            "  coef_, l1_reg, l2_reg, X, y, max_iter, tol, rng, random, positive\n",
            "/usr/local/lib/python3.7/dist-packages/sklearn/linear_model/_coordinate_descent.py:648: ConvergenceWarning: Objective did not converge. You might want to increase the number of iterations, check the scale of the features or consider increasing regularisation. Duality gap: 3.764e+03, tolerance: 1.146e+00 Linear regression models with null weight for the l1 regularization term are more efficiently fitted using one of the solvers implemented in sklearn.linear_model.Ridge/RidgeCV instead.\n",
            "  coef_, l1_reg, l2_reg, X, y, max_iter, tol, rng, random, positive\n",
            "/usr/local/lib/python3.7/dist-packages/sklearn/linear_model/_coordinate_descent.py:648: ConvergenceWarning: Objective did not converge. You might want to increase the number of iterations, check the scale of the features or consider increasing regularisation. Duality gap: 3.394e+03, tolerance: 1.068e+00 Linear regression models with null weight for the l1 regularization term are more efficiently fitted using one of the solvers implemented in sklearn.linear_model.Ridge/RidgeCV instead.\n",
            "  coef_, l1_reg, l2_reg, X, y, max_iter, tol, rng, random, positive\n",
            "/usr/local/lib/python3.7/dist-packages/sklearn/linear_model/_coordinate_descent.py:648: ConvergenceWarning: Objective did not converge. You might want to increase the number of iterations, check the scale of the features or consider increasing regularisation. Duality gap: 3.283e+03, tolerance: 1.058e+00 Linear regression models with null weight for the l1 regularization term are more efficiently fitted using one of the solvers implemented in sklearn.linear_model.Ridge/RidgeCV instead.\n",
            "  coef_, l1_reg, l2_reg, X, y, max_iter, tol, rng, random, positive\n",
            "/usr/local/lib/python3.7/dist-packages/sklearn/linear_model/_coordinate_descent.py:648: ConvergenceWarning: Objective did not converge. You might want to increase the number of iterations, check the scale of the features or consider increasing regularisation. Duality gap: 3.311e+03, tolerance: 1.059e+00 Linear regression models with null weight for the l1 regularization term are more efficiently fitted using one of the solvers implemented in sklearn.linear_model.Ridge/RidgeCV instead.\n",
            "  coef_, l1_reg, l2_reg, X, y, max_iter, tol, rng, random, positive\n",
            "/usr/local/lib/python3.7/dist-packages/sklearn/linear_model/_coordinate_descent.py:648: ConvergenceWarning: Objective did not converge. You might want to increase the number of iterations, check the scale of the features or consider increasing regularisation. Duality gap: 3.404e+03, tolerance: 1.062e+00 Linear regression models with null weight for the l1 regularization term are more efficiently fitted using one of the solvers implemented in sklearn.linear_model.Ridge/RidgeCV instead.\n",
            "  coef_, l1_reg, l2_reg, X, y, max_iter, tol, rng, random, positive\n",
            "/usr/local/lib/python3.7/dist-packages/sklearn/linear_model/_coordinate_descent.py:648: ConvergenceWarning: Objective did not converge. You might want to increase the number of iterations, check the scale of the features or consider increasing regularisation. Duality gap: 4.519e+03, tolerance: 1.146e+03 Linear regression models with null weight for the l1 regularization term are more efficiently fitted using one of the solvers implemented in sklearn.linear_model.Ridge/RidgeCV instead.\n",
            "  coef_, l1_reg, l2_reg, X, y, max_iter, tol, rng, random, positive\n",
            "/usr/local/lib/python3.7/dist-packages/sklearn/linear_model/_coordinate_descent.py:648: ConvergenceWarning: Objective did not converge. You might want to increase the number of iterations, check the scale of the features or consider increasing regularisation. Duality gap: 4.149e+03, tolerance: 1.068e+03 Linear regression models with null weight for the l1 regularization term are more efficiently fitted using one of the solvers implemented in sklearn.linear_model.Ridge/RidgeCV instead.\n",
            "  coef_, l1_reg, l2_reg, X, y, max_iter, tol, rng, random, positive\n",
            "/usr/local/lib/python3.7/dist-packages/sklearn/linear_model/_coordinate_descent.py:648: ConvergenceWarning: Objective did not converge. You might want to increase the number of iterations, check the scale of the features or consider increasing regularisation. Duality gap: 4.081e+03, tolerance: 1.058e+03 Linear regression models with null weight for the l1 regularization term are more efficiently fitted using one of the solvers implemented in sklearn.linear_model.Ridge/RidgeCV instead.\n",
            "  coef_, l1_reg, l2_reg, X, y, max_iter, tol, rng, random, positive\n",
            "/usr/local/lib/python3.7/dist-packages/sklearn/linear_model/_coordinate_descent.py:648: ConvergenceWarning: Objective did not converge. You might want to increase the number of iterations, check the scale of the features or consider increasing regularisation. Duality gap: 4.093e+03, tolerance: 1.059e+03 Linear regression models with null weight for the l1 regularization term are more efficiently fitted using one of the solvers implemented in sklearn.linear_model.Ridge/RidgeCV instead.\n",
            "  coef_, l1_reg, l2_reg, X, y, max_iter, tol, rng, random, positive\n",
            "/usr/local/lib/python3.7/dist-packages/sklearn/linear_model/_coordinate_descent.py:648: ConvergenceWarning: Objective did not converge. You might want to increase the number of iterations, check the scale of the features or consider increasing regularisation. Duality gap: 4.145e+03, tolerance: 1.062e+03 Linear regression models with null weight for the l1 regularization term are more efficiently fitted using one of the solvers implemented in sklearn.linear_model.Ridge/RidgeCV instead.\n",
            "  coef_, l1_reg, l2_reg, X, y, max_iter, tol, rng, random, positive\n",
            "/usr/local/lib/python3.7/dist-packages/sklearn/linear_model/_coordinate_descent.py:648: ConvergenceWarning: Objective did not converge. You might want to increase the number of iterations, check the scale of the features or consider increasing regularisation. Duality gap: 4.519e+03, tolerance: 1.146e+02 Linear regression models with null weight for the l1 regularization term are more efficiently fitted using one of the solvers implemented in sklearn.linear_model.Ridge/RidgeCV instead.\n",
            "  coef_, l1_reg, l2_reg, X, y, max_iter, tol, rng, random, positive\n",
            "/usr/local/lib/python3.7/dist-packages/sklearn/linear_model/_coordinate_descent.py:648: ConvergenceWarning: Objective did not converge. You might want to increase the number of iterations, check the scale of the features or consider increasing regularisation. Duality gap: 4.149e+03, tolerance: 1.068e+02 Linear regression models with null weight for the l1 regularization term are more efficiently fitted using one of the solvers implemented in sklearn.linear_model.Ridge/RidgeCV instead.\n",
            "  coef_, l1_reg, l2_reg, X, y, max_iter, tol, rng, random, positive\n",
            "/usr/local/lib/python3.7/dist-packages/sklearn/linear_model/_coordinate_descent.py:648: ConvergenceWarning: Objective did not converge. You might want to increase the number of iterations, check the scale of the features or consider increasing regularisation. Duality gap: 4.081e+03, tolerance: 1.058e+02 Linear regression models with null weight for the l1 regularization term are more efficiently fitted using one of the solvers implemented in sklearn.linear_model.Ridge/RidgeCV instead.\n",
            "  coef_, l1_reg, l2_reg, X, y, max_iter, tol, rng, random, positive\n",
            "/usr/local/lib/python3.7/dist-packages/sklearn/linear_model/_coordinate_descent.py:648: ConvergenceWarning: Objective did not converge. You might want to increase the number of iterations, check the scale of the features or consider increasing regularisation. Duality gap: 4.093e+03, tolerance: 1.059e+02 Linear regression models with null weight for the l1 regularization term are more efficiently fitted using one of the solvers implemented in sklearn.linear_model.Ridge/RidgeCV instead.\n",
            "  coef_, l1_reg, l2_reg, X, y, max_iter, tol, rng, random, positive\n",
            "/usr/local/lib/python3.7/dist-packages/sklearn/linear_model/_coordinate_descent.py:648: ConvergenceWarning: Objective did not converge. You might want to increase the number of iterations, check the scale of the features or consider increasing regularisation. Duality gap: 4.145e+03, tolerance: 1.062e+02 Linear regression models with null weight for the l1 regularization term are more efficiently fitted using one of the solvers implemented in sklearn.linear_model.Ridge/RidgeCV instead.\n",
            "  coef_, l1_reg, l2_reg, X, y, max_iter, tol, rng, random, positive\n",
            "/usr/local/lib/python3.7/dist-packages/sklearn/linear_model/_coordinate_descent.py:648: ConvergenceWarning: Objective did not converge. You might want to increase the number of iterations, check the scale of the features or consider increasing regularisation. Duality gap: 4.519e+03, tolerance: 1.146e+01 Linear regression models with null weight for the l1 regularization term are more efficiently fitted using one of the solvers implemented in sklearn.linear_model.Ridge/RidgeCV instead.\n",
            "  coef_, l1_reg, l2_reg, X, y, max_iter, tol, rng, random, positive\n",
            "/usr/local/lib/python3.7/dist-packages/sklearn/linear_model/_coordinate_descent.py:648: ConvergenceWarning: Objective did not converge. You might want to increase the number of iterations, check the scale of the features or consider increasing regularisation. Duality gap: 4.149e+03, tolerance: 1.068e+01 Linear regression models with null weight for the l1 regularization term are more efficiently fitted using one of the solvers implemented in sklearn.linear_model.Ridge/RidgeCV instead.\n",
            "  coef_, l1_reg, l2_reg, X, y, max_iter, tol, rng, random, positive\n",
            "/usr/local/lib/python3.7/dist-packages/sklearn/linear_model/_coordinate_descent.py:648: ConvergenceWarning: Objective did not converge. You might want to increase the number of iterations, check the scale of the features or consider increasing regularisation. Duality gap: 4.081e+03, tolerance: 1.058e+01 Linear regression models with null weight for the l1 regularization term are more efficiently fitted using one of the solvers implemented in sklearn.linear_model.Ridge/RidgeCV instead.\n",
            "  coef_, l1_reg, l2_reg, X, y, max_iter, tol, rng, random, positive\n",
            "/usr/local/lib/python3.7/dist-packages/sklearn/linear_model/_coordinate_descent.py:648: ConvergenceWarning: Objective did not converge. You might want to increase the number of iterations, check the scale of the features or consider increasing regularisation. Duality gap: 4.093e+03, tolerance: 1.059e+01 Linear regression models with null weight for the l1 regularization term are more efficiently fitted using one of the solvers implemented in sklearn.linear_model.Ridge/RidgeCV instead.\n",
            "  coef_, l1_reg, l2_reg, X, y, max_iter, tol, rng, random, positive\n",
            "/usr/local/lib/python3.7/dist-packages/sklearn/linear_model/_coordinate_descent.py:648: ConvergenceWarning: Objective did not converge. You might want to increase the number of iterations, check the scale of the features or consider increasing regularisation. Duality gap: 4.145e+03, tolerance: 1.062e+01 Linear regression models with null weight for the l1 regularization term are more efficiently fitted using one of the solvers implemented in sklearn.linear_model.Ridge/RidgeCV instead.\n",
            "  coef_, l1_reg, l2_reg, X, y, max_iter, tol, rng, random, positive\n",
            "/usr/local/lib/python3.7/dist-packages/sklearn/linear_model/_coordinate_descent.py:648: ConvergenceWarning: Objective did not converge. You might want to increase the number of iterations, check the scale of the features or consider increasing regularisation. Duality gap: 4.519e+03, tolerance: 1.146e+00 Linear regression models with null weight for the l1 regularization term are more efficiently fitted using one of the solvers implemented in sklearn.linear_model.Ridge/RidgeCV instead.\n",
            "  coef_, l1_reg, l2_reg, X, y, max_iter, tol, rng, random, positive\n",
            "/usr/local/lib/python3.7/dist-packages/sklearn/linear_model/_coordinate_descent.py:648: ConvergenceWarning: Objective did not converge. You might want to increase the number of iterations, check the scale of the features or consider increasing regularisation. Duality gap: 4.149e+03, tolerance: 1.068e+00 Linear regression models with null weight for the l1 regularization term are more efficiently fitted using one of the solvers implemented in sklearn.linear_model.Ridge/RidgeCV instead.\n",
            "  coef_, l1_reg, l2_reg, X, y, max_iter, tol, rng, random, positive\n",
            "/usr/local/lib/python3.7/dist-packages/sklearn/linear_model/_coordinate_descent.py:648: ConvergenceWarning: Objective did not converge. You might want to increase the number of iterations, check the scale of the features or consider increasing regularisation. Duality gap: 4.081e+03, tolerance: 1.058e+00 Linear regression models with null weight for the l1 regularization term are more efficiently fitted using one of the solvers implemented in sklearn.linear_model.Ridge/RidgeCV instead.\n",
            "  coef_, l1_reg, l2_reg, X, y, max_iter, tol, rng, random, positive\n",
            "/usr/local/lib/python3.7/dist-packages/sklearn/linear_model/_coordinate_descent.py:648: ConvergenceWarning: Objective did not converge. You might want to increase the number of iterations, check the scale of the features or consider increasing regularisation. Duality gap: 4.093e+03, tolerance: 1.059e+00 Linear regression models with null weight for the l1 regularization term are more efficiently fitted using one of the solvers implemented in sklearn.linear_model.Ridge/RidgeCV instead.\n",
            "  coef_, l1_reg, l2_reg, X, y, max_iter, tol, rng, random, positive\n",
            "/usr/local/lib/python3.7/dist-packages/sklearn/linear_model/_coordinate_descent.py:648: ConvergenceWarning: Objective did not converge. You might want to increase the number of iterations, check the scale of the features or consider increasing regularisation. Duality gap: 4.145e+03, tolerance: 1.062e+00 Linear regression models with null weight for the l1 regularization term are more efficiently fitted using one of the solvers implemented in sklearn.linear_model.Ridge/RidgeCV instead.\n",
            "  coef_, l1_reg, l2_reg, X, y, max_iter, tol, rng, random, positive\n",
            "/usr/local/lib/python3.7/dist-packages/sklearn/linear_model/_coordinate_descent.py:648: ConvergenceWarning: Objective did not converge. You might want to increase the number of iterations, check the scale of the features or consider increasing regularisation. Duality gap: 5.427e+03, tolerance: 1.146e+03 Linear regression models with null weight for the l1 regularization term are more efficiently fitted using one of the solvers implemented in sklearn.linear_model.Ridge/RidgeCV instead.\n",
            "  coef_, l1_reg, l2_reg, X, y, max_iter, tol, rng, random, positive\n",
            "/usr/local/lib/python3.7/dist-packages/sklearn/linear_model/_coordinate_descent.py:648: ConvergenceWarning: Objective did not converge. You might want to increase the number of iterations, check the scale of the features or consider increasing regularisation. Duality gap: 5.048e+03, tolerance: 1.068e+03 Linear regression models with null weight for the l1 regularization term are more efficiently fitted using one of the solvers implemented in sklearn.linear_model.Ridge/RidgeCV instead.\n",
            "  coef_, l1_reg, l2_reg, X, y, max_iter, tol, rng, random, positive\n",
            "/usr/local/lib/python3.7/dist-packages/sklearn/linear_model/_coordinate_descent.py:648: ConvergenceWarning: Objective did not converge. You might want to increase the number of iterations, check the scale of the features or consider increasing regularisation. Duality gap: 5.003e+03, tolerance: 1.058e+03 Linear regression models with null weight for the l1 regularization term are more efficiently fitted using one of the solvers implemented in sklearn.linear_model.Ridge/RidgeCV instead.\n",
            "  coef_, l1_reg, l2_reg, X, y, max_iter, tol, rng, random, positive\n",
            "/usr/local/lib/python3.7/dist-packages/sklearn/linear_model/_coordinate_descent.py:648: ConvergenceWarning: Objective did not converge. You might want to increase the number of iterations, check the scale of the features or consider increasing regularisation. Duality gap: 5.003e+03, tolerance: 1.059e+03 Linear regression models with null weight for the l1 regularization term are more efficiently fitted using one of the solvers implemented in sklearn.linear_model.Ridge/RidgeCV instead.\n",
            "  coef_, l1_reg, l2_reg, X, y, max_iter, tol, rng, random, positive\n",
            "/usr/local/lib/python3.7/dist-packages/sklearn/linear_model/_coordinate_descent.py:648: ConvergenceWarning: Objective did not converge. You might want to increase the number of iterations, check the scale of the features or consider increasing regularisation. Duality gap: 5.019e+03, tolerance: 1.062e+03 Linear regression models with null weight for the l1 regularization term are more efficiently fitted using one of the solvers implemented in sklearn.linear_model.Ridge/RidgeCV instead.\n",
            "  coef_, l1_reg, l2_reg, X, y, max_iter, tol, rng, random, positive\n",
            "/usr/local/lib/python3.7/dist-packages/sklearn/linear_model/_coordinate_descent.py:648: ConvergenceWarning: Objective did not converge. You might want to increase the number of iterations, check the scale of the features or consider increasing regularisation. Duality gap: 5.427e+03, tolerance: 1.146e+02 Linear regression models with null weight for the l1 regularization term are more efficiently fitted using one of the solvers implemented in sklearn.linear_model.Ridge/RidgeCV instead.\n",
            "  coef_, l1_reg, l2_reg, X, y, max_iter, tol, rng, random, positive\n",
            "/usr/local/lib/python3.7/dist-packages/sklearn/linear_model/_coordinate_descent.py:648: ConvergenceWarning: Objective did not converge. You might want to increase the number of iterations, check the scale of the features or consider increasing regularisation. Duality gap: 5.048e+03, tolerance: 1.068e+02 Linear regression models with null weight for the l1 regularization term are more efficiently fitted using one of the solvers implemented in sklearn.linear_model.Ridge/RidgeCV instead.\n",
            "  coef_, l1_reg, l2_reg, X, y, max_iter, tol, rng, random, positive\n",
            "/usr/local/lib/python3.7/dist-packages/sklearn/linear_model/_coordinate_descent.py:648: ConvergenceWarning: Objective did not converge. You might want to increase the number of iterations, check the scale of the features or consider increasing regularisation. Duality gap: 5.003e+03, tolerance: 1.058e+02 Linear regression models with null weight for the l1 regularization term are more efficiently fitted using one of the solvers implemented in sklearn.linear_model.Ridge/RidgeCV instead.\n",
            "  coef_, l1_reg, l2_reg, X, y, max_iter, tol, rng, random, positive\n",
            "/usr/local/lib/python3.7/dist-packages/sklearn/linear_model/_coordinate_descent.py:648: ConvergenceWarning: Objective did not converge. You might want to increase the number of iterations, check the scale of the features or consider increasing regularisation. Duality gap: 5.003e+03, tolerance: 1.059e+02 Linear regression models with null weight for the l1 regularization term are more efficiently fitted using one of the solvers implemented in sklearn.linear_model.Ridge/RidgeCV instead.\n",
            "  coef_, l1_reg, l2_reg, X, y, max_iter, tol, rng, random, positive\n",
            "/usr/local/lib/python3.7/dist-packages/sklearn/linear_model/_coordinate_descent.py:648: ConvergenceWarning: Objective did not converge. You might want to increase the number of iterations, check the scale of the features or consider increasing regularisation. Duality gap: 5.019e+03, tolerance: 1.062e+02 Linear regression models with null weight for the l1 regularization term are more efficiently fitted using one of the solvers implemented in sklearn.linear_model.Ridge/RidgeCV instead.\n",
            "  coef_, l1_reg, l2_reg, X, y, max_iter, tol, rng, random, positive\n",
            "/usr/local/lib/python3.7/dist-packages/sklearn/linear_model/_coordinate_descent.py:648: ConvergenceWarning: Objective did not converge. You might want to increase the number of iterations, check the scale of the features or consider increasing regularisation. Duality gap: 5.427e+03, tolerance: 1.146e+01 Linear regression models with null weight for the l1 regularization term are more efficiently fitted using one of the solvers implemented in sklearn.linear_model.Ridge/RidgeCV instead.\n",
            "  coef_, l1_reg, l2_reg, X, y, max_iter, tol, rng, random, positive\n",
            "/usr/local/lib/python3.7/dist-packages/sklearn/linear_model/_coordinate_descent.py:648: ConvergenceWarning: Objective did not converge. You might want to increase the number of iterations, check the scale of the features or consider increasing regularisation. Duality gap: 5.048e+03, tolerance: 1.068e+01 Linear regression models with null weight for the l1 regularization term are more efficiently fitted using one of the solvers implemented in sklearn.linear_model.Ridge/RidgeCV instead.\n",
            "  coef_, l1_reg, l2_reg, X, y, max_iter, tol, rng, random, positive\n",
            "/usr/local/lib/python3.7/dist-packages/sklearn/linear_model/_coordinate_descent.py:648: ConvergenceWarning: Objective did not converge. You might want to increase the number of iterations, check the scale of the features or consider increasing regularisation. Duality gap: 5.003e+03, tolerance: 1.058e+01 Linear regression models with null weight for the l1 regularization term are more efficiently fitted using one of the solvers implemented in sklearn.linear_model.Ridge/RidgeCV instead.\n",
            "  coef_, l1_reg, l2_reg, X, y, max_iter, tol, rng, random, positive\n",
            "/usr/local/lib/python3.7/dist-packages/sklearn/linear_model/_coordinate_descent.py:648: ConvergenceWarning: Objective did not converge. You might want to increase the number of iterations, check the scale of the features or consider increasing regularisation. Duality gap: 5.003e+03, tolerance: 1.059e+01 Linear regression models with null weight for the l1 regularization term are more efficiently fitted using one of the solvers implemented in sklearn.linear_model.Ridge/RidgeCV instead.\n",
            "  coef_, l1_reg, l2_reg, X, y, max_iter, tol, rng, random, positive\n",
            "/usr/local/lib/python3.7/dist-packages/sklearn/linear_model/_coordinate_descent.py:648: ConvergenceWarning: Objective did not converge. You might want to increase the number of iterations, check the scale of the features or consider increasing regularisation. Duality gap: 5.019e+03, tolerance: 1.062e+01 Linear regression models with null weight for the l1 regularization term are more efficiently fitted using one of the solvers implemented in sklearn.linear_model.Ridge/RidgeCV instead.\n",
            "  coef_, l1_reg, l2_reg, X, y, max_iter, tol, rng, random, positive\n",
            "/usr/local/lib/python3.7/dist-packages/sklearn/linear_model/_coordinate_descent.py:648: ConvergenceWarning: Objective did not converge. You might want to increase the number of iterations, check the scale of the features or consider increasing regularisation. Duality gap: 5.427e+03, tolerance: 1.146e+00 Linear regression models with null weight for the l1 regularization term are more efficiently fitted using one of the solvers implemented in sklearn.linear_model.Ridge/RidgeCV instead.\n",
            "  coef_, l1_reg, l2_reg, X, y, max_iter, tol, rng, random, positive\n",
            "/usr/local/lib/python3.7/dist-packages/sklearn/linear_model/_coordinate_descent.py:648: ConvergenceWarning: Objective did not converge. You might want to increase the number of iterations, check the scale of the features or consider increasing regularisation. Duality gap: 5.048e+03, tolerance: 1.068e+00 Linear regression models with null weight for the l1 regularization term are more efficiently fitted using one of the solvers implemented in sklearn.linear_model.Ridge/RidgeCV instead.\n",
            "  coef_, l1_reg, l2_reg, X, y, max_iter, tol, rng, random, positive\n",
            "/usr/local/lib/python3.7/dist-packages/sklearn/linear_model/_coordinate_descent.py:648: ConvergenceWarning: Objective did not converge. You might want to increase the number of iterations, check the scale of the features or consider increasing regularisation. Duality gap: 5.003e+03, tolerance: 1.058e+00 Linear regression models with null weight for the l1 regularization term are more efficiently fitted using one of the solvers implemented in sklearn.linear_model.Ridge/RidgeCV instead.\n",
            "  coef_, l1_reg, l2_reg, X, y, max_iter, tol, rng, random, positive\n",
            "/usr/local/lib/python3.7/dist-packages/sklearn/linear_model/_coordinate_descent.py:648: ConvergenceWarning: Objective did not converge. You might want to increase the number of iterations, check the scale of the features or consider increasing regularisation. Duality gap: 5.003e+03, tolerance: 1.059e+00 Linear regression models with null weight for the l1 regularization term are more efficiently fitted using one of the solvers implemented in sklearn.linear_model.Ridge/RidgeCV instead.\n",
            "  coef_, l1_reg, l2_reg, X, y, max_iter, tol, rng, random, positive\n",
            "/usr/local/lib/python3.7/dist-packages/sklearn/linear_model/_coordinate_descent.py:648: ConvergenceWarning: Objective did not converge. You might want to increase the number of iterations, check the scale of the features or consider increasing regularisation. Duality gap: 5.019e+03, tolerance: 1.062e+00 Linear regression models with null weight for the l1 regularization term are more efficiently fitted using one of the solvers implemented in sklearn.linear_model.Ridge/RidgeCV instead.\n",
            "  coef_, l1_reg, l2_reg, X, y, max_iter, tol, rng, random, positive\n",
            "/usr/local/lib/python3.7/dist-packages/sklearn/linear_model/_coordinate_descent.py:648: ConvergenceWarning: Objective did not converge. You might want to increase the number of iterations, check the scale of the features or consider increasing regularisation. Duality gap: 5.693e+03, tolerance: 1.146e+03 Linear regression models with null weight for the l1 regularization term are more efficiently fitted using one of the solvers implemented in sklearn.linear_model.Ridge/RidgeCV instead.\n",
            "  coef_, l1_reg, l2_reg, X, y, max_iter, tol, rng, random, positive\n",
            "/usr/local/lib/python3.7/dist-packages/sklearn/linear_model/_coordinate_descent.py:648: ConvergenceWarning: Objective did not converge. You might want to increase the number of iterations, check the scale of the features or consider increasing regularisation. Duality gap: 5.306e+03, tolerance: 1.068e+03 Linear regression models with null weight for the l1 regularization term are more efficiently fitted using one of the solvers implemented in sklearn.linear_model.Ridge/RidgeCV instead.\n",
            "  coef_, l1_reg, l2_reg, X, y, max_iter, tol, rng, random, positive\n",
            "/usr/local/lib/python3.7/dist-packages/sklearn/linear_model/_coordinate_descent.py:648: ConvergenceWarning: Objective did not converge. You might want to increase the number of iterations, check the scale of the features or consider increasing regularisation. Duality gap: 5.258e+03, tolerance: 1.058e+03 Linear regression models with null weight for the l1 regularization term are more efficiently fitted using one of the solvers implemented in sklearn.linear_model.Ridge/RidgeCV instead.\n",
            "  coef_, l1_reg, l2_reg, X, y, max_iter, tol, rng, random, positive\n",
            "/usr/local/lib/python3.7/dist-packages/sklearn/linear_model/_coordinate_descent.py:648: ConvergenceWarning: Objective did not converge. You might want to increase the number of iterations, check the scale of the features or consider increasing regularisation. Duality gap: 5.260e+03, tolerance: 1.059e+03 Linear regression models with null weight for the l1 regularization term are more efficiently fitted using one of the solvers implemented in sklearn.linear_model.Ridge/RidgeCV instead.\n",
            "  coef_, l1_reg, l2_reg, X, y, max_iter, tol, rng, random, positive\n",
            "/usr/local/lib/python3.7/dist-packages/sklearn/linear_model/_coordinate_descent.py:648: ConvergenceWarning: Objective did not converge. You might want to increase the number of iterations, check the scale of the features or consider increasing regularisation. Duality gap: 5.275e+03, tolerance: 1.062e+03 Linear regression models with null weight for the l1 regularization term are more efficiently fitted using one of the solvers implemented in sklearn.linear_model.Ridge/RidgeCV instead.\n",
            "  coef_, l1_reg, l2_reg, X, y, max_iter, tol, rng, random, positive\n",
            "/usr/local/lib/python3.7/dist-packages/sklearn/linear_model/_coordinate_descent.py:648: ConvergenceWarning: Objective did not converge. You might want to increase the number of iterations, check the scale of the features or consider increasing regularisation. Duality gap: 5.693e+03, tolerance: 1.146e+02 Linear regression models with null weight for the l1 regularization term are more efficiently fitted using one of the solvers implemented in sklearn.linear_model.Ridge/RidgeCV instead.\n",
            "  coef_, l1_reg, l2_reg, X, y, max_iter, tol, rng, random, positive\n",
            "/usr/local/lib/python3.7/dist-packages/sklearn/linear_model/_coordinate_descent.py:648: ConvergenceWarning: Objective did not converge. You might want to increase the number of iterations, check the scale of the features or consider increasing regularisation. Duality gap: 5.306e+03, tolerance: 1.068e+02 Linear regression models with null weight for the l1 regularization term are more efficiently fitted using one of the solvers implemented in sklearn.linear_model.Ridge/RidgeCV instead.\n",
            "  coef_, l1_reg, l2_reg, X, y, max_iter, tol, rng, random, positive\n",
            "/usr/local/lib/python3.7/dist-packages/sklearn/linear_model/_coordinate_descent.py:648: ConvergenceWarning: Objective did not converge. You might want to increase the number of iterations, check the scale of the features or consider increasing regularisation. Duality gap: 5.258e+03, tolerance: 1.058e+02 Linear regression models with null weight for the l1 regularization term are more efficiently fitted using one of the solvers implemented in sklearn.linear_model.Ridge/RidgeCV instead.\n",
            "  coef_, l1_reg, l2_reg, X, y, max_iter, tol, rng, random, positive\n",
            "/usr/local/lib/python3.7/dist-packages/sklearn/linear_model/_coordinate_descent.py:648: ConvergenceWarning: Objective did not converge. You might want to increase the number of iterations, check the scale of the features or consider increasing regularisation. Duality gap: 5.260e+03, tolerance: 1.059e+02 Linear regression models with null weight for the l1 regularization term are more efficiently fitted using one of the solvers implemented in sklearn.linear_model.Ridge/RidgeCV instead.\n",
            "  coef_, l1_reg, l2_reg, X, y, max_iter, tol, rng, random, positive\n",
            "/usr/local/lib/python3.7/dist-packages/sklearn/linear_model/_coordinate_descent.py:648: ConvergenceWarning: Objective did not converge. You might want to increase the number of iterations, check the scale of the features or consider increasing regularisation. Duality gap: 5.275e+03, tolerance: 1.062e+02 Linear regression models with null weight for the l1 regularization term are more efficiently fitted using one of the solvers implemented in sklearn.linear_model.Ridge/RidgeCV instead.\n",
            "  coef_, l1_reg, l2_reg, X, y, max_iter, tol, rng, random, positive\n",
            "/usr/local/lib/python3.7/dist-packages/sklearn/linear_model/_coordinate_descent.py:648: ConvergenceWarning: Objective did not converge. You might want to increase the number of iterations, check the scale of the features or consider increasing regularisation. Duality gap: 5.693e+03, tolerance: 1.146e+01 Linear regression models with null weight for the l1 regularization term are more efficiently fitted using one of the solvers implemented in sklearn.linear_model.Ridge/RidgeCV instead.\n",
            "  coef_, l1_reg, l2_reg, X, y, max_iter, tol, rng, random, positive\n",
            "/usr/local/lib/python3.7/dist-packages/sklearn/linear_model/_coordinate_descent.py:648: ConvergenceWarning: Objective did not converge. You might want to increase the number of iterations, check the scale of the features or consider increasing regularisation. Duality gap: 5.306e+03, tolerance: 1.068e+01 Linear regression models with null weight for the l1 regularization term are more efficiently fitted using one of the solvers implemented in sklearn.linear_model.Ridge/RidgeCV instead.\n",
            "  coef_, l1_reg, l2_reg, X, y, max_iter, tol, rng, random, positive\n",
            "/usr/local/lib/python3.7/dist-packages/sklearn/linear_model/_coordinate_descent.py:648: ConvergenceWarning: Objective did not converge. You might want to increase the number of iterations, check the scale of the features or consider increasing regularisation. Duality gap: 5.258e+03, tolerance: 1.058e+01 Linear regression models with null weight for the l1 regularization term are more efficiently fitted using one of the solvers implemented in sklearn.linear_model.Ridge/RidgeCV instead.\n",
            "  coef_, l1_reg, l2_reg, X, y, max_iter, tol, rng, random, positive\n",
            "/usr/local/lib/python3.7/dist-packages/sklearn/linear_model/_coordinate_descent.py:648: ConvergenceWarning: Objective did not converge. You might want to increase the number of iterations, check the scale of the features or consider increasing regularisation. Duality gap: 5.260e+03, tolerance: 1.059e+01 Linear regression models with null weight for the l1 regularization term are more efficiently fitted using one of the solvers implemented in sklearn.linear_model.Ridge/RidgeCV instead.\n",
            "  coef_, l1_reg, l2_reg, X, y, max_iter, tol, rng, random, positive\n",
            "/usr/local/lib/python3.7/dist-packages/sklearn/linear_model/_coordinate_descent.py:648: ConvergenceWarning: Objective did not converge. You might want to increase the number of iterations, check the scale of the features or consider increasing regularisation. Duality gap: 5.275e+03, tolerance: 1.062e+01 Linear regression models with null weight for the l1 regularization term are more efficiently fitted using one of the solvers implemented in sklearn.linear_model.Ridge/RidgeCV instead.\n",
            "  coef_, l1_reg, l2_reg, X, y, max_iter, tol, rng, random, positive\n",
            "/usr/local/lib/python3.7/dist-packages/sklearn/linear_model/_coordinate_descent.py:648: ConvergenceWarning: Objective did not converge. You might want to increase the number of iterations, check the scale of the features or consider increasing regularisation. Duality gap: 5.693e+03, tolerance: 1.146e+00 Linear regression models with null weight for the l1 regularization term are more efficiently fitted using one of the solvers implemented in sklearn.linear_model.Ridge/RidgeCV instead.\n",
            "  coef_, l1_reg, l2_reg, X, y, max_iter, tol, rng, random, positive\n",
            "/usr/local/lib/python3.7/dist-packages/sklearn/linear_model/_coordinate_descent.py:648: ConvergenceWarning: Objective did not converge. You might want to increase the number of iterations, check the scale of the features or consider increasing regularisation. Duality gap: 5.306e+03, tolerance: 1.068e+00 Linear regression models with null weight for the l1 regularization term are more efficiently fitted using one of the solvers implemented in sklearn.linear_model.Ridge/RidgeCV instead.\n",
            "  coef_, l1_reg, l2_reg, X, y, max_iter, tol, rng, random, positive\n",
            "/usr/local/lib/python3.7/dist-packages/sklearn/linear_model/_coordinate_descent.py:648: ConvergenceWarning: Objective did not converge. You might want to increase the number of iterations, check the scale of the features or consider increasing regularisation. Duality gap: 5.258e+03, tolerance: 1.058e+00 Linear regression models with null weight for the l1 regularization term are more efficiently fitted using one of the solvers implemented in sklearn.linear_model.Ridge/RidgeCV instead.\n",
            "  coef_, l1_reg, l2_reg, X, y, max_iter, tol, rng, random, positive\n",
            "/usr/local/lib/python3.7/dist-packages/sklearn/linear_model/_coordinate_descent.py:648: ConvergenceWarning: Objective did not converge. You might want to increase the number of iterations, check the scale of the features or consider increasing regularisation. Duality gap: 5.260e+03, tolerance: 1.059e+00 Linear regression models with null weight for the l1 regularization term are more efficiently fitted using one of the solvers implemented in sklearn.linear_model.Ridge/RidgeCV instead.\n",
            "  coef_, l1_reg, l2_reg, X, y, max_iter, tol, rng, random, positive\n",
            "/usr/local/lib/python3.7/dist-packages/sklearn/linear_model/_coordinate_descent.py:648: ConvergenceWarning: Objective did not converge. You might want to increase the number of iterations, check the scale of the features or consider increasing regularisation. Duality gap: 5.275e+03, tolerance: 1.062e+00 Linear regression models with null weight for the l1 regularization term are more efficiently fitted using one of the solvers implemented in sklearn.linear_model.Ridge/RidgeCV instead.\n",
            "  coef_, l1_reg, l2_reg, X, y, max_iter, tol, rng, random, positive\n"
          ]
        },
        {
          "data": {
            "text/plain": [
              "GridSearchCV(cv=5, estimator=ElasticNet(),\n",
              "             param_grid={'alpha': [0.0001, 0.001, 0.01, 0.1, 1, 10, 100],\n",
              "                         'l1_ratio': array([0. , 0.1, 0.2, 0.3, 0.4, 0.5, 0.6, 0.7, 0.8, 0.9]),\n",
              "                         'tol': [0.1, 0.01, 0.001, 0.0001]},\n",
              "             scoring='neg_mean_squared_error')"
            ]
          },
          "execution_count": 30,
          "metadata": {},
          "output_type": "execute_result"
        }
      ],
      "source": [
        "parameters = {'tol' : [0.1,0.01,0.001,0.0001],\n",
        "              \"alpha\": [0.0001, 0.001, 0.01, 0.1, 1, 10, 100],  #alpha, coef qui multiplie le terme de pénalité)\n",
        "              \"l1_ratio\": np.arange(0.0, 1.0, 0.1)}#L1 ratio , =1 équivaut à un Lasso, 0 à un Ridge\n",
        "\n",
        "\n",
        "elastic_grid = GridSearchCV(estimator = ElasticNet(), \n",
        "                      param_grid = parameters,\n",
        "                      scoring = 'neg_mean_squared_error',\n",
        "                      cv=5,\n",
        "                      verbose=0\n",
        "                     )\n",
        "\n",
        "elastic_grid.fit(X_train, y_train)"
      ]
    },
    {
      "cell_type": "code",
      "execution_count": null,
      "metadata": {
        "colab": {
          "background_save": true
        },
        "id": "LMFS4I57w7kA",
        "outputId": "f754d6b3-3627-4b66-c305-016385307734"
      },
      "outputs": [
        {
          "data": {
            "text/plain": [
              "{'alpha': 0.001, 'l1_ratio': 0.6000000000000001, 'tol': 0.1}"
            ]
          },
          "execution_count": 31,
          "metadata": {},
          "output_type": "execute_result"
        }
      ],
      "source": [
        "elastic_grid.best_params_"
      ]
    },
    {
      "cell_type": "code",
      "execution_count": null,
      "metadata": {
        "colab": {
          "background_save": true
        },
        "id": "4pO-jqD0xCYY"
      },
      "outputs": [],
      "source": [
        "import math\n",
        "results = results.append(pd.DataFrame({\n",
        "    'Modèle' : ['Elasticnet Regression'],\n",
        "    'Score_RMSE' : [math.sqrt(mean_squared_error(elastic_grid.predict(X_test), y_test))]}),\n",
        "              ignore_index=True)"
      ]
    },
    {
      "cell_type": "markdown",
      "metadata": {
        "id": "2Ftg8kzhzMOK"
      },
      "source": [
        "## **Random Forest Regressor**"
      ]
    },
    {
      "cell_type": "code",
      "execution_count": null,
      "metadata": {
        "colab": {
          "background_save": true
        },
        "id": "4YRJVDHIzUl6"
      },
      "outputs": [],
      "source": [
        "from sklearn.ensemble import RandomForestRegressor\n",
        "\n",
        "parameters = {\n",
        "    'n_estimators' : [10,50,100,300,500], #nombre d'arbres de décision\n",
        "    'min_samples_leaf' : [1,3,5,10], #nombre de feuilles minimales dans un noeud\n",
        "    'max_features': ['auto', 'sqrt'] #nombre de features observées pour chaque arbre\n",
        "}"
      ]
    },
    {
      "cell_type": "code",
      "execution_count": null,
      "metadata": {
        "colab": {
          "background_save": true
        },
        "id": "hduH8CT6zb42",
        "outputId": "19598d59-cbc0-4aa8-bd83-e4f717e3280d"
      },
      "outputs": [
        {
          "name": "stdout",
          "output_type": "stream",
          "text": [
            "Fitting 5 folds for each of 40 candidates, totalling 200 fits\n",
            "[CV] END max_features=auto, min_samples_leaf=1, n_estimators=10; total time=   0.3s\n",
            "[CV] END max_features=auto, min_samples_leaf=1, n_estimators=10; total time=   0.3s\n",
            "[CV] END max_features=auto, min_samples_leaf=1, n_estimators=10; total time=   0.3s\n",
            "[CV] END max_features=auto, min_samples_leaf=1, n_estimators=10; total time=   0.3s\n",
            "[CV] END max_features=auto, min_samples_leaf=1, n_estimators=10; total time=   0.3s\n",
            "[CV] END max_features=auto, min_samples_leaf=1, n_estimators=50; total time=   1.4s\n",
            "[CV] END max_features=auto, min_samples_leaf=1, n_estimators=50; total time=   1.4s\n",
            "[CV] END max_features=auto, min_samples_leaf=1, n_estimators=50; total time=   1.4s\n",
            "[CV] END max_features=auto, min_samples_leaf=1, n_estimators=50; total time=   1.5s\n",
            "[CV] END max_features=auto, min_samples_leaf=1, n_estimators=50; total time=   1.5s\n",
            "[CV] END max_features=auto, min_samples_leaf=1, n_estimators=100; total time=   2.9s\n",
            "[CV] END max_features=auto, min_samples_leaf=1, n_estimators=100; total time=   4.2s\n",
            "[CV] END max_features=auto, min_samples_leaf=1, n_estimators=100; total time=   3.1s\n",
            "[CV] END max_features=auto, min_samples_leaf=1, n_estimators=100; total time=   2.8s\n",
            "[CV] END max_features=auto, min_samples_leaf=1, n_estimators=100; total time=   2.8s\n",
            "[CV] END max_features=auto, min_samples_leaf=1, n_estimators=300; total time=   8.6s\n",
            "[CV] END max_features=auto, min_samples_leaf=1, n_estimators=300; total time=   8.5s\n",
            "[CV] END max_features=auto, min_samples_leaf=1, n_estimators=300; total time=   8.9s\n",
            "[CV] END max_features=auto, min_samples_leaf=1, n_estimators=300; total time=   8.7s\n",
            "[CV] END max_features=auto, min_samples_leaf=1, n_estimators=300; total time=   8.5s\n",
            "[CV] END max_features=auto, min_samples_leaf=1, n_estimators=500; total time=  15.3s\n",
            "[CV] END max_features=auto, min_samples_leaf=1, n_estimators=500; total time=  14.2s\n",
            "[CV] END max_features=auto, min_samples_leaf=1, n_estimators=500; total time=  14.3s\n",
            "[CV] END max_features=auto, min_samples_leaf=1, n_estimators=500; total time=  14.2s\n",
            "[CV] END max_features=auto, min_samples_leaf=1, n_estimators=500; total time=  14.0s\n",
            "[CV] END max_features=auto, min_samples_leaf=3, n_estimators=10; total time=   0.2s\n",
            "[CV] END max_features=auto, min_samples_leaf=3, n_estimators=10; total time=   0.2s\n",
            "[CV] END max_features=auto, min_samples_leaf=3, n_estimators=10; total time=   0.2s\n",
            "[CV] END max_features=auto, min_samples_leaf=3, n_estimators=10; total time=   0.2s\n",
            "[CV] END max_features=auto, min_samples_leaf=3, n_estimators=10; total time=   0.2s\n",
            "[CV] END max_features=auto, min_samples_leaf=3, n_estimators=50; total time=   1.1s\n",
            "[CV] END max_features=auto, min_samples_leaf=3, n_estimators=50; total time=   1.1s\n",
            "[CV] END max_features=auto, min_samples_leaf=3, n_estimators=50; total time=   1.1s\n",
            "[CV] END max_features=auto, min_samples_leaf=3, n_estimators=50; total time=   1.1s\n",
            "[CV] END max_features=auto, min_samples_leaf=3, n_estimators=50; total time=   1.3s\n",
            "[CV] END max_features=auto, min_samples_leaf=3, n_estimators=100; total time=   2.9s\n",
            "[CV] END max_features=auto, min_samples_leaf=3, n_estimators=100; total time=   2.1s\n",
            "[CV] END max_features=auto, min_samples_leaf=3, n_estimators=100; total time=   2.1s\n",
            "[CV] END max_features=auto, min_samples_leaf=3, n_estimators=100; total time=   2.1s\n",
            "[CV] END max_features=auto, min_samples_leaf=3, n_estimators=100; total time=   2.1s\n",
            "[CV] END max_features=auto, min_samples_leaf=3, n_estimators=300; total time=   6.4s\n",
            "[CV] END max_features=auto, min_samples_leaf=3, n_estimators=300; total time=   6.3s\n",
            "[CV] END max_features=auto, min_samples_leaf=3, n_estimators=300; total time=   7.4s\n",
            "[CV] END max_features=auto, min_samples_leaf=3, n_estimators=300; total time=   6.5s\n",
            "[CV] END max_features=auto, min_samples_leaf=3, n_estimators=300; total time=   6.2s\n",
            "[CV] END max_features=auto, min_samples_leaf=3, n_estimators=500; total time=  10.5s\n",
            "[CV] END max_features=auto, min_samples_leaf=3, n_estimators=500; total time=  12.2s\n",
            "[CV] END max_features=auto, min_samples_leaf=3, n_estimators=500; total time=  11.2s\n",
            "[CV] END max_features=auto, min_samples_leaf=3, n_estimators=500; total time=  10.6s\n",
            "[CV] END max_features=auto, min_samples_leaf=3, n_estimators=500; total time=  10.4s\n",
            "[CV] END max_features=auto, min_samples_leaf=5, n_estimators=10; total time=   0.2s\n",
            "[CV] END max_features=auto, min_samples_leaf=5, n_estimators=10; total time=   0.2s\n",
            "[CV] END max_features=auto, min_samples_leaf=5, n_estimators=10; total time=   0.2s\n",
            "[CV] END max_features=auto, min_samples_leaf=5, n_estimators=10; total time=   0.2s\n",
            "[CV] END max_features=auto, min_samples_leaf=5, n_estimators=10; total time=   0.2s\n",
            "[CV] END max_features=auto, min_samples_leaf=5, n_estimators=50; total time=   1.0s\n",
            "[CV] END max_features=auto, min_samples_leaf=5, n_estimators=50; total time=   1.0s\n",
            "[CV] END max_features=auto, min_samples_leaf=5, n_estimators=50; total time=   1.0s\n",
            "[CV] END max_features=auto, min_samples_leaf=5, n_estimators=50; total time=   1.0s\n",
            "[CV] END max_features=auto, min_samples_leaf=5, n_estimators=50; total time=   0.9s\n",
            "[CV] END max_features=auto, min_samples_leaf=5, n_estimators=100; total time=   1.9s\n",
            "[CV] END max_features=auto, min_samples_leaf=5, n_estimators=100; total time=   1.9s\n",
            "[CV] END max_features=auto, min_samples_leaf=5, n_estimators=100; total time=   1.9s\n",
            "[CV] END max_features=auto, min_samples_leaf=5, n_estimators=100; total time=   1.9s\n",
            "[CV] END max_features=auto, min_samples_leaf=5, n_estimators=100; total time=   1.9s\n",
            "[CV] END max_features=auto, min_samples_leaf=5, n_estimators=300; total time=   5.6s\n",
            "[CV] END max_features=auto, min_samples_leaf=5, n_estimators=300; total time=   5.7s\n",
            "[CV] END max_features=auto, min_samples_leaf=5, n_estimators=300; total time=   5.7s\n",
            "[CV] END max_features=auto, min_samples_leaf=5, n_estimators=300; total time=   6.8s\n",
            "[CV] END max_features=auto, min_samples_leaf=5, n_estimators=300; total time=   5.6s\n",
            "[CV] END max_features=auto, min_samples_leaf=5, n_estimators=500; total time=   9.3s\n",
            "[CV] END max_features=auto, min_samples_leaf=5, n_estimators=500; total time=   9.4s\n",
            "[CV] END max_features=auto, min_samples_leaf=5, n_estimators=500; total time=   9.5s\n",
            "[CV] END max_features=auto, min_samples_leaf=5, n_estimators=500; total time=   9.5s\n",
            "[CV] END max_features=auto, min_samples_leaf=5, n_estimators=500; total time=   9.2s\n",
            "[CV] END max_features=auto, min_samples_leaf=10, n_estimators=10; total time=   0.2s\n",
            "[CV] END max_features=auto, min_samples_leaf=10, n_estimators=10; total time=   0.2s\n",
            "[CV] END max_features=auto, min_samples_leaf=10, n_estimators=10; total time=   0.2s\n",
            "[CV] END max_features=auto, min_samples_leaf=10, n_estimators=10; total time=   0.2s\n",
            "[CV] END max_features=auto, min_samples_leaf=10, n_estimators=10; total time=   0.2s\n",
            "[CV] END max_features=auto, min_samples_leaf=10, n_estimators=50; total time=   0.8s\n",
            "[CV] END max_features=auto, min_samples_leaf=10, n_estimators=50; total time=   0.8s\n",
            "[CV] END max_features=auto, min_samples_leaf=10, n_estimators=50; total time=   0.8s\n",
            "[CV] END max_features=auto, min_samples_leaf=10, n_estimators=50; total time=   0.8s\n",
            "[CV] END max_features=auto, min_samples_leaf=10, n_estimators=50; total time=   0.8s\n",
            "[CV] END max_features=auto, min_samples_leaf=10, n_estimators=100; total time=   1.6s\n",
            "[CV] END max_features=auto, min_samples_leaf=10, n_estimators=100; total time=   1.6s\n",
            "[CV] END max_features=auto, min_samples_leaf=10, n_estimators=100; total time=   1.7s\n",
            "[CV] END max_features=auto, min_samples_leaf=10, n_estimators=100; total time=   1.9s\n",
            "[CV] END max_features=auto, min_samples_leaf=10, n_estimators=100; total time=   2.4s\n",
            "[CV] END max_features=auto, min_samples_leaf=10, n_estimators=300; total time=   4.8s\n",
            "[CV] END max_features=auto, min_samples_leaf=10, n_estimators=300; total time=   4.9s\n",
            "[CV] END max_features=auto, min_samples_leaf=10, n_estimators=300; total time=   4.9s\n",
            "[CV] END max_features=auto, min_samples_leaf=10, n_estimators=300; total time=   4.8s\n",
            "[CV] END max_features=auto, min_samples_leaf=10, n_estimators=300; total time=   4.8s\n",
            "[CV] END max_features=auto, min_samples_leaf=10, n_estimators=500; total time=   8.1s\n",
            "[CV] END max_features=auto, min_samples_leaf=10, n_estimators=500; total time=   8.0s\n",
            "[CV] END max_features=auto, min_samples_leaf=10, n_estimators=500; total time=   8.2s\n",
            "[CV] END max_features=auto, min_samples_leaf=10, n_estimators=500; total time=   8.0s\n",
            "[CV] END max_features=auto, min_samples_leaf=10, n_estimators=500; total time=   9.0s\n",
            "[CV] END max_features=sqrt, min_samples_leaf=1, n_estimators=10; total time=   0.1s\n",
            "[CV] END max_features=sqrt, min_samples_leaf=1, n_estimators=10; total time=   0.1s\n",
            "[CV] END max_features=sqrt, min_samples_leaf=1, n_estimators=10; total time=   0.1s\n",
            "[CV] END max_features=sqrt, min_samples_leaf=1, n_estimators=10; total time=   0.1s\n",
            "[CV] END max_features=sqrt, min_samples_leaf=1, n_estimators=10; total time=   0.1s\n",
            "[CV] END max_features=sqrt, min_samples_leaf=1, n_estimators=50; total time=   0.4s\n",
            "[CV] END max_features=sqrt, min_samples_leaf=1, n_estimators=50; total time=   0.4s\n",
            "[CV] END max_features=sqrt, min_samples_leaf=1, n_estimators=50; total time=   0.4s\n",
            "[CV] END max_features=sqrt, min_samples_leaf=1, n_estimators=50; total time=   0.4s\n",
            "[CV] END max_features=sqrt, min_samples_leaf=1, n_estimators=50; total time=   0.4s\n",
            "[CV] END max_features=sqrt, min_samples_leaf=1, n_estimators=100; total time=   0.8s\n",
            "[CV] END max_features=sqrt, min_samples_leaf=1, n_estimators=100; total time=   0.8s\n",
            "[CV] END max_features=sqrt, min_samples_leaf=1, n_estimators=100; total time=   0.8s\n",
            "[CV] END max_features=sqrt, min_samples_leaf=1, n_estimators=100; total time=   0.8s\n",
            "[CV] END max_features=sqrt, min_samples_leaf=1, n_estimators=100; total time=   0.8s\n",
            "[CV] END max_features=sqrt, min_samples_leaf=1, n_estimators=300; total time=   2.2s\n",
            "[CV] END max_features=sqrt, min_samples_leaf=1, n_estimators=300; total time=   2.2s\n",
            "[CV] END max_features=sqrt, min_samples_leaf=1, n_estimators=300; total time=   2.3s\n",
            "[CV] END max_features=sqrt, min_samples_leaf=1, n_estimators=300; total time=   2.3s\n",
            "[CV] END max_features=sqrt, min_samples_leaf=1, n_estimators=300; total time=   2.3s\n",
            "[CV] END max_features=sqrt, min_samples_leaf=1, n_estimators=500; total time=   3.7s\n",
            "[CV] END max_features=sqrt, min_samples_leaf=1, n_estimators=500; total time=   3.7s\n",
            "[CV] END max_features=sqrt, min_samples_leaf=1, n_estimators=500; total time=   3.7s\n",
            "[CV] END max_features=sqrt, min_samples_leaf=1, n_estimators=500; total time=   3.8s\n",
            "[CV] END max_features=sqrt, min_samples_leaf=1, n_estimators=500; total time=   3.8s\n",
            "[CV] END max_features=sqrt, min_samples_leaf=3, n_estimators=10; total time=   0.1s\n",
            "[CV] END max_features=sqrt, min_samples_leaf=3, n_estimators=10; total time=   0.1s\n",
            "[CV] END max_features=sqrt, min_samples_leaf=3, n_estimators=10; total time=   0.0s\n",
            "[CV] END max_features=sqrt, min_samples_leaf=3, n_estimators=10; total time=   0.1s\n",
            "[CV] END max_features=sqrt, min_samples_leaf=3, n_estimators=10; total time=   0.1s\n",
            "[CV] END max_features=sqrt, min_samples_leaf=3, n_estimators=50; total time=   0.2s\n",
            "[CV] END max_features=sqrt, min_samples_leaf=3, n_estimators=50; total time=   0.2s\n",
            "[CV] END max_features=sqrt, min_samples_leaf=3, n_estimators=50; total time=   0.2s\n",
            "[CV] END max_features=sqrt, min_samples_leaf=3, n_estimators=50; total time=   0.2s\n",
            "[CV] END max_features=sqrt, min_samples_leaf=3, n_estimators=50; total time=   0.2s\n",
            "[CV] END max_features=sqrt, min_samples_leaf=3, n_estimators=100; total time=   0.4s\n",
            "[CV] END max_features=sqrt, min_samples_leaf=3, n_estimators=100; total time=   0.4s\n",
            "[CV] END max_features=sqrt, min_samples_leaf=3, n_estimators=100; total time=   0.4s\n",
            "[CV] END max_features=sqrt, min_samples_leaf=3, n_estimators=100; total time=   0.4s\n",
            "[CV] END max_features=sqrt, min_samples_leaf=3, n_estimators=100; total time=   0.4s\n",
            "[CV] END max_features=sqrt, min_samples_leaf=3, n_estimators=300; total time=   1.3s\n",
            "[CV] END max_features=sqrt, min_samples_leaf=3, n_estimators=300; total time=   1.3s\n",
            "[CV] END max_features=sqrt, min_samples_leaf=3, n_estimators=300; total time=   1.3s\n",
            "[CV] END max_features=sqrt, min_samples_leaf=3, n_estimators=300; total time=   1.4s\n",
            "[CV] END max_features=sqrt, min_samples_leaf=3, n_estimators=300; total time=   2.0s\n",
            "[CV] END max_features=sqrt, min_samples_leaf=3, n_estimators=500; total time=   2.5s\n",
            "[CV] END max_features=sqrt, min_samples_leaf=3, n_estimators=500; total time=   2.2s\n",
            "[CV] END max_features=sqrt, min_samples_leaf=3, n_estimators=500; total time=   2.1s\n",
            "[CV] END max_features=sqrt, min_samples_leaf=3, n_estimators=500; total time=   2.1s\n",
            "[CV] END max_features=sqrt, min_samples_leaf=3, n_estimators=500; total time=   2.1s\n",
            "[CV] END max_features=sqrt, min_samples_leaf=5, n_estimators=10; total time=   0.0s\n",
            "[CV] END max_features=sqrt, min_samples_leaf=5, n_estimators=10; total time=   0.0s\n",
            "[CV] END max_features=sqrt, min_samples_leaf=5, n_estimators=10; total time=   0.0s\n",
            "[CV] END max_features=sqrt, min_samples_leaf=5, n_estimators=10; total time=   0.0s\n",
            "[CV] END max_features=sqrt, min_samples_leaf=5, n_estimators=10; total time=   0.1s\n",
            "[CV] END max_features=sqrt, min_samples_leaf=5, n_estimators=50; total time=   0.2s\n",
            "[CV] END max_features=sqrt, min_samples_leaf=5, n_estimators=50; total time=   0.2s\n",
            "[CV] END max_features=sqrt, min_samples_leaf=5, n_estimators=50; total time=   0.2s\n",
            "[CV] END max_features=sqrt, min_samples_leaf=5, n_estimators=50; total time=   0.2s\n",
            "[CV] END max_features=sqrt, min_samples_leaf=5, n_estimators=50; total time=   0.2s\n",
            "[CV] END max_features=sqrt, min_samples_leaf=5, n_estimators=100; total time=   0.4s\n",
            "[CV] END max_features=sqrt, min_samples_leaf=5, n_estimators=100; total time=   0.4s\n",
            "[CV] END max_features=sqrt, min_samples_leaf=5, n_estimators=100; total time=   0.4s\n",
            "[CV] END max_features=sqrt, min_samples_leaf=5, n_estimators=100; total time=   0.4s\n",
            "[CV] END max_features=sqrt, min_samples_leaf=5, n_estimators=100; total time=   0.4s\n",
            "[CV] END max_features=sqrt, min_samples_leaf=5, n_estimators=300; total time=   1.2s\n",
            "[CV] END max_features=sqrt, min_samples_leaf=5, n_estimators=300; total time=   1.8s\n",
            "[CV] END max_features=sqrt, min_samples_leaf=5, n_estimators=300; total time=   1.6s\n",
            "[CV] END max_features=sqrt, min_samples_leaf=5, n_estimators=300; total time=   1.2s\n",
            "[CV] END max_features=sqrt, min_samples_leaf=5, n_estimators=300; total time=   1.1s\n",
            "[CV] END max_features=sqrt, min_samples_leaf=5, n_estimators=500; total time=   1.9s\n",
            "[CV] END max_features=sqrt, min_samples_leaf=5, n_estimators=500; total time=   1.9s\n",
            "[CV] END max_features=sqrt, min_samples_leaf=5, n_estimators=500; total time=   1.8s\n",
            "[CV] END max_features=sqrt, min_samples_leaf=5, n_estimators=500; total time=   2.0s\n",
            "[CV] END max_features=sqrt, min_samples_leaf=5, n_estimators=500; total time=   2.9s\n",
            "[CV] END max_features=sqrt, min_samples_leaf=10, n_estimators=10; total time=   0.1s\n",
            "[CV] END max_features=sqrt, min_samples_leaf=10, n_estimators=10; total time=   0.0s\n",
            "[CV] END max_features=sqrt, min_samples_leaf=10, n_estimators=10; total time=   0.0s\n",
            "[CV] END max_features=sqrt, min_samples_leaf=10, n_estimators=10; total time=   0.0s\n",
            "[CV] END max_features=sqrt, min_samples_leaf=10, n_estimators=10; total time=   0.0s\n",
            "[CV] END max_features=sqrt, min_samples_leaf=10, n_estimators=50; total time=   0.2s\n",
            "[CV] END max_features=sqrt, min_samples_leaf=10, n_estimators=50; total time=   0.2s\n",
            "[CV] END max_features=sqrt, min_samples_leaf=10, n_estimators=50; total time=   0.2s\n",
            "[CV] END max_features=sqrt, min_samples_leaf=10, n_estimators=50; total time=   0.2s\n",
            "[CV] END max_features=sqrt, min_samples_leaf=10, n_estimators=50; total time=   0.2s\n",
            "[CV] END max_features=sqrt, min_samples_leaf=10, n_estimators=100; total time=   0.3s\n",
            "[CV] END max_features=sqrt, min_samples_leaf=10, n_estimators=100; total time=   0.4s\n",
            "[CV] END max_features=sqrt, min_samples_leaf=10, n_estimators=100; total time=   0.3s\n",
            "[CV] END max_features=sqrt, min_samples_leaf=10, n_estimators=100; total time=   0.3s\n",
            "[CV] END max_features=sqrt, min_samples_leaf=10, n_estimators=100; total time=   0.4s\n",
            "[CV] END max_features=sqrt, min_samples_leaf=10, n_estimators=300; total time=   1.0s\n",
            "[CV] END max_features=sqrt, min_samples_leaf=10, n_estimators=300; total time=   1.0s\n",
            "[CV] END max_features=sqrt, min_samples_leaf=10, n_estimators=300; total time=   1.0s\n",
            "[CV] END max_features=sqrt, min_samples_leaf=10, n_estimators=300; total time=   1.0s\n",
            "[CV] END max_features=sqrt, min_samples_leaf=10, n_estimators=300; total time=   1.0s\n",
            "[CV] END max_features=sqrt, min_samples_leaf=10, n_estimators=500; total time=   1.7s\n",
            "[CV] END max_features=sqrt, min_samples_leaf=10, n_estimators=500; total time=   1.7s\n",
            "[CV] END max_features=sqrt, min_samples_leaf=10, n_estimators=500; total time=   1.7s\n",
            "[CV] END max_features=sqrt, min_samples_leaf=10, n_estimators=500; total time=   1.6s\n",
            "[CV] END max_features=sqrt, min_samples_leaf=10, n_estimators=500; total time=   1.7s\n"
          ]
        },
        {
          "data": {
            "text/plain": [
              "GridSearchCV(cv=5, estimator=RandomForestRegressor(),\n",
              "             param_grid={'max_features': ['auto', 'sqrt'],\n",
              "                         'min_samples_leaf': [1, 3, 5, 10],\n",
              "                         'n_estimators': [10, 50, 100, 300, 500]},\n",
              "             verbose=2)"
            ]
          },
          "execution_count": 34,
          "metadata": {},
          "output_type": "execute_result"
        }
      ],
      "source": [
        "rfr_search = GridSearchCV(RandomForestRegressor(),\n",
        "                               param_grid = parameters,\n",
        "                               #scoring='mean_squared_error',\n",
        "                              verbose=2,\n",
        "                               cv=5)\n",
        "\n",
        "rfr_search.fit(X_train, y_train)"
      ]
    },
    {
      "cell_type": "code",
      "execution_count": null,
      "metadata": {
        "colab": {
          "background_save": true
        },
        "id": "DifjovfuzlHC",
        "outputId": "9b647400-2494-4157-83be-27a4bc2bc4c5"
      },
      "outputs": [
        {
          "data": {
            "text/plain": [
              "{'max_features': 'sqrt', 'min_samples_leaf': 1, 'n_estimators': 500}"
            ]
          },
          "execution_count": 35,
          "metadata": {},
          "output_type": "execute_result"
        }
      ],
      "source": [
        "rfr_search.best_params_"
      ]
    },
    {
      "cell_type": "code",
      "execution_count": null,
      "metadata": {
        "colab": {
          "background_save": true
        },
        "id": "GRdq_tupzqjV"
      },
      "outputs": [],
      "source": [
        "import math\n",
        "results = results.append(pd.DataFrame({\n",
        "    'Modèle' : ['Random Forest Regressor'],\n",
        "    'Score_RMSE' : [math.sqrt(mean_squared_error(rfr_search.predict(X_test), y_test))]}),\n",
        "              ignore_index=True)"
      ]
    },
    {
      "cell_type": "code",
      "execution_count": null,
      "metadata": {
        "colab": {
          "background_save": true
        },
        "id": "r0qwmRTWaPTE"
      },
      "outputs": [],
      "source": [
        "coefficients = abs(rfr_search.best_estimator_.feature_importances_)\n",
        "liste_coefs_rer = pd.concat((pd.DataFrame(X.columns, columns = ['Variable']), \n",
        "                      pd.DataFrame(coefficients, columns = ['Coefficient'])), axis = 1).sort_values(by='Coefficient', ascending = False)"
      ]
    },
    {
      "cell_type": "code",
      "execution_count": null,
      "metadata": {
        "colab": {
          "background_save": true
        },
        "id": "A2MA1VJqaRxz",
        "outputId": "5faf6562-a2d8-4780-fcb0-f1449f2330f6"
      },
      "outputs": [
        {
          "data": {
            "image/png": "[encoded data removed]",
            "text/plain": [
              "<Figure size 576x576 with 1 Axes>"
            ]
          },
          "metadata": {},
          "output_type": "display_data"
        }
      ],
      "source": [
        "plt.figure(figsize=(8,8))\n",
        "plt.title('RandomForestRegressor - Importance des 20 premières Features')\n",
        "sns.barplot(y = liste_coefs_rer['Variable'].head(20),\n",
        "            x = liste_coefs_rer['Coefficient'].head(20))\n",
        "plt.show()"
      ]
    },
    {
      "cell_type": "markdown",
      "metadata": {
        "id": "TXjQbN5_aX6N"
      },
      "source": [
        "# **Support vectore regression**"
      ]
    },
    {
      "cell_type": "code",
      "execution_count": null,
      "metadata": {
        "colab": {
          "background_save": true
        },
        "id": "nFSyB0bcab2i",
        "outputId": "9e700808-1430-4a7b-89c6-d270ac09e841"
      },
      "outputs": [
        {
          "name": "stdout",
          "output_type": "stream",
          "text": [
            "Fitting 5 folds for each of 160 candidates, totalling 800 fits\n",
            "[CV] END ................C=0.001, epsilon=0.001, gamma=1e-08; total time=   2.0s\n",
            "[CV] END ................C=0.001, epsilon=0.001, gamma=1e-08; total time=   2.0s\n",
            "[CV] END ................C=0.001, epsilon=0.001, gamma=1e-08; total time=   2.0s\n",
            "[CV] END ................C=0.001, epsilon=0.001, gamma=1e-08; total time=   2.0s\n",
            "[CV] END ................C=0.001, epsilon=0.001, gamma=1e-08; total time=   2.0s\n",
            "[CV] END ................C=0.001, epsilon=0.001, gamma=1e-07; total time=   2.0s\n",
            "[CV] END ................C=0.001, epsilon=0.001, gamma=1e-07; total time=   2.0s\n",
            "[CV] END ................C=0.001, epsilon=0.001, gamma=1e-07; total time=   1.9s\n",
            "[CV] END ................C=0.001, epsilon=0.001, gamma=1e-07; total time=   2.0s\n",
            "[CV] END ................C=0.001, epsilon=0.001, gamma=1e-07; total time=   2.0s\n",
            "[CV] END ................C=0.001, epsilon=0.001, gamma=1e-06; total time=   2.0s\n",
            "[CV] END ................C=0.001, epsilon=0.001, gamma=1e-06; total time=   2.0s\n",
            "[CV] END ................C=0.001, epsilon=0.001, gamma=1e-06; total time=   2.0s\n",
            "[CV] END ................C=0.001, epsilon=0.001, gamma=1e-06; total time=   2.0s\n",
            "[CV] END ................C=0.001, epsilon=0.001, gamma=1e-06; total time=   2.0s\n",
            "[CV] END ................C=0.001, epsilon=0.001, gamma=1e-05; total time=   2.9s\n",
            "[CV] END ................C=0.001, epsilon=0.001, gamma=1e-05; total time=   2.3s\n",
            "[CV] END ................C=0.001, epsilon=0.001, gamma=1e-05; total time=   2.0s\n",
            "[CV] END ................C=0.001, epsilon=0.001, gamma=1e-05; total time=   2.0s\n",
            "[CV] END ................C=0.001, epsilon=0.001, gamma=1e-05; total time=   2.0s\n",
            "[CV] END ...............C=0.001, epsilon=0.001, gamma=0.0001; total time=   2.0s\n",
            "[CV] END ...............C=0.001, epsilon=0.001, gamma=0.0001; total time=   2.0s\n",
            "[CV] END ...............C=0.001, epsilon=0.001, gamma=0.0001; total time=   2.0s\n",
            "[CV] END ...............C=0.001, epsilon=0.001, gamma=0.0001; total time=   2.0s\n",
            "[CV] END ...............C=0.001, epsilon=0.001, gamma=0.0001; total time=   2.0s\n",
            "[CV] END ................C=0.001, epsilon=0.001, gamma=0.001; total time=   2.0s\n",
            "[CV] END ................C=0.001, epsilon=0.001, gamma=0.001; total time=   2.0s\n",
            "[CV] END ................C=0.001, epsilon=0.001, gamma=0.001; total time=   2.0s\n",
            "[CV] END ................C=0.001, epsilon=0.001, gamma=0.001; total time=   2.0s\n",
            "[CV] END ................C=0.001, epsilon=0.001, gamma=0.001; total time=   2.0s\n",
            "[CV] END .................C=0.001, epsilon=0.001, gamma=0.01; total time=   2.0s\n",
            "[CV] END .................C=0.001, epsilon=0.001, gamma=0.01; total time=   2.0s\n",
            "[CV] END .................C=0.001, epsilon=0.001, gamma=0.01; total time=   2.0s\n",
            "[CV] END .................C=0.001, epsilon=0.001, gamma=0.01; total time=   2.0s\n",
            "[CV] END .................C=0.001, epsilon=0.001, gamma=0.01; total time=   2.0s\n",
            "[CV] END ..................C=0.001, epsilon=0.001, gamma=0.1; total time=   2.0s\n",
            "[CV] END ..................C=0.001, epsilon=0.001, gamma=0.1; total time=   2.0s\n",
            "[CV] END ..................C=0.001, epsilon=0.001, gamma=0.1; total time=   2.0s\n",
            "[CV] END ..................C=0.001, epsilon=0.001, gamma=0.1; total time=   2.0s\n",
            "[CV] END ..................C=0.001, epsilon=0.001, gamma=0.1; total time=   2.0s\n",
            "[CV] END .................C=0.001, epsilon=0.01, gamma=1e-08; total time=   1.9s\n",
            "[CV] END .................C=0.001, epsilon=0.01, gamma=1e-08; total time=   2.0s\n",
            "[CV] END .................C=0.001, epsilon=0.01, gamma=1e-08; total time=   2.0s\n",
            "[CV] END .................C=0.001, epsilon=0.01, gamma=1e-08; total time=   2.0s\n",
            "[CV] END .................C=0.001, epsilon=0.01, gamma=1e-08; total time=   2.0s\n",
            "[CV] END .................C=0.001, epsilon=0.01, gamma=1e-07; total time=   2.0s\n",
            "[CV] END .................C=0.001, epsilon=0.01, gamma=1e-07; total time=   2.0s\n",
            "[CV] END .................C=0.001, epsilon=0.01, gamma=1e-07; total time=   2.4s\n",
            "[CV] END .................C=0.001, epsilon=0.01, gamma=1e-07; total time=   2.7s\n",
            "[CV] END .................C=0.001, epsilon=0.01, gamma=1e-07; total time=   1.9s\n",
            "[CV] END .................C=0.001, epsilon=0.01, gamma=1e-06; total time=   2.0s\n",
            "[CV] END .................C=0.001, epsilon=0.01, gamma=1e-06; total time=   2.0s\n",
            "[CV] END .................C=0.001, epsilon=0.01, gamma=1e-06; total time=   1.9s\n",
            "[CV] END .................C=0.001, epsilon=0.01, gamma=1e-06; total time=   2.0s\n",
            "[CV] END .................C=0.001, epsilon=0.01, gamma=1e-06; total time=   2.0s\n",
            "[CV] END .................C=0.001, epsilon=0.01, gamma=1e-05; total time=   2.0s\n",
            "[CV] END .................C=0.001, epsilon=0.01, gamma=1e-05; total time=   1.9s\n",
            "[CV] END .................C=0.001, epsilon=0.01, gamma=1e-05; total time=   2.0s\n",
            "[CV] END .................C=0.001, epsilon=0.01, gamma=1e-05; total time=   2.0s\n",
            "[CV] END .................C=0.001, epsilon=0.01, gamma=1e-05; total time=   2.0s\n",
            "[CV] END ................C=0.001, epsilon=0.01, gamma=0.0001; total time=   2.0s\n",
            "[CV] END ................C=0.001, epsilon=0.01, gamma=0.0001; total time=   2.0s\n",
            "[CV] END ................C=0.001, epsilon=0.01, gamma=0.0001; total time=   2.0s\n",
            "[CV] END ................C=0.001, epsilon=0.01, gamma=0.0001; total time=   2.0s\n",
            "[CV] END ................C=0.001, epsilon=0.01, gamma=0.0001; total time=   2.0s\n",
            "[CV] END .................C=0.001, epsilon=0.01, gamma=0.001; total time=   2.0s\n",
            "[CV] END .................C=0.001, epsilon=0.01, gamma=0.001; total time=   2.0s\n",
            "[CV] END .................C=0.001, epsilon=0.01, gamma=0.001; total time=   1.9s\n",
            "[CV] END .................C=0.001, epsilon=0.01, gamma=0.001; total time=   2.0s\n",
            "[CV] END .................C=0.001, epsilon=0.01, gamma=0.001; total time=   2.0s\n",
            "[CV] END ..................C=0.001, epsilon=0.01, gamma=0.01; total time=   2.0s\n",
            "[CV] END ..................C=0.001, epsilon=0.01, gamma=0.01; total time=   2.0s\n",
            "[CV] END ..................C=0.001, epsilon=0.01, gamma=0.01; total time=   2.0s\n",
            "[CV] END ..................C=0.001, epsilon=0.01, gamma=0.01; total time=   2.0s\n",
            "[CV] END ..................C=0.001, epsilon=0.01, gamma=0.01; total time=   2.0s\n",
            "[CV] END ...................C=0.001, epsilon=0.01, gamma=0.1; total time=   2.0s\n",
            "[CV] END ...................C=0.001, epsilon=0.01, gamma=0.1; total time=   2.0s\n",
            "[CV] END ...................C=0.001, epsilon=0.01, gamma=0.1; total time=   2.0s\n",
            "[CV] END ...................C=0.001, epsilon=0.01, gamma=0.1; total time=   2.0s\n",
            "[CV] END ...................C=0.001, epsilon=0.01, gamma=0.1; total time=   2.0s\n",
            "[CV] END ..................C=0.001, epsilon=0.1, gamma=1e-08; total time=   2.3s\n",
            "[CV] END ..................C=0.001, epsilon=0.1, gamma=1e-08; total time=   2.7s\n",
            "[CV] END ..................C=0.001, epsilon=0.1, gamma=1e-08; total time=   1.9s\n",
            "[CV] END ..................C=0.001, epsilon=0.1, gamma=1e-08; total time=   1.9s\n",
            "[CV] END ..................C=0.001, epsilon=0.1, gamma=1e-08; total time=   1.9s\n",
            "[CV] END ..................C=0.001, epsilon=0.1, gamma=1e-07; total time=   1.9s\n",
            "[CV] END ..................C=0.001, epsilon=0.1, gamma=1e-07; total time=   1.9s\n",
            "[CV] END ..................C=0.001, epsilon=0.1, gamma=1e-07; total time=   1.9s\n",
            "[CV] END ..................C=0.001, epsilon=0.1, gamma=1e-07; total time=   1.9s\n",
            "[CV] END ..................C=0.001, epsilon=0.1, gamma=1e-07; total time=   1.9s\n",
            "[CV] END ..................C=0.001, epsilon=0.1, gamma=1e-06; total time=   1.9s\n",
            "[CV] END ..................C=0.001, epsilon=0.1, gamma=1e-06; total time=   1.9s\n",
            "[CV] END ..................C=0.001, epsilon=0.1, gamma=1e-06; total time=   1.9s\n",
            "[CV] END ..................C=0.001, epsilon=0.1, gamma=1e-06; total time=   1.9s\n",
            "[CV] END ..................C=0.001, epsilon=0.1, gamma=1e-06; total time=   1.9s\n",
            "[CV] END ..................C=0.001, epsilon=0.1, gamma=1e-05; total time=   1.9s\n",
            "[CV] END ..................C=0.001, epsilon=0.1, gamma=1e-05; total time=   1.9s\n",
            "[CV] END ..................C=0.001, epsilon=0.1, gamma=1e-05; total time=   1.9s\n",
            "[CV] END ..................C=0.001, epsilon=0.1, gamma=1e-05; total time=   1.9s\n",
            "[CV] END ..................C=0.001, epsilon=0.1, gamma=1e-05; total time=   1.9s\n",
            "[CV] END .................C=0.001, epsilon=0.1, gamma=0.0001; total time=   1.9s\n",
            "[CV] END .................C=0.001, epsilon=0.1, gamma=0.0001; total time=   1.9s\n",
            "[CV] END .................C=0.001, epsilon=0.1, gamma=0.0001; total time=   1.9s\n",
            "[CV] END .................C=0.001, epsilon=0.1, gamma=0.0001; total time=   1.9s\n",
            "[CV] END .................C=0.001, epsilon=0.1, gamma=0.0001; total time=   1.9s\n",
            "[CV] END ..................C=0.001, epsilon=0.1, gamma=0.001; total time=   1.9s\n",
            "[CV] END ..................C=0.001, epsilon=0.1, gamma=0.001; total time=   1.9s\n",
            "[CV] END ..................C=0.001, epsilon=0.1, gamma=0.001; total time=   1.9s\n",
            "[CV] END ..................C=0.001, epsilon=0.1, gamma=0.001; total time=   1.9s\n",
            "[CV] END ..................C=0.001, epsilon=0.1, gamma=0.001; total time=   1.9s\n",
            "[CV] END ...................C=0.001, epsilon=0.1, gamma=0.01; total time=   1.9s\n",
            "[CV] END ...................C=0.001, epsilon=0.1, gamma=0.01; total time=   1.9s\n",
            "[CV] END ...................C=0.001, epsilon=0.1, gamma=0.01; total time=   1.9s\n",
            "[CV] END ...................C=0.001, epsilon=0.1, gamma=0.01; total time=   1.9s\n",
            "[CV] END ...................C=0.001, epsilon=0.1, gamma=0.01; total time=   2.3s\n",
            "[CV] END ....................C=0.001, epsilon=0.1, gamma=0.1; total time=   2.9s\n",
            "[CV] END ....................C=0.001, epsilon=0.1, gamma=0.1; total time=   2.8s\n",
            "[CV] END ....................C=0.001, epsilon=0.1, gamma=0.1; total time=   2.1s\n",
            "[CV] END ....................C=0.001, epsilon=0.1, gamma=0.1; total time=   1.9s\n",
            "[CV] END ....................C=0.001, epsilon=0.1, gamma=0.1; total time=   1.9s\n",
            "[CV] END ....................C=0.001, epsilon=1, gamma=1e-08; total time=   1.0s\n",
            "[CV] END ....................C=0.001, epsilon=1, gamma=1e-08; total time=   1.0s\n",
            "[CV] END ....................C=0.001, epsilon=1, gamma=1e-08; total time=   1.0s\n",
            "[CV] END ....................C=0.001, epsilon=1, gamma=1e-08; total time=   1.0s\n",
            "[CV] END ....................C=0.001, epsilon=1, gamma=1e-08; total time=   1.0s\n",
            "[CV] END ....................C=0.001, epsilon=1, gamma=1e-07; total time=   1.0s\n",
            "[CV] END ....................C=0.001, epsilon=1, gamma=1e-07; total time=   1.0s\n",
            "[CV] END ....................C=0.001, epsilon=1, gamma=1e-07; total time=   1.0s\n",
            "[CV] END ....................C=0.001, epsilon=1, gamma=1e-07; total time=   1.0s\n",
            "[CV] END ....................C=0.001, epsilon=1, gamma=1e-07; total time=   1.0s\n",
            "[CV] END ....................C=0.001, epsilon=1, gamma=1e-06; total time=   1.0s\n",
            "[CV] END ....................C=0.001, epsilon=1, gamma=1e-06; total time=   1.0s\n",
            "[CV] END ....................C=0.001, epsilon=1, gamma=1e-06; total time=   1.0s\n",
            "[CV] END ....................C=0.001, epsilon=1, gamma=1e-06; total time=   1.0s\n",
            "[CV] END ....................C=0.001, epsilon=1, gamma=1e-06; total time=   1.0s\n",
            "[CV] END ....................C=0.001, epsilon=1, gamma=1e-05; total time=   1.0s\n",
            "[CV] END ....................C=0.001, epsilon=1, gamma=1e-05; total time=   1.0s\n",
            "[CV] END ....................C=0.001, epsilon=1, gamma=1e-05; total time=   1.0s\n",
            "[CV] END ....................C=0.001, epsilon=1, gamma=1e-05; total time=   1.0s\n",
            "[CV] END ....................C=0.001, epsilon=1, gamma=1e-05; total time=   1.0s\n",
            "[CV] END ...................C=0.001, epsilon=1, gamma=0.0001; total time=   1.0s\n",
            "[CV] END ...................C=0.001, epsilon=1, gamma=0.0001; total time=   1.0s\n",
            "[CV] END ...................C=0.001, epsilon=1, gamma=0.0001; total time=   1.0s\n",
            "[CV] END ...................C=0.001, epsilon=1, gamma=0.0001; total time=   1.0s\n",
            "[CV] END ...................C=0.001, epsilon=1, gamma=0.0001; total time=   1.0s\n",
            "[CV] END ....................C=0.001, epsilon=1, gamma=0.001; total time=   1.0s\n",
            "[CV] END ....................C=0.001, epsilon=1, gamma=0.001; total time=   1.0s\n",
            "[CV] END ....................C=0.001, epsilon=1, gamma=0.001; total time=   1.4s\n",
            "[CV] END ....................C=0.001, epsilon=1, gamma=0.001; total time=   1.4s\n",
            "[CV] END ....................C=0.001, epsilon=1, gamma=0.001; total time=   1.2s\n",
            "[CV] END .....................C=0.001, epsilon=1, gamma=0.01; total time=   1.0s\n",
            "[CV] END .....................C=0.001, epsilon=1, gamma=0.01; total time=   1.0s\n",
            "[CV] END .....................C=0.001, epsilon=1, gamma=0.01; total time=   1.0s\n",
            "[CV] END .....................C=0.001, epsilon=1, gamma=0.01; total time=   1.0s\n",
            "[CV] END .....................C=0.001, epsilon=1, gamma=0.01; total time=   1.0s\n",
            "[CV] END ......................C=0.001, epsilon=1, gamma=0.1; total time=   0.9s\n",
            "[CV] END ......................C=0.001, epsilon=1, gamma=0.1; total time=   0.9s\n",
            "[CV] END ......................C=0.001, epsilon=1, gamma=0.1; total time=   0.9s\n",
            "[CV] END ......................C=0.001, epsilon=1, gamma=0.1; total time=   0.9s\n",
            "[CV] END ......................C=0.001, epsilon=1, gamma=0.1; total time=   0.9s\n",
            "[CV] END .................C=0.01, epsilon=0.001, gamma=1e-08; total time=   2.0s\n",
            "[CV] END .................C=0.01, epsilon=0.001, gamma=1e-08; total time=   2.0s\n",
            "[CV] END .................C=0.01, epsilon=0.001, gamma=1e-08; total time=   2.0s\n",
            "[CV] END .................C=0.01, epsilon=0.001, gamma=1e-08; total time=   2.0s\n",
            "[CV] END .................C=0.01, epsilon=0.001, gamma=1e-08; total time=   2.0s\n",
            "[CV] END .................C=0.01, epsilon=0.001, gamma=1e-07; total time=   2.0s\n",
            "[CV] END .................C=0.01, epsilon=0.001, gamma=1e-07; total time=   2.0s\n",
            "[CV] END .................C=0.01, epsilon=0.001, gamma=1e-07; total time=   2.8s\n",
            "[CV] END .................C=0.01, epsilon=0.001, gamma=1e-07; total time=   2.2s\n",
            "[CV] END .................C=0.01, epsilon=0.001, gamma=1e-07; total time=   1.9s\n",
            "[CV] END .................C=0.01, epsilon=0.001, gamma=1e-06; total time=   2.0s\n",
            "[CV] END .................C=0.01, epsilon=0.001, gamma=1e-06; total time=   2.0s\n",
            "[CV] END .................C=0.01, epsilon=0.001, gamma=1e-06; total time=   2.0s\n",
            "[CV] END .................C=0.01, epsilon=0.001, gamma=1e-06; total time=   2.0s\n",
            "[CV] END .................C=0.01, epsilon=0.001, gamma=1e-06; total time=   2.0s\n",
            "[CV] END .................C=0.01, epsilon=0.001, gamma=1e-05; total time=   2.0s\n",
            "[CV] END .................C=0.01, epsilon=0.001, gamma=1e-05; total time=   2.0s\n",
            "[CV] END .................C=0.01, epsilon=0.001, gamma=1e-05; total time=   2.0s\n",
            "[CV] END .................C=0.01, epsilon=0.001, gamma=1e-05; total time=   2.0s\n",
            "[CV] END .................C=0.01, epsilon=0.001, gamma=1e-05; total time=   2.0s\n",
            "[CV] END ................C=0.01, epsilon=0.001, gamma=0.0001; total time=   2.0s\n",
            "[CV] END ................C=0.01, epsilon=0.001, gamma=0.0001; total time=   2.0s\n",
            "[CV] END ................C=0.01, epsilon=0.001, gamma=0.0001; total time=   2.0s\n",
            "[CV] END ................C=0.01, epsilon=0.001, gamma=0.0001; total time=   2.0s\n",
            "[CV] END ................C=0.01, epsilon=0.001, gamma=0.0001; total time=   2.0s\n",
            "[CV] END .................C=0.01, epsilon=0.001, gamma=0.001; total time=   2.0s\n",
            "[CV] END .................C=0.01, epsilon=0.001, gamma=0.001; total time=   2.0s\n",
            "[CV] END .................C=0.01, epsilon=0.001, gamma=0.001; total time=   2.0s\n",
            "[CV] END .................C=0.01, epsilon=0.001, gamma=0.001; total time=   2.0s\n",
            "[CV] END .................C=0.01, epsilon=0.001, gamma=0.001; total time=   2.0s\n",
            "[CV] END ..................C=0.01, epsilon=0.001, gamma=0.01; total time=   2.0s\n",
            "[CV] END ..................C=0.01, epsilon=0.001, gamma=0.01; total time=   2.0s\n",
            "[CV] END ..................C=0.01, epsilon=0.001, gamma=0.01; total time=   2.0s\n",
            "[CV] END ..................C=0.01, epsilon=0.001, gamma=0.01; total time=   2.0s\n",
            "[CV] END ..................C=0.01, epsilon=0.001, gamma=0.01; total time=   2.0s\n",
            "[CV] END ...................C=0.01, epsilon=0.001, gamma=0.1; total time=   2.0s\n",
            "[CV] END ...................C=0.01, epsilon=0.001, gamma=0.1; total time=   2.0s\n",
            "[CV] END ...................C=0.01, epsilon=0.001, gamma=0.1; total time=   2.0s\n",
            "[CV] END ...................C=0.01, epsilon=0.001, gamma=0.1; total time=   2.0s\n",
            "[CV] END ...................C=0.01, epsilon=0.001, gamma=0.1; total time=   2.3s\n",
            "[CV] END ..................C=0.01, epsilon=0.01, gamma=1e-08; total time=   3.0s\n",
            "[CV] END ..................C=0.01, epsilon=0.01, gamma=1e-08; total time=   2.1s\n",
            "[CV] END ..................C=0.01, epsilon=0.01, gamma=1e-08; total time=   2.0s\n",
            "[CV] END ..................C=0.01, epsilon=0.01, gamma=1e-08; total time=   2.0s\n",
            "[CV] END ..................C=0.01, epsilon=0.01, gamma=1e-08; total time=   2.0s\n",
            "[CV] END ..................C=0.01, epsilon=0.01, gamma=1e-07; total time=   2.0s\n",
            "[CV] END ..................C=0.01, epsilon=0.01, gamma=1e-07; total time=   1.9s\n",
            "[CV] END ..................C=0.01, epsilon=0.01, gamma=1e-07; total time=   1.9s\n",
            "[CV] END ..................C=0.01, epsilon=0.01, gamma=1e-07; total time=   2.0s\n",
            "[CV] END ..................C=0.01, epsilon=0.01, gamma=1e-07; total time=   2.0s\n",
            "[CV] END ..................C=0.01, epsilon=0.01, gamma=1e-06; total time=   2.0s\n",
            "[CV] END ..................C=0.01, epsilon=0.01, gamma=1e-06; total time=   1.9s\n",
            "[CV] END ..................C=0.01, epsilon=0.01, gamma=1e-06; total time=   2.0s\n",
            "[CV] END ..................C=0.01, epsilon=0.01, gamma=1e-06; total time=   2.0s\n",
            "[CV] END ..................C=0.01, epsilon=0.01, gamma=1e-06; total time=   1.9s\n",
            "[CV] END ..................C=0.01, epsilon=0.01, gamma=1e-05; total time=   2.0s\n",
            "[CV] END ..................C=0.01, epsilon=0.01, gamma=1e-05; total time=   1.9s\n",
            "[CV] END ..................C=0.01, epsilon=0.01, gamma=1e-05; total time=   2.0s\n",
            "[CV] END ..................C=0.01, epsilon=0.01, gamma=1e-05; total time=   2.0s\n",
            "[CV] END ..................C=0.01, epsilon=0.01, gamma=1e-05; total time=   2.0s\n",
            "[CV] END .................C=0.01, epsilon=0.01, gamma=0.0001; total time=   2.0s\n",
            "[CV] END .................C=0.01, epsilon=0.01, gamma=0.0001; total time=   2.0s\n",
            "[CV] END .................C=0.01, epsilon=0.01, gamma=0.0001; total time=   2.0s\n",
            "[CV] END .................C=0.01, epsilon=0.01, gamma=0.0001; total time=   2.0s\n",
            "[CV] END .................C=0.01, epsilon=0.01, gamma=0.0001; total time=   2.0s\n",
            "[CV] END ..................C=0.01, epsilon=0.01, gamma=0.001; total time=   2.0s\n",
            "[CV] END ..................C=0.01, epsilon=0.01, gamma=0.001; total time=   2.0s\n",
            "[CV] END ..................C=0.01, epsilon=0.01, gamma=0.001; total time=   2.0s\n",
            "[CV] END ..................C=0.01, epsilon=0.01, gamma=0.001; total time=   2.0s\n",
            "[CV] END ..................C=0.01, epsilon=0.01, gamma=0.001; total time=   2.0s\n",
            "[CV] END ...................C=0.01, epsilon=0.01, gamma=0.01; total time=   2.0s\n",
            "[CV] END ...................C=0.01, epsilon=0.01, gamma=0.01; total time=   2.1s\n",
            "[CV] END ...................C=0.01, epsilon=0.01, gamma=0.01; total time=   2.9s\n",
            "[CV] END ...................C=0.01, epsilon=0.01, gamma=0.01; total time=   2.2s\n",
            "[CV] END ...................C=0.01, epsilon=0.01, gamma=0.01; total time=   2.0s\n",
            "[CV] END ....................C=0.01, epsilon=0.01, gamma=0.1; total time=   2.0s\n",
            "[CV] END ....................C=0.01, epsilon=0.01, gamma=0.1; total time=   2.0s\n",
            "[CV] END ....................C=0.01, epsilon=0.01, gamma=0.1; total time=   2.0s\n",
            "[CV] END ....................C=0.01, epsilon=0.01, gamma=0.1; total time=   2.0s\n",
            "[CV] END ....................C=0.01, epsilon=0.01, gamma=0.1; total time=   2.0s\n",
            "[CV] END ...................C=0.01, epsilon=0.1, gamma=1e-08; total time=   1.9s\n",
            "[CV] END ...................C=0.01, epsilon=0.1, gamma=1e-08; total time=   1.9s\n",
            "[CV] END ...................C=0.01, epsilon=0.1, gamma=1e-08; total time=   1.9s\n",
            "[CV] END ...................C=0.01, epsilon=0.1, gamma=1e-08; total time=   1.9s\n",
            "[CV] END ...................C=0.01, epsilon=0.1, gamma=1e-08; total time=   1.9s\n",
            "[CV] END ...................C=0.01, epsilon=0.1, gamma=1e-07; total time=   1.9s\n",
            "[CV] END ...................C=0.01, epsilon=0.1, gamma=1e-07; total time=   1.9s\n",
            "[CV] END ...................C=0.01, epsilon=0.1, gamma=1e-07; total time=   1.9s\n",
            "[CV] END ...................C=0.01, epsilon=0.1, gamma=1e-07; total time=   1.9s\n",
            "[CV] END ...................C=0.01, epsilon=0.1, gamma=1e-07; total time=   1.9s\n",
            "[CV] END ...................C=0.01, epsilon=0.1, gamma=1e-06; total time=   1.9s\n",
            "[CV] END ...................C=0.01, epsilon=0.1, gamma=1e-06; total time=   1.9s\n",
            "[CV] END ...................C=0.01, epsilon=0.1, gamma=1e-06; total time=   1.9s\n",
            "[CV] END ...................C=0.01, epsilon=0.1, gamma=1e-06; total time=   1.9s\n",
            "[CV] END ...................C=0.01, epsilon=0.1, gamma=1e-06; total time=   1.9s\n",
            "[CV] END ...................C=0.01, epsilon=0.1, gamma=1e-05; total time=   1.9s\n",
            "[CV] END ...................C=0.01, epsilon=0.1, gamma=1e-05; total time=   1.9s\n",
            "[CV] END ...................C=0.01, epsilon=0.1, gamma=1e-05; total time=   1.9s\n",
            "[CV] END ...................C=0.01, epsilon=0.1, gamma=1e-05; total time=   1.9s\n",
            "[CV] END ...................C=0.01, epsilon=0.1, gamma=1e-05; total time=   1.9s\n",
            "[CV] END ..................C=0.01, epsilon=0.1, gamma=0.0001; total time=   1.9s\n",
            "[CV] END ..................C=0.01, epsilon=0.1, gamma=0.0001; total time=   1.9s\n",
            "[CV] END ..................C=0.01, epsilon=0.1, gamma=0.0001; total time=   1.9s\n",
            "[CV] END ..................C=0.01, epsilon=0.1, gamma=0.0001; total time=   1.9s\n",
            "[CV] END ..................C=0.01, epsilon=0.1, gamma=0.0001; total time=   2.3s\n",
            "[CV] END ...................C=0.01, epsilon=0.1, gamma=0.001; total time=   2.7s\n",
            "[CV] END ...................C=0.01, epsilon=0.1, gamma=0.001; total time=   1.9s\n",
            "[CV] END ...................C=0.01, epsilon=0.1, gamma=0.001; total time=   1.9s\n",
            "[CV] END ...................C=0.01, epsilon=0.1, gamma=0.001; total time=   1.9s\n",
            "[CV] END ...................C=0.01, epsilon=0.1, gamma=0.001; total time=   1.9s\n",
            "[CV] END ....................C=0.01, epsilon=0.1, gamma=0.01; total time=   1.9s\n",
            "[CV] END ....................C=0.01, epsilon=0.1, gamma=0.01; total time=   1.9s\n",
            "[CV] END ....................C=0.01, epsilon=0.1, gamma=0.01; total time=   1.9s\n",
            "[CV] END ....................C=0.01, epsilon=0.1, gamma=0.01; total time=   1.9s\n",
            "[CV] END ....................C=0.01, epsilon=0.1, gamma=0.01; total time=   1.9s\n",
            "[CV] END .....................C=0.01, epsilon=0.1, gamma=0.1; total time=   1.8s\n",
            "[CV] END .....................C=0.01, epsilon=0.1, gamma=0.1; total time=   2.2s\n",
            "[CV] END .....................C=0.01, epsilon=0.1, gamma=0.1; total time=   2.7s\n",
            "[CV] END .....................C=0.01, epsilon=0.1, gamma=0.1; total time=   1.9s\n",
            "[CV] END .....................C=0.01, epsilon=0.1, gamma=0.1; total time=   1.8s\n",
            "[CV] END .....................C=0.01, epsilon=1, gamma=1e-08; total time=   1.0s\n",
            "[CV] END .....................C=0.01, epsilon=1, gamma=1e-08; total time=   1.0s\n",
            "[CV] END .....................C=0.01, epsilon=1, gamma=1e-08; total time=   1.0s\n",
            "[CV] END .....................C=0.01, epsilon=1, gamma=1e-08; total time=   1.0s\n",
            "[CV] END .....................C=0.01, epsilon=1, gamma=1e-08; total time=   1.0s\n",
            "[CV] END .....................C=0.01, epsilon=1, gamma=1e-07; total time=   1.0s\n",
            "[CV] END .....................C=0.01, epsilon=1, gamma=1e-07; total time=   1.0s\n",
            "[CV] END .....................C=0.01, epsilon=1, gamma=1e-07; total time=   1.0s\n",
            "[CV] END .....................C=0.01, epsilon=1, gamma=1e-07; total time=   1.0s\n",
            "[CV] END .....................C=0.01, epsilon=1, gamma=1e-07; total time=   1.0s\n",
            "[CV] END .....................C=0.01, epsilon=1, gamma=1e-06; total time=   1.0s\n",
            "[CV] END .....................C=0.01, epsilon=1, gamma=1e-06; total time=   1.0s\n",
            "[CV] END .....................C=0.01, epsilon=1, gamma=1e-06; total time=   1.0s\n",
            "[CV] END .....................C=0.01, epsilon=1, gamma=1e-06; total time=   1.0s\n",
            "[CV] END .....................C=0.01, epsilon=1, gamma=1e-06; total time=   1.0s\n",
            "[CV] END .....................C=0.01, epsilon=1, gamma=1e-05; total time=   1.0s\n",
            "[CV] END .....................C=0.01, epsilon=1, gamma=1e-05; total time=   1.0s\n",
            "[CV] END .....................C=0.01, epsilon=1, gamma=1e-05; total time=   1.0s\n",
            "[CV] END .....................C=0.01, epsilon=1, gamma=1e-05; total time=   1.0s\n",
            "[CV] END .....................C=0.01, epsilon=1, gamma=1e-05; total time=   1.0s\n",
            "[CV] END ....................C=0.01, epsilon=1, gamma=0.0001; total time=   1.0s\n",
            "[CV] END ....................C=0.01, epsilon=1, gamma=0.0001; total time=   1.0s\n",
            "[CV] END ....................C=0.01, epsilon=1, gamma=0.0001; total time=   1.0s\n",
            "[CV] END ....................C=0.01, epsilon=1, gamma=0.0001; total time=   1.0s\n",
            "[CV] END ....................C=0.01, epsilon=1, gamma=0.0001; total time=   1.0s\n",
            "[CV] END .....................C=0.01, epsilon=1, gamma=0.001; total time=   1.2s\n",
            "[CV] END .....................C=0.01, epsilon=1, gamma=0.001; total time=   1.4s\n",
            "[CV] END .....................C=0.01, epsilon=1, gamma=0.001; total time=   1.4s\n",
            "[CV] END .....................C=0.01, epsilon=1, gamma=0.001; total time=   1.1s\n",
            "[CV] END .....................C=0.01, epsilon=1, gamma=0.001; total time=   1.0s\n",
            "[CV] END ......................C=0.01, epsilon=1, gamma=0.01; total time=   0.9s\n",
            "[CV] END ......................C=0.01, epsilon=1, gamma=0.01; total time=   0.9s\n",
            "[CV] END ......................C=0.01, epsilon=1, gamma=0.01; total time=   0.9s\n",
            "[CV] END ......................C=0.01, epsilon=1, gamma=0.01; total time=   1.0s\n",
            "[CV] END ......................C=0.01, epsilon=1, gamma=0.01; total time=   1.3s\n",
            "[CV] END .......................C=0.01, epsilon=1, gamma=0.1; total time=   1.1s\n",
            "[CV] END .......................C=0.01, epsilon=1, gamma=0.1; total time=   1.1s\n",
            "[CV] END .......................C=0.01, epsilon=1, gamma=0.1; total time=   0.8s\n",
            "[CV] END .......................C=0.01, epsilon=1, gamma=0.1; total time=   0.8s\n",
            "[CV] END .......................C=0.01, epsilon=1, gamma=0.1; total time=   0.8s\n",
            "[CV] END ..................C=0.1, epsilon=0.001, gamma=1e-08; total time=   2.0s\n",
            "[CV] END ..................C=0.1, epsilon=0.001, gamma=1e-08; total time=   2.0s\n",
            "[CV] END ..................C=0.1, epsilon=0.001, gamma=1e-08; total time=   2.0s\n",
            "[CV] END ..................C=0.1, epsilon=0.001, gamma=1e-08; total time=   2.0s\n",
            "[CV] END ..................C=0.1, epsilon=0.001, gamma=1e-08; total time=   2.0s\n",
            "[CV] END ..................C=0.1, epsilon=0.001, gamma=1e-07; total time=   2.0s\n",
            "[CV] END ..................C=0.1, epsilon=0.001, gamma=1e-07; total time=   2.0s\n",
            "[CV] END ..................C=0.1, epsilon=0.001, gamma=1e-07; total time=   2.0s\n",
            "[CV] END ..................C=0.1, epsilon=0.001, gamma=1e-07; total time=   2.0s\n",
            "[CV] END ..................C=0.1, epsilon=0.001, gamma=1e-07; total time=   2.0s\n",
            "[CV] END ..................C=0.1, epsilon=0.001, gamma=1e-06; total time=   2.0s\n",
            "[CV] END ..................C=0.1, epsilon=0.001, gamma=1e-06; total time=   2.0s\n",
            "[CV] END ..................C=0.1, epsilon=0.001, gamma=1e-06; total time=   2.0s\n",
            "[CV] END ..................C=0.1, epsilon=0.001, gamma=1e-06; total time=   2.0s\n",
            "[CV] END ..................C=0.1, epsilon=0.001, gamma=1e-06; total time=   2.0s\n",
            "[CV] END ..................C=0.1, epsilon=0.001, gamma=1e-05; total time=   2.0s\n",
            "[CV] END ..................C=0.1, epsilon=0.001, gamma=1e-05; total time=   2.0s\n",
            "[CV] END ..................C=0.1, epsilon=0.001, gamma=1e-05; total time=   2.0s\n",
            "[CV] END ..................C=0.1, epsilon=0.001, gamma=1e-05; total time=   2.0s\n",
            "[CV] END ..................C=0.1, epsilon=0.001, gamma=1e-05; total time=   2.0s\n",
            "[CV] END .................C=0.1, epsilon=0.001, gamma=0.0001; total time=   2.0s\n",
            "[CV] END .................C=0.1, epsilon=0.001, gamma=0.0001; total time=   2.0s\n",
            "[CV] END .................C=0.1, epsilon=0.001, gamma=0.0001; total time=   2.0s\n",
            "[CV] END .................C=0.1, epsilon=0.001, gamma=0.0001; total time=   2.0s\n",
            "[CV] END .................C=0.1, epsilon=0.001, gamma=0.0001; total time=   2.0s\n",
            "[CV] END ..................C=0.1, epsilon=0.001, gamma=0.001; total time=   2.0s\n",
            "[CV] END ..................C=0.1, epsilon=0.001, gamma=0.001; total time=   2.0s\n",
            "[CV] END ..................C=0.1, epsilon=0.001, gamma=0.001; total time=   2.0s\n",
            "[CV] END ..................C=0.1, epsilon=0.001, gamma=0.001; total time=   2.0s\n",
            "[CV] END ..................C=0.1, epsilon=0.001, gamma=0.001; total time=   2.0s\n",
            "[CV] END ...................C=0.1, epsilon=0.001, gamma=0.01; total time=   2.4s\n",
            "[CV] END ...................C=0.1, epsilon=0.001, gamma=0.01; total time=   2.8s\n",
            "[CV] END ...................C=0.1, epsilon=0.001, gamma=0.01; total time=   2.0s\n",
            "[CV] END ...................C=0.1, epsilon=0.001, gamma=0.01; total time=   2.0s\n",
            "[CV] END ...................C=0.1, epsilon=0.001, gamma=0.01; total time=   2.0s\n",
            "[CV] END ....................C=0.1, epsilon=0.001, gamma=0.1; total time=   2.0s\n",
            "[CV] END ....................C=0.1, epsilon=0.001, gamma=0.1; total time=   2.0s\n",
            "[CV] END ....................C=0.1, epsilon=0.001, gamma=0.1; total time=   2.0s\n",
            "[CV] END ....................C=0.1, epsilon=0.001, gamma=0.1; total time=   2.0s\n",
            "[CV] END ....................C=0.1, epsilon=0.001, gamma=0.1; total time=   2.0s\n",
            "[CV] END ...................C=0.1, epsilon=0.01, gamma=1e-08; total time=   2.0s\n",
            "[CV] END ...................C=0.1, epsilon=0.01, gamma=1e-08; total time=   2.0s\n",
            "[CV] END ...................C=0.1, epsilon=0.01, gamma=1e-08; total time=   1.9s\n",
            "[CV] END ...................C=0.1, epsilon=0.01, gamma=1e-08; total time=   2.0s\n",
            "[CV] END ...................C=0.1, epsilon=0.01, gamma=1e-08; total time=   2.0s\n",
            "[CV] END ...................C=0.1, epsilon=0.01, gamma=1e-07; total time=   2.0s\n",
            "[CV] END ...................C=0.1, epsilon=0.01, gamma=1e-07; total time=   2.0s\n",
            "[CV] END ...................C=0.1, epsilon=0.01, gamma=1e-07; total time=   2.0s\n",
            "[CV] END ...................C=0.1, epsilon=0.01, gamma=1e-07; total time=   2.0s\n",
            "[CV] END ...................C=0.1, epsilon=0.01, gamma=1e-07; total time=   2.0s\n",
            "[CV] END ...................C=0.1, epsilon=0.01, gamma=1e-06; total time=   2.0s\n",
            "[CV] END ...................C=0.1, epsilon=0.01, gamma=1e-06; total time=   2.0s\n",
            "[CV] END ...................C=0.1, epsilon=0.01, gamma=1e-06; total time=   2.0s\n",
            "[CV] END ...................C=0.1, epsilon=0.01, gamma=1e-06; total time=   2.0s\n",
            "[CV] END ...................C=0.1, epsilon=0.01, gamma=1e-06; total time=   2.0s\n",
            "[CV] END ...................C=0.1, epsilon=0.01, gamma=1e-05; total time=   2.0s\n",
            "[CV] END ...................C=0.1, epsilon=0.01, gamma=1e-05; total time=   2.0s\n",
            "[CV] END ...................C=0.1, epsilon=0.01, gamma=1e-05; total time=   2.0s\n",
            "[CV] END ...................C=0.1, epsilon=0.01, gamma=1e-05; total time=   2.0s\n",
            "[CV] END ...................C=0.1, epsilon=0.01, gamma=1e-05; total time=   2.0s\n",
            "[CV] END ..................C=0.1, epsilon=0.01, gamma=0.0001; total time=   2.0s\n",
            "[CV] END ..................C=0.1, epsilon=0.01, gamma=0.0001; total time=   2.0s\n",
            "[CV] END ..................C=0.1, epsilon=0.01, gamma=0.0001; total time=   2.0s\n",
            "[CV] END ..................C=0.1, epsilon=0.01, gamma=0.0001; total time=   2.7s\n",
            "[CV] END ..................C=0.1, epsilon=0.01, gamma=0.0001; total time=   2.5s\n",
            "[CV] END ...................C=0.1, epsilon=0.01, gamma=0.001; total time=   2.0s\n",
            "[CV] END ...................C=0.1, epsilon=0.01, gamma=0.001; total time=   2.0s\n",
            "[CV] END ...................C=0.1, epsilon=0.01, gamma=0.001; total time=   2.0s\n",
            "[CV] END ...................C=0.1, epsilon=0.01, gamma=0.001; total time=   2.0s\n",
            "[CV] END ...................C=0.1, epsilon=0.01, gamma=0.001; total time=   2.0s\n",
            "[CV] END ....................C=0.1, epsilon=0.01, gamma=0.01; total time=   2.0s\n",
            "[CV] END ....................C=0.1, epsilon=0.01, gamma=0.01; total time=   2.0s\n",
            "[CV] END ....................C=0.1, epsilon=0.01, gamma=0.01; total time=   2.0s\n",
            "[CV] END ....................C=0.1, epsilon=0.01, gamma=0.01; total time=   2.0s\n",
            "[CV] END ....................C=0.1, epsilon=0.01, gamma=0.01; total time=   2.0s\n",
            "[CV] END .....................C=0.1, epsilon=0.01, gamma=0.1; total time=   2.0s\n",
            "[CV] END .....................C=0.1, epsilon=0.01, gamma=0.1; total time=   2.0s\n",
            "[CV] END .....................C=0.1, epsilon=0.01, gamma=0.1; total time=   2.0s\n",
            "[CV] END .....................C=0.1, epsilon=0.01, gamma=0.1; total time=   2.0s\n",
            "[CV] END .....................C=0.1, epsilon=0.01, gamma=0.1; total time=   2.0s\n",
            "[CV] END ....................C=0.1, epsilon=0.1, gamma=1e-08; total time=   1.9s\n",
            "[CV] END ....................C=0.1, epsilon=0.1, gamma=1e-08; total time=   1.9s\n",
            "[CV] END ....................C=0.1, epsilon=0.1, gamma=1e-08; total time=   1.9s\n",
            "[CV] END ....................C=0.1, epsilon=0.1, gamma=1e-08; total time=   1.9s\n",
            "[CV] END ....................C=0.1, epsilon=0.1, gamma=1e-08; total time=   1.9s\n",
            "[CV] END ....................C=0.1, epsilon=0.1, gamma=1e-07; total time=   1.9s\n",
            "[CV] END ....................C=0.1, epsilon=0.1, gamma=1e-07; total time=   1.9s\n",
            "[CV] END ....................C=0.1, epsilon=0.1, gamma=1e-07; total time=   1.9s\n",
            "[CV] END ....................C=0.1, epsilon=0.1, gamma=1e-07; total time=   1.9s\n",
            "[CV] END ....................C=0.1, epsilon=0.1, gamma=1e-07; total time=   1.9s\n",
            "[CV] END ....................C=0.1, epsilon=0.1, gamma=1e-06; total time=   1.9s\n",
            "[CV] END ....................C=0.1, epsilon=0.1, gamma=1e-06; total time=   1.9s\n",
            "[CV] END ....................C=0.1, epsilon=0.1, gamma=1e-06; total time=   1.9s\n",
            "[CV] END ....................C=0.1, epsilon=0.1, gamma=1e-06; total time=   1.9s\n",
            "[CV] END ....................C=0.1, epsilon=0.1, gamma=1e-06; total time=   1.9s\n",
            "[CV] END ....................C=0.1, epsilon=0.1, gamma=1e-05; total time=   2.2s\n",
            "[CV] END ....................C=0.1, epsilon=0.1, gamma=1e-05; total time=   2.7s\n",
            "[CV] END ....................C=0.1, epsilon=0.1, gamma=1e-05; total time=   2.0s\n",
            "[CV] END ....................C=0.1, epsilon=0.1, gamma=1e-05; total time=   1.9s\n",
            "[CV] END ....................C=0.1, epsilon=0.1, gamma=1e-05; total time=   1.9s\n",
            "[CV] END ...................C=0.1, epsilon=0.1, gamma=0.0001; total time=   1.9s\n",
            "[CV] END ...................C=0.1, epsilon=0.1, gamma=0.0001; total time=   1.9s\n",
            "[CV] END ...................C=0.1, epsilon=0.1, gamma=0.0001; total time=   1.9s\n",
            "[CV] END ...................C=0.1, epsilon=0.1, gamma=0.0001; total time=   1.9s\n",
            "[CV] END ...................C=0.1, epsilon=0.1, gamma=0.0001; total time=   1.9s\n",
            "[CV] END ....................C=0.1, epsilon=0.1, gamma=0.001; total time=   1.9s\n",
            "[CV] END ....................C=0.1, epsilon=0.1, gamma=0.001; total time=   1.9s\n",
            "[CV] END ....................C=0.1, epsilon=0.1, gamma=0.001; total time=   1.9s\n",
            "[CV] END ....................C=0.1, epsilon=0.1, gamma=0.001; total time=   1.9s\n",
            "[CV] END ....................C=0.1, epsilon=0.1, gamma=0.001; total time=   1.9s\n",
            "[CV] END .....................C=0.1, epsilon=0.1, gamma=0.01; total time=   1.8s\n",
            "[CV] END .....................C=0.1, epsilon=0.1, gamma=0.01; total time=   1.9s\n",
            "[CV] END .....................C=0.1, epsilon=0.1, gamma=0.01; total time=   1.8s\n",
            "[CV] END .....................C=0.1, epsilon=0.1, gamma=0.01; total time=   1.9s\n",
            "[CV] END .....................C=0.1, epsilon=0.1, gamma=0.01; total time=   1.9s\n",
            "[CV] END ......................C=0.1, epsilon=0.1, gamma=0.1; total time=   2.3s\n",
            "[CV] END ......................C=0.1, epsilon=0.1, gamma=0.1; total time=   2.4s\n",
            "[CV] END ......................C=0.1, epsilon=0.1, gamma=0.1; total time=   1.8s\n",
            "[CV] END ......................C=0.1, epsilon=0.1, gamma=0.1; total time=   1.8s\n",
            "[CV] END ......................C=0.1, epsilon=0.1, gamma=0.1; total time=   1.8s\n",
            "[CV] END ......................C=0.1, epsilon=1, gamma=1e-08; total time=   1.0s\n",
            "[CV] END ......................C=0.1, epsilon=1, gamma=1e-08; total time=   1.0s\n",
            "[CV] END ......................C=0.1, epsilon=1, gamma=1e-08; total time=   1.0s\n",
            "[CV] END ......................C=0.1, epsilon=1, gamma=1e-08; total time=   1.0s\n",
            "[CV] END ......................C=0.1, epsilon=1, gamma=1e-08; total time=   1.0s\n",
            "[CV] END ......................C=0.1, epsilon=1, gamma=1e-07; total time=   1.0s\n",
            "[CV] END ......................C=0.1, epsilon=1, gamma=1e-07; total time=   1.0s\n",
            "[CV] END ......................C=0.1, epsilon=1, gamma=1e-07; total time=   1.0s\n",
            "[CV] END ......................C=0.1, epsilon=1, gamma=1e-07; total time=   1.0s\n",
            "[CV] END ......................C=0.1, epsilon=1, gamma=1e-07; total time=   1.0s\n",
            "[CV] END ......................C=0.1, epsilon=1, gamma=1e-06; total time=   1.0s\n",
            "[CV] END ......................C=0.1, epsilon=1, gamma=1e-06; total time=   1.0s\n",
            "[CV] END ......................C=0.1, epsilon=1, gamma=1e-06; total time=   1.0s\n",
            "[CV] END ......................C=0.1, epsilon=1, gamma=1e-06; total time=   1.0s\n",
            "[CV] END ......................C=0.1, epsilon=1, gamma=1e-06; total time=   1.0s\n",
            "[CV] END ......................C=0.1, epsilon=1, gamma=1e-05; total time=   1.0s\n",
            "[CV] END ......................C=0.1, epsilon=1, gamma=1e-05; total time=   1.4s\n",
            "[CV] END ......................C=0.1, epsilon=1, gamma=1e-05; total time=   1.4s\n",
            "[CV] END ......................C=0.1, epsilon=1, gamma=1e-05; total time=   1.2s\n",
            "[CV] END ......................C=0.1, epsilon=1, gamma=1e-05; total time=   1.0s\n",
            "[CV] END .....................C=0.1, epsilon=1, gamma=0.0001; total time=   1.1s\n",
            "[CV] END .....................C=0.1, epsilon=1, gamma=0.0001; total time=   1.5s\n",
            "[CV] END .....................C=0.1, epsilon=1, gamma=0.0001; total time=   1.4s\n",
            "[CV] END .....................C=0.1, epsilon=1, gamma=0.0001; total time=   1.2s\n",
            "[CV] END .....................C=0.1, epsilon=1, gamma=0.0001; total time=   1.0s\n",
            "[CV] END ......................C=0.1, epsilon=1, gamma=0.001; total time=   0.8s\n",
            "[CV] END ......................C=0.1, epsilon=1, gamma=0.001; total time=   0.8s\n",
            "[CV] END ......................C=0.1, epsilon=1, gamma=0.001; total time=   0.8s\n",
            "[CV] END ......................C=0.1, epsilon=1, gamma=0.001; total time=   0.8s\n",
            "[CV] END ......................C=0.1, epsilon=1, gamma=0.001; total time=   0.8s\n",
            "[CV] END .......................C=0.1, epsilon=1, gamma=0.01; total time=   0.5s\n",
            "[CV] END .......................C=0.1, epsilon=1, gamma=0.01; total time=   0.6s\n",
            "[CV] END .......................C=0.1, epsilon=1, gamma=0.01; total time=   0.6s\n",
            "[CV] END .......................C=0.1, epsilon=1, gamma=0.01; total time=   0.6s\n",
            "[CV] END .......................C=0.1, epsilon=1, gamma=0.01; total time=   0.6s\n",
            "[CV] END ........................C=0.1, epsilon=1, gamma=0.1; total time=   0.5s\n",
            "[CV] END ........................C=0.1, epsilon=1, gamma=0.1; total time=   0.5s\n",
            "[CV] END ........................C=0.1, epsilon=1, gamma=0.1; total time=   0.5s\n",
            "[CV] END ........................C=0.1, epsilon=1, gamma=0.1; total time=   0.5s\n",
            "[CV] END ........................C=0.1, epsilon=1, gamma=0.1; total time=   0.5s\n",
            "[CV] END ....................C=1, epsilon=0.001, gamma=1e-08; total time=   2.0s\n",
            "[CV] END ....................C=1, epsilon=0.001, gamma=1e-08; total time=   2.0s\n",
            "[CV] END ....................C=1, epsilon=0.001, gamma=1e-08; total time=   2.0s\n",
            "[CV] END ....................C=1, epsilon=0.001, gamma=1e-08; total time=   2.0s\n",
            "[CV] END ....................C=1, epsilon=0.001, gamma=1e-08; total time=   2.0s\n",
            "[CV] END ....................C=1, epsilon=0.001, gamma=1e-07; total time=   1.9s\n",
            "[CV] END ....................C=1, epsilon=0.001, gamma=1e-07; total time=   2.0s\n",
            "[CV] END ....................C=1, epsilon=0.001, gamma=1e-07; total time=   2.0s\n",
            "[CV] END ....................C=1, epsilon=0.001, gamma=1e-07; total time=   2.0s\n",
            "[CV] END ....................C=1, epsilon=0.001, gamma=1e-07; total time=   1.9s\n",
            "[CV] END ....................C=1, epsilon=0.001, gamma=1e-06; total time=   2.0s\n",
            "[CV] END ....................C=1, epsilon=0.001, gamma=1e-06; total time=   2.0s\n",
            "[CV] END ....................C=1, epsilon=0.001, gamma=1e-06; total time=   2.0s\n",
            "[CV] END ....................C=1, epsilon=0.001, gamma=1e-06; total time=   2.0s\n",
            "[CV] END ....................C=1, epsilon=0.001, gamma=1e-06; total time=   2.0s\n",
            "[CV] END ....................C=1, epsilon=0.001, gamma=1e-05; total time=   2.0s\n",
            "[CV] END ....................C=1, epsilon=0.001, gamma=1e-05; total time=   2.0s\n",
            "[CV] END ....................C=1, epsilon=0.001, gamma=1e-05; total time=   2.0s\n",
            "[CV] END ....................C=1, epsilon=0.001, gamma=1e-05; total time=   2.0s\n",
            "[CV] END ....................C=1, epsilon=0.001, gamma=1e-05; total time=   2.0s\n",
            "[CV] END ...................C=1, epsilon=0.001, gamma=0.0001; total time=   2.0s\n",
            "[CV] END ...................C=1, epsilon=0.001, gamma=0.0001; total time=   2.0s\n",
            "[CV] END ...................C=1, epsilon=0.001, gamma=0.0001; total time=   2.8s\n",
            "[CV] END ...................C=1, epsilon=0.001, gamma=0.0001; total time=   2.4s\n",
            "[CV] END ...................C=1, epsilon=0.001, gamma=0.0001; total time=   2.0s\n",
            "[CV] END ....................C=1, epsilon=0.001, gamma=0.001; total time=   2.0s\n",
            "[CV] END ....................C=1, epsilon=0.001, gamma=0.001; total time=   2.0s\n",
            "[CV] END ....................C=1, epsilon=0.001, gamma=0.001; total time=   2.0s\n",
            "[CV] END ....................C=1, epsilon=0.001, gamma=0.001; total time=   2.0s\n",
            "[CV] END ....................C=1, epsilon=0.001, gamma=0.001; total time=   2.0s\n",
            "[CV] END .....................C=1, epsilon=0.001, gamma=0.01; total time=   2.1s\n",
            "[CV] END .....................C=1, epsilon=0.001, gamma=0.01; total time=   2.1s\n",
            "[CV] END .....................C=1, epsilon=0.001, gamma=0.01; total time=   2.0s\n",
            "[CV] END .....................C=1, epsilon=0.001, gamma=0.01; total time=   2.1s\n",
            "[CV] END .....................C=1, epsilon=0.001, gamma=0.01; total time=   2.1s\n",
            "[CV] END ......................C=1, epsilon=0.001, gamma=0.1; total time=   2.1s\n",
            "[CV] END ......................C=1, epsilon=0.001, gamma=0.1; total time=   2.1s\n",
            "[CV] END ......................C=1, epsilon=0.001, gamma=0.1; total time=   2.2s\n",
            "[CV] END ......................C=1, epsilon=0.001, gamma=0.1; total time=   2.2s\n",
            "[CV] END ......................C=1, epsilon=0.001, gamma=0.1; total time=   2.1s\n",
            "[CV] END .....................C=1, epsilon=0.01, gamma=1e-08; total time=   1.9s\n",
            "[CV] END .....................C=1, epsilon=0.01, gamma=1e-08; total time=   1.9s\n",
            "[CV] END .....................C=1, epsilon=0.01, gamma=1e-08; total time=   1.9s\n",
            "[CV] END .....................C=1, epsilon=0.01, gamma=1e-08; total time=   1.9s\n",
            "[CV] END .....................C=1, epsilon=0.01, gamma=1e-08; total time=   1.9s\n",
            "[CV] END .....................C=1, epsilon=0.01, gamma=1e-07; total time=   1.9s\n",
            "[CV] END .....................C=1, epsilon=0.01, gamma=1e-07; total time=   2.0s\n",
            "[CV] END .....................C=1, epsilon=0.01, gamma=1e-07; total time=   2.0s\n",
            "[CV] END .....................C=1, epsilon=0.01, gamma=1e-07; total time=   1.9s\n",
            "[CV] END .....................C=1, epsilon=0.01, gamma=1e-07; total time=   1.9s\n",
            "[CV] END .....................C=1, epsilon=0.01, gamma=1e-06; total time=   1.9s\n",
            "[CV] END .....................C=1, epsilon=0.01, gamma=1e-06; total time=   1.9s\n",
            "[CV] END .....................C=1, epsilon=0.01, gamma=1e-06; total time=   1.9s\n",
            "[CV] END .....................C=1, epsilon=0.01, gamma=1e-06; total time=   2.0s\n",
            "[CV] END .....................C=1, epsilon=0.01, gamma=1e-06; total time=   2.6s\n",
            "[CV] END .....................C=1, epsilon=0.01, gamma=1e-05; total time=   2.5s\n",
            "[CV] END .....................C=1, epsilon=0.01, gamma=1e-05; total time=   2.0s\n",
            "[CV] END .....................C=1, epsilon=0.01, gamma=1e-05; total time=   2.0s\n",
            "[CV] END .....................C=1, epsilon=0.01, gamma=1e-05; total time=   2.0s\n",
            "[CV] END .....................C=1, epsilon=0.01, gamma=1e-05; total time=   1.9s\n",
            "[CV] END ....................C=1, epsilon=0.01, gamma=0.0001; total time=   2.0s\n",
            "[CV] END ....................C=1, epsilon=0.01, gamma=0.0001; total time=   2.0s\n",
            "[CV] END ....................C=1, epsilon=0.01, gamma=0.0001; total time=   2.0s\n",
            "[CV] END ....................C=1, epsilon=0.01, gamma=0.0001; total time=   2.0s\n",
            "[CV] END ....................C=1, epsilon=0.01, gamma=0.0001; total time=   2.0s\n",
            "[CV] END .....................C=1, epsilon=0.01, gamma=0.001; total time=   2.0s\n",
            "[CV] END .....................C=1, epsilon=0.01, gamma=0.001; total time=   2.0s\n",
            "[CV] END .....................C=1, epsilon=0.01, gamma=0.001; total time=   2.0s\n",
            "[CV] END .....................C=1, epsilon=0.01, gamma=0.001; total time=   2.0s\n",
            "[CV] END .....................C=1, epsilon=0.01, gamma=0.001; total time=   1.9s\n",
            "[CV] END ......................C=1, epsilon=0.01, gamma=0.01; total time=   2.0s\n",
            "[CV] END ......................C=1, epsilon=0.01, gamma=0.01; total time=   2.0s\n",
            "[CV] END ......................C=1, epsilon=0.01, gamma=0.01; total time=   2.0s\n",
            "[CV] END ......................C=1, epsilon=0.01, gamma=0.01; total time=   2.1s\n",
            "[CV] END ......................C=1, epsilon=0.01, gamma=0.01; total time=   2.0s\n",
            "[CV] END .......................C=1, epsilon=0.01, gamma=0.1; total time=   2.1s\n",
            "[CV] END .......................C=1, epsilon=0.01, gamma=0.1; total time=   2.1s\n",
            "[CV] END .......................C=1, epsilon=0.01, gamma=0.1; total time=   2.1s\n",
            "[CV] END .......................C=1, epsilon=0.01, gamma=0.1; total time=   2.1s\n",
            "[CV] END .......................C=1, epsilon=0.01, gamma=0.1; total time=   2.1s\n",
            "[CV] END ......................C=1, epsilon=0.1, gamma=1e-08; total time=   1.9s\n",
            "[CV] END ......................C=1, epsilon=0.1, gamma=1e-08; total time=   1.9s\n",
            "[CV] END ......................C=1, epsilon=0.1, gamma=1e-08; total time=   1.9s\n",
            "[CV] END ......................C=1, epsilon=0.1, gamma=1e-08; total time=   1.9s\n",
            "[CV] END ......................C=1, epsilon=0.1, gamma=1e-08; total time=   1.9s\n",
            "[CV] END ......................C=1, epsilon=0.1, gamma=1e-07; total time=   1.9s\n",
            "[CV] END ......................C=1, epsilon=0.1, gamma=1e-07; total time=   2.7s\n",
            "[CV] END ......................C=1, epsilon=0.1, gamma=1e-07; total time=   2.2s\n",
            "[CV] END ......................C=1, epsilon=0.1, gamma=1e-07; total time=   1.9s\n",
            "[CV] END ......................C=1, epsilon=0.1, gamma=1e-07; total time=   1.9s\n",
            "[CV] END ......................C=1, epsilon=0.1, gamma=1e-06; total time=   1.8s\n",
            "[CV] END ......................C=1, epsilon=0.1, gamma=1e-06; total time=   1.9s\n",
            "[CV] END ......................C=1, epsilon=0.1, gamma=1e-06; total time=   1.9s\n",
            "[CV] END ......................C=1, epsilon=0.1, gamma=1e-06; total time=   1.9s\n",
            "[CV] END ......................C=1, epsilon=0.1, gamma=1e-06; total time=   1.9s\n",
            "[CV] END ......................C=1, epsilon=0.1, gamma=1e-05; total time=   1.8s\n",
            "[CV] END ......................C=1, epsilon=0.1, gamma=1e-05; total time=   1.9s\n",
            "[CV] END ......................C=1, epsilon=0.1, gamma=1e-05; total time=   1.9s\n",
            "[CV] END ......................C=1, epsilon=0.1, gamma=1e-05; total time=   1.9s\n",
            "[CV] END ......................C=1, epsilon=0.1, gamma=1e-05; total time=   1.9s\n",
            "[CV] END .....................C=1, epsilon=0.1, gamma=0.0001; total time=   1.8s\n",
            "[CV] END .....................C=1, epsilon=0.1, gamma=0.0001; total time=   1.9s\n",
            "[CV] END .....................C=1, epsilon=0.1, gamma=0.0001; total time=   1.9s\n",
            "[CV] END .....................C=1, epsilon=0.1, gamma=0.0001; total time=   1.8s\n",
            "[CV] END .....................C=1, epsilon=0.1, gamma=0.0001; total time=   1.9s\n",
            "[CV] END ......................C=1, epsilon=0.1, gamma=0.001; total time=   1.8s\n",
            "[CV] END ......................C=1, epsilon=0.1, gamma=0.001; total time=   1.8s\n",
            "[CV] END ......................C=1, epsilon=0.1, gamma=0.001; total time=   1.8s\n",
            "[CV] END ......................C=1, epsilon=0.1, gamma=0.001; total time=   1.8s\n",
            "[CV] END ......................C=1, epsilon=0.1, gamma=0.001; total time=   2.4s\n",
            "[CV] END .......................C=1, epsilon=0.1, gamma=0.01; total time=   2.3s\n",
            "[CV] END .......................C=1, epsilon=0.1, gamma=0.01; total time=   1.8s\n",
            "[CV] END .......................C=1, epsilon=0.1, gamma=0.01; total time=   1.8s\n",
            "[CV] END .......................C=1, epsilon=0.1, gamma=0.01; total time=   1.8s\n",
            "[CV] END .......................C=1, epsilon=0.1, gamma=0.01; total time=   1.8s\n",
            "[CV] END ........................C=1, epsilon=0.1, gamma=0.1; total time=   1.8s\n",
            "[CV] END ........................C=1, epsilon=0.1, gamma=0.1; total time=   1.8s\n",
            "[CV] END ........................C=1, epsilon=0.1, gamma=0.1; total time=   1.8s\n",
            "[CV] END ........................C=1, epsilon=0.1, gamma=0.1; total time=   1.8s\n",
            "[CV] END ........................C=1, epsilon=0.1, gamma=0.1; total time=   2.4s\n",
            "[CV] END ........................C=1, epsilon=1, gamma=1e-08; total time=   1.5s\n",
            "[CV] END ........................C=1, epsilon=1, gamma=1e-08; total time=   1.1s\n",
            "[CV] END ........................C=1, epsilon=1, gamma=1e-08; total time=   1.0s\n",
            "[CV] END ........................C=1, epsilon=1, gamma=1e-08; total time=   1.0s\n",
            "[CV] END ........................C=1, epsilon=1, gamma=1e-08; total time=   1.0s\n",
            "[CV] END ........................C=1, epsilon=1, gamma=1e-07; total time=   1.0s\n",
            "[CV] END ........................C=1, epsilon=1, gamma=1e-07; total time=   1.0s\n",
            "[CV] END ........................C=1, epsilon=1, gamma=1e-07; total time=   1.0s\n",
            "[CV] END ........................C=1, epsilon=1, gamma=1e-07; total time=   1.0s\n",
            "[CV] END ........................C=1, epsilon=1, gamma=1e-07; total time=   1.0s\n",
            "[CV] END ........................C=1, epsilon=1, gamma=1e-06; total time=   1.0s\n",
            "[CV] END ........................C=1, epsilon=1, gamma=1e-06; total time=   1.0s\n",
            "[CV] END ........................C=1, epsilon=1, gamma=1e-06; total time=   1.0s\n",
            "[CV] END ........................C=1, epsilon=1, gamma=1e-06; total time=   1.0s\n",
            "[CV] END ........................C=1, epsilon=1, gamma=1e-06; total time=   1.0s\n",
            "[CV] END ........................C=1, epsilon=1, gamma=1e-05; total time=   1.0s\n",
            "[CV] END ........................C=1, epsilon=1, gamma=1e-05; total time=   1.0s\n",
            "[CV] END ........................C=1, epsilon=1, gamma=1e-05; total time=   1.0s\n",
            "[CV] END ........................C=1, epsilon=1, gamma=1e-05; total time=   1.0s\n",
            "[CV] END ........................C=1, epsilon=1, gamma=1e-05; total time=   1.1s\n",
            "[CV] END .......................C=1, epsilon=1, gamma=0.0001; total time=   1.2s\n",
            "[CV] END .......................C=1, epsilon=1, gamma=0.0001; total time=   1.2s\n",
            "[CV] END .......................C=1, epsilon=1, gamma=0.0001; total time=   1.1s\n",
            "[CV] END .......................C=1, epsilon=1, gamma=0.0001; total time=   0.8s\n",
            "[CV] END .......................C=1, epsilon=1, gamma=0.0001; total time=   0.8s\n",
            "[CV] END ........................C=1, epsilon=1, gamma=0.001; total time=   0.6s\n",
            "[CV] END ........................C=1, epsilon=1, gamma=0.001; total time=   0.6s\n",
            "[CV] END ........................C=1, epsilon=1, gamma=0.001; total time=   0.6s\n",
            "[CV] END ........................C=1, epsilon=1, gamma=0.001; total time=   0.6s\n",
            "[CV] END ........................C=1, epsilon=1, gamma=0.001; total time=   0.6s\n",
            "[CV] END .........................C=1, epsilon=1, gamma=0.01; total time=   0.4s\n",
            "[CV] END .........................C=1, epsilon=1, gamma=0.01; total time=   0.5s\n",
            "[CV] END .........................C=1, epsilon=1, gamma=0.01; total time=   0.4s\n",
            "[CV] END .........................C=1, epsilon=1, gamma=0.01; total time=   0.4s\n",
            "[CV] END .........................C=1, epsilon=1, gamma=0.01; total time=   0.5s\n",
            "[CV] END ..........................C=1, epsilon=1, gamma=0.1; total time=   0.4s\n",
            "[CV] END ..........................C=1, epsilon=1, gamma=0.1; total time=   0.4s\n",
            "[CV] END ..........................C=1, epsilon=1, gamma=0.1; total time=   0.4s\n",
            "[CV] END ..........................C=1, epsilon=1, gamma=0.1; total time=   0.4s\n",
            "[CV] END ..........................C=1, epsilon=1, gamma=0.1; total time=   0.4s\n",
            "[CV] END ...................C=10, epsilon=0.001, gamma=1e-08; total time=   2.0s\n",
            "[CV] END ...................C=10, epsilon=0.001, gamma=1e-08; total time=   2.0s\n",
            "[CV] END ...................C=10, epsilon=0.001, gamma=1e-08; total time=   2.0s\n",
            "[CV] END ...................C=10, epsilon=0.001, gamma=1e-08; total time=   2.0s\n",
            "[CV] END ...................C=10, epsilon=0.001, gamma=1e-08; total time=   1.9s\n",
            "[CV] END ...................C=10, epsilon=0.001, gamma=1e-07; total time=   1.9s\n",
            "[CV] END ...................C=10, epsilon=0.001, gamma=1e-07; total time=   2.0s\n",
            "[CV] END ...................C=10, epsilon=0.001, gamma=1e-07; total time=   2.0s\n",
            "[CV] END ...................C=10, epsilon=0.001, gamma=1e-07; total time=   2.0s\n",
            "[CV] END ...................C=10, epsilon=0.001, gamma=1e-07; total time=   2.0s\n",
            "[CV] END ...................C=10, epsilon=0.001, gamma=1e-06; total time=   1.9s\n",
            "[CV] END ...................C=10, epsilon=0.001, gamma=1e-06; total time=   2.0s\n",
            "[CV] END ...................C=10, epsilon=0.001, gamma=1e-06; total time=   2.0s\n",
            "[CV] END ...................C=10, epsilon=0.001, gamma=1e-06; total time=   2.0s\n",
            "[CV] END ...................C=10, epsilon=0.001, gamma=1e-06; total time=   1.9s\n",
            "[CV] END ...................C=10, epsilon=0.001, gamma=1e-05; total time=   2.0s\n",
            "[CV] END ...................C=10, epsilon=0.001, gamma=1e-05; total time=   2.1s\n",
            "[CV] END ...................C=10, epsilon=0.001, gamma=1e-05; total time=   2.9s\n",
            "[CV] END ...................C=10, epsilon=0.001, gamma=1e-05; total time=   2.2s\n",
            "[CV] END ...................C=10, epsilon=0.001, gamma=1e-05; total time=   2.0s\n",
            "[CV] END ..................C=10, epsilon=0.001, gamma=0.0001; total time=   2.0s\n",
            "[CV] END ..................C=10, epsilon=0.001, gamma=0.0001; total time=   2.0s\n",
            "[CV] END ..................C=10, epsilon=0.001, gamma=0.0001; total time=   2.0s\n",
            "[CV] END ..................C=10, epsilon=0.001, gamma=0.0001; total time=   2.0s\n",
            "[CV] END ..................C=10, epsilon=0.001, gamma=0.0001; total time=   2.0s\n",
            "[CV] END ...................C=10, epsilon=0.001, gamma=0.001; total time=   2.1s\n",
            "[CV] END ...................C=10, epsilon=0.001, gamma=0.001; total time=   2.1s\n",
            "[CV] END ...................C=10, epsilon=0.001, gamma=0.001; total time=   2.1s\n",
            "[CV] END ...................C=10, epsilon=0.001, gamma=0.001; total time=   2.1s\n",
            "[CV] END ...................C=10, epsilon=0.001, gamma=0.001; total time=   2.0s\n",
            "[CV] END ....................C=10, epsilon=0.001, gamma=0.01; total time=   2.2s\n",
            "[CV] END ....................C=10, epsilon=0.001, gamma=0.01; total time=   2.2s\n",
            "[CV] END ....................C=10, epsilon=0.001, gamma=0.01; total time=   2.3s\n",
            "[CV] END ....................C=10, epsilon=0.001, gamma=0.01; total time=   2.3s\n",
            "[CV] END ....................C=10, epsilon=0.001, gamma=0.01; total time=   2.2s\n",
            "[CV] END .....................C=10, epsilon=0.001, gamma=0.1; total time=   2.9s\n",
            "[CV] END .....................C=10, epsilon=0.001, gamma=0.1; total time=   3.0s\n",
            "[CV] END .....................C=10, epsilon=0.001, gamma=0.1; total time=   2.9s\n",
            "[CV] END .....................C=10, epsilon=0.001, gamma=0.1; total time=   3.0s\n",
            "[CV] END .....................C=10, epsilon=0.001, gamma=0.1; total time=   3.0s\n",
            "[CV] END ....................C=10, epsilon=0.01, gamma=1e-08; total time=   2.0s\n",
            "[CV] END ....................C=10, epsilon=0.01, gamma=1e-08; total time=   2.0s\n",
            "[CV] END ....................C=10, epsilon=0.01, gamma=1e-08; total time=   1.9s\n",
            "[CV] END ....................C=10, epsilon=0.01, gamma=1e-08; total time=   2.0s\n",
            "[CV] END ....................C=10, epsilon=0.01, gamma=1e-08; total time=   1.9s\n",
            "[CV] END ....................C=10, epsilon=0.01, gamma=1e-07; total time=   1.9s\n",
            "[CV] END ....................C=10, epsilon=0.01, gamma=1e-07; total time=   2.5s\n",
            "[CV] END ....................C=10, epsilon=0.01, gamma=1e-07; total time=   2.6s\n",
            "[CV] END ....................C=10, epsilon=0.01, gamma=1e-07; total time=   2.0s\n",
            "[CV] END ....................C=10, epsilon=0.01, gamma=1e-07; total time=   2.0s\n",
            "[CV] END ....................C=10, epsilon=0.01, gamma=1e-06; total time=   2.0s\n",
            "[CV] END ....................C=10, epsilon=0.01, gamma=1e-06; total time=   1.9s\n",
            "[CV] END ....................C=10, epsilon=0.01, gamma=1e-06; total time=   1.9s\n",
            "[CV] END ....................C=10, epsilon=0.01, gamma=1e-06; total time=   1.9s\n",
            "[CV] END ....................C=10, epsilon=0.01, gamma=1e-06; total time=   2.0s\n",
            "[CV] END ....................C=10, epsilon=0.01, gamma=1e-05; total time=   2.0s\n",
            "[CV] END ....................C=10, epsilon=0.01, gamma=1e-05; total time=   2.0s\n",
            "[CV] END ....................C=10, epsilon=0.01, gamma=1e-05; total time=   2.0s\n",
            "[CV] END ....................C=10, epsilon=0.01, gamma=1e-05; total time=   2.0s\n",
            "[CV] END ....................C=10, epsilon=0.01, gamma=1e-05; total time=   2.0s\n",
            "[CV] END ...................C=10, epsilon=0.01, gamma=0.0001; total time=   2.0s\n",
            "[CV] END ...................C=10, epsilon=0.01, gamma=0.0001; total time=   2.0s\n",
            "[CV] END ...................C=10, epsilon=0.01, gamma=0.0001; total time=   2.0s\n",
            "[CV] END ...................C=10, epsilon=0.01, gamma=0.0001; total time=   2.0s\n",
            "[CV] END ...................C=10, epsilon=0.01, gamma=0.0001; total time=   2.0s\n",
            "[CV] END ....................C=10, epsilon=0.01, gamma=0.001; total time=   2.1s\n",
            "[CV] END ....................C=10, epsilon=0.01, gamma=0.001; total time=   2.1s\n",
            "[CV] END ....................C=10, epsilon=0.01, gamma=0.001; total time=   2.1s\n",
            "[CV] END ....................C=10, epsilon=0.01, gamma=0.001; total time=   2.1s\n",
            "[CV] END ....................C=10, epsilon=0.01, gamma=0.001; total time=   2.0s\n",
            "[CV] END .....................C=10, epsilon=0.01, gamma=0.01; total time=   2.2s\n",
            "[CV] END .....................C=10, epsilon=0.01, gamma=0.01; total time=   2.2s\n",
            "[CV] END .....................C=10, epsilon=0.01, gamma=0.01; total time=   2.2s\n",
            "[CV] END .....................C=10, epsilon=0.01, gamma=0.01; total time=   2.2s\n",
            "[CV] END .....................C=10, epsilon=0.01, gamma=0.01; total time=   2.2s\n",
            "[CV] END ......................C=10, epsilon=0.01, gamma=0.1; total time=   2.8s\n",
            "[CV] END ......................C=10, epsilon=0.01, gamma=0.1; total time=   2.8s\n",
            "[CV] END ......................C=10, epsilon=0.01, gamma=0.1; total time=   3.7s\n",
            "[CV] END ......................C=10, epsilon=0.01, gamma=0.1; total time=   2.9s\n",
            "[CV] END ......................C=10, epsilon=0.01, gamma=0.1; total time=   2.8s\n",
            "[CV] END .....................C=10, epsilon=0.1, gamma=1e-08; total time=   1.9s\n",
            "[CV] END .....................C=10, epsilon=0.1, gamma=1e-08; total time=   1.9s\n",
            "[CV] END .....................C=10, epsilon=0.1, gamma=1e-08; total time=   1.9s\n",
            "[CV] END .....................C=10, epsilon=0.1, gamma=1e-08; total time=   1.9s\n",
            "[CV] END .....................C=10, epsilon=0.1, gamma=1e-08; total time=   1.9s\n",
            "[CV] END .....................C=10, epsilon=0.1, gamma=1e-07; total time=   1.9s\n",
            "[CV] END .....................C=10, epsilon=0.1, gamma=1e-07; total time=   1.9s\n",
            "[CV] END .....................C=10, epsilon=0.1, gamma=1e-07; total time=   1.9s\n",
            "[CV] END .....................C=10, epsilon=0.1, gamma=1e-07; total time=   1.9s\n",
            "[CV] END .....................C=10, epsilon=0.1, gamma=1e-07; total time=   1.9s\n",
            "[CV] END .....................C=10, epsilon=0.1, gamma=1e-06; total time=   1.9s\n",
            "[CV] END .....................C=10, epsilon=0.1, gamma=1e-06; total time=   1.9s\n",
            "[CV] END .....................C=10, epsilon=0.1, gamma=1e-06; total time=   1.9s\n",
            "[CV] END .....................C=10, epsilon=0.1, gamma=1e-06; total time=   1.9s\n",
            "[CV] END .....................C=10, epsilon=0.1, gamma=1e-06; total time=   1.8s\n",
            "[CV] END .....................C=10, epsilon=0.1, gamma=1e-05; total time=   1.8s\n",
            "[CV] END .....................C=10, epsilon=0.1, gamma=1e-05; total time=   1.8s\n",
            "[CV] END .....................C=10, epsilon=0.1, gamma=1e-05; total time=   1.9s\n",
            "[CV] END .....................C=10, epsilon=0.1, gamma=1e-05; total time=   1.9s\n",
            "[CV] END .....................C=10, epsilon=0.1, gamma=1e-05; total time=   1.9s\n",
            "[CV] END ....................C=10, epsilon=0.1, gamma=0.0001; total time=   1.8s\n",
            "[CV] END ....................C=10, epsilon=0.1, gamma=0.0001; total time=   1.8s\n",
            "[CV] END ....................C=10, epsilon=0.1, gamma=0.0001; total time=   1.8s\n",
            "[CV] END ....................C=10, epsilon=0.1, gamma=0.0001; total time=   1.8s\n",
            "[CV] END ....................C=10, epsilon=0.1, gamma=0.0001; total time=   1.8s\n",
            "[CV] END .....................C=10, epsilon=0.1, gamma=0.001; total time=   1.8s\n",
            "[CV] END .....................C=10, epsilon=0.1, gamma=0.001; total time=   2.6s\n",
            "[CV] END .....................C=10, epsilon=0.1, gamma=0.001; total time=   2.1s\n",
            "[CV] END .....................C=10, epsilon=0.1, gamma=0.001; total time=   1.9s\n",
            "[CV] END .....................C=10, epsilon=0.1, gamma=0.001; total time=   2.7s\n",
            "[CV] END ......................C=10, epsilon=0.1, gamma=0.01; total time=   2.2s\n",
            "[CV] END ......................C=10, epsilon=0.1, gamma=0.01; total time=   1.9s\n",
            "[CV] END ......................C=10, epsilon=0.1, gamma=0.01; total time=   2.0s\n",
            "[CV] END ......................C=10, epsilon=0.1, gamma=0.01; total time=   1.9s\n",
            "[CV] END ......................C=10, epsilon=0.1, gamma=0.01; total time=   1.9s\n",
            "[CV] END .......................C=10, epsilon=0.1, gamma=0.1; total time=   2.2s\n",
            "[CV] END .......................C=10, epsilon=0.1, gamma=0.1; total time=   2.3s\n",
            "[CV] END .......................C=10, epsilon=0.1, gamma=0.1; total time=   2.2s\n",
            "[CV] END .......................C=10, epsilon=0.1, gamma=0.1; total time=   2.3s\n",
            "[CV] END .......................C=10, epsilon=0.1, gamma=0.1; total time=   2.3s\n",
            "[CV] END .......................C=10, epsilon=1, gamma=1e-08; total time=   1.0s\n",
            "[CV] END .......................C=10, epsilon=1, gamma=1e-08; total time=   1.0s\n",
            "[CV] END .......................C=10, epsilon=1, gamma=1e-08; total time=   1.0s\n",
            "[CV] END .......................C=10, epsilon=1, gamma=1e-08; total time=   1.0s\n",
            "[CV] END .......................C=10, epsilon=1, gamma=1e-08; total time=   1.0s\n",
            "[CV] END .......................C=10, epsilon=1, gamma=1e-07; total time=   1.0s\n",
            "[CV] END .......................C=10, epsilon=1, gamma=1e-07; total time=   1.0s\n",
            "[CV] END .......................C=10, epsilon=1, gamma=1e-07; total time=   1.0s\n",
            "[CV] END .......................C=10, epsilon=1, gamma=1e-07; total time=   1.0s\n",
            "[CV] END .......................C=10, epsilon=1, gamma=1e-07; total time=   1.0s\n",
            "[CV] END .......................C=10, epsilon=1, gamma=1e-06; total time=   0.9s\n",
            "[CV] END .......................C=10, epsilon=1, gamma=1e-06; total time=   1.0s\n",
            "[CV] END .......................C=10, epsilon=1, gamma=1e-06; total time=   1.0s\n",
            "[CV] END .......................C=10, epsilon=1, gamma=1e-06; total time=   0.9s\n",
            "[CV] END .......................C=10, epsilon=1, gamma=1e-06; total time=   0.9s\n",
            "[CV] END .......................C=10, epsilon=1, gamma=1e-05; total time=   0.8s\n",
            "[CV] END .......................C=10, epsilon=1, gamma=1e-05; total time=   0.8s\n",
            "[CV] END .......................C=10, epsilon=1, gamma=1e-05; total time=   0.8s\n",
            "[CV] END .......................C=10, epsilon=1, gamma=1e-05; total time=   0.8s\n",
            "[CV] END .......................C=10, epsilon=1, gamma=1e-05; total time=   0.9s\n",
            "[CV] END ......................C=10, epsilon=1, gamma=0.0001; total time=   0.9s\n",
            "[CV] END ......................C=10, epsilon=1, gamma=0.0001; total time=   0.9s\n",
            "[CV] END ......................C=10, epsilon=1, gamma=0.0001; total time=   0.9s\n",
            "[CV] END ......................C=10, epsilon=1, gamma=0.0001; total time=   0.9s\n",
            "[CV] END ......................C=10, epsilon=1, gamma=0.0001; total time=   0.6s\n",
            "[CV] END .......................C=10, epsilon=1, gamma=0.001; total time=   0.5s\n",
            "[CV] END .......................C=10, epsilon=1, gamma=0.001; total time=   0.5s\n",
            "[CV] END .......................C=10, epsilon=1, gamma=0.001; total time=   0.5s\n",
            "[CV] END .......................C=10, epsilon=1, gamma=0.001; total time=   0.5s\n",
            "[CV] END .......................C=10, epsilon=1, gamma=0.001; total time=   0.5s\n",
            "[CV] END ........................C=10, epsilon=1, gamma=0.01; total time=   0.4s\n",
            "[CV] END ........................C=10, epsilon=1, gamma=0.01; total time=   0.4s\n",
            "[CV] END ........................C=10, epsilon=1, gamma=0.01; total time=   0.4s\n",
            "[CV] END ........................C=10, epsilon=1, gamma=0.01; total time=   0.4s\n",
            "[CV] END ........................C=10, epsilon=1, gamma=0.01; total time=   0.4s\n",
            "[CV] END .........................C=10, epsilon=1, gamma=0.1; total time=   0.4s\n",
            "[CV] END .........................C=10, epsilon=1, gamma=0.1; total time=   0.4s\n",
            "[CV] END .........................C=10, epsilon=1, gamma=0.1; total time=   0.4s\n",
            "[CV] END .........................C=10, epsilon=1, gamma=0.1; total time=   0.4s\n",
            "[CV] END .........................C=10, epsilon=1, gamma=0.1; total time=   0.4s\n"
          ]
        },
        {
          "data": {
            "text/plain": [
              "GridSearchCV(cv=5, estimator=SVR(),\n",
              "             param_grid={'C': [0.001, 0.01, 0.1, 1, 10],\n",
              "                         'epsilon': [0.001, 0.01, 0.1, 1],\n",
              "                         'gamma': [1e-08, 1e-07, 1e-06, 1e-05, 0.0001, 0.001,\n",
              "                                   0.01, 0.1]},\n",
              "             verbose=2)"
            ]
          },
          "execution_count": 39,
          "metadata": {},
          "output_type": "execute_result"
        }
      ],
      "source": [
        "from sklearn.svm import SVR\n",
        "\n",
        "parameters = {'gamma' : [1e-8, 1e-7, 1e-6, 1e-5, 1e-4, 1e-3, 1e-2, 1e-1], #kernel coefficient [ici kernel = Radial Basis Function]\n",
        "              'epsilon' : [0.001, 0.01, 0.1, 1], #erreur tolérée par l'algorithme\n",
        "              'C' : [0.001, 0.01, 0.1, 1, 10]} #parametre de régularisation\n",
        "\n",
        "svm = GridSearchCV(estimator = SVR(), \n",
        "                      param_grid = parameters,\n",
        "                      #scoring = 'neg_mean_squared_error',\n",
        "                      cv=5,\n",
        "                   verbose=2\n",
        "                     )\n",
        "\n",
        "svm.fit(X_train, y_train)"
      ]
    },
    {
      "cell_type": "code",
      "execution_count": null,
      "metadata": {
        "colab": {
          "background_save": true
        },
        "id": "yb3Vs3fvaezr",
        "outputId": "dff819b9-efe4-4e63-88c2-1add06bd0fe8"
      },
      "outputs": [
        {
          "data": {
            "text/plain": [
              "{'C': 10, 'epsilon': 0.1, 'gamma': 0.1}"
            ]
          },
          "execution_count": 40,
          "metadata": {},
          "output_type": "execute_result"
        }
      ],
      "source": [
        "\n",
        "svm.best_params_\n"
      ]
    },
    {
      "cell_type": "code",
      "execution_count": null,
      "metadata": {
        "colab": {
          "background_save": true
        },
        "id": "gIOJCBqjaqnJ"
      },
      "outputs": [],
      "source": [
        "results = results.append(pd.DataFrame({\n",
        "    'Modèle' : ['Support Vector Machine'],\n",
        "    'Score_RMSE' : [math.sqrt(mean_squared_error(svm.predict(X_test), y_test))]}),\n",
        "              ignore_index=True)"
      ]
    },
    {
      "cell_type": "markdown",
      "metadata": {
        "id": "oP6eD_Oeavd6"
      },
      "source": [
        "# **XG BOOST**"
      ]
    },
    {
      "cell_type": "code",
      "execution_count": null,
      "metadata": {
        "colab": {
          "background_save": true
        },
        "id": "fwxOUm7ratPR"
      },
      "outputs": [],
      "source": [
        "from xgboost import XGBRegressor"
      ]
    },
    {
      "cell_type": "code",
      "execution_count": null,
      "metadata": {
        "colab": {
          "background_save": true
        },
        "id": "LKNSMcQrazjo",
        "outputId": "a44b7d7b-13cb-48bd-b129-aed983915670"
      },
      "outputs": [
        {
          "name": "stdout",
          "output_type": "stream",
          "text": [
            "Fitting 5 folds for each of 4 candidates, totalling 20 fits\n",
            "[22:21:32] WARNING: /workspace/src/objective/regression_obj.cu:152: reg:linear is now deprecated in favor of reg:squarederror.\n",
            "[CV 1/5] END ..................n_estimators=100;, score=0.730 total time=   0.7s\n",
            "[22:21:32] WARNING: /workspace/src/objective/regression_obj.cu:152: reg:linear is now deprecated in favor of reg:squarederror.\n",
            "[CV 2/5] END ..................n_estimators=100;, score=0.540 total time=   0.6s\n",
            "[22:21:33] WARNING: /workspace/src/objective/regression_obj.cu:152: reg:linear is now deprecated in favor of reg:squarederror.\n",
            "[CV 3/5] END ..................n_estimators=100;, score=0.514 total time=   0.6s\n",
            "[22:21:34] WARNING: /workspace/src/objective/regression_obj.cu:152: reg:linear is now deprecated in favor of reg:squarederror.\n",
            "[CV 4/5] END ..................n_estimators=100;, score=0.571 total time=   0.6s\n",
            "[22:21:34] WARNING: /workspace/src/objective/regression_obj.cu:152: reg:linear is now deprecated in favor of reg:squarederror.\n",
            "[CV 5/5] END ..................n_estimators=100;, score=0.597 total time=   0.6s\n",
            "[22:21:35] WARNING: /workspace/src/objective/regression_obj.cu:152: reg:linear is now deprecated in favor of reg:squarederror.\n",
            "[CV 1/5] END ..................n_estimators=500;, score=0.690 total time=   2.8s\n",
            "[22:21:38] WARNING: /workspace/src/objective/regression_obj.cu:152: reg:linear is now deprecated in favor of reg:squarederror.\n",
            "[CV 2/5] END ..................n_estimators=500;, score=0.623 total time=   2.8s\n",
            "[22:21:41] WARNING: /workspace/src/objective/regression_obj.cu:152: reg:linear is now deprecated in favor of reg:squarederror.\n",
            "[CV 3/5] END ..................n_estimators=500;, score=0.567 total time=   4.9s\n",
            "[22:21:45] WARNING: /workspace/src/objective/regression_obj.cu:152: reg:linear is now deprecated in favor of reg:squarederror.\n",
            "[CV 4/5] END ..................n_estimators=500;, score=0.630 total time=   2.8s\n",
            "[22:21:48] WARNING: /workspace/src/objective/regression_obj.cu:152: reg:linear is now deprecated in favor of reg:squarederror.\n",
            "[CV 5/5] END ..................n_estimators=500;, score=0.686 total time=   2.8s\n",
            "[22:21:51] WARNING: /workspace/src/objective/regression_obj.cu:152: reg:linear is now deprecated in favor of reg:squarederror.\n",
            "[CV 1/5] END .................n_estimators=1000;, score=0.645 total time=   5.6s\n",
            "[22:21:57] WARNING: /workspace/src/objective/regression_obj.cu:152: reg:linear is now deprecated in favor of reg:squarederror.\n",
            "[CV 2/5] END .................n_estimators=1000;, score=0.646 total time=   5.5s\n",
            "[22:22:02] WARNING: /workspace/src/objective/regression_obj.cu:152: reg:linear is now deprecated in favor of reg:squarederror.\n",
            "[CV 3/5] END .................n_estimators=1000;, score=0.554 total time=   5.5s\n",
            "[22:22:08] WARNING: /workspace/src/objective/regression_obj.cu:152: reg:linear is now deprecated in favor of reg:squarederror.\n",
            "[CV 4/5] END .................n_estimators=1000;, score=0.654 total time=   5.5s\n",
            "[22:22:13] WARNING: /workspace/src/objective/regression_obj.cu:152: reg:linear is now deprecated in favor of reg:squarederror.\n",
            "[CV 5/5] END .................n_estimators=1000;, score=0.718 total time=   5.5s\n",
            "[22:22:19] WARNING: /workspace/src/objective/regression_obj.cu:152: reg:linear is now deprecated in favor of reg:squarederror.\n",
            "[CV 1/5] END .................n_estimators=2000;, score=0.631 total time=  11.1s\n",
            "[22:22:30] WARNING: /workspace/src/objective/regression_obj.cu:152: reg:linear is now deprecated in favor of reg:squarederror.\n",
            "[CV 2/5] END .................n_estimators=2000;, score=0.653 total time=  11.0s\n",
            "[22:22:41] WARNING: /workspace/src/objective/regression_obj.cu:152: reg:linear is now deprecated in favor of reg:squarederror.\n",
            "[CV 3/5] END .................n_estimators=2000;, score=0.538 total time=  13.3s\n",
            "[22:22:54] WARNING: /workspace/src/objective/regression_obj.cu:152: reg:linear is now deprecated in favor of reg:squarederror.\n",
            "[CV 4/5] END .................n_estimators=2000;, score=0.666 total time=  11.2s\n",
            "[22:23:05] WARNING: /workspace/src/objective/regression_obj.cu:152: reg:linear is now deprecated in favor of reg:squarederror.\n",
            "[CV 5/5] END .................n_estimators=2000;, score=0.727 total time=  11.1s\n",
            "[22:23:16] WARNING: /workspace/src/objective/regression_obj.cu:152: reg:linear is now deprecated in favor of reg:squarederror.\n"
          ]
        },
        {
          "data": {
            "text/plain": [
              "GridSearchCV(cv=5, estimator=XGBRegressor(n_jobs=-1),\n",
              "             param_grid={'n_estimators': [100, 500, 1000, 2000]}, verbose=5)"
            ]
          },
          "execution_count": 43,
          "metadata": {},
          "output_type": "execute_result"
        }
      ],
      "source": [
        "parameters = {\n",
        "    'n_estimators' : [100,500,1000,2000]\n",
        "}\n",
        "xgb_grid = GridSearchCV(XGBRegressor(n_jobs=-1),\n",
        "                        param_grid = parameters,\n",
        "                      #scoring = 'neg_mean_squared_error',\n",
        "                        cv = 5,\n",
        "                        verbose=5)\n",
        "xgb_grid.fit(X_train, y_train)"
      ]
    },
    {
      "cell_type": "code",
      "execution_count": null,
      "metadata": {
        "colab": {
          "background_save": true
        },
        "id": "IRxIPZNsa2T9",
        "outputId": "2c07fe66-a69f-4528-88d3-88f8a4a79d71"
      },
      "outputs": [
        {
          "data": {
            "text/plain": [
              "{'n_estimators': 1000}"
            ]
          },
          "execution_count": 44,
          "metadata": {},
          "output_type": "execute_result"
        }
      ],
      "source": [
        "xgb_grid.best_params_\n"
      ]
    },
    {
      "cell_type": "code",
      "execution_count": null,
      "metadata": {
        "colab": {
          "background_save": true
        },
        "id": "IotbnM3la6d4",
        "outputId": "beeb6dc7-38a2-4b60-bdaf-dc66ac76a994"
      },
      "outputs": [
        {
          "data": {
            "text/plain": [
              "XGBRegressor(n_estimators=1000, n_jobs=-1)"
            ]
          },
          "execution_count": 45,
          "metadata": {},
          "output_type": "execute_result"
        }
      ],
      "source": [
        "xgb_grid.best_estimator_\n"
      ]
    },
    {
      "cell_type": "code",
      "execution_count": null,
      "metadata": {
        "colab": {
          "background_save": true
        },
        "id": "VvCip7Mza8K3",
        "outputId": "5407abde-a093-4730-c947-b2a0b67d1f34"
      },
      "outputs": [
        {
          "data": {
            "text/plain": [
              "array([0.02481932, 0.01140361, 0.05366834, 0.01004252, 0.01443709,\n",
              "       0.01100618, 0.0147924 , 0.01404577, 0.00426091, 0.05515345,\n",
              "       0.01187518, 0.02925246, 0.01515568, 0.        , 0.00219652,\n",
              "       0.01904273, 0.00519671, 0.00269755, 0.07855707, 0.00175823,\n",
              "       0.00260184, 0.02701766, 0.01034383, 0.00558681, 0.01035965,\n",
              "       0.06321386, 0.00251432, 0.00675284, 0.00365541, 0.00124523,\n",
              "       0.02201283, 0.00587489, 0.00854196, 0.00257208, 0.00521532,\n",
              "       0.00405444, 0.07507273, 0.00837072, 0.00202411, 0.01514752,\n",
              "       0.00708371, 0.00362145, 0.03059353, 0.01225298, 0.0032513 ,\n",
              "       0.0054728 , 0.00616565, 0.00541232, 0.00015615, 0.01732958,\n",
              "       0.03429193, 0.04425753, 0.        , 0.00120266, 0.0171863 ,\n",
              "       0.00778448, 0.00525778, 0.00530736, 0.01025098, 0.01165278,\n",
              "       0.00172739, 0.00578293, 0.00290981, 0.00043212, 0.00034407,\n",
              "       0.00075116, 0.00034501, 0.00501804, 0.00070965, 0.00096295,\n",
              "       0.        , 0.00138994, 0.0024797 , 0.00710026, 0.00164737,\n",
              "       0.00467726, 0.03893423, 0.03471707, 0.        ], dtype=float32)"
            ]
          },
          "execution_count": 46,
          "metadata": {},
          "output_type": "execute_result"
        }
      ],
      "source": [
        "xgb_grid.best_estimator_.feature_importances_\n"
      ]
    },
    {
      "cell_type": "code",
      "execution_count": null,
      "metadata": {
        "colab": {
          "background_save": true
        },
        "id": "hQI0gG47a9-Y"
      },
      "outputs": [],
      "source": [
        "import math\n",
        "results = results.append(pd.DataFrame({\n",
        "    'Modèle' : ['XGBoost'],\n",
        "    'Score_RMSE' : [math.sqrt(mean_squared_error(xgb_grid.predict(X_test), y_test))]}),\n",
        "              ignore_index=True)"
      ]
    },
    {
      "cell_type": "code",
      "execution_count": null,
      "metadata": {
        "colab": {
          "background_save": true
        },
        "id": "8BBotl7ubBOO",
        "outputId": "a56d3826-fa03-44ee-9cd1-4d3b1bdb51a5"
      },
      "outputs": [
        {
          "data": {
            "text/html": [
              "\n",
              "  <div id=\"df-8fa6a7f4-7675-4879-b54f-aee440a6e0db\">\n",
              "    <div class=\"colab-df-container\">\n",
              "      <div>\n",
              "<style scoped>\n",
              "    .dataframe tbody tr th:only-of-type {\n",
              "        vertical-align: middle;\n",
              "    }\n",
              "\n",
              "    .dataframe tbody tr th {\n",
              "        vertical-align: top;\n",
              "    }\n",
              "\n",
              "    .dataframe thead th {\n",
              "        text-align: right;\n",
              "    }\n",
              "</style>\n",
              "<table border=\"1\" class=\"dataframe\">\n",
              "  <thead>\n",
              "    <tr style=\"text-align: right;\">\n",
              "      <th></th>\n",
              "      <th>Modèle</th>\n",
              "      <th>Score_RMSE</th>\n",
              "    </tr>\n",
              "  </thead>\n",
              "  <tbody>\n",
              "    <tr>\n",
              "      <th>0</th>\n",
              "      <td>Elasticnet Regression</td>\n",
              "      <td>0.906957</td>\n",
              "    </tr>\n",
              "    <tr>\n",
              "      <th>1</th>\n",
              "      <td>Random Forest Regressor</td>\n",
              "      <td>0.629762</td>\n",
              "    </tr>\n",
              "    <tr>\n",
              "      <th>2</th>\n",
              "      <td>Support Vector Machine</td>\n",
              "      <td>0.685169</td>\n",
              "    </tr>\n",
              "    <tr>\n",
              "      <th>3</th>\n",
              "      <td>XGBoost</td>\n",
              "      <td>0.653062</td>\n",
              "    </tr>\n",
              "  </tbody>\n",
              "</table>\n",
              "</div>\n",
              "      <button class=\"colab-df-convert\" onclick=\"convertToInteractive('df-8fa6a7f4-7675-4879-b54f-aee440a6e0db')\"\n",
              "              title=\"Convert this dataframe to an interactive table.\"\n",
              "              style=\"display:none;\">\n",
              "        \n",
              "  <svg xmlns=\"http://www.w3.org/2000/svg\" height=\"24px\"viewBox=\"0 0 24 24\"\n",
              "       width=\"24px\">\n",
              "    <path d=\"M0 0h24v24H0V0z\" fill=\"none\"/>\n",
              "    <path d=\"M18.56 5.44l.94 2.06.94-2.06 2.06-.94-2.06-.94-.94-2.06-.94 2.06-2.06.94zm-11 1L8.5 8.5l.94-2.06 2.06-.94-2.06-.94L8.5 2.5l-.94 2.06-2.06.94zm10 10l.94 2.06.94-2.06 2.06-.94-2.06-.94-.94-2.06-.94 2.06-2.06.94z\"/><path d=\"M17.41 7.96l-1.37-1.37c-.4-.4-.92-.59-1.43-.59-.52 0-1.04.2-1.43.59L10.3 9.45l-7.72 7.72c-.78.78-.78 2.05 0 2.83L4 21.41c.39.39.9.59 1.41.59.51 0 1.02-.2 1.41-.59l7.78-7.78 2.81-2.81c.8-.78.8-2.07 0-2.86zM5.41 20L4 18.59l7.72-7.72 1.47 1.35L5.41 20z\"/>\n",
              "  </svg>\n",
              "      </button>\n",
              "      \n",
              "  <style>\n",
              "    .colab-df-container {\n",
              "      display:flex;\n",
              "      flex-wrap:wrap;\n",
              "      gap: 12px;\n",
              "    }\n",
              "\n",
              "    .colab-df-convert {\n",
              "      background-color: #E8F0FE;\n",
              "      border: none;\n",
              "      border-radius: 50%;\n",
              "      cursor: pointer;\n",
              "      display: none;\n",
              "      fill: #1967D2;\n",
              "      height: 32px;\n",
              "      padding: 0 0 0 0;\n",
              "      width: 32px;\n",
              "    }\n",
              "\n",
              "    .colab-df-convert:hover {\n",
              "      background-color: #E2EBFA;\n",
              "      box-shadow: 0px 1px 2px rgba(60, 64, 67, 0.3), 0px 1px 3px 1px rgba(60, 64, 67, 0.15);\n",
              "      fill: #174EA6;\n",
              "    }\n",
              "\n",
              "    [theme=dark] .colab-df-convert {\n",
              "      background-color: #3B4455;\n",
              "      fill: #D2E3FC;\n",
              "    }\n",
              "\n",
              "    [theme=dark] .colab-df-convert:hover {\n",
              "      background-color: #434B5C;\n",
              "      box-shadow: 0px 1px 3px 1px rgba(0, 0, 0, 0.15);\n",
              "      filter: drop-shadow(0px 1px 2px rgba(0, 0, 0, 0.3));\n",
              "      fill: #FFFFFF;\n",
              "    }\n",
              "  </style>\n",
              "\n",
              "      <script>\n",
              "        const buttonEl =\n",
              "          document.querySelector('#df-8fa6a7f4-7675-4879-b54f-aee440a6e0db button.colab-df-convert');\n",
              "        buttonEl.style.display =\n",
              "          google.colab.kernel.accessAllowed ? 'block' : 'none';\n",
              "\n",
              "        async function convertToInteractive(key) {\n",
              "          const element = document.querySelector('#df-8fa6a7f4-7675-4879-b54f-aee440a6e0db');\n",
              "          const dataTable =\n",
              "            await google.colab.kernel.invokeFunction('convertToInteractive',\n",
              "                                                     [key], {});\n",
              "          if (!dataTable) return;\n",
              "\n",
              "          const docLinkHtml = 'Like what you see? Visit the ' +\n",
              "            '<a target=\"_blank\" href=https://colab.research.google.com/notebooks/data_table.ipynb>data table notebook</a>'\n",
              "            + ' to learn more about interactive tables.';\n",
              "          element.innerHTML = '';\n",
              "          dataTable['output_type'] = 'display_data';\n",
              "          await google.colab.output.renderOutput(dataTable, element);\n",
              "          const docLink = document.createElement('div');\n",
              "          docLink.innerHTML = docLinkHtml;\n",
              "          element.appendChild(docLink);\n",
              "        }\n",
              "      </script>\n",
              "    </div>\n",
              "  </div>\n",
              "  "
            ],
            "text/plain": [
              "                    Modèle  Score_RMSE\n",
              "0  Elasticnet Regression    0.906957  \n",
              "1  Random Forest Regressor  0.629762  \n",
              "2  Support Vector Machine   0.685169  \n",
              "3  XGBoost                  0.653062  "
            ]
          },
          "execution_count": 48,
          "metadata": {},
          "output_type": "execute_result"
        }
      ],
      "source": [
        "results\n"
      ]
    },
    {
      "cell_type": "markdown",
      "metadata": {
        "id": "NwyDbKdNbEdA"
      },
      "source": [
        "# **Export des modèles**"
      ]
    },
    {
      "cell_type": "code",
      "execution_count": null,
      "metadata": {
        "colab": {
          "background_save": true
        },
        "id": "CdJqk7DcbEF4",
        "outputId": "48a4b4b6-d08f-45e6-e142-9bad7550db3c"
      },
      "outputs": [
        {
          "data": {
            "text/plain": [
              "GridSearchCV(cv=5, estimator=RandomForestRegressor(),\n",
              "             param_grid={'max_features': ['auto', 'sqrt'],\n",
              "                         'min_samples_leaf': [1, 3, 5, 10],\n",
              "                         'n_estimators': [10, 50, 100, 300, 500]},\n",
              "             verbose=2)"
            ]
          },
          "execution_count": 49,
          "metadata": {},
          "output_type": "execute_result"
        }
      ],
      "source": [
        "rfr_search\n"
      ]
    },
    {
      "cell_type": "code",
      "execution_count": null,
      "metadata": {
        "colab": {
          "background_save": true
        },
        "id": "LtC425pUbC83"
      },
      "outputs": [],
      "source": [
        "dict_modeles = {\n",
        "    'Elastic Net': elastic_grid.best_estimator_,\n",
        "    'Random Forest Regressor' : rfr_search.best_estimator_,\n",
        "    'SVM' : svm.best_estimator_,\n",
        "    'XGBoost' : xgb_grid.best_estimator_,\n",
        "\n",
        "}\n"
      ]
    },
    {
      "cell_type": "code",
      "execution_count": null,
      "metadata": {
        "colab": {
          "background_save": true
        },
        "id": "utEDpVPGbK2V"
      },
      "outputs": [],
      "source": [
        "import pickle\n",
        "for nom, model in dict_modeles.items():\n",
        "    filename = 'models/' + nom + '.obj' \n",
        "    "
      ]
    },
    {
      "cell_type": "code",
      "execution_count": null,
      "metadata": {
        "colab": {
          "background_save": true
        },
        "id": "2veHTJO2cIWV"
      },
      "outputs": [],
      "source": [
        "with open('data_pick.pkl', 'wb') as pickle_file :\n",
        "        pickle.dump(dict_modeles, pickle_file)"
      ]
    },
    {
      "cell_type": "code",
      "execution_count": null,
      "metadata": {
        "colab": {
          "background_save": true
        },
        "id": "-Atz8LwtbNgN",
        "outputId": "f8b3efd7-bb3d-444c-cc68-de7847e39b0d"
      },
      "outputs": [
        {
          "name": "stdout",
          "output_type": "stream",
          "text": [
            "[22:23:24] WARNING: /workspace/src/objective/regression_obj.cu:152: reg:linear is now deprecated in favor of reg:squarederror.\n"
          ]
        }
      ],
      "source": [
        "with open('data_pick.pkl','rb') as pickle_file:\n",
        "    new_data = pickle.load(pickle_file)"
      ]
    },
    {
      "cell_type": "code",
      "execution_count": null,
      "metadata": {
        "colab": {
          "background_save": true
        },
        "id": "k2OTJBhJgra3",
        "outputId": "c6af00d6-1ad2-4b7c-e17e-dbdded7d0e2d"
      },
      "outputs": [
        {
          "data": {
            "text/plain": [
              "{'Elastic Net': ElasticNet(alpha=0.001, l1_ratio=0.6000000000000001, tol=0.1),\n",
              " 'Random Forest Regressor': RandomForestRegressor(max_features='sqrt', n_estimators=500),\n",
              " 'SVM': SVR(C=10, gamma=0.1),\n",
              " 'XGBoost': XGBRegressor(missing=nan, n_estimators=1000, n_jobs=-1)}"
            ]
          },
          "execution_count": 54,
          "metadata": {},
          "output_type": "execute_result"
        }
      ],
      "source": [
        "new_data"
      ]
    },
    {
      "cell_type": "code",
      "execution_count": null,
      "metadata": {
        "colab": {
          "background_save": true
        },
        "id": "NSBchYsVhG58"
      },
      "outputs": [],
      "source": [
        "#Export du one hot encoder\n",
        "\n",
        "with  open('onehotencoder', 'wb') as pickle_file :\n",
        "    pickle.dump(ohe, pickle_file)\n",
        "    \n",
        "#export du standardscaler\n",
        "with  open('standardscaler', 'wb') as pickle_file :\n",
        "    pickle.dump(ss, pickle_file)"
      ]
    },
    {
      "cell_type": "markdown",
      "metadata": {
        "id": "Sj0DYEtYbRM7"
      },
      "source": [
        "# **Chargement des modèles**"
      ]
    },
    {
      "cell_type": "code",
      "execution_count": null,
      "metadata": {
        "colab": {
          "background_save": true
        },
        "id": "gvhqWO7kbPmH"
      },
      "outputs": [],
      "source": [
        "dict_modeles_new = dict_modeles\n"
      ]
    },
    {
      "cell_type": "code",
      "execution_count": null,
      "metadata": {
        "colab": {
          "background_save": true
        },
        "id": "rgyHQRMebVuO"
      },
      "outputs": [],
      "source": [
        "dict_modeles_new = {}\n"
      ]
    },
    {
      "cell_type": "code",
      "execution_count": null,
      "metadata": {
        "colab": {
          "background_save": true
        },
        "id": "TCL49jnMbXE6"
      },
      "outputs": [],
      "source": [
        "import glob\n",
        "import pickle\n",
        "for filename in glob.glob('models/*'):\n",
        "    if filename not in ['onehotencoder', 'standardscaler']:\n",
        "        with open(filename, 'rb') as pickle_file:\n",
        "            print(filename)\n",
        "            dict_modeles_new[str(filename)] = pickle.load(pickle_file)"
      ]
    },
    {
      "cell_type": "code",
      "execution_count": null,
      "metadata": {
        "colab": {
          "background_save": true
        },
        "id": "ydgvdQbUbaEV",
        "outputId": "0deb93b6-4f9f-4cb4-c55a-956dcad8c05e"
      },
      "outputs": [
        {
          "data": {
            "text/plain": [
              "array([0.02481932, 0.01140361, 0.05366834, 0.01004252, 0.01443709,\n",
              "       0.01100618, 0.0147924 , 0.01404577, 0.00426091, 0.05515345,\n",
              "       0.01187518, 0.02925246, 0.01515568, 0.        , 0.00219652,\n",
              "       0.01904273, 0.00519671, 0.00269755, 0.07855707, 0.00175823,\n",
              "       0.00260184, 0.02701766, 0.01034383, 0.00558681, 0.01035965,\n",
              "       0.06321386, 0.00251432, 0.00675284, 0.00365541, 0.00124523,\n",
              "       0.02201283, 0.00587489, 0.00854196, 0.00257208, 0.00521532,\n",
              "       0.00405444, 0.07507273, 0.00837072, 0.00202411, 0.01514752,\n",
              "       0.00708371, 0.00362145, 0.03059353, 0.01225298, 0.0032513 ,\n",
              "       0.0054728 , 0.00616565, 0.00541232, 0.00015615, 0.01732958,\n",
              "       0.03429193, 0.04425753, 0.        , 0.00120266, 0.0171863 ,\n",
              "       0.00778448, 0.00525778, 0.00530736, 0.01025098, 0.01165278,\n",
              "       0.00172739, 0.00578293, 0.00290981, 0.00043212, 0.00034407,\n",
              "       0.00075116, 0.00034501, 0.00501804, 0.00070965, 0.00096295,\n",
              "       0.        , 0.00138994, 0.0024797 , 0.00710026, 0.00164737,\n",
              "       0.00467726, 0.03893423, 0.03471707, 0.        ], dtype=float32)"
            ]
          },
          "execution_count": 59,
          "metadata": {},
          "output_type": "execute_result"
        }
      ],
      "source": [
        "dict_modeles['XGBoost'].feature_importances_\n"
      ]
    },
    {
      "cell_type": "markdown",
      "metadata": {
        "id": "UNiJFB9wbc8b"
      },
      "source": [
        "# **Comparaison des modèles**"
      ]
    },
    {
      "cell_type": "markdown",
      "metadata": {
        "id": "fBrfsyCdbiRu"
      },
      "source": [
        "Comparaison des modèles sur le critère de la division RMSE par la  moyenne de la valeur à prédire."
      ]
    },
    {
      "cell_type": "code",
      "execution_count": null,
      "metadata": {
        "colab": {
          "background_save": true
        },
        "id": "h7gnrRGubb-7",
        "outputId": "61ff2ce8-5bec-4117-ba11-f5ef45d7cb37"
      },
      "outputs": [
        {
          "data": {
            "text/html": [
              "\n",
              "  <div id=\"df-cf8d1505-e7d8-42af-9870-3d91a5311971\">\n",
              "    <div class=\"colab-df-container\">\n",
              "      <div>\n",
              "<style scoped>\n",
              "    .dataframe tbody tr th:only-of-type {\n",
              "        vertical-align: middle;\n",
              "    }\n",
              "\n",
              "    .dataframe tbody tr th {\n",
              "        vertical-align: top;\n",
              "    }\n",
              "\n",
              "    .dataframe thead th {\n",
              "        text-align: right;\n",
              "    }\n",
              "</style>\n",
              "<table border=\"1\" class=\"dataframe\">\n",
              "  <thead>\n",
              "    <tr style=\"text-align: right;\">\n",
              "      <th></th>\n",
              "      <th>Modèle</th>\n",
              "      <th>Score_RMSE</th>\n",
              "    </tr>\n",
              "  </thead>\n",
              "  <tbody>\n",
              "    <tr>\n",
              "      <th>0</th>\n",
              "      <td>Elasticnet Regression</td>\n",
              "      <td>0.906957</td>\n",
              "    </tr>\n",
              "    <tr>\n",
              "      <th>1</th>\n",
              "      <td>Random Forest Regressor</td>\n",
              "      <td>0.629762</td>\n",
              "    </tr>\n",
              "    <tr>\n",
              "      <th>2</th>\n",
              "      <td>Support Vector Machine</td>\n",
              "      <td>0.685169</td>\n",
              "    </tr>\n",
              "    <tr>\n",
              "      <th>3</th>\n",
              "      <td>XGBoost</td>\n",
              "      <td>0.653062</td>\n",
              "    </tr>\n",
              "  </tbody>\n",
              "</table>\n",
              "</div>\n",
              "      <button class=\"colab-df-convert\" onclick=\"convertToInteractive('df-cf8d1505-e7d8-42af-9870-3d91a5311971')\"\n",
              "              title=\"Convert this dataframe to an interactive table.\"\n",
              "              style=\"display:none;\">\n",
              "        \n",
              "  <svg xmlns=\"http://www.w3.org/2000/svg\" height=\"24px\"viewBox=\"0 0 24 24\"\n",
              "       width=\"24px\">\n",
              "    <path d=\"M0 0h24v24H0V0z\" fill=\"none\"/>\n",
              "    <path d=\"M18.56 5.44l.94 2.06.94-2.06 2.06-.94-2.06-.94-.94-2.06-.94 2.06-2.06.94zm-11 1L8.5 8.5l.94-2.06 2.06-.94-2.06-.94L8.5 2.5l-.94 2.06-2.06.94zm10 10l.94 2.06.94-2.06 2.06-.94-2.06-.94-.94-2.06-.94 2.06-2.06.94z\"/><path d=\"M17.41 7.96l-1.37-1.37c-.4-.4-.92-.59-1.43-.59-.52 0-1.04.2-1.43.59L10.3 9.45l-7.72 7.72c-.78.78-.78 2.05 0 2.83L4 21.41c.39.39.9.59 1.41.59.51 0 1.02-.2 1.41-.59l7.78-7.78 2.81-2.81c.8-.78.8-2.07 0-2.86zM5.41 20L4 18.59l7.72-7.72 1.47 1.35L5.41 20z\"/>\n",
              "  </svg>\n",
              "      </button>\n",
              "      \n",
              "  <style>\n",
              "    .colab-df-container {\n",
              "      display:flex;\n",
              "      flex-wrap:wrap;\n",
              "      gap: 12px;\n",
              "    }\n",
              "\n",
              "    .colab-df-convert {\n",
              "      background-color: #E8F0FE;\n",
              "      border: none;\n",
              "      border-radius: 50%;\n",
              "      cursor: pointer;\n",
              "      display: none;\n",
              "      fill: #1967D2;\n",
              "      height: 32px;\n",
              "      padding: 0 0 0 0;\n",
              "      width: 32px;\n",
              "    }\n",
              "\n",
              "    .colab-df-convert:hover {\n",
              "      background-color: #E2EBFA;\n",
              "      box-shadow: 0px 1px 2px rgba(60, 64, 67, 0.3), 0px 1px 3px 1px rgba(60, 64, 67, 0.15);\n",
              "      fill: #174EA6;\n",
              "    }\n",
              "\n",
              "    [theme=dark] .colab-df-convert {\n",
              "      background-color: #3B4455;\n",
              "      fill: #D2E3FC;\n",
              "    }\n",
              "\n",
              "    [theme=dark] .colab-df-convert:hover {\n",
              "      background-color: #434B5C;\n",
              "      box-shadow: 0px 1px 3px 1px rgba(0, 0, 0, 0.15);\n",
              "      filter: drop-shadow(0px 1px 2px rgba(0, 0, 0, 0.3));\n",
              "      fill: #FFFFFF;\n",
              "    }\n",
              "  </style>\n",
              "\n",
              "      <script>\n",
              "        const buttonEl =\n",
              "          document.querySelector('#df-cf8d1505-e7d8-42af-9870-3d91a5311971 button.colab-df-convert');\n",
              "        buttonEl.style.display =\n",
              "          google.colab.kernel.accessAllowed ? 'block' : 'none';\n",
              "\n",
              "        async function convertToInteractive(key) {\n",
              "          const element = document.querySelector('#df-cf8d1505-e7d8-42af-9870-3d91a5311971');\n",
              "          const dataTable =\n",
              "            await google.colab.kernel.invokeFunction('convertToInteractive',\n",
              "                                                     [key], {});\n",
              "          if (!dataTable) return;\n",
              "\n",
              "          const docLinkHtml = 'Like what you see? Visit the ' +\n",
              "            '<a target=\"_blank\" href=https://colab.research.google.com/notebooks/data_table.ipynb>data table notebook</a>'\n",
              "            + ' to learn more about interactive tables.';\n",
              "          element.innerHTML = '';\n",
              "          dataTable['output_type'] = 'display_data';\n",
              "          await google.colab.output.renderOutput(dataTable, element);\n",
              "          const docLink = document.createElement('div');\n",
              "          docLink.innerHTML = docLinkHtml;\n",
              "          element.appendChild(docLink);\n",
              "        }\n",
              "      </script>\n",
              "    </div>\n",
              "  </div>\n",
              "  "
            ],
            "text/plain": [
              "                    Modèle  Score_RMSE\n",
              "0  Elasticnet Regression    0.906957  \n",
              "1  Random Forest Regressor  0.629762  \n",
              "2  Support Vector Machine   0.685169  \n",
              "3  XGBoost                  0.653062  "
            ]
          },
          "execution_count": 60,
          "metadata": {},
          "output_type": "execute_result"
        }
      ],
      "source": [
        "results\n"
      ]
    },
    {
      "cell_type": "code",
      "execution_count": null,
      "metadata": {
        "colab": {
          "background_save": true
        },
        "id": "_ySMvcXkbvwD",
        "outputId": "32b67e1d-bc8f-4231-9f77-0af26aff2b2d"
      },
      "outputs": [
        {
          "data": {
            "image/png": "[encoded data removed]",
            "text/plain": [
              "<Figure size 720x288 with 1 Axes>"
            ]
          },
          "metadata": {},
          "output_type": "display_data"
        }
      ],
      "source": [
        "plt.figure(figsize=(10,4))\n",
        "plt.title('Comparaison des RMSE relatives des modèles (en %)')\n",
        "chart = sns.barplot(x = results['Modèle'],\n",
        "        y = results['Score_RMSE']*100)\n",
        "chart.set_xticklabels(labels = results['Modèle'], \n",
        "                      rotation=45,\n",
        "                     horizontalalignment='right',\n",
        "                     size=12,\n",
        "                     )\n",
        "ax = plt.gca()\n",
        "ax.set_ylim([0, 5])\n",
        "plt.show()"
      ]
    },
    {
      "cell_type": "code",
      "execution_count": null,
      "metadata": {
        "colab": {
          "background_save": true
        },
        "id": "iXf8-Ezxb7pl",
        "outputId": "d4c9f9d6-1853-4747-c950-e7fa9759147b"
      },
      "outputs": [
        {
          "data": {
            "text/plain": [
              "1.4973121860465215"
            ]
          },
          "execution_count": 62,
          "metadata": {},
          "output_type": "execute_result"
        }
      ],
      "source": [
        "math.sqrt(mean_squared_error(y_train.mean()*np.ones(y_test.shape[0]), y_test))\n"
      ]
    },
    {
      "cell_type": "code",
      "execution_count": null,
      "metadata": {
        "colab": {
          "background_save": true
        },
        "id": "jQyzjtDecF2t",
        "outputId": "e257f2e8-03a0-41ed-aa24-b0eaf4d7ac74"
      },
      "outputs": [
        {
          "data": {
            "text/plain": [
              "RandomForestRegressor(max_features='sqrt', n_estimators=500)"
            ]
          },
          "execution_count": 63,
          "metadata": {},
          "output_type": "execute_result"
        }
      ],
      "source": [
        "rfr_search.best_estimator_\n"
      ]
    },
    {
      "cell_type": "code",
      "execution_count": null,
      "metadata": {
        "colab": {
          "background_save": true
        },
        "id": "z5dXdbbncHjl",
        "outputId": "4fb7d6f0-bf13-4b32-85d0-9f4964c42b84"
      },
      "outputs": [
        {
          "data": {
            "text/plain": [
              "['Elastic Net', 'Random Forest Regressor', 'SVM', 'XGBoost']"
            ]
          },
          "execution_count": 64,
          "metadata": {},
          "output_type": "execute_result"
        }
      ],
      "source": [
        "list(dict_modeles.keys())\n"
      ]
    },
    {
      "cell_type": "code",
      "execution_count": null,
      "metadata": {
        "colab": {
          "background_save": true
        },
        "id": "pejCSJZ0cVdp"
      },
      "outputs": [],
      "source": [
        "from sklearn.metrics import r2_score, mean_absolute_error\n",
        "\n",
        "\n",
        "nom_modeles = ['Elastic Net', 'Random Forest Regressor', 'SVM', 'XGBoost']\n",
        "liste_modeles = [dict_modeles['Elastic Net'],\n",
        "                 dict_modeles['Random Forest Regressor'],\n",
        "                 dict_modeles['SVM'],\n",
        "                 dict_modeles['XGBoost']\n",
        "                ]\n",
        "\n",
        "comparaison_score = pd.DataFrame(index = nom_modeles, columns = ['RMSE', 'R2', 'RMSE_relative'])\n",
        "\n",
        "for nom_modele, modele in zip(nom_modeles, liste_modeles):\n",
        "    comparaison_score.loc[nom_modele, 'RMSE'] = math.sqrt(mean_squared_error(y_test, modele.predict(X_test)))\n",
        "    comparaison_score.loc[nom_modele, 'R2'] = r2_score(y_test, modele.predict(X_test))\n",
        "\n",
        "#normalisation RMSE\n",
        "comparaison_score['RMSE_relative'] = comparaison_score['RMSE'].divide(comparaison_score['RMSE'].max())"
      ]
    },
    {
      "cell_type": "code",
      "execution_count": null,
      "metadata": {
        "colab": {
          "background_save": true
        },
        "id": "uZdDasTJcZAI",
        "outputId": "51c7a26f-dd9f-4670-8128-2f179f2a06e3"
      },
      "outputs": [
        {
          "data": {
            "text/html": [
              "\n",
              "  <div id=\"df-7df41d11-5ea0-40cf-8b5d-758ecd318cee\">\n",
              "    <div class=\"colab-df-container\">\n",
              "      <div>\n",
              "<style scoped>\n",
              "    .dataframe tbody tr th:only-of-type {\n",
              "        vertical-align: middle;\n",
              "    }\n",
              "\n",
              "    .dataframe tbody tr th {\n",
              "        vertical-align: top;\n",
              "    }\n",
              "\n",
              "    .dataframe thead th {\n",
              "        text-align: right;\n",
              "    }\n",
              "</style>\n",
              "<table border=\"1\" class=\"dataframe\">\n",
              "  <thead>\n",
              "    <tr style=\"text-align: right;\">\n",
              "      <th></th>\n",
              "      <th>RMSE</th>\n",
              "      <th>R2</th>\n",
              "      <th>RMSE_relative</th>\n",
              "    </tr>\n",
              "  </thead>\n",
              "  <tbody>\n",
              "    <tr>\n",
              "      <th>Elastic Net</th>\n",
              "      <td>0.906957</td>\n",
              "      <td>0.631751</td>\n",
              "      <td>1.0</td>\n",
              "    </tr>\n",
              "    <tr>\n",
              "      <th>Random Forest Regressor</th>\n",
              "      <td>0.629762</td>\n",
              "      <td>0.82245</td>\n",
              "      <td>0.694368</td>\n",
              "    </tr>\n",
              "    <tr>\n",
              "      <th>SVM</th>\n",
              "      <td>0.685169</td>\n",
              "      <td>0.789834</td>\n",
              "      <td>0.755459</td>\n",
              "    </tr>\n",
              "    <tr>\n",
              "      <th>XGBoost</th>\n",
              "      <td>0.653062</td>\n",
              "      <td>0.809069</td>\n",
              "      <td>0.720058</td>\n",
              "    </tr>\n",
              "  </tbody>\n",
              "</table>\n",
              "</div>\n",
              "      <button class=\"colab-df-convert\" onclick=\"convertToInteractive('df-7df41d11-5ea0-40cf-8b5d-758ecd318cee')\"\n",
              "              title=\"Convert this dataframe to an interactive table.\"\n",
              "              style=\"display:none;\">\n",
              "        \n",
              "  <svg xmlns=\"http://www.w3.org/2000/svg\" height=\"24px\"viewBox=\"0 0 24 24\"\n",
              "       width=\"24px\">\n",
              "    <path d=\"M0 0h24v24H0V0z\" fill=\"none\"/>\n",
              "    <path d=\"M18.56 5.44l.94 2.06.94-2.06 2.06-.94-2.06-.94-.94-2.06-.94 2.06-2.06.94zm-11 1L8.5 8.5l.94-2.06 2.06-.94-2.06-.94L8.5 2.5l-.94 2.06-2.06.94zm10 10l.94 2.06.94-2.06 2.06-.94-2.06-.94-.94-2.06-.94 2.06-2.06.94z\"/><path d=\"M17.41 7.96l-1.37-1.37c-.4-.4-.92-.59-1.43-.59-.52 0-1.04.2-1.43.59L10.3 9.45l-7.72 7.72c-.78.78-.78 2.05 0 2.83L4 21.41c.39.39.9.59 1.41.59.51 0 1.02-.2 1.41-.59l7.78-7.78 2.81-2.81c.8-.78.8-2.07 0-2.86zM5.41 20L4 18.59l7.72-7.72 1.47 1.35L5.41 20z\"/>\n",
              "  </svg>\n",
              "      </button>\n",
              "      \n",
              "  <style>\n",
              "    .colab-df-container {\n",
              "      display:flex;\n",
              "      flex-wrap:wrap;\n",
              "      gap: 12px;\n",
              "    }\n",
              "\n",
              "    .colab-df-convert {\n",
              "      background-color: #E8F0FE;\n",
              "      border: none;\n",
              "      border-radius: 50%;\n",
              "      cursor: pointer;\n",
              "      display: none;\n",
              "      fill: #1967D2;\n",
              "      height: 32px;\n",
              "      padding: 0 0 0 0;\n",
              "      width: 32px;\n",
              "    }\n",
              "\n",
              "    .colab-df-convert:hover {\n",
              "      background-color: #E2EBFA;\n",
              "      box-shadow: 0px 1px 2px rgba(60, 64, 67, 0.3), 0px 1px 3px 1px rgba(60, 64, 67, 0.15);\n",
              "      fill: #174EA6;\n",
              "    }\n",
              "\n",
              "    [theme=dark] .colab-df-convert {\n",
              "      background-color: #3B4455;\n",
              "      fill: #D2E3FC;\n",
              "    }\n",
              "\n",
              "    [theme=dark] .colab-df-convert:hover {\n",
              "      background-color: #434B5C;\n",
              "      box-shadow: 0px 1px 3px 1px rgba(0, 0, 0, 0.15);\n",
              "      filter: drop-shadow(0px 1px 2px rgba(0, 0, 0, 0.3));\n",
              "      fill: #FFFFFF;\n",
              "    }\n",
              "  </style>\n",
              "\n",
              "      <script>\n",
              "        const buttonEl =\n",
              "          document.querySelector('#df-7df41d11-5ea0-40cf-8b5d-758ecd318cee button.colab-df-convert');\n",
              "        buttonEl.style.display =\n",
              "          google.colab.kernel.accessAllowed ? 'block' : 'none';\n",
              "\n",
              "        async function convertToInteractive(key) {\n",
              "          const element = document.querySelector('#df-7df41d11-5ea0-40cf-8b5d-758ecd318cee');\n",
              "          const dataTable =\n",
              "            await google.colab.kernel.invokeFunction('convertToInteractive',\n",
              "                                                     [key], {});\n",
              "          if (!dataTable) return;\n",
              "\n",
              "          const docLinkHtml = 'Like what you see? Visit the ' +\n",
              "            '<a target=\"_blank\" href=https://colab.research.google.com/notebooks/data_table.ipynb>data table notebook</a>'\n",
              "            + ' to learn more about interactive tables.';\n",
              "          element.innerHTML = '';\n",
              "          dataTable['output_type'] = 'display_data';\n",
              "          await google.colab.output.renderOutput(dataTable, element);\n",
              "          const docLink = document.createElement('div');\n",
              "          docLink.innerHTML = docLinkHtml;\n",
              "          element.appendChild(docLink);\n",
              "        }\n",
              "      </script>\n",
              "    </div>\n",
              "  </div>\n",
              "  "
            ],
            "text/plain": [
              "                             RMSE        R2 RMSE_relative\n",
              "Elastic Net              0.906957  0.631751  1.0         \n",
              "Random Forest Regressor  0.629762  0.82245   0.694368    \n",
              "SVM                      0.685169  0.789834  0.755459    \n",
              "XGBoost                  0.653062  0.809069  0.720058    "
            ]
          },
          "execution_count": 66,
          "metadata": {},
          "output_type": "execute_result"
        }
      ],
      "source": [
        "comparaison_score\n"
      ]
    },
    {
      "cell_type": "code",
      "execution_count": null,
      "metadata": {
        "colab": {
          "background_save": true
        },
        "id": "fLyU7o54cbDR",
        "outputId": "845f1d7f-a40c-47b1-cada-99ccb915f841"
      },
      "outputs": [
        {
          "name": "stdout",
          "output_type": "stream",
          "text": [
            "Elastic Net : \n",
            "3.97 ms ± 154 µs per loop (mean ± std. dev. of 7 runs, 100 loops each)\n",
            "\n",
            "Random Forest Regressor : \n",
            "670 ms ± 5.92 ms per loop (mean ± std. dev. of 7 runs, 1 loop each)\n",
            "\n",
            "SVM : \n",
            "2.29 s ± 174 ms per loop (mean ± std. dev. of 7 runs, 1 loop each)\n",
            "\n",
            "XGBoost : \n",
            "103 ms ± 1.44 ms per loop (mean ± std. dev. of 7 runs, 10 loops each)\n",
            "\n"
          ]
        }
      ],
      "source": [
        "i=0\n",
        "for modele in liste_modeles:\n",
        "    print(nom_modeles[i], ': ')\n",
        "    i+=1\n",
        "    %timeit modele.predict(X_train)\n",
        "    print('')"
      ]
    },
    {
      "cell_type": "code",
      "execution_count": null,
      "metadata": {
        "colab": {
          "background_save": true
        },
        "id": "7VWh9ctJc8qG",
        "outputId": "3d477b15-e2e6-477d-c0f1-a6d6ffb49ace"
      },
      "outputs": [
        {
          "data": {
            "image/png": "[encoded data removed]",
            "text/plain": [
              "<Figure size 432x288 with 1 Axes>"
            ]
          },
          "metadata": {},
          "output_type": "display_data"
        }
      ],
      "source": [
        "plt.title('Temps d\\'exécution des algorithmes pour la prédiction \\n(jeu d\\'entrainement) - échelle logarithmique')\n",
        "sns.barplot(x=nom_modeles,\n",
        "           y = [5.32, 640, 2.14, 145])\n",
        "ax = plt.gca()\n",
        "ax.set_yscale('log')"
      ]
    },
    {
      "cell_type": "code",
      "execution_count": null,
      "metadata": {
        "colab": {
          "background_save": true
        },
        "id": "VEiaX4U5c_au"
      },
      "outputs": [],
      "source": [
        "comparaison_score_melt = pd.melt(comparaison_score.reset_index(), id_vars = ['index'], value_name = 'score', value_vars=['R2', 'RMSE_relative'])"
      ]
    },
    {
      "cell_type": "code",
      "execution_count": null,
      "metadata": {
        "colab": {
          "background_save": true
        },
        "id": "iGx2SYBkdKTq",
        "outputId": "7de075ff-edba-43be-e7e8-b9c8fbc720b5"
      },
      "outputs": [
        {
          "data": {
            "text/plain": [
              "Text(0.5, 1.0, 'Comparaison des performances des modèles (jeu de test)')"
            ]
          },
          "execution_count": 70,
          "metadata": {},
          "output_type": "execute_result"
        },
        {
          "data": {
            "image/png": "[encoded data removed]",
            "text/plain": [
              "<Figure size 576x432 with 1 Axes>"
            ]
          },
          "metadata": {},
          "output_type": "display_data"
        }
      ],
      "source": [
        "plt.figure(figsize=(8,6))\n",
        "sns.barplot(x = comparaison_score_melt['index'],\n",
        "            y = comparaison_score_melt['score'], hue = comparaison_score_melt['variable'])\n",
        "plt.title('Comparaison des performances des modèles (jeu de test)')"
      ]
    },
    {
      "cell_type": "markdown",
      "metadata": {
        "id": "ev0KN5CedQHA"
      },
      "source": [
        "# **Verification des prédictions**"
      ]
    },
    {
      "cell_type": "code",
      "execution_count": null,
      "metadata": {
        "colab": {
          "background_save": true
        },
        "id": "KMkRovFqdMuY"
      },
      "outputs": [],
      "source": [
        "X_extrait = X_test\n",
        "y_extrait = y_test"
      ]
    },
    {
      "cell_type": "code",
      "execution_count": null,
      "metadata": {
        "colab": {
          "background_save": true
        },
        "id": "uiftTpkXdVXJ",
        "outputId": "b1a03d61-c24d-4995-dbd3-b1468343fbe1"
      },
      "outputs": [
        {
          "data": {
            "text/html": [
              "\n",
              "  <div id=\"df-a921913a-270f-48ee-8a05-bcea96bb2466\">\n",
              "    <div class=\"colab-df-container\">\n",
              "      <div>\n",
              "<style scoped>\n",
              "    .dataframe tbody tr th:only-of-type {\n",
              "        vertical-align: middle;\n",
              "    }\n",
              "\n",
              "    .dataframe tbody tr th {\n",
              "        vertical-align: top;\n",
              "    }\n",
              "\n",
              "    .dataframe thead th {\n",
              "        text-align: right;\n",
              "    }\n",
              "</style>\n",
              "<table border=\"1\" class=\"dataframe\">\n",
              "  <thead>\n",
              "    <tr style=\"text-align: right;\">\n",
              "      <th></th>\n",
              "      <th>NumberofBuildings</th>\n",
              "      <th>NumberofFloors</th>\n",
              "      <th>LargestPropertyUseTypeGFA</th>\n",
              "      <th>SecondLargestPropertyUseTypeGFA</th>\n",
              "      <th>ThirdLargestPropertyUseTypeGFA</th>\n",
              "      <th>Latitude</th>\n",
              "      <th>Longitude</th>\n",
              "      <th>x0_Campus</th>\n",
              "      <th>x0_Multifamily HR (10+)</th>\n",
              "      <th>x0_Multifamily LR (1-4)</th>\n",
              "      <th>x0_Multifamily MR (5-9)</th>\n",
              "      <th>x0_NonResidential</th>\n",
              "      <th>x0_Nonresidential COS</th>\n",
              "      <th>x0_Nonresidential WA</th>\n",
              "      <th>x0_SPS-District K-12</th>\n",
              "      <th>x1_Education</th>\n",
              "      <th>x1_Facility</th>\n",
              "      <th>x1_Health</th>\n",
              "      <th>x1_Leisure</th>\n",
              "      <th>x1_Office</th>\n",
              "      <th>x1_Offices</th>\n",
              "      <th>x1_Other</th>\n",
              "      <th>x1_Residence/Hotel/Senior Care/Housing</th>\n",
              "      <th>x1_Retail</th>\n",
              "      <th>x1_Storage</th>\n",
              "      <th>x1_Supermarket / Grocery Store</th>\n",
              "      <th>x1_Warehouse</th>\n",
              "      <th>x2_BALLARD</th>\n",
              "      <th>x2_CENTRAL</th>\n",
              "      <th>x2_DELRIDGE</th>\n",
              "      <th>x2_DOWNTOWN</th>\n",
              "      <th>x2_EAST</th>\n",
              "      <th>x2_GREATER DUWAMISH</th>\n",
              "      <th>x2_LAKE UNION</th>\n",
              "      <th>x2_MAGNOLIA / QUEEN ANNE</th>\n",
              "      <th>x2_NORTH</th>\n",
              "      <th>x2_NORTHEAST</th>\n",
              "      <th>x2_NORTHWEST</th>\n",
              "      <th>x2_SOUTHEAST</th>\n",
              "      <th>x2_SOUTHWEST</th>\n",
              "      <th>x3_Education</th>\n",
              "      <th>x3_Facility</th>\n",
              "      <th>x3_Health</th>\n",
              "      <th>x3_Leisure</th>\n",
              "      <th>x3_Office</th>\n",
              "      <th>x3_Offices</th>\n",
              "      <th>x3_Other</th>\n",
              "      <th>x3_Parking</th>\n",
              "      <th>x3_Personal Services (Health/Beauty, Dry Cleaning, etc)</th>\n",
              "      <th>x3_Residence/Hotel/Senior Care/Housing</th>\n",
              "      <th>x3_Retail</th>\n",
              "      <th>x3_Storage</th>\n",
              "      <th>x4_Education</th>\n",
              "      <th>x4_Facility</th>\n",
              "      <th>x4_Health</th>\n",
              "      <th>x4_Leisure</th>\n",
              "      <th>x4_Office</th>\n",
              "      <th>x4_Offices</th>\n",
              "      <th>x4_Other</th>\n",
              "      <th>x4_Parking</th>\n",
              "      <th>x4_Personal Services (Health/Beauty, Dry Cleaning, etc)</th>\n",
              "      <th>x4_Residence/Hotel/Senior Care/Housing</th>\n",
              "      <th>x4_Retail</th>\n",
              "      <th>x4_Storage</th>\n",
              "      <th>x5_Education</th>\n",
              "      <th>x5_Facility</th>\n",
              "      <th>x5_Health</th>\n",
              "      <th>x5_Leisure</th>\n",
              "      <th>x5_Office</th>\n",
              "      <th>x5_Offices</th>\n",
              "      <th>x5_Other</th>\n",
              "      <th>x5_Parking</th>\n",
              "      <th>x5_Personal Services (Health/Beauty, Dry Cleaning, etc)</th>\n",
              "      <th>x5_Residence/Hotel/Senior Care/Housing</th>\n",
              "      <th>x5_Retail</th>\n",
              "      <th>x5_Storage</th>\n",
              "      <th>x6_High Outlier</th>\n",
              "      <th>x6_Low Outlier</th>\n",
              "      <th>x6_Normal</th>\n",
              "    </tr>\n",
              "  </thead>\n",
              "  <tbody>\n",
              "    <tr>\n",
              "      <th>1703</th>\n",
              "      <td>-0.034419</td>\n",
              "      <td>-0.328997</td>\n",
              "      <td>-0.540707</td>\n",
              "      <td>-0.308135</td>\n",
              "      <td>-0.159065</td>\n",
              "      <td>1.480401</td>\n",
              "      <td>0.670863</td>\n",
              "      <td>0</td>\n",
              "      <td>0</td>\n",
              "      <td>1</td>\n",
              "      <td>0</td>\n",
              "      <td>0</td>\n",
              "      <td>0</td>\n",
              "      <td>0</td>\n",
              "      <td>0</td>\n",
              "      <td>0</td>\n",
              "      <td>0</td>\n",
              "      <td>0</td>\n",
              "      <td>0</td>\n",
              "      <td>0</td>\n",
              "      <td>0</td>\n",
              "      <td>0</td>\n",
              "      <td>1</td>\n",
              "      <td>0</td>\n",
              "      <td>0</td>\n",
              "      <td>0</td>\n",
              "      <td>0</td>\n",
              "      <td>0</td>\n",
              "      <td>0</td>\n",
              "      <td>0</td>\n",
              "      <td>0</td>\n",
              "      <td>0</td>\n",
              "      <td>0</td>\n",
              "      <td>0</td>\n",
              "      <td>0</td>\n",
              "      <td>1</td>\n",
              "      <td>0</td>\n",
              "      <td>0</td>\n",
              "      <td>0</td>\n",
              "      <td>0</td>\n",
              "      <td>0</td>\n",
              "      <td>0</td>\n",
              "      <td>0</td>\n",
              "      <td>0</td>\n",
              "      <td>0</td>\n",
              "      <td>0</td>\n",
              "      <td>0</td>\n",
              "      <td>0</td>\n",
              "      <td>0</td>\n",
              "      <td>1</td>\n",
              "      <td>0</td>\n",
              "      <td>0</td>\n",
              "      <td>0</td>\n",
              "      <td>0</td>\n",
              "      <td>0</td>\n",
              "      <td>0</td>\n",
              "      <td>0</td>\n",
              "      <td>0</td>\n",
              "      <td>0</td>\n",
              "      <td>1</td>\n",
              "      <td>0</td>\n",
              "      <td>0</td>\n",
              "      <td>0</td>\n",
              "      <td>0</td>\n",
              "      <td>0</td>\n",
              "      <td>0</td>\n",
              "      <td>0</td>\n",
              "      <td>0</td>\n",
              "      <td>0</td>\n",
              "      <td>0</td>\n",
              "      <td>1</td>\n",
              "      <td>0</td>\n",
              "      <td>0</td>\n",
              "      <td>0</td>\n",
              "      <td>0</td>\n",
              "      <td>0</td>\n",
              "      <td>0</td>\n",
              "      <td>0</td>\n",
              "      <td>1</td>\n",
              "    </tr>\n",
              "    <tr>\n",
              "      <th>5240</th>\n",
              "      <td>-0.034419</td>\n",
              "      <td>0.762691</td>\n",
              "      <td>0.633714</td>\n",
              "      <td>0.803847</td>\n",
              "      <td>-0.159065</td>\n",
              "      <td>-0.493824</td>\n",
              "      <td>0.349614</td>\n",
              "      <td>0</td>\n",
              "      <td>0</td>\n",
              "      <td>0</td>\n",
              "      <td>1</td>\n",
              "      <td>0</td>\n",
              "      <td>0</td>\n",
              "      <td>0</td>\n",
              "      <td>0</td>\n",
              "      <td>0</td>\n",
              "      <td>0</td>\n",
              "      <td>0</td>\n",
              "      <td>0</td>\n",
              "      <td>0</td>\n",
              "      <td>0</td>\n",
              "      <td>0</td>\n",
              "      <td>1</td>\n",
              "      <td>0</td>\n",
              "      <td>0</td>\n",
              "      <td>0</td>\n",
              "      <td>0</td>\n",
              "      <td>0</td>\n",
              "      <td>0</td>\n",
              "      <td>0</td>\n",
              "      <td>1</td>\n",
              "      <td>0</td>\n",
              "      <td>0</td>\n",
              "      <td>0</td>\n",
              "      <td>0</td>\n",
              "      <td>0</td>\n",
              "      <td>0</td>\n",
              "      <td>0</td>\n",
              "      <td>0</td>\n",
              "      <td>0</td>\n",
              "      <td>0</td>\n",
              "      <td>0</td>\n",
              "      <td>0</td>\n",
              "      <td>0</td>\n",
              "      <td>0</td>\n",
              "      <td>0</td>\n",
              "      <td>0</td>\n",
              "      <td>0</td>\n",
              "      <td>0</td>\n",
              "      <td>1</td>\n",
              "      <td>0</td>\n",
              "      <td>0</td>\n",
              "      <td>0</td>\n",
              "      <td>0</td>\n",
              "      <td>0</td>\n",
              "      <td>0</td>\n",
              "      <td>0</td>\n",
              "      <td>0</td>\n",
              "      <td>0</td>\n",
              "      <td>1</td>\n",
              "      <td>0</td>\n",
              "      <td>0</td>\n",
              "      <td>0</td>\n",
              "      <td>0</td>\n",
              "      <td>0</td>\n",
              "      <td>0</td>\n",
              "      <td>0</td>\n",
              "      <td>0</td>\n",
              "      <td>0</td>\n",
              "      <td>0</td>\n",
              "      <td>1</td>\n",
              "      <td>0</td>\n",
              "      <td>0</td>\n",
              "      <td>0</td>\n",
              "      <td>0</td>\n",
              "      <td>0</td>\n",
              "      <td>0</td>\n",
              "      <td>0</td>\n",
              "      <td>1</td>\n",
              "    </tr>\n",
              "    <tr>\n",
              "      <th>5471</th>\n",
              "      <td>-0.034419</td>\n",
              "      <td>-0.601920</td>\n",
              "      <td>-0.422841</td>\n",
              "      <td>-0.362042</td>\n",
              "      <td>-0.159065</td>\n",
              "      <td>-0.043409</td>\n",
              "      <td>1.742348</td>\n",
              "      <td>1</td>\n",
              "      <td>0</td>\n",
              "      <td>0</td>\n",
              "      <td>0</td>\n",
              "      <td>0</td>\n",
              "      <td>0</td>\n",
              "      <td>0</td>\n",
              "      <td>0</td>\n",
              "      <td>1</td>\n",
              "      <td>0</td>\n",
              "      <td>0</td>\n",
              "      <td>0</td>\n",
              "      <td>0</td>\n",
              "      <td>0</td>\n",
              "      <td>0</td>\n",
              "      <td>0</td>\n",
              "      <td>0</td>\n",
              "      <td>0</td>\n",
              "      <td>0</td>\n",
              "      <td>0</td>\n",
              "      <td>0</td>\n",
              "      <td>1</td>\n",
              "      <td>0</td>\n",
              "      <td>0</td>\n",
              "      <td>0</td>\n",
              "      <td>0</td>\n",
              "      <td>0</td>\n",
              "      <td>0</td>\n",
              "      <td>0</td>\n",
              "      <td>0</td>\n",
              "      <td>0</td>\n",
              "      <td>0</td>\n",
              "      <td>0</td>\n",
              "      <td>1</td>\n",
              "      <td>0</td>\n",
              "      <td>0</td>\n",
              "      <td>0</td>\n",
              "      <td>0</td>\n",
              "      <td>0</td>\n",
              "      <td>0</td>\n",
              "      <td>0</td>\n",
              "      <td>0</td>\n",
              "      <td>0</td>\n",
              "      <td>0</td>\n",
              "      <td>0</td>\n",
              "      <td>0</td>\n",
              "      <td>0</td>\n",
              "      <td>0</td>\n",
              "      <td>0</td>\n",
              "      <td>0</td>\n",
              "      <td>0</td>\n",
              "      <td>1</td>\n",
              "      <td>0</td>\n",
              "      <td>0</td>\n",
              "      <td>0</td>\n",
              "      <td>0</td>\n",
              "      <td>0</td>\n",
              "      <td>0</td>\n",
              "      <td>0</td>\n",
              "      <td>0</td>\n",
              "      <td>0</td>\n",
              "      <td>0</td>\n",
              "      <td>0</td>\n",
              "      <td>1</td>\n",
              "      <td>0</td>\n",
              "      <td>0</td>\n",
              "      <td>0</td>\n",
              "      <td>0</td>\n",
              "      <td>0</td>\n",
              "      <td>0</td>\n",
              "      <td>0</td>\n",
              "      <td>1</td>\n",
              "    </tr>\n",
              "    <tr>\n",
              "      <th>4210</th>\n",
              "      <td>-0.034419</td>\n",
              "      <td>-0.328997</td>\n",
              "      <td>-0.513409</td>\n",
              "      <td>-0.362042</td>\n",
              "      <td>-0.159065</td>\n",
              "      <td>2.244934</td>\n",
              "      <td>0.274828</td>\n",
              "      <td>0</td>\n",
              "      <td>0</td>\n",
              "      <td>0</td>\n",
              "      <td>0</td>\n",
              "      <td>1</td>\n",
              "      <td>0</td>\n",
              "      <td>0</td>\n",
              "      <td>0</td>\n",
              "      <td>1</td>\n",
              "      <td>0</td>\n",
              "      <td>0</td>\n",
              "      <td>0</td>\n",
              "      <td>0</td>\n",
              "      <td>0</td>\n",
              "      <td>0</td>\n",
              "      <td>0</td>\n",
              "      <td>0</td>\n",
              "      <td>0</td>\n",
              "      <td>0</td>\n",
              "      <td>0</td>\n",
              "      <td>0</td>\n",
              "      <td>0</td>\n",
              "      <td>0</td>\n",
              "      <td>0</td>\n",
              "      <td>0</td>\n",
              "      <td>0</td>\n",
              "      <td>0</td>\n",
              "      <td>0</td>\n",
              "      <td>0</td>\n",
              "      <td>0</td>\n",
              "      <td>1</td>\n",
              "      <td>0</td>\n",
              "      <td>0</td>\n",
              "      <td>1</td>\n",
              "      <td>0</td>\n",
              "      <td>0</td>\n",
              "      <td>0</td>\n",
              "      <td>0</td>\n",
              "      <td>0</td>\n",
              "      <td>0</td>\n",
              "      <td>0</td>\n",
              "      <td>0</td>\n",
              "      <td>0</td>\n",
              "      <td>0</td>\n",
              "      <td>0</td>\n",
              "      <td>0</td>\n",
              "      <td>0</td>\n",
              "      <td>0</td>\n",
              "      <td>0</td>\n",
              "      <td>0</td>\n",
              "      <td>0</td>\n",
              "      <td>1</td>\n",
              "      <td>0</td>\n",
              "      <td>0</td>\n",
              "      <td>0</td>\n",
              "      <td>0</td>\n",
              "      <td>0</td>\n",
              "      <td>0</td>\n",
              "      <td>0</td>\n",
              "      <td>0</td>\n",
              "      <td>0</td>\n",
              "      <td>0</td>\n",
              "      <td>0</td>\n",
              "      <td>1</td>\n",
              "      <td>0</td>\n",
              "      <td>0</td>\n",
              "      <td>0</td>\n",
              "      <td>0</td>\n",
              "      <td>0</td>\n",
              "      <td>0</td>\n",
              "      <td>0</td>\n",
              "      <td>1</td>\n",
              "    </tr>\n",
              "    <tr>\n",
              "      <th>1480</th>\n",
              "      <td>-0.034419</td>\n",
              "      <td>-0.874842</td>\n",
              "      <td>-0.586135</td>\n",
              "      <td>-0.298820</td>\n",
              "      <td>-0.159065</td>\n",
              "      <td>-1.098073</td>\n",
              "      <td>-0.573856</td>\n",
              "      <td>0</td>\n",
              "      <td>0</td>\n",
              "      <td>0</td>\n",
              "      <td>0</td>\n",
              "      <td>1</td>\n",
              "      <td>0</td>\n",
              "      <td>0</td>\n",
              "      <td>0</td>\n",
              "      <td>0</td>\n",
              "      <td>0</td>\n",
              "      <td>0</td>\n",
              "      <td>0</td>\n",
              "      <td>0</td>\n",
              "      <td>0</td>\n",
              "      <td>0</td>\n",
              "      <td>0</td>\n",
              "      <td>0</td>\n",
              "      <td>1</td>\n",
              "      <td>0</td>\n",
              "      <td>0</td>\n",
              "      <td>0</td>\n",
              "      <td>0</td>\n",
              "      <td>0</td>\n",
              "      <td>0</td>\n",
              "      <td>0</td>\n",
              "      <td>1</td>\n",
              "      <td>0</td>\n",
              "      <td>0</td>\n",
              "      <td>0</td>\n",
              "      <td>0</td>\n",
              "      <td>0</td>\n",
              "      <td>0</td>\n",
              "      <td>0</td>\n",
              "      <td>0</td>\n",
              "      <td>0</td>\n",
              "      <td>0</td>\n",
              "      <td>0</td>\n",
              "      <td>0</td>\n",
              "      <td>0</td>\n",
              "      <td>0</td>\n",
              "      <td>0</td>\n",
              "      <td>0</td>\n",
              "      <td>0</td>\n",
              "      <td>0</td>\n",
              "      <td>1</td>\n",
              "      <td>0</td>\n",
              "      <td>0</td>\n",
              "      <td>0</td>\n",
              "      <td>0</td>\n",
              "      <td>1</td>\n",
              "      <td>0</td>\n",
              "      <td>0</td>\n",
              "      <td>0</td>\n",
              "      <td>0</td>\n",
              "      <td>0</td>\n",
              "      <td>0</td>\n",
              "      <td>0</td>\n",
              "      <td>0</td>\n",
              "      <td>0</td>\n",
              "      <td>0</td>\n",
              "      <td>0</td>\n",
              "      <td>0</td>\n",
              "      <td>0</td>\n",
              "      <td>1</td>\n",
              "      <td>0</td>\n",
              "      <td>0</td>\n",
              "      <td>0</td>\n",
              "      <td>0</td>\n",
              "      <td>0</td>\n",
              "      <td>0</td>\n",
              "      <td>0</td>\n",
              "      <td>1</td>\n",
              "    </tr>\n",
              "  </tbody>\n",
              "</table>\n",
              "</div>\n",
              "      <button class=\"colab-df-convert\" onclick=\"convertToInteractive('df-a921913a-270f-48ee-8a05-bcea96bb2466')\"\n",
              "              title=\"Convert this dataframe to an interactive table.\"\n",
              "              style=\"display:none;\">\n",
              "        \n",
              "  <svg xmlns=\"http://www.w3.org/2000/svg\" height=\"24px\"viewBox=\"0 0 24 24\"\n",
              "       width=\"24px\">\n",
              "    <path d=\"M0 0h24v24H0V0z\" fill=\"none\"/>\n",
              "    <path d=\"M18.56 5.44l.94 2.06.94-2.06 2.06-.94-2.06-.94-.94-2.06-.94 2.06-2.06.94zm-11 1L8.5 8.5l.94-2.06 2.06-.94-2.06-.94L8.5 2.5l-.94 2.06-2.06.94zm10 10l.94 2.06.94-2.06 2.06-.94-2.06-.94-.94-2.06-.94 2.06-2.06.94z\"/><path d=\"M17.41 7.96l-1.37-1.37c-.4-.4-.92-.59-1.43-.59-.52 0-1.04.2-1.43.59L10.3 9.45l-7.72 7.72c-.78.78-.78 2.05 0 2.83L4 21.41c.39.39.9.59 1.41.59.51 0 1.02-.2 1.41-.59l7.78-7.78 2.81-2.81c.8-.78.8-2.07 0-2.86zM5.41 20L4 18.59l7.72-7.72 1.47 1.35L5.41 20z\"/>\n",
              "  </svg>\n",
              "      </button>\n",
              "      \n",
              "  <style>\n",
              "    .colab-df-container {\n",
              "      display:flex;\n",
              "      flex-wrap:wrap;\n",
              "      gap: 12px;\n",
              "    }\n",
              "\n",
              "    .colab-df-convert {\n",
              "      background-color: #E8F0FE;\n",
              "      border: none;\n",
              "      border-radius: 50%;\n",
              "      cursor: pointer;\n",
              "      display: none;\n",
              "      fill: #1967D2;\n",
              "      height: 32px;\n",
              "      padding: 0 0 0 0;\n",
              "      width: 32px;\n",
              "    }\n",
              "\n",
              "    .colab-df-convert:hover {\n",
              "      background-color: #E2EBFA;\n",
              "      box-shadow: 0px 1px 2px rgba(60, 64, 67, 0.3), 0px 1px 3px 1px rgba(60, 64, 67, 0.15);\n",
              "      fill: #174EA6;\n",
              "    }\n",
              "\n",
              "    [theme=dark] .colab-df-convert {\n",
              "      background-color: #3B4455;\n",
              "      fill: #D2E3FC;\n",
              "    }\n",
              "\n",
              "    [theme=dark] .colab-df-convert:hover {\n",
              "      background-color: #434B5C;\n",
              "      box-shadow: 0px 1px 3px 1px rgba(0, 0, 0, 0.15);\n",
              "      filter: drop-shadow(0px 1px 2px rgba(0, 0, 0, 0.3));\n",
              "      fill: #FFFFFF;\n",
              "    }\n",
              "  </style>\n",
              "\n",
              "      <script>\n",
              "        const buttonEl =\n",
              "          document.querySelector('#df-a921913a-270f-48ee-8a05-bcea96bb2466 button.colab-df-convert');\n",
              "        buttonEl.style.display =\n",
              "          google.colab.kernel.accessAllowed ? 'block' : 'none';\n",
              "\n",
              "        async function convertToInteractive(key) {\n",
              "          const element = document.querySelector('#df-a921913a-270f-48ee-8a05-bcea96bb2466');\n",
              "          const dataTable =\n",
              "            await google.colab.kernel.invokeFunction('convertToInteractive',\n",
              "                                                     [key], {});\n",
              "          if (!dataTable) return;\n",
              "\n",
              "          const docLinkHtml = 'Like what you see? Visit the ' +\n",
              "            '<a target=\"_blank\" href=https://colab.research.google.com/notebooks/data_table.ipynb>data table notebook</a>'\n",
              "            + ' to learn more about interactive tables.';\n",
              "          element.innerHTML = '';\n",
              "          dataTable['output_type'] = 'display_data';\n",
              "          await google.colab.output.renderOutput(dataTable, element);\n",
              "          const docLink = document.createElement('div');\n",
              "          docLink.innerHTML = docLinkHtml;\n",
              "          element.appendChild(docLink);\n",
              "        }\n",
              "      </script>\n",
              "    </div>\n",
              "  </div>\n",
              "  "
            ],
            "text/plain": [
              "      NumberofBuildings  NumberofFloors  LargestPropertyUseTypeGFA  \\\n",
              "1703 -0.034419          -0.328997       -0.540707                    \n",
              "5240 -0.034419           0.762691        0.633714                    \n",
              "5471 -0.034419          -0.601920       -0.422841                    \n",
              "4210 -0.034419          -0.328997       -0.513409                    \n",
              "1480 -0.034419          -0.874842       -0.586135                    \n",
              "\n",
              "      SecondLargestPropertyUseTypeGFA  ThirdLargestPropertyUseTypeGFA  \\\n",
              "1703 -0.308135                        -0.159065                         \n",
              "5240  0.803847                        -0.159065                         \n",
              "5471 -0.362042                        -0.159065                         \n",
              "4210 -0.362042                        -0.159065                         \n",
              "1480 -0.298820                        -0.159065                         \n",
              "\n",
              "      Latitude  Longitude  x0_Campus  x0_Multifamily HR (10+)  \\\n",
              "1703  1.480401  0.670863   0          0                         \n",
              "5240 -0.493824  0.349614   0          0                         \n",
              "5471 -0.043409  1.742348   1          0                         \n",
              "4210  2.244934  0.274828   0          0                         \n",
              "1480 -1.098073 -0.573856   0          0                         \n",
              "\n",
              "      x0_Multifamily LR (1-4)  x0_Multifamily MR (5-9)  x0_NonResidential  \\\n",
              "1703  1                        0                        0                   \n",
              "5240  0                        1                        0                   \n",
              "5471  0                        0                        0                   \n",
              "4210  0                        0                        1                   \n",
              "1480  0                        0                        1                   \n",
              "\n",
              "      x0_Nonresidential COS  x0_Nonresidential WA  x0_SPS-District K-12  \\\n",
              "1703  0                      0                     0                      \n",
              "5240  0                      0                     0                      \n",
              "5471  0                      0                     0                      \n",
              "4210  0                      0                     0                      \n",
              "1480  0                      0                     0                      \n",
              "\n",
              "      x1_Education  x1_Facility  x1_Health  x1_Leisure  x1_Office  x1_Offices  \\\n",
              "1703  0             0            0          0           0          0            \n",
              "5240  0             0            0          0           0          0            \n",
              "5471  1             0            0          0           0          0            \n",
              "4210  1             0            0          0           0          0            \n",
              "1480  0             0            0          0           0          0            \n",
              "\n",
              "      x1_Other  x1_Residence/Hotel/Senior Care/Housing  x1_Retail  x1_Storage  \\\n",
              "1703  0         1                                       0          0            \n",
              "5240  0         1                                       0          0            \n",
              "5471  0         0                                       0          0            \n",
              "4210  0         0                                       0          0            \n",
              "1480  0         0                                       0          1            \n",
              "\n",
              "      x1_Supermarket / Grocery Store  x1_Warehouse  x2_BALLARD  x2_CENTRAL  \\\n",
              "1703  0                               0             0           0            \n",
              "5240  0                               0             0           0            \n",
              "5471  0                               0             0           1            \n",
              "4210  0                               0             0           0            \n",
              "1480  0                               0             0           0            \n",
              "\n",
              "      x2_DELRIDGE  x2_DOWNTOWN  x2_EAST  x2_GREATER DUWAMISH  x2_LAKE UNION  \\\n",
              "1703  0            0            0        0                    0               \n",
              "5240  0            1            0        0                    0               \n",
              "5471  0            0            0        0                    0               \n",
              "4210  0            0            0        0                    0               \n",
              "1480  0            0            0        1                    0               \n",
              "\n",
              "      x2_MAGNOLIA / QUEEN ANNE  x2_NORTH  x2_NORTHEAST  x2_NORTHWEST  \\\n",
              "1703  0                         1         0             0              \n",
              "5240  0                         0         0             0              \n",
              "5471  0                         0         0             0              \n",
              "4210  0                         0         0             1              \n",
              "1480  0                         0         0             0              \n",
              "\n",
              "      x2_SOUTHEAST  x2_SOUTHWEST  x3_Education  x3_Facility  x3_Health  \\\n",
              "1703  0             0             0             0            0           \n",
              "5240  0             0             0             0            0           \n",
              "5471  0             0             1             0            0           \n",
              "4210  0             0             1             0            0           \n",
              "1480  0             0             0             0            0           \n",
              "\n",
              "      x3_Leisure  x3_Office  x3_Offices  x3_Other  x3_Parking  \\\n",
              "1703  0           0          0           0         0            \n",
              "5240  0           0          0           0         0            \n",
              "5471  0           0          0           0         0            \n",
              "4210  0           0          0           0         0            \n",
              "1480  0           0          0           0         0            \n",
              "\n",
              "      x3_Personal Services (Health/Beauty, Dry Cleaning, etc)  \\\n",
              "1703  0                                                         \n",
              "5240  0                                                         \n",
              "5471  0                                                         \n",
              "4210  0                                                         \n",
              "1480  0                                                         \n",
              "\n",
              "      x3_Residence/Hotel/Senior Care/Housing  x3_Retail  x3_Storage  \\\n",
              "1703  1                                       0          0            \n",
              "5240  1                                       0          0            \n",
              "5471  0                                       0          0            \n",
              "4210  0                                       0          0            \n",
              "1480  0                                       0          1            \n",
              "\n",
              "      x4_Education  x4_Facility  x4_Health  x4_Leisure  x4_Office  x4_Offices  \\\n",
              "1703  0             0            0          0           0          0            \n",
              "5240  0             0            0          0           0          0            \n",
              "5471  0             0            0          0           0          0            \n",
              "4210  0             0            0          0           0          0            \n",
              "1480  0             0            0          0           1          0            \n",
              "\n",
              "      x4_Other  x4_Parking  \\\n",
              "1703  0         1            \n",
              "5240  0         1            \n",
              "5471  1         0            \n",
              "4210  1         0            \n",
              "1480  0         0            \n",
              "\n",
              "      x4_Personal Services (Health/Beauty, Dry Cleaning, etc)  \\\n",
              "1703  0                                                         \n",
              "5240  0                                                         \n",
              "5471  0                                                         \n",
              "4210  0                                                         \n",
              "1480  0                                                         \n",
              "\n",
              "      x4_Residence/Hotel/Senior Care/Housing  x4_Retail  x4_Storage  \\\n",
              "1703  0                                       0          0            \n",
              "5240  0                                       0          0            \n",
              "5471  0                                       0          0            \n",
              "4210  0                                       0          0            \n",
              "1480  0                                       0          0            \n",
              "\n",
              "      x5_Education  x5_Facility  x5_Health  x5_Leisure  x5_Office  x5_Offices  \\\n",
              "1703  0             0            0          0           0          0            \n",
              "5240  0             0            0          0           0          0            \n",
              "5471  0             0            0          0           0          0            \n",
              "4210  0             0            0          0           0          0            \n",
              "1480  0             0            0          0           0          0            \n",
              "\n",
              "      x5_Other  x5_Parking  \\\n",
              "1703  1         0            \n",
              "5240  1         0            \n",
              "5471  1         0            \n",
              "4210  1         0            \n",
              "1480  1         0            \n",
              "\n",
              "      x5_Personal Services (Health/Beauty, Dry Cleaning, etc)  \\\n",
              "1703  0                                                         \n",
              "5240  0                                                         \n",
              "5471  0                                                         \n",
              "4210  0                                                         \n",
              "1480  0                                                         \n",
              "\n",
              "      x5_Residence/Hotel/Senior Care/Housing  x5_Retail  x5_Storage  \\\n",
              "1703  0                                       0          0            \n",
              "5240  0                                       0          0            \n",
              "5471  0                                       0          0            \n",
              "4210  0                                       0          0            \n",
              "1480  0                                       0          0            \n",
              "\n",
              "      x6_High Outlier  x6_Low Outlier  x6_Normal  \n",
              "1703  0                0               1          \n",
              "5240  0                0               1          \n",
              "5471  0                0               1          \n",
              "4210  0                0               1          \n",
              "1480  0                0               1          "
            ]
          },
          "execution_count": 72,
          "metadata": {},
          "output_type": "execute_result"
        }
      ],
      "source": [
        "X_extrait.head()\n"
      ]
    },
    {
      "cell_type": "code",
      "execution_count": null,
      "metadata": {
        "colab": {
          "background_save": true
        },
        "id": "IrJRgsdKdXeo",
        "outputId": "1cf325cd-4096-4522-e234-2b896281f7a0"
      },
      "outputs": [
        {
          "data": {
            "text/plain": [
              "1703    19.335591\n",
              "5240    22.219276\n",
              "5471    20.799023\n",
              "4210    20.276983\n",
              "1480    18.141942\n",
              "Name: Log2-SiteEnergyUseWN(kBtu), dtype: float64"
            ]
          },
          "execution_count": 73,
          "metadata": {},
          "output_type": "execute_result"
        }
      ],
      "source": [
        "y_extrait.head()\n"
      ]
    },
    {
      "cell_type": "code",
      "execution_count": null,
      "metadata": {
        "colab": {
          "background_save": true
        },
        "id": "O6ZGqAYYdZce"
      },
      "outputs": [],
      "source": [
        "prediction = dict_modeles['Random Forest Regressor'].predict(X_extrait)\n"
      ]
    },
    {
      "cell_type": "code",
      "execution_count": null,
      "metadata": {
        "colab": {
          "background_save": true
        },
        "id": "2sJFrSUfdb8w",
        "outputId": "6fc7a7ec-c93e-408a-b8cc-e21a88c58f34"
      },
      "outputs": [
        {
          "data": {
            "text/plain": [
              "0    0\n",
              "dtype: int64"
            ]
          },
          "execution_count": 75,
          "metadata": {},
          "output_type": "execute_result"
        }
      ],
      "source": [
        "pd.DataFrame(prediction).isna().sum()\n"
      ]
    },
    {
      "cell_type": "code",
      "execution_count": null,
      "metadata": {
        "colab": {
          "background_save": true
        },
        "id": "tl0cMR90deQP",
        "outputId": "62922770-fdf7-4663-c083-677c80e52579"
      },
      "outputs": [
        {
          "data": {
            "text/plain": [
              "pandas.core.series.Series"
            ]
          },
          "execution_count": 76,
          "metadata": {},
          "output_type": "execute_result"
        }
      ],
      "source": [
        "type(y_extrait)\n"
      ]
    },
    {
      "cell_type": "code",
      "execution_count": null,
      "metadata": {
        "colab": {
          "background_save": true
        },
        "id": "FBgFf9msdf_t"
      },
      "outputs": [],
      "source": [
        "predictions = pd.DataFrame([y_extrait, \n",
        "                            pd.Series(prediction, index = y_extrait.index),\n",
        "                           np.exp2(y_extrait)-1,\n",
        "                           np.exp2(pd.Series(prediction, index = y_extrait.index))-1]).T\n",
        "predictions.columns = ['y_log', 'y_predict_log', 'y','y_predict']"
      ]
    },
    {
      "cell_type": "code",
      "execution_count": null,
      "metadata": {
        "colab": {
          "background_save": true
        },
        "id": "LDSU6pIudi6x",
        "outputId": "e04e9557-9127-42db-bee6-94ca341ab0c1"
      },
      "outputs": [
        {
          "data": {
            "image/png": "[encoded data removed]",
            "text/plain": [
              "<Figure size 1080x360 with 2 Axes>"
            ]
          },
          "metadata": {},
          "output_type": "display_data"
        }
      ],
      "source": [
        "f, (ax1, ax2) = plt.subplots(1, 2, figsize=(15,5), sharey=False)\n",
        "sns.scatterplot(x = predictions['y_log'],\n",
        "               y = predictions['y_predict_log'],\n",
        "               ax = ax1)\n",
        "sns.scatterplot(x = predictions['y'],\n",
        "               y = predictions['y_predict'],\n",
        "               ax=ax2)\n",
        "ax1.set_aspect('equal', 'box')\n",
        "\n",
        "ax2.set_aspect('equal', 'box')\n",
        "\n",
        "ax1.title.set_text('Comparaison y et y_prediction (modèle en log)')\n",
        "ax2.title.set_text('Comparaison y et y_prediction en valeurs réelles')"
      ]
    },
    {
      "cell_type": "markdown",
      "metadata": {
        "id": "QjQpHbzydv-i"
      },
      "source": [
        "# **Pertinence des variables**"
      ]
    },
    {
      "cell_type": "code",
      "execution_count": null,
      "metadata": {
        "colab": {
          "background_save": true
        },
        "id": "y8XBD3OVdl6e",
        "outputId": "f3f79e18-27ac-4a42-bc61-83b4b2f5de2a"
      },
      "outputs": [
        {
          "data": {
            "text/plain": [
              "(4598, 79)"
            ]
          },
          "execution_count": 79,
          "metadata": {},
          "output_type": "execute_result"
        }
      ],
      "source": [
        "X_train.shape\n"
      ]
    },
    {
      "cell_type": "code",
      "execution_count": null,
      "metadata": {
        "colab": {
          "background_save": true
        },
        "id": "e-szMQ7yd1e4",
        "outputId": "e099d899-4753-4e33-fdf5-ea8d156b2438"
      },
      "outputs": [
        {
          "data": {
            "text/plain": [
              "(1150, 79)"
            ]
          },
          "execution_count": 80,
          "metadata": {},
          "output_type": "execute_result"
        }
      ],
      "source": [
        "X_test.shape\n"
      ]
    },
    {
      "cell_type": "code",
      "execution_count": null,
      "metadata": {
        "colab": {
          "background_save": true
        },
        "id": "s-j9Bvbqd3fi",
        "outputId": "14a4fca5-8c10-4fbc-9d7f-8e604323f082"
      },
      "outputs": [
        {
          "name": "stdout",
          "output_type": "stream",
          "text": [
            "\n",
            "Boucle 1.\n"
          ]
        },
        {
          "ename": "TypeError",
          "evalue": "ignored",
          "output_type": "error",
          "traceback": [
            "\u001b[0;31m---------------------------------------------------------------------------\u001b[0m",
            "\u001b[0;31mTypeError\u001b[0m                                 Traceback (most recent call last)",
            "\u001b[0;32m<ipython-input-81-bb8e0e6b4327>\u001b[0m in \u001b[0;36m<module>\u001b[0;34m\u001b[0m\n\u001b[1;32m     52\u001b[0m                       \u001b[0mmin_weight_fraction_leaf\u001b[0m\u001b[0;34m=\u001b[0m\u001b[0;36m0.0\u001b[0m\u001b[0;34m,\u001b[0m \u001b[0mn_estimators\u001b[0m\u001b[0;34m=\u001b[0m\u001b[0;36m500\u001b[0m\u001b[0;34m,\u001b[0m\u001b[0;34m\u001b[0m\u001b[0;34m\u001b[0m\u001b[0m\n\u001b[1;32m     53\u001b[0m                       \u001b[0mn_jobs\u001b[0m\u001b[0;34m=\u001b[0m\u001b[0;34m-\u001b[0m\u001b[0;36m1\u001b[0m\u001b[0;34m,\u001b[0m \u001b[0moob_score\u001b[0m\u001b[0;34m=\u001b[0m\u001b[0;32mFalse\u001b[0m\u001b[0;34m,\u001b[0m \u001b[0mrandom_state\u001b[0m\u001b[0;34m=\u001b[0m\u001b[0;32mNone\u001b[0m\u001b[0;34m,\u001b[0m\u001b[0;34m\u001b[0m\u001b[0;34m\u001b[0m\u001b[0m\n\u001b[0;32m---> 54\u001b[0;31m                       verbose=0, warm_start=False)\n\u001b[0m\u001b[1;32m     55\u001b[0m \u001b[0;34m\u001b[0m\u001b[0m\n\u001b[1;32m     56\u001b[0m     \u001b[0;31m#pour chaque feature de X_test:\u001b[0m\u001b[0;34m\u001b[0m\u001b[0;34m\u001b[0m\u001b[0;34m\u001b[0m\u001b[0m\n",
            "\u001b[0;31mTypeError\u001b[0m: __init__() got an unexpected keyword argument 'min_impurity_split'"
          ]
        }
      ],
      "source": [
        "import warnings\n",
        "warnings.simplefilter(action='ignore', category=FutureWarning)\n",
        "from sklearn.model_selection import cross_val_score\n",
        "\n",
        "#on créee un dictionnaire pour les colonnes crées par le OHE, pour les retrouver dans l'application des permutations\n",
        "text_columns =[] #les noms des colonnes qui correspondent à des vraies features (pré OHE)\n",
        "prefixes = [] #les préfixes des colonnes liées à l'application du OHE\n",
        "index_cols = [] #les indices des colonnes qui correspondent aux features pré OHE et à la première colonne de chaque feature du OHE\n",
        "regex = re.compile(r'x\\d_')\n",
        "for j, column in enumerate(X.columns):\n",
        "    if regex.search(column):\n",
        "        if column[:2] not in prefixes:\n",
        "            prefixes.append(column[:2])\n",
        "            index_cols.append(j)\n",
        "    else:\n",
        "        text_columns.append(column)\n",
        "        index_cols.append(j)\n",
        "        \n",
        "dict_OHE = {}\n",
        "for prefix in prefixes:\n",
        "    temp_list = []\n",
        "    for column in X.columns:\n",
        "        if prefix in column:\n",
        "            temp_list.append(column)\n",
        "    dict_OHE[prefix] = temp_list\n",
        "    text_columns.append(prefix)\n",
        "\n",
        "    \n",
        "    \n",
        "#préparation du jeu de données\n",
        "\n",
        "X_train_permut, X_validation_permut, y_train_permut, y_validation = train_test_split(X_train,\n",
        "                                        y_train,\n",
        "                                        test_size=0.2,\n",
        "                                        random_state=42\n",
        "                                        )\n",
        "#choix du modèle utilisé pour la permutation : \n",
        "\n",
        "\n",
        "#on boucle sur le nombre de features:\n",
        "list_features = text_columns\n",
        "features_score = pd.DataFrame({})\n",
        "\n",
        "for num_feature in range(len(text_columns)):\n",
        "    print ('\\nBoucle {}.'.format(num_feature+1))\n",
        "    scores = []\n",
        "    #on entraine le modèle sur le jeu de données sans les éventuelles features supprimées\n",
        "    model = RandomForestRegressor(bootstrap=True, criterion='mse', max_depth=None,\n",
        "                      max_features='sqrt', max_leaf_nodes=None,\n",
        "                      min_impurity_decrease=0.0, min_impurity_split=None,\n",
        "                      min_samples_leaf=1, min_samples_split=2,\n",
        "                      min_weight_fraction_leaf=0.0, n_estimators=500,\n",
        "                      n_jobs=-1, oob_score=False, random_state=None,\n",
        "                      verbose=0, warm_start=False)\n",
        "    \n",
        "    #pour chaque feature de X_test:\n",
        "    for j, feature in zip(index_cols, list_features):\n",
        "        \n",
        "        X_validation_temp = X_validation_permut.copy()\n",
        "        \n",
        "        #si on identifie une feature en \"X0_\" : on fait une permutation sur plusieurs colonnes\n",
        "\n",
        "        if regex.search(X_validation_permut.iloc[:,j].name):\n",
        "            #print('chaine reconnue')\n",
        "            prefixe = X_validation_permut.iloc[:,j].name[:2]\n",
        "            for prefixe_col in dict_OHE[prefixe]:\n",
        "                index_col = X_validation_permut.columns.get_loc(prefixe_col)\n",
        "                X_columns_temp = X_validation_temp.iloc[:,index_col]\n",
        "                #X_test_temp.iloc[:,index_col] = np.random.permutation(X_test_temp.iloc[:,index_col])\n",
        "                #on permute l'ensemble du bloc du one hot encoding, ligne par ligne (pour ne pas voir plus de une valeur à 1 par ligne)\n",
        "                #X_validation_temp.iloc[:,index_col] = np.take(X_columns_temp,\n",
        "                #                                        np.random.permutation(X_columns_temp.shape[0]),\n",
        "                #                                        axis=0,\n",
        "                #                                        out=X_columns_temp)\n",
        "                \n",
        "                X_validation_temp.iloc[:,index_col] = np.random.permutation(X_columns_temp.T).T\n",
        "                         \n",
        "        #sinon on fait une permutation sur une seule colonne\n",
        "        else:             \n",
        "            X_validation_temp.iloc[:,j] = np.random.permutation(X_validation_temp.iloc[:,j])\n",
        "        \n",
        "        #entrainement du modèle / ajout du score\n",
        "        scores.append(cross_val_score(model, \n",
        "                                      X_validation_temp, \n",
        "                                      y_validation, \n",
        "                                      cv=3, #################################################TEMP A MODIFIER !!\n",
        "                                      scoring = 'neg_mean_squared_error',\n",
        "                                      n_jobs = -1).mean())\n",
        "        print('    j : {}, feature : {}, score : {}'.format(j, feature, scores[-1]))\n",
        "        \n",
        "    #on identifie la feature avec la RMSE la plus faible en valeur absolue\n",
        "    #i.e. la feature qui a le moins d'impact sur le score\n",
        "    feature_to_remove_index = scores.index(max(scores))\n",
        "    \n",
        "    \n",
        "    #on stocke le nom de la feature et le score\n",
        "    feature_name = X_train_permut.columns[index_cols[feature_to_remove_index]]\n",
        "    print('feature name : ', feature_name)\n",
        "    if regex.search(feature_name):\n",
        "        feature_name = feature_name[:3]\n",
        "        print('feature name : ', feature_name)\n",
        "\n",
        "    features_score = pd.concat([features_score,\n",
        "               pd.DataFrame({''\n",
        "                   'feature' : feature_name,\n",
        "                             'RMSE' : scores[feature_to_remove_index]\n",
        "                            }, index = [0])\n",
        "                               ])\n",
        "    #Affichage des informations\n",
        "    print ('\\nBoucle {}. Feature {} supprimée  : score = {}'.format(\n",
        "        num_feature+1, \n",
        "        list_features[feature_to_remove_index],\n",
        "        scores[feature_to_remove_index], \n",
        "        min(scores)))\n",
        "                \n",
        "    #on identifie les numero de colonne des features à supprimer:\n",
        "    \n",
        "    if regex.search(feature_name):\n",
        "        print('      indice colonne de base à supprimer : ', index_cols[feature_to_remove_index])\n",
        "        print('      indice de la colonne correspondant à la prochaine feature OHE', index_cols[feature_to_remove_index]+len(dict_OHE[feature_name[:2]]))\n",
        "        liste_index = list(\n",
        "            range(index_cols[feature_to_remove_index],\n",
        "                  index_cols[feature_to_remove_index]+len(dict_OHE[feature_name[:2]])\n",
        "                  ,1)\n",
        "        )\n",
        "    else:\n",
        "        liste_index = index_cols[feature_to_remove_index]\n",
        "    #on actualise la liste des features avec la feature en moins pour le prochain tour de boucle\n",
        "    for k, indice in enumerate(index_cols):\n",
        "        if index_cols.index(indice) > feature_to_remove_index:\n",
        "            if type(liste_index) is int :\n",
        "                index_cols[k] -= 1\n",
        "            else:\n",
        "                index_cols[k] -= len(liste_index)\n",
        "        \n",
        "    print('      index à supprimer ', liste_index)\n",
        "    \n",
        "    del list_features[feature_to_remove_index]\n",
        "    if regex.search(feature_name):\n",
        "        del dict_OHE[feature_name[:2]]\n",
        "        \n",
        "    del index_cols[feature_to_remove_index]\n",
        "    \n",
        "    print('      feature to remove index' , liste_index)\n",
        "    print('      Colonnes supprimées : ', X_train_permut.columns[liste_index])\n",
        "    X_train_permut.drop(X_train_permut.columns[liste_index] , axis = 1, inplace=True)\n",
        "    X_validation_permut.drop(X_validation_permut.columns[liste_index] , axis = 1, inplace=True)\n",
        "    #print(X_train_permut.columns)"
      ]
    },
    {
      "cell_type": "code",
      "execution_count": null,
      "metadata": {
        "colab": {
          "background_save": true
        },
        "id": "7pJfOFW0d_28"
      },
      "outputs": [],
      "source": [
        "features_score\n"
      ]
    },
    {
      "cell_type": "code",
      "execution_count": null,
      "metadata": {
        "colab": {
          "background_save": true
        },
        "id": "24uJWYhueESd"
      },
      "outputs": [],
      "source": [
        "graphe_features = features_score.reset_index().drop(['index'], axis=1).reset_index()\n",
        "graphe_features['index'] +=1\n",
        "graphe_features['RMSE'] = (abs(graphe_features['RMSE'])).apply(math.sqrt)"
      ]
    },
    {
      "cell_type": "code",
      "execution_count": null,
      "metadata": {
        "colab": {
          "background_save": true
        },
        "id": "h--29IAbeICt"
      },
      "outputs": [],
      "source": [
        "import seaborn as sns\n",
        "plt.figure(figsize=(15,5))\n",
        "plt.title('Evolution du score en supprimant des features par permutation')\n",
        "sns.lineplot( x = graphe_features['index'].values,\n",
        "            y = graphe_features[\"RMSE\"])\n",
        "sns.lineplot([1,graphe_features.shape[0]],[graphe_features.iloc[0,2], graphe_features.iloc[0,2]])\n",
        "plt.xlabel('Nombre de features supprimées')\n",
        "plt.ylabel('Score : RMSE')\n",
        "plt.legend(['Score avec suppression des features',\n",
        "           'Score de référence'])\n",
        "ax = plt.gca()\n",
        "\n",
        "\n",
        "plt.show()"
      ]
    },
    {
      "cell_type": "markdown",
      "metadata": {
        "id": "1xrSVPaNePek"
      },
      "source": [
        "On n'observe un minima local pour x = 2 (soit 2 features supprimées). On peut supprimer 5 features en améliorant un peu le modèle.\n",
        "\n",
        "on observe qu'on peut supprimer jusqu'à 8 features avec un impact marginal sur le score.\n",
        "\n",
        "on observe que la suppression des 5 dernières features est particulièrement impactante"
      ]
    },
    {
      "cell_type": "code",
      "execution_count": null,
      "metadata": {
        "colab": {
          "background_save": true
        },
        "id": "DXKP5Ye5eKkN"
      },
      "outputs": [],
      "source": [
        "graphe_features['feature'].replace({\n",
        "    'x0_' : 'BuildingType', \n",
        "    'x1_' : 'PrimaryPropertyType',\n",
        "    'x2_' : 'Neighborhood',\n",
        "    'x3_' : 'LargestPropertyUseType',\n",
        "    'x4_' : 'SecondLargestPropertyUseType',\n",
        "    'x5_' : 'ThirdLargestPropertyUseType', \n",
        "    'x6_' : 'Outlier'\n",
        "}, inplace=True)"
      ]
    },
    {
      "cell_type": "code",
      "execution_count": null,
      "metadata": {
        "colab": {
          "background_save": true
        },
        "id": "Tzh9R9w2eZoC"
      },
      "outputs": [],
      "source": [
        "plt.figure(figsize=(8,5))\n",
        "plt.title('RMSE obtenue après suppression successives des features')\n",
        "sns.barplot(x = graphe_features['RMSE'],\n",
        "           y = graphe_features['feature'])\n",
        "plt.show()"
      ]
    },
    {
      "cell_type": "markdown",
      "metadata": {
        "id": "Pjrjed2lemYs"
      },
      "source": [
        "# **Bilan des permutations**"
      ]
    },
    {
      "cell_type": "markdown",
      "metadata": {
        "id": "SJTFZsPceplC"
      },
      "source": [
        "Les résultats obtenus ci-dessus sont assez cohérents\n",
        "\n",
        "les 2 features les plus significatives sont la surface dédiée à l'usage principal du bâtiment et son usage principal.\n",
        "\n",
        "La latitude a plus d'importance que la longitude. C'est peut être lié à la configuration de la ville, dont la distance nord sud est plus importante que la distance est-ouest (voir représentation cartographique dans l'analyse de données).\n",
        "\n",
        "certaines features sont d'importance moyenne : type de bâtiment, nombre de bâtiments, nombre d'étages 3ème type d'usage.\n",
        "\n",
        "\n",
        "Pour simplifier la collecte de données, on pourrait éventuellement réduire notre jeu de données aux features suivantes avec une dégradation minimale du score :\n",
        "\n",
        "LargestPropertyUseTypeGFA\n",
        "LargestPropertyUseType\n",
        "Numberoffloors\n",
        "Latitude\n",
        "Building Type\n",
        "\n",
        "On pourrait aussi légèrement améliorer le modèle en supprimant les 5 features suivantes du jeu de données:\n",
        "\n",
        "ThirdLargestPropertyUseType\n",
        "Longitude\n",
        "PrimaryPropertyType\n"
      ]
    },
    {
      "cell_type": "markdown",
      "metadata": {
        "id": "m0w54Kw9e-XP"
      },
      "source": [
        "# **Modèle emissions**"
      ]
    },
    {
      "cell_type": "code",
      "execution_count": null,
      "metadata": {
        "colab": {
          "background_save": true
        },
        "id": "L6By22R2ebwx"
      },
      "outputs": [],
      "source": [
        "y2 = data.copy()[{'SiteEnergyUseWN(kBtu)', 'TotalGHGEmissions' , 'Log2-SiteEnergyUseWN(kBtu)'}]\n",
        "X2 = data.copy().drop(['SiteEnergyUseWN(kBtu)', 'TotalGHGEmissions', 'Log2-SiteEnergyUseWN(kBtu)'], axis=1)\n"
      ]
    },
    {
      "cell_type": "code",
      "execution_count": null,
      "metadata": {
        "colab": {
          "background_save": true
        },
        "id": "kwR1iV-ufQot"
      },
      "outputs": [],
      "source": [
        "from sklearn.preprocessing import OneHotEncoder, StandardScaler\n",
        "\n",
        "ohe = OneHotEncoder(sparse=False)\n",
        "ss = StandardScaler()\n",
        "X2[numerical_columns] = ss.fit_transform(X2[numerical_columns])\n",
        "ohe.fit_transform(X2[categorical_columns])\n",
        "\n",
        "X2 = pd.merge(X[numerical_columns], \n",
        "          pd.DataFrame(columns = ohe.get_feature_names().tolist(),\n",
        "              data = ohe.fit_transform(X2[categorical_columns])),\n",
        "        left_index = True, right_index = True)"
      ]
    },
    {
      "cell_type": "code",
      "execution_count": null,
      "metadata": {
        "colab": {
          "background_save": true
        },
        "id": "hBgqZnK9fTSs"
      },
      "outputs": [],
      "source": [
        "from sklearn.model_selection import train_test_split\n",
        "X_train2, X_test2, y_train2, y_test2 = \\\n",
        "                        train_test_split(X2, \n",
        "                                         y['TotalGHGEmissions'],  \n",
        "                                         test_size = 0.3, \n",
        "                                         random_state = 42\n",
        "                                        )"
      ]
    },
    {
      "cell_type": "code",
      "execution_count": null,
      "metadata": {
        "colab": {
          "background_save": true
        },
        "id": "MTPsEb6gfXra"
      },
      "outputs": [],
      "source": [
        "from sklearn.ensemble import RandomForestRegressor\n",
        "\n",
        "parameters = {\n",
        "    'n_estimators' : [10,50,100,300,500], #nombre d'arbres de décision\n",
        "    'min_samples_leaf' : [1,3,5,10], #nombre de feuilles minimales dans un noeud\n",
        "    'max_features': ['auto', 'sqrt'] #nombre de features observées pour chaque arbre\n",
        "}"
      ]
    },
    {
      "cell_type": "code",
      "execution_count": null,
      "metadata": {
        "colab": {
          "background_save": true
        },
        "id": "JGZIHg2wfcHr"
      },
      "outputs": [],
      "source": [
        "rfr_emissions = GridSearchCV(RandomForestRegressor(),\n",
        "                               param_grid = parameters,\n",
        "                               #scoring='mean_squared_error',\n",
        "                              verbose=2,\n",
        "                               cv=5)\n",
        "\n",
        "rfr_emissions.fit(X_train2, y_train2)\n"
      ]
    },
    {
      "cell_type": "code",
      "execution_count": null,
      "metadata": {
        "colab": {
          "background_save": true
        },
        "id": "AmRq7HTxfexr"
      },
      "outputs": [],
      "source": [
        "model_emissions = rfr_emissions.best_estimator_\n"
      ]
    },
    {
      "cell_type": "markdown",
      "metadata": {
        "id": "KK5hsoQbfjuH"
      },
      "source": [
        "## **Export du modèle**"
      ]
    },
    {
      "cell_type": "code",
      "execution_count": null,
      "metadata": {
        "colab": {
          "background_save": true
        },
        "id": "pbOjxj_jfikX"
      },
      "outputs": [],
      "source": [
        "filename = 'rfr_emissions' \n",
        "with  open(filename, 'wb') as filehandler :\n",
        "    pickle.dump(model_emissions, filehandler)"
      ]
    },
    {
      "cell_type": "code",
      "execution_count": null,
      "metadata": {
        "colab": {
          "background_save": true
        },
        "id": "1zM-fnVFfrHB"
      },
      "outputs": [],
      "source": [
        "math.sqrt(mean_squared_error(model_emissions.predict(X_test2), y_test2))\n"
      ]
    },
    {
      "cell_type": "code",
      "execution_count": null,
      "metadata": {
        "colab": {
          "background_save": true
        },
        "id": "N7mI4MSZftLx"
      },
      "outputs": [],
      "source": [
        "math.sqrt(mean_squared_error(model_emissions.predict(X_test2), y_test2))/y_test2.mean()\n"
      ]
    },
    {
      "cell_type": "code",
      "execution_count": null,
      "metadata": {
        "colab": {
          "background_save": true
        },
        "id": "htppul3Gfurh"
      },
      "outputs": [],
      "source": [
        "sns.heatmap(y2.corr())\n"
      ]
    },
    {
      "cell_type": "markdown",
      "metadata": {
        "id": "NTkRigvBf2ng"
      },
      "source": [
        "On observe que les variables d'émissions et de consommation sont fortement corrélées (coefficient de 0,72). Voyons si nous pouvons entrainer un modèle d'estimation des émissions à partir de la sortie du modèle de prédiction des consommations\n",
        "\n"
      ]
    },
    {
      "cell_type": "code",
      "execution_count": null,
      "metadata": {
        "colab": {
          "background_save": true
        },
        "id": "z4CgwZ1_fxJT"
      },
      "outputs": [],
      "source": [
        "rfr_emissions_court = GridSearchCV(RandomForestRegressor(n_jobs=-1),\n",
        "                               param_grid = parameters,\n",
        "                               #scoring='mean_squared_error',\n",
        "                              verbose=2,\n",
        "                               cv=5)"
      ]
    },
    {
      "cell_type": "code",
      "execution_count": null,
      "metadata": {
        "colab": {
          "background_save": true
        },
        "id": "_T4QSn2mf5Ua"
      },
      "outputs": [],
      "source": [
        "rfr_emissions_court.fit(np.vstack([dict_modeles['Random Forest Regressor'].predict(X_train2), np.ones(X_train2.shape[0])]).T,\n",
        "                          y_train2)\n"
      ]
    },
    {
      "cell_type": "code",
      "execution_count": null,
      "metadata": {
        "colab": {
          "background_save": true
        },
        "id": "5n1TBPx7f7VB"
      },
      "outputs": [],
      "source": [
        "math.sqrt(mean_squared_error(rfr_emissions_court.best_estimator_.predict(\n",
        "    np.vstack([dict_modeles['Random Forest Regressor'].predict(X_test2), np.ones(X_test2.shape[0])]).T),\n",
        "                             y_test2))"
      ]
    },
    {
      "cell_type": "markdown",
      "metadata": {
        "id": "fxHyLQSbgF44"
      },
      "source": [
        "La RMSE est quasiment égale que dans le cas du modèle avec toutes les features\n",
        "\n",
        "Essayons en ajoutant en entrée du modèle de prédiction, la prédiction du modèle initial ainsi que les 5 features importantes du modèle initial, selon la permutation"
      ]
    },
    {
      "cell_type": "code",
      "execution_count": null,
      "metadata": {
        "colab": {
          "background_save": true
        },
        "id": "YLT3hILjf-he"
      },
      "outputs": [],
      "source": [
        "columns_feature_emissions = ['LargestPropertyUseTypeGFA', 'x3_Education', 'x3_Facility', 'x3_Health',\n",
        "       'x3_Leisure', 'x3_Office', 'x3_Offices', 'x3_Other', 'x3_Parking',\n",
        "       'x3_Personal Services (Health/Beauty, Dry Cleaning, etc)',\n",
        "       'x3_Residence/Hotel/Senior Care/Housing', 'x3_Retail', 'x3_Storage', \n",
        "                            'NumberofFloors', 'Latitude', 'x0_Campus', 'x0_Multifamily HR (10+)',\n",
        "       'x0_Multifamily LR (1-4)', 'x0_Multifamily MR (5-9)',\n",
        "       'x0_NonResidential', 'x0_Nonresidential COS', 'x0_Nonresidential WA',\n",
        "       'x0_SPS-District K-12']\n"
      ]
    },
    {
      "cell_type": "code",
      "execution_count": null,
      "metadata": {
        "colab": {
          "background_save": true
        },
        "id": "JXulorgrgIqB"
      },
      "outputs": [],
      "source": [
        "dict_modeles['Random Forest Regressor'].predict(X_train2).reshape(-1,1).shape\n"
      ]
    },
    {
      "cell_type": "code",
      "execution_count": null,
      "metadata": {
        "colab": {
          "background_save": true
        },
        "id": "PfvG-UF0gKe5"
      },
      "outputs": [],
      "source": [
        "X_train2[columns_feature_emissions].shape\n"
      ]
    },
    {
      "cell_type": "code",
      "execution_count": null,
      "metadata": {
        "colab": {
          "background_save": true
        },
        "id": "srmgMswng6A1"
      },
      "outputs": [],
      "source": [
        "rfr_emissions_court2 = GridSearchCV(RandomForestRegressor(n_jobs=-1),\n",
        "                               param_grid = parameters,\n",
        "                               #scoring='mean_squared_error',\n",
        "                              verbose=2,\n",
        "                               cv=5)\n",
        "\n",
        "rfr_emissions_court2.fit(np.hstack([dict_modeles['Random Forest Regressor'].predict(X_train2).reshape(-1,1), X_train2[columns_feature_emissions].to_numpy()]),\n",
        "                          y_train2)"
      ]
    },
    {
      "cell_type": "code",
      "execution_count": null,
      "metadata": {
        "colab": {
          "background_save": true
        },
        "id": "Gfh_LxzZg-dT"
      },
      "outputs": [],
      "source": [
        "math.sqrt(mean_squared_error(rfr_emissions_court2.predict(\n",
        "    np.hstack([dict_modeles['Random Forest Regressor'].predict(X_test2).reshape(-1,1), \n",
        "               X_test2[columns_feature_emissions].to_numpy()])),y_test2))"
      ]
    },
    {
      "cell_type": "code",
      "execution_count": null,
      "metadata": {
        "colab": {
          "background_save": true
        },
        "id": "2Ia1nNJEhCk1"
      },
      "outputs": [],
      "source": [
        "filename = 'rfr_emission'\n",
        "with  open(filename, 'wb') as filehandler :\n",
        "    pickle.dump(rfr_emissions_court2, filehandler)"
      ]
    },
    {
      "cell_type": "code",
      "execution_count": null,
      "metadata": {
        "colab": {
          "background_save": true
        },
        "id": "nHsRbzMphFs8"
      },
      "outputs": [],
      "source": [
        "plt.figure(figsize=(8,8))\n",
        "plt.title('Comparaison des émissions prédites et réelles')\n",
        "sns.lineplot(x = [0,1750], y = [0,1750], alpha=0.3)\n",
        "sns.scatterplot(x = model_emissions.predict(X_test2),\n",
        "                y = y_test2, alpha=0.5)\n",
        "sns.scatterplot(x = rfr_emissions_court2.predict(np.hstack([dict_modeles['Random Forest Regressor'].predict(X_test2).reshape(-1,1), \n",
        "               X_test2[columns_feature_emissions].to_numpy()])),\n",
        "                y = y_test2, alpha=0.5)\n",
        "plt.legend(['ligne x=y', 'modèle classique,', 'modèle simplifié'])\n",
        "ax = plt.gca()\n",
        "ax.set_aspect('equal')\n",
        "plt.show()"
      ]
    },
    {
      "cell_type": "markdown",
      "metadata": {
        "id": "kES85XWuhL31"
      },
      "source": [
        "# **Energy Star Score**"
      ]
    },
    {
      "cell_type": "markdown",
      "metadata": {
        "id": "i1NcQL_NhQ4I"
      },
      "source": [
        "Entrainement d'un nouveau modèle avec le Energy Star Score"
      ]
    },
    {
      "cell_type": "code",
      "execution_count": null,
      "metadata": {
        "colab": {
          "background_save": true
        },
        "id": "ZjgJOA2mhIGS"
      },
      "outputs": [],
      "source": [
        "X_en = X.copy()\n"
      ]
    },
    {
      "cell_type": "code",
      "execution_count": null,
      "metadata": {
        "colab": {
          "background_save": true
        },
        "id": "AQQZPt4HhdHy"
      },
      "outputs": [],
      "source": [
        "X_en['energy_star_score'] = energy_star_score\n"
      ]
    },
    {
      "cell_type": "code",
      "execution_count": null,
      "metadata": {
        "colab": {
          "background_save": true
        },
        "id": "iR1S-3MwheyZ"
      },
      "outputs": [],
      "source": [
        "y_en = y['Log2-SiteEnergyUseWN(kBtu)'].copy()\n",
        "y_en.drop(X_en[X_en['energy_star_score'].isna()].index, inplace=True)"
      ]
    },
    {
      "cell_type": "code",
      "execution_count": null,
      "metadata": {
        "colab": {
          "background_save": true
        },
        "id": "J6g2K-LwhhYx"
      },
      "outputs": [],
      "source": [
        "X_en.drop(X_en[X_en['energy_star_score'].isna()].index, inplace=True)\n"
      ]
    },
    {
      "cell_type": "code",
      "execution_count": null,
      "metadata": {
        "colab": {
          "background_save": true
        },
        "id": "UbaxH9IHhjLX"
      },
      "outputs": [],
      "source": [
        "from sklearn.model_selection import train_test_split\n",
        "X_en_train, X_en_test, y_en_train, y_en_test = \\\n",
        "                        train_test_split(X_en, \n",
        "                                         y_en,  \n",
        "                                         test_size = 0.2, \n",
        "                                         random_state = 42\n",
        "                                        )"
      ]
    },
    {
      "cell_type": "code",
      "execution_count": null,
      "metadata": {
        "colab": {
          "background_save": true
        },
        "id": "rQM6GnkIhlKK"
      },
      "outputs": [],
      "source": [
        "model_en = GridSearchCV(RandomForestRegressor(),\n",
        "                               param_grid = parameters,\n",
        "                               #scoring='mean_squared_error',\n",
        "                              verbose=2,\n",
        "                               cv=5)\n",
        "\n",
        "model_en.fit(X_en_train, y_en_train)\n"
      ]
    },
    {
      "cell_type": "code",
      "execution_count": null,
      "metadata": {
        "colab": {
          "background_save": true
        },
        "id": "_DQNjD0FhndH"
      },
      "outputs": [],
      "source": [
        "math.sqrt(mean_squared_error(model_en.predict(X_en_test), y_en_test))\n"
      ]
    },
    {
      "cell_type": "markdown",
      "metadata": {
        "id": "chc4luwRJw34"
      },
      "source": [
        "## **Entrainement d'un autre modèle sans le Energy Star Score**"
      ]
    },
    {
      "cell_type": "code",
      "execution_count": null,
      "metadata": {
        "colab": {
          "background_save": true
        },
        "id": "rE19Xkc-hqXe"
      },
      "outputs": [],
      "source": [
        "X_en_train.drop(['energy_star_score'], axis=1, inplace=True)\n",
        "X_en_test.drop(['energy_star_score'], axis=1, inplace=True)"
      ]
    },
    {
      "cell_type": "code",
      "execution_count": null,
      "metadata": {
        "colab": {
          "background_save": true
        },
        "id": "lX6ZBdCuhsgu"
      },
      "outputs": [],
      "source": [
        "model_en = GridSearchCV(RandomForestRegressor(),\n",
        "                               param_grid = parameters,\n",
        "                               #scoring='mean_squared_error',\n",
        "                              verbose=2,\n",
        "                               cv=5)\n",
        "\n",
        "model_en.fit(X_en_train, y_en_train)"
      ]
    },
    {
      "cell_type": "code",
      "execution_count": null,
      "metadata": {
        "colab": {
          "background_save": true
        },
        "id": "_KGBArgOhwvQ"
      },
      "outputs": [],
      "source": [
        "math.sqrt(mean_squared_error(model_en.predict(X_en_test), y_en_test))\n"
      ]
    }
  ],
  "metadata": {
    "colab": {
      "provenance": [],
      "mount_file_id": "1cNQ-T57nShOp2lm76grctToycJ1qTdBy",
      "authorship_tag": "ABX9TyO8Vzf3qyvTaXxr/hLkTpTg",
      "include_colab_link": true
    },
    "kernelspec": {
      "display_name": "Python 3",
      "name": "python3"
    },
    "language_info": {
      "name": "python"
    }
  },
  "nbformat": 4,
  "nbformat_minor": 0
}